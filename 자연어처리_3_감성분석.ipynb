{
  "nbformat": 4,
  "nbformat_minor": 0,
  "metadata": {
    "colab": {
      "name": "3_감성분석.ipynb",
      "provenance": [],
      "collapsed_sections": [
        "p81T9Sio3DL7",
        "ZobrGGOYrch_",
        "geOg7i_zrlII",
        "57jTbAl9rqsG",
        "YZ1kfahP0Ir-",
        "4m4jy2WBBZbz",
        "UHssyuR-i87Z",
        "Qy81-cRAi87d"
      ],
      "authorship_tag": "ABX9TyNtAzlBOJ21NCy1RZRNgfYj",
      "include_colab_link": true
    },
    "kernelspec": {
      "name": "python3",
      "display_name": "Python 3"
    },
    "language_info": {
      "name": "python"
    }
  },
  "cells": [
    {
      "cell_type": "markdown",
      "metadata": {
        "id": "view-in-github",
        "colab_type": "text"
      },
      "source": [
        "<a href=\"https://colab.research.google.com/github/jks5177/BigAI/blob/main/%EC%9E%90%EC%97%B0%EC%96%B4%EC%B2%98%EB%A6%AC_3_%EA%B0%90%EC%84%B1%EB%B6%84%EC%84%9D.ipynb\" target=\"_parent\"><img src=\"https://colab.research.google.com/assets/colab-badge.svg\" alt=\"Open In Colab\"/></a>"
      ]
    },
    {
      "cell_type": "markdown",
      "metadata": {
        "id": "LIGfuxAk74Sb"
      },
      "source": [
        "# 감성분석 이론\n"
      ]
    },
    {
      "cell_type": "markdown",
      "metadata": {
        "id": "ES42zqhg1qrt"
      },
      "source": [
        "국어에는 감정 사전이라는 것이 없어서 영어의 감정 사전을 사용한다.\n",
        "\n",
        "* SenticNet : 영어의 감정 사전"
      ]
    },
    {
      "cell_type": "markdown",
      "metadata": {
        "id": "W6CIHr-R64b2"
      },
      "source": [
        "## 감성분석 방법"
      ]
    },
    {
      "cell_type": "markdown",
      "metadata": {
        "id": "6hYQ2T3Z66xv"
      },
      "source": [
        "* 문서에서 긍정적 단어가 나타나면 +1, 부정적 단어가 나타나면 -1을 쓰는 것과 같은 방법으로 감성점수를 계산\n",
        "\n",
        "\n",
        "* 감정점수 > 0 이면 긍정적인 문서\n",
        "* 감성점수 < 0 이면 부정적인 문서\n",
        "* 감성점수 = 0 이면 중립적인 문서로 봄\n",
        "\n",
        "* Sigmoid 함수를 사용하여 값을 0~1 사이로 정규화 하는 방법도 있음"
      ]
    },
    {
      "cell_type": "markdown",
      "metadata": {
        "id": "PwgP59ke7oTE"
      },
      "source": [
        "## 감성사전 구축"
      ]
    },
    {
      "cell_type": "markdown",
      "metadata": {
        "id": "sGgO_xoS7rEC"
      },
      "source": [
        "* 그러나 감성 분석 사전의 구축은 쉽지 않음\n",
        "* 문장 내 어휘의 도메인에 따라 감정 어휘의 극성(긍정, 부정, 중립)이 바뀜"
      ]
    },
    {
      "cell_type": "markdown",
      "metadata": {
        "id": "jI4JnvSm70L0"
      },
      "source": [
        "## 감정어의 종류\n"
      ]
    },
    {
      "cell_type": "markdown",
      "metadata": {
        "id": "Lp_vp8So77Hq"
      },
      "source": [
        "* 감정어 Sentimental Words\n",
        "  * 말하는 이의 감정을 주관적으로 표현하는 것으로서 극성이 잘 바뀌지 않음\n",
        "  * 화나다, 즐겁다, 괴롭다, 슬프다.\n",
        "\n",
        "* 평가어 Opinion Words\n",
        "  * 대상에 대한 감정을 사실적으로 평가하는 것으로 맥락에 따라 극성이 바뀔 수 있음\n",
        "  * [깨끗하다] \"냉장고가 깨끗하다.  [더럽다] \"더럽게 깨끗하다\"\n",
        "  * [강화하다]\"자금 경직성을 강화하다.\" [약화하다] \"고통을 약화하다.\"\n",
        "\n",
        "* 감정어를 기본으로 하면서, 도메인 별로 평가어를 예외 처리하며 구축해야 함\n",
        "* 통상적으로는 감정어와 평가어를 모두 긍부정어로 통칭하여 언급함"
      ]
    },
    {
      "cell_type": "markdown",
      "metadata": {
        "id": "S8SRx08a8t5r"
      },
      "source": [
        "## 가중치 설정"
      ]
    },
    {
      "cell_type": "markdown",
      "metadata": {
        "id": "_GZvbDeH8vu7"
      },
      "source": [
        "* 실제 사용되는 감정어 및 긍부정어는 적은 수\n",
        "* '아주, 매우, 조금, 별로'와 같은 정도 부사에 의하여 정도성이 설정됨"
      ]
    },
    {
      "cell_type": "markdown",
      "metadata": {
        "id": "p81T9Sio3DL7"
      },
      "source": [
        "# 사전 설정\n"
      ]
    },
    {
      "cell_type": "markdown",
      "metadata": {
        "id": "ZobrGGOYrch_"
      },
      "source": [
        "## RHINO 설치"
      ]
    },
    {
      "cell_type": "code",
      "metadata": {
        "colab": {
          "base_uri": "https://localhost:8080/"
        },
        "id": "WNM9qQThgx6X",
        "outputId": "69cf44d3-3fcc-460a-8d6f-976af3b74dd8"
      },
      "source": [
        "# java jdk 설치\n",
        "!apt-get update\n",
        "!apt-get install g++ openjdk-8-jdk"
      ],
      "execution_count": null,
      "outputs": [
        {
          "output_type": "stream",
          "text": [
            "\r0% [Working]\r            \rGet:1 http://security.ubuntu.com/ubuntu bionic-security InRelease [88.7 kB]\n",
            "\r0% [Connecting to archive.ubuntu.com (91.189.88.142)] [1 InRelease 14.2 kB/88.7\r                                                                               \rGet:2 https://cloud.r-project.org/bin/linux/ubuntu bionic-cran40/ InRelease [3,626 B]\n",
            "\r0% [Connecting to archive.ubuntu.com (91.189.88.142)] [1 InRelease 14.2 kB/88.7\r0% [Connecting to archive.ubuntu.com (91.189.88.142)] [1 InRelease 28.7 kB/88.7\r0% [2 InRelease gpgv 3,626 B] [Connecting to archive.ubuntu.com (91.189.88.142)\r0% [2 InRelease gpgv 3,626 B] [Connecting to archive.ubuntu.com (91.189.88.142)\r                                                                               \rIgn:3 https://developer.download.nvidia.com/compute/cuda/repos/ubuntu1804/x86_64  InRelease\n",
            "\r0% [2 InRelease gpgv 3,626 B] [Waiting for headers] [Waiting for headers] [Wait\r                                                                               \rGet:4 http://ppa.launchpad.net/c2d4u.team/c2d4u4.0+/ubuntu bionic InRelease [15.9 kB]\n",
            "Hit:5 http://archive.ubuntu.com/ubuntu bionic InRelease\n",
            "Ign:6 https://developer.download.nvidia.com/compute/machine-learning/repos/ubuntu1804/x86_64  InRelease\n",
            "Get:7 https://developer.download.nvidia.com/compute/cuda/repos/ubuntu1804/x86_64  Release [697 B]\n",
            "Hit:8 https://developer.download.nvidia.com/compute/machine-learning/repos/ubuntu1804/x86_64  Release\n",
            "Get:9 https://developer.download.nvidia.com/compute/cuda/repos/ubuntu1804/x86_64  Release.gpg [836 B]\n",
            "Get:10 http://archive.ubuntu.com/ubuntu bionic-updates InRelease [88.7 kB]\n",
            "Hit:11 http://ppa.launchpad.net/cran/libgit2/ubuntu bionic InRelease\n",
            "Get:12 http://archive.ubuntu.com/ubuntu bionic-backports InRelease [74.6 kB]\n",
            "Hit:13 http://ppa.launchpad.net/deadsnakes/ppa/ubuntu bionic InRelease\n",
            "Get:14 http://security.ubuntu.com/ubuntu bionic-security/universe amd64 Packages [1,420 kB]\n",
            "Get:15 http://ppa.launchpad.net/graphics-drivers/ppa/ubuntu bionic InRelease [21.3 kB]\n",
            "Get:16 http://security.ubuntu.com/ubuntu bionic-security/multiverse amd64 Packages [31.5 kB]\n",
            "Get:17 http://security.ubuntu.com/ubuntu bionic-security/main amd64 Packages [2,257 kB]\n",
            "Get:18 http://security.ubuntu.com/ubuntu bionic-security/restricted amd64 Packages [500 kB]\n",
            "Ign:20 https://developer.download.nvidia.com/compute/cuda/repos/ubuntu1804/x86_64  Packages\n",
            "Get:20 https://developer.download.nvidia.com/compute/cuda/repos/ubuntu1804/x86_64  Packages [679 kB]\n",
            "Get:21 http://ppa.launchpad.net/c2d4u.team/c2d4u4.0+/ubuntu bionic/main Sources [1,785 kB]\n",
            "Get:22 http://archive.ubuntu.com/ubuntu bionic-updates/universe amd64 Packages [2,190 kB]\n",
            "Get:23 http://ppa.launchpad.net/c2d4u.team/c2d4u4.0+/ubuntu bionic/main amd64 Packages [913 kB]\n",
            "Get:24 http://archive.ubuntu.com/ubuntu bionic-updates/multiverse amd64 Packages [38.7 kB]\n",
            "Get:25 http://archive.ubuntu.com/ubuntu bionic-updates/main amd64 Packages [2,693 kB]\n",
            "Get:26 http://archive.ubuntu.com/ubuntu bionic-updates/restricted amd64 Packages [533 kB]\n",
            "Get:27 http://ppa.launchpad.net/graphics-drivers/ppa/ubuntu bionic/main amd64 Packages [44.1 kB]\n",
            "Fetched 13.4 MB in 3s (4,050 kB/s)\n",
            "Reading package lists... Done\n",
            "Reading package lists... Done\n",
            "Building dependency tree       \n",
            "Reading state information... Done\n",
            "g++ is already the newest version (4:7.4.0-1ubuntu2.3).\n",
            "g++ set to manually installed.\n",
            "The following additional packages will be installed:\n",
            "  fonts-dejavu-core fonts-dejavu-extra libatk-wrapper-java\n",
            "  libatk-wrapper-java-jni libgail-common libgail18 libgtk2.0-0 libgtk2.0-bin\n",
            "  libgtk2.0-common libxxf86dga1 openjdk-8-jdk-headless openjdk-8-jre\n",
            "  openjdk-8-jre-headless x11-utils\n",
            "Suggested packages:\n",
            "  gvfs openjdk-8-demo openjdk-8-source visualvm icedtea-8-plugin libnss-mdns\n",
            "  fonts-ipafont-gothic fonts-ipafont-mincho fonts-wqy-microhei\n",
            "  fonts-wqy-zenhei fonts-indic mesa-utils\n",
            "The following NEW packages will be installed:\n",
            "  fonts-dejavu-core fonts-dejavu-extra libatk-wrapper-java\n",
            "  libatk-wrapper-java-jni libgail-common libgail18 libgtk2.0-0 libgtk2.0-bin\n",
            "  libgtk2.0-common libxxf86dga1 openjdk-8-jdk openjdk-8-jdk-headless\n",
            "  openjdk-8-jre openjdk-8-jre-headless x11-utils\n",
            "0 upgraded, 15 newly installed, 0 to remove and 80 not upgraded.\n",
            "Need to get 43.5 MB of archives.\n",
            "After this operation, 163 MB of additional disk space will be used.\n",
            "Get:1 http://archive.ubuntu.com/ubuntu bionic/main amd64 libxxf86dga1 amd64 2:1.1.4-1 [13.7 kB]\n",
            "Get:2 http://archive.ubuntu.com/ubuntu bionic/main amd64 fonts-dejavu-core all 2.37-1 [1,041 kB]\n",
            "Get:3 http://archive.ubuntu.com/ubuntu bionic/main amd64 fonts-dejavu-extra all 2.37-1 [1,953 kB]\n",
            "Get:4 http://archive.ubuntu.com/ubuntu bionic/main amd64 x11-utils amd64 7.7+3build1 [196 kB]\n",
            "Get:5 http://archive.ubuntu.com/ubuntu bionic/main amd64 libatk-wrapper-java all 0.33.3-20ubuntu0.1 [34.7 kB]\n",
            "Get:6 http://archive.ubuntu.com/ubuntu bionic/main amd64 libatk-wrapper-java-jni amd64 0.33.3-20ubuntu0.1 [28.3 kB]\n",
            "Get:7 http://archive.ubuntu.com/ubuntu bionic/main amd64 libgtk2.0-common all 2.24.32-1ubuntu1 [125 kB]\n",
            "Get:8 http://archive.ubuntu.com/ubuntu bionic/main amd64 libgtk2.0-0 amd64 2.24.32-1ubuntu1 [1,769 kB]\n",
            "Get:9 http://archive.ubuntu.com/ubuntu bionic/main amd64 libgail18 amd64 2.24.32-1ubuntu1 [14.2 kB]\n",
            "Get:10 http://archive.ubuntu.com/ubuntu bionic/main amd64 libgail-common amd64 2.24.32-1ubuntu1 [112 kB]\n",
            "Get:11 http://archive.ubuntu.com/ubuntu bionic/main amd64 libgtk2.0-bin amd64 2.24.32-1ubuntu1 [7,536 B]\n",
            "Get:12 http://archive.ubuntu.com/ubuntu bionic-updates/universe amd64 openjdk-8-jre-headless amd64 8u292-b10-0ubuntu1~18.04 [28.2 MB]\n",
            "Get:13 http://archive.ubuntu.com/ubuntu bionic-updates/universe amd64 openjdk-8-jre amd64 8u292-b10-0ubuntu1~18.04 [69.6 kB]\n",
            "Get:14 http://archive.ubuntu.com/ubuntu bionic-updates/universe amd64 openjdk-8-jdk-headless amd64 8u292-b10-0ubuntu1~18.04 [8,284 kB]\n",
            "Get:15 http://archive.ubuntu.com/ubuntu bionic-updates/universe amd64 openjdk-8-jdk amd64 8u292-b10-0ubuntu1~18.04 [1,644 kB]\n",
            "Fetched 43.5 MB in 2s (23.6 MB/s)\n",
            "Selecting previously unselected package libxxf86dga1:amd64.\n",
            "(Reading database ... 160837 files and directories currently installed.)\n",
            "Preparing to unpack .../00-libxxf86dga1_2%3a1.1.4-1_amd64.deb ...\n",
            "Unpacking libxxf86dga1:amd64 (2:1.1.4-1) ...\n",
            "Selecting previously unselected package fonts-dejavu-core.\n",
            "Preparing to unpack .../01-fonts-dejavu-core_2.37-1_all.deb ...\n",
            "Unpacking fonts-dejavu-core (2.37-1) ...\n",
            "Selecting previously unselected package fonts-dejavu-extra.\n",
            "Preparing to unpack .../02-fonts-dejavu-extra_2.37-1_all.deb ...\n",
            "Unpacking fonts-dejavu-extra (2.37-1) ...\n",
            "Selecting previously unselected package x11-utils.\n",
            "Preparing to unpack .../03-x11-utils_7.7+3build1_amd64.deb ...\n",
            "Unpacking x11-utils (7.7+3build1) ...\n",
            "Selecting previously unselected package libatk-wrapper-java.\n",
            "Preparing to unpack .../04-libatk-wrapper-java_0.33.3-20ubuntu0.1_all.deb ...\n",
            "Unpacking libatk-wrapper-java (0.33.3-20ubuntu0.1) ...\n",
            "Selecting previously unselected package libatk-wrapper-java-jni:amd64.\n",
            "Preparing to unpack .../05-libatk-wrapper-java-jni_0.33.3-20ubuntu0.1_amd64.deb ...\n",
            "Unpacking libatk-wrapper-java-jni:amd64 (0.33.3-20ubuntu0.1) ...\n",
            "Selecting previously unselected package libgtk2.0-common.\n",
            "Preparing to unpack .../06-libgtk2.0-common_2.24.32-1ubuntu1_all.deb ...\n",
            "Unpacking libgtk2.0-common (2.24.32-1ubuntu1) ...\n",
            "Selecting previously unselected package libgtk2.0-0:amd64.\n",
            "Preparing to unpack .../07-libgtk2.0-0_2.24.32-1ubuntu1_amd64.deb ...\n",
            "Unpacking libgtk2.0-0:amd64 (2.24.32-1ubuntu1) ...\n",
            "Selecting previously unselected package libgail18:amd64.\n",
            "Preparing to unpack .../08-libgail18_2.24.32-1ubuntu1_amd64.deb ...\n",
            "Unpacking libgail18:amd64 (2.24.32-1ubuntu1) ...\n",
            "Selecting previously unselected package libgail-common:amd64.\n",
            "Preparing to unpack .../09-libgail-common_2.24.32-1ubuntu1_amd64.deb ...\n",
            "Unpacking libgail-common:amd64 (2.24.32-1ubuntu1) ...\n",
            "Selecting previously unselected package libgtk2.0-bin.\n",
            "Preparing to unpack .../10-libgtk2.0-bin_2.24.32-1ubuntu1_amd64.deb ...\n",
            "Unpacking libgtk2.0-bin (2.24.32-1ubuntu1) ...\n",
            "Selecting previously unselected package openjdk-8-jre-headless:amd64.\n",
            "Preparing to unpack .../11-openjdk-8-jre-headless_8u292-b10-0ubuntu1~18.04_amd64.deb ...\n",
            "Unpacking openjdk-8-jre-headless:amd64 (8u292-b10-0ubuntu1~18.04) ...\n",
            "Selecting previously unselected package openjdk-8-jre:amd64.\n",
            "Preparing to unpack .../12-openjdk-8-jre_8u292-b10-0ubuntu1~18.04_amd64.deb ...\n",
            "Unpacking openjdk-8-jre:amd64 (8u292-b10-0ubuntu1~18.04) ...\n",
            "Selecting previously unselected package openjdk-8-jdk-headless:amd64.\n",
            "Preparing to unpack .../13-openjdk-8-jdk-headless_8u292-b10-0ubuntu1~18.04_amd64.deb ...\n",
            "Unpacking openjdk-8-jdk-headless:amd64 (8u292-b10-0ubuntu1~18.04) ...\n",
            "Selecting previously unselected package openjdk-8-jdk:amd64.\n",
            "Preparing to unpack .../14-openjdk-8-jdk_8u292-b10-0ubuntu1~18.04_amd64.deb ...\n",
            "Unpacking openjdk-8-jdk:amd64 (8u292-b10-0ubuntu1~18.04) ...\n",
            "Setting up libgtk2.0-common (2.24.32-1ubuntu1) ...\n",
            "Setting up fonts-dejavu-core (2.37-1) ...\n",
            "Setting up libxxf86dga1:amd64 (2:1.1.4-1) ...\n",
            "Setting up fonts-dejavu-extra (2.37-1) ...\n",
            "Setting up openjdk-8-jre-headless:amd64 (8u292-b10-0ubuntu1~18.04) ...\n",
            "update-alternatives: using /usr/lib/jvm/java-8-openjdk-amd64/jre/bin/orbd to provide /usr/bin/orbd (orbd) in auto mode\n",
            "update-alternatives: using /usr/lib/jvm/java-8-openjdk-amd64/jre/bin/servertool to provide /usr/bin/servertool (servertool) in auto mode\n",
            "update-alternatives: using /usr/lib/jvm/java-8-openjdk-amd64/jre/bin/tnameserv to provide /usr/bin/tnameserv (tnameserv) in auto mode\n",
            "Setting up libgtk2.0-0:amd64 (2.24.32-1ubuntu1) ...\n",
            "Setting up libgail18:amd64 (2.24.32-1ubuntu1) ...\n",
            "Setting up openjdk-8-jdk-headless:amd64 (8u292-b10-0ubuntu1~18.04) ...\n",
            "update-alternatives: using /usr/lib/jvm/java-8-openjdk-amd64/bin/idlj to provide /usr/bin/idlj (idlj) in auto mode\n",
            "update-alternatives: using /usr/lib/jvm/java-8-openjdk-amd64/bin/wsimport to provide /usr/bin/wsimport (wsimport) in auto mode\n",
            "update-alternatives: using /usr/lib/jvm/java-8-openjdk-amd64/bin/jsadebugd to provide /usr/bin/jsadebugd (jsadebugd) in auto mode\n",
            "update-alternatives: using /usr/lib/jvm/java-8-openjdk-amd64/bin/native2ascii to provide /usr/bin/native2ascii (native2ascii) in auto mode\n",
            "update-alternatives: using /usr/lib/jvm/java-8-openjdk-amd64/bin/javah to provide /usr/bin/javah (javah) in auto mode\n",
            "update-alternatives: using /usr/lib/jvm/java-8-openjdk-amd64/bin/hsdb to provide /usr/bin/hsdb (hsdb) in auto mode\n",
            "update-alternatives: using /usr/lib/jvm/java-8-openjdk-amd64/bin/clhsdb to provide /usr/bin/clhsdb (clhsdb) in auto mode\n",
            "update-alternatives: using /usr/lib/jvm/java-8-openjdk-amd64/bin/extcheck to provide /usr/bin/extcheck (extcheck) in auto mode\n",
            "update-alternatives: using /usr/lib/jvm/java-8-openjdk-amd64/bin/schemagen to provide /usr/bin/schemagen (schemagen) in auto mode\n",
            "update-alternatives: using /usr/lib/jvm/java-8-openjdk-amd64/bin/xjc to provide /usr/bin/xjc (xjc) in auto mode\n",
            "update-alternatives: using /usr/lib/jvm/java-8-openjdk-amd64/bin/jhat to provide /usr/bin/jhat (jhat) in auto mode\n",
            "update-alternatives: using /usr/lib/jvm/java-8-openjdk-amd64/bin/wsgen to provide /usr/bin/wsgen (wsgen) in auto mode\n",
            "Setting up x11-utils (7.7+3build1) ...\n",
            "Setting up libgail-common:amd64 (2.24.32-1ubuntu1) ...\n",
            "Setting up libatk-wrapper-java (0.33.3-20ubuntu0.1) ...\n",
            "Setting up libgtk2.0-bin (2.24.32-1ubuntu1) ...\n",
            "Setting up libatk-wrapper-java-jni:amd64 (0.33.3-20ubuntu0.1) ...\n",
            "Setting up openjdk-8-jre:amd64 (8u292-b10-0ubuntu1~18.04) ...\n",
            "update-alternatives: using /usr/lib/jvm/java-8-openjdk-amd64/jre/bin/policytool to provide /usr/bin/policytool (policytool) in auto mode\n",
            "Setting up openjdk-8-jdk:amd64 (8u292-b10-0ubuntu1~18.04) ...\n",
            "update-alternatives: using /usr/lib/jvm/java-8-openjdk-amd64/bin/appletviewer to provide /usr/bin/appletviewer (appletviewer) in auto mode\n",
            "update-alternatives: using /usr/lib/jvm/java-8-openjdk-amd64/bin/jconsole to provide /usr/bin/jconsole (jconsole) in auto mode\n",
            "Processing triggers for man-db (2.8.3-2ubuntu0.1) ...\n",
            "Processing triggers for hicolor-icon-theme (0.17-2) ...\n",
            "Processing triggers for fontconfig (2.12.6-0ubuntu2) ...\n",
            "Processing triggers for mime-support (3.60ubuntu1) ...\n",
            "Processing triggers for libc-bin (2.27-3ubuntu1.2) ...\n",
            "/sbin/ldconfig.real: /usr/local/lib/python3.7/dist-packages/ideep4py/lib/libmkldnn.so.0 is not a symbolic link\n",
            "\n"
          ],
          "name": "stdout"
        }
      ]
    },
    {
      "cell_type": "code",
      "metadata": {
        "colab": {
          "base_uri": "https://localhost:8080/"
        },
        "id": "BugId2Hdg6R4",
        "outputId": "341879f1-c917-4aea-d670-44183cf00d2d"
      },
      "source": [
        "#JPype 설치\n",
        "!pip install JPype1"
      ],
      "execution_count": null,
      "outputs": [
        {
          "output_type": "stream",
          "text": [
            "Collecting JPype1\n",
            "  Downloading JPype1-1.3.0-cp37-cp37m-manylinux_2_5_x86_64.manylinux1_x86_64.whl (448 kB)\n",
            "\u001b[?25l\r\u001b[K     |▊                               | 10 kB 21.6 MB/s eta 0:00:01\r\u001b[K     |█▌                              | 20 kB 24.6 MB/s eta 0:00:01\r\u001b[K     |██▏                             | 30 kB 28.1 MB/s eta 0:00:01\r\u001b[K     |███                             | 40 kB 31.5 MB/s eta 0:00:01\r\u001b[K     |███▋                            | 51 kB 29.3 MB/s eta 0:00:01\r\u001b[K     |████▍                           | 61 kB 29.8 MB/s eta 0:00:01\r\u001b[K     |█████                           | 71 kB 25.2 MB/s eta 0:00:01\r\u001b[K     |█████▉                          | 81 kB 23.0 MB/s eta 0:00:01\r\u001b[K     |██████▋                         | 92 kB 23.5 MB/s eta 0:00:01\r\u001b[K     |███████▎                        | 102 kB 23.8 MB/s eta 0:00:01\r\u001b[K     |████████                        | 112 kB 23.8 MB/s eta 0:00:01\r\u001b[K     |████████▊                       | 122 kB 23.8 MB/s eta 0:00:01\r\u001b[K     |█████████▌                      | 133 kB 23.8 MB/s eta 0:00:01\r\u001b[K     |██████████▏                     | 143 kB 23.8 MB/s eta 0:00:01\r\u001b[K     |███████████                     | 153 kB 23.8 MB/s eta 0:00:01\r\u001b[K     |███████████▊                    | 163 kB 23.8 MB/s eta 0:00:01\r\u001b[K     |████████████▍                   | 174 kB 23.8 MB/s eta 0:00:01\r\u001b[K     |█████████████▏                  | 184 kB 23.8 MB/s eta 0:00:01\r\u001b[K     |█████████████▉                  | 194 kB 23.8 MB/s eta 0:00:01\r\u001b[K     |██████████████▋                 | 204 kB 23.8 MB/s eta 0:00:01\r\u001b[K     |███████████████▎                | 215 kB 23.8 MB/s eta 0:00:01\r\u001b[K     |████████████████                | 225 kB 23.8 MB/s eta 0:00:01\r\u001b[K     |████████████████▉               | 235 kB 23.8 MB/s eta 0:00:01\r\u001b[K     |█████████████████▌              | 245 kB 23.8 MB/s eta 0:00:01\r\u001b[K     |██████████████████▎             | 256 kB 23.8 MB/s eta 0:00:01\r\u001b[K     |███████████████████             | 266 kB 23.8 MB/s eta 0:00:01\r\u001b[K     |███████████████████▊            | 276 kB 23.8 MB/s eta 0:00:01\r\u001b[K     |████████████████████▍           | 286 kB 23.8 MB/s eta 0:00:01\r\u001b[K     |█████████████████████▏          | 296 kB 23.8 MB/s eta 0:00:01\r\u001b[K     |██████████████████████          | 307 kB 23.8 MB/s eta 0:00:01\r\u001b[K     |██████████████████████▋         | 317 kB 23.8 MB/s eta 0:00:01\r\u001b[K     |███████████████████████▍        | 327 kB 23.8 MB/s eta 0:00:01\r\u001b[K     |████████████████████████        | 337 kB 23.8 MB/s eta 0:00:01\r\u001b[K     |████████████████████████▉       | 348 kB 23.8 MB/s eta 0:00:01\r\u001b[K     |█████████████████████████▌      | 358 kB 23.8 MB/s eta 0:00:01\r\u001b[K     |██████████████████████████▎     | 368 kB 23.8 MB/s eta 0:00:01\r\u001b[K     |███████████████████████████     | 378 kB 23.8 MB/s eta 0:00:01\r\u001b[K     |███████████████████████████▊    | 389 kB 23.8 MB/s eta 0:00:01\r\u001b[K     |████████████████████████████▌   | 399 kB 23.8 MB/s eta 0:00:01\r\u001b[K     |█████████████████████████████▏  | 409 kB 23.8 MB/s eta 0:00:01\r\u001b[K     |██████████████████████████████  | 419 kB 23.8 MB/s eta 0:00:01\r\u001b[K     |██████████████████████████████▋ | 430 kB 23.8 MB/s eta 0:00:01\r\u001b[K     |███████████████████████████████▍| 440 kB 23.8 MB/s eta 0:00:01\r\u001b[K     |████████████████████████████████| 448 kB 23.8 MB/s \n",
            "\u001b[?25hRequirement already satisfied: typing-extensions in /usr/local/lib/python3.7/dist-packages (from JPype1) (3.7.4.3)\n",
            "Installing collected packages: JPype1\n",
            "Successfully installed JPype1-1.3.0\n"
          ],
          "name": "stdout"
        }
      ]
    },
    {
      "cell_type": "code",
      "metadata": {
        "colab": {
          "base_uri": "https://localhost:8080/"
        },
        "id": "8j3QNJZyhI5v",
        "outputId": "8bd0ba0e-a1e0-418a-8907-8e7f3a1eb07a"
      },
      "source": [
        "# RHINO 설치\n",
        "!pip install rhinoMorph"
      ],
      "execution_count": null,
      "outputs": [
        {
          "output_type": "stream",
          "text": [
            "Collecting rhinoMorph\n",
            "  Downloading rhinoMorph-3.8.0.0-py3-none-any.whl (3.0 MB)\n",
            "\u001b[?25l\r\u001b[K     |                                | 10 kB 24.6 MB/s eta 0:00:01\r\u001b[K     |▏                               | 20 kB 30.1 MB/s eta 0:00:01\r\u001b[K     |▎                               | 30 kB 34.8 MB/s eta 0:00:01\r\u001b[K     |▍                               | 40 kB 37.3 MB/s eta 0:00:01\r\u001b[K     |▌                               | 51 kB 30.3 MB/s eta 0:00:01\r\u001b[K     |▋                               | 61 kB 30.4 MB/s eta 0:00:01\r\u001b[K     |▊                               | 71 kB 27.8 MB/s eta 0:00:01\r\u001b[K     |▉                               | 81 kB 29.4 MB/s eta 0:00:01\r\u001b[K     |█                               | 92 kB 29.0 MB/s eta 0:00:01\r\u001b[K     |█                               | 102 kB 29.9 MB/s eta 0:00:01\r\u001b[K     |█▏                              | 112 kB 29.9 MB/s eta 0:00:01\r\u001b[K     |█▎                              | 122 kB 29.9 MB/s eta 0:00:01\r\u001b[K     |█▍                              | 133 kB 29.9 MB/s eta 0:00:01\r\u001b[K     |█▌                              | 143 kB 29.9 MB/s eta 0:00:01\r\u001b[K     |█▋                              | 153 kB 29.9 MB/s eta 0:00:01\r\u001b[K     |█▊                              | 163 kB 29.9 MB/s eta 0:00:01\r\u001b[K     |█▉                              | 174 kB 29.9 MB/s eta 0:00:01\r\u001b[K     |██                              | 184 kB 29.9 MB/s eta 0:00:01\r\u001b[K     |██                              | 194 kB 29.9 MB/s eta 0:00:01\r\u001b[K     |██▏                             | 204 kB 29.9 MB/s eta 0:00:01\r\u001b[K     |██▎                             | 215 kB 29.9 MB/s eta 0:00:01\r\u001b[K     |██▍                             | 225 kB 29.9 MB/s eta 0:00:01\r\u001b[K     |██▌                             | 235 kB 29.9 MB/s eta 0:00:01\r\u001b[K     |██▋                             | 245 kB 29.9 MB/s eta 0:00:01\r\u001b[K     |██▊                             | 256 kB 29.9 MB/s eta 0:00:01\r\u001b[K     |██▉                             | 266 kB 29.9 MB/s eta 0:00:01\r\u001b[K     |███                             | 276 kB 29.9 MB/s eta 0:00:01\r\u001b[K     |███                             | 286 kB 29.9 MB/s eta 0:00:01\r\u001b[K     |███▏                            | 296 kB 29.9 MB/s eta 0:00:01\r\u001b[K     |███▎                            | 307 kB 29.9 MB/s eta 0:00:01\r\u001b[K     |███▍                            | 317 kB 29.9 MB/s eta 0:00:01\r\u001b[K     |███▌                            | 327 kB 29.9 MB/s eta 0:00:01\r\u001b[K     |███▋                            | 337 kB 29.9 MB/s eta 0:00:01\r\u001b[K     |███▋                            | 348 kB 29.9 MB/s eta 0:00:01\r\u001b[K     |███▊                            | 358 kB 29.9 MB/s eta 0:00:01\r\u001b[K     |███▉                            | 368 kB 29.9 MB/s eta 0:00:01\r\u001b[K     |████                            | 378 kB 29.9 MB/s eta 0:00:01\r\u001b[K     |████                            | 389 kB 29.9 MB/s eta 0:00:01\r\u001b[K     |████▏                           | 399 kB 29.9 MB/s eta 0:00:01\r\u001b[K     |████▎                           | 409 kB 29.9 MB/s eta 0:00:01\r\u001b[K     |████▍                           | 419 kB 29.9 MB/s eta 0:00:01\r\u001b[K     |████▌                           | 430 kB 29.9 MB/s eta 0:00:01\r\u001b[K     |████▋                           | 440 kB 29.9 MB/s eta 0:00:01\r\u001b[K     |████▊                           | 450 kB 29.9 MB/s eta 0:00:01\r\u001b[K     |████▉                           | 460 kB 29.9 MB/s eta 0:00:01\r\u001b[K     |█████                           | 471 kB 29.9 MB/s eta 0:00:01\r\u001b[K     |█████                           | 481 kB 29.9 MB/s eta 0:00:01\r\u001b[K     |█████▏                          | 491 kB 29.9 MB/s eta 0:00:01\r\u001b[K     |█████▎                          | 501 kB 29.9 MB/s eta 0:00:01\r\u001b[K     |█████▍                          | 512 kB 29.9 MB/s eta 0:00:01\r\u001b[K     |█████▌                          | 522 kB 29.9 MB/s eta 0:00:01\r\u001b[K     |█████▋                          | 532 kB 29.9 MB/s eta 0:00:01\r\u001b[K     |█████▊                          | 542 kB 29.9 MB/s eta 0:00:01\r\u001b[K     |█████▉                          | 552 kB 29.9 MB/s eta 0:00:01\r\u001b[K     |██████                          | 563 kB 29.9 MB/s eta 0:00:01\r\u001b[K     |██████                          | 573 kB 29.9 MB/s eta 0:00:01\r\u001b[K     |██████▏                         | 583 kB 29.9 MB/s eta 0:00:01\r\u001b[K     |██████▎                         | 593 kB 29.9 MB/s eta 0:00:01\r\u001b[K     |██████▍                         | 604 kB 29.9 MB/s eta 0:00:01\r\u001b[K     |██████▌                         | 614 kB 29.9 MB/s eta 0:00:01\r\u001b[K     |██████▋                         | 624 kB 29.9 MB/s eta 0:00:01\r\u001b[K     |██████▊                         | 634 kB 29.9 MB/s eta 0:00:01\r\u001b[K     |██████▉                         | 645 kB 29.9 MB/s eta 0:00:01\r\u001b[K     |███████                         | 655 kB 29.9 MB/s eta 0:00:01\r\u001b[K     |███████                         | 665 kB 29.9 MB/s eta 0:00:01\r\u001b[K     |███████▏                        | 675 kB 29.9 MB/s eta 0:00:01\r\u001b[K     |███████▏                        | 686 kB 29.9 MB/s eta 0:00:01\r\u001b[K     |███████▎                        | 696 kB 29.9 MB/s eta 0:00:01\r\u001b[K     |███████▍                        | 706 kB 29.9 MB/s eta 0:00:01\r\u001b[K     |███████▌                        | 716 kB 29.9 MB/s eta 0:00:01\r\u001b[K     |███████▋                        | 727 kB 29.9 MB/s eta 0:00:01\r\u001b[K     |███████▊                        | 737 kB 29.9 MB/s eta 0:00:01\r\u001b[K     |███████▉                        | 747 kB 29.9 MB/s eta 0:00:01\r\u001b[K     |████████                        | 757 kB 29.9 MB/s eta 0:00:01\r\u001b[K     |████████                        | 768 kB 29.9 MB/s eta 0:00:01\r\u001b[K     |████████▏                       | 778 kB 29.9 MB/s eta 0:00:01\r\u001b[K     |████████▎                       | 788 kB 29.9 MB/s eta 0:00:01\r\u001b[K     |████████▍                       | 798 kB 29.9 MB/s eta 0:00:01\r\u001b[K     |████████▌                       | 808 kB 29.9 MB/s eta 0:00:01\r\u001b[K     |████████▋                       | 819 kB 29.9 MB/s eta 0:00:01\r\u001b[K     |████████▊                       | 829 kB 29.9 MB/s eta 0:00:01\r\u001b[K     |████████▉                       | 839 kB 29.9 MB/s eta 0:00:01\r\u001b[K     |█████████                       | 849 kB 29.9 MB/s eta 0:00:01\r\u001b[K     |█████████                       | 860 kB 29.9 MB/s eta 0:00:01\r\u001b[K     |█████████▏                      | 870 kB 29.9 MB/s eta 0:00:01\r\u001b[K     |█████████▎                      | 880 kB 29.9 MB/s eta 0:00:01\r\u001b[K     |█████████▍                      | 890 kB 29.9 MB/s eta 0:00:01\r\u001b[K     |█████████▌                      | 901 kB 29.9 MB/s eta 0:00:01\r\u001b[K     |█████████▋                      | 911 kB 29.9 MB/s eta 0:00:01\r\u001b[K     |█████████▊                      | 921 kB 29.9 MB/s eta 0:00:01\r\u001b[K     |█████████▉                      | 931 kB 29.9 MB/s eta 0:00:01\r\u001b[K     |██████████                      | 942 kB 29.9 MB/s eta 0:00:01\r\u001b[K     |██████████                      | 952 kB 29.9 MB/s eta 0:00:01\r\u001b[K     |██████████▏                     | 962 kB 29.9 MB/s eta 0:00:01\r\u001b[K     |██████████▎                     | 972 kB 29.9 MB/s eta 0:00:01\r\u001b[K     |██████████▍                     | 983 kB 29.9 MB/s eta 0:00:01\r\u001b[K     |██████████▌                     | 993 kB 29.9 MB/s eta 0:00:01\r\u001b[K     |██████████▋                     | 1.0 MB 29.9 MB/s eta 0:00:01\r\u001b[K     |██████████▊                     | 1.0 MB 29.9 MB/s eta 0:00:01\r\u001b[K     |██████████▊                     | 1.0 MB 29.9 MB/s eta 0:00:01\r\u001b[K     |██████████▉                     | 1.0 MB 29.9 MB/s eta 0:00:01\r\u001b[K     |███████████                     | 1.0 MB 29.9 MB/s eta 0:00:01\r\u001b[K     |███████████                     | 1.1 MB 29.9 MB/s eta 0:00:01\r\u001b[K     |███████████▏                    | 1.1 MB 29.9 MB/s eta 0:00:01\r\u001b[K     |███████████▎                    | 1.1 MB 29.9 MB/s eta 0:00:01\r\u001b[K     |███████████▍                    | 1.1 MB 29.9 MB/s eta 0:00:01\r\u001b[K     |███████████▌                    | 1.1 MB 29.9 MB/s eta 0:00:01\r\u001b[K     |███████████▋                    | 1.1 MB 29.9 MB/s eta 0:00:01\r\u001b[K     |███████████▊                    | 1.1 MB 29.9 MB/s eta 0:00:01\r\u001b[K     |███████████▉                    | 1.1 MB 29.9 MB/s eta 0:00:01\r\u001b[K     |████████████                    | 1.1 MB 29.9 MB/s eta 0:00:01\r\u001b[K     |████████████                    | 1.1 MB 29.9 MB/s eta 0:00:01\r\u001b[K     |████████████▏                   | 1.2 MB 29.9 MB/s eta 0:00:01\r\u001b[K     |████████████▎                   | 1.2 MB 29.9 MB/s eta 0:00:01\r\u001b[K     |████████████▍                   | 1.2 MB 29.9 MB/s eta 0:00:01\r\u001b[K     |████████████▌                   | 1.2 MB 29.9 MB/s eta 0:00:01\r\u001b[K     |████████████▋                   | 1.2 MB 29.9 MB/s eta 0:00:01\r\u001b[K     |████████████▊                   | 1.2 MB 29.9 MB/s eta 0:00:01\r\u001b[K     |████████████▉                   | 1.2 MB 29.9 MB/s eta 0:00:01\r\u001b[K     |█████████████                   | 1.2 MB 29.9 MB/s eta 0:00:01\r\u001b[K     |█████████████                   | 1.2 MB 29.9 MB/s eta 0:00:01\r\u001b[K     |█████████████▏                  | 1.2 MB 29.9 MB/s eta 0:00:01\r\u001b[K     |█████████████▎                  | 1.3 MB 29.9 MB/s eta 0:00:01\r\u001b[K     |█████████████▍                  | 1.3 MB 29.9 MB/s eta 0:00:01\r\u001b[K     |█████████████▌                  | 1.3 MB 29.9 MB/s eta 0:00:01\r\u001b[K     |█████████████▋                  | 1.3 MB 29.9 MB/s eta 0:00:01\r\u001b[K     |█████████████▊                  | 1.3 MB 29.9 MB/s eta 0:00:01\r\u001b[K     |█████████████▉                  | 1.3 MB 29.9 MB/s eta 0:00:01\r\u001b[K     |██████████████                  | 1.3 MB 29.9 MB/s eta 0:00:01\r\u001b[K     |██████████████                  | 1.3 MB 29.9 MB/s eta 0:00:01\r\u001b[K     |██████████████▏                 | 1.3 MB 29.9 MB/s eta 0:00:01\r\u001b[K     |██████████████▎                 | 1.4 MB 29.9 MB/s eta 0:00:01\r\u001b[K     |██████████████▍                 | 1.4 MB 29.9 MB/s eta 0:00:01\r\u001b[K     |██████████████▍                 | 1.4 MB 29.9 MB/s eta 0:00:01\r\u001b[K     |██████████████▌                 | 1.4 MB 29.9 MB/s eta 0:00:01\r\u001b[K     |██████████████▋                 | 1.4 MB 29.9 MB/s eta 0:00:01\r\u001b[K     |██████████████▊                 | 1.4 MB 29.9 MB/s eta 0:00:01\r\u001b[K     |██████████████▉                 | 1.4 MB 29.9 MB/s eta 0:00:01\r\u001b[K     |███████████████                 | 1.4 MB 29.9 MB/s eta 0:00:01\r\u001b[K     |███████████████                 | 1.4 MB 29.9 MB/s eta 0:00:01\r\u001b[K     |███████████████▏                | 1.4 MB 29.9 MB/s eta 0:00:01\r\u001b[K     |███████████████▎                | 1.5 MB 29.9 MB/s eta 0:00:01\r\u001b[K     |███████████████▍                | 1.5 MB 29.9 MB/s eta 0:00:01\r\u001b[K     |███████████████▌                | 1.5 MB 29.9 MB/s eta 0:00:01\r\u001b[K     |███████████████▋                | 1.5 MB 29.9 MB/s eta 0:00:01\r\u001b[K     |███████████████▊                | 1.5 MB 29.9 MB/s eta 0:00:01\r\u001b[K     |███████████████▉                | 1.5 MB 29.9 MB/s eta 0:00:01\r\u001b[K     |████████████████                | 1.5 MB 29.9 MB/s eta 0:00:01\r\u001b[K     |████████████████                | 1.5 MB 29.9 MB/s eta 0:00:01\r\u001b[K     |████████████████▏               | 1.5 MB 29.9 MB/s eta 0:00:01\r\u001b[K     |████████████████▎               | 1.5 MB 29.9 MB/s eta 0:00:01\r\u001b[K     |████████████████▍               | 1.6 MB 29.9 MB/s eta 0:00:01\r\u001b[K     |████████████████▌               | 1.6 MB 29.9 MB/s eta 0:00:01\r\u001b[K     |████████████████▋               | 1.6 MB 29.9 MB/s eta 0:00:01\r\u001b[K     |████████████████▊               | 1.6 MB 29.9 MB/s eta 0:00:01\r\u001b[K     |████████████████▉               | 1.6 MB 29.9 MB/s eta 0:00:01\r\u001b[K     |█████████████████               | 1.6 MB 29.9 MB/s eta 0:00:01\r\u001b[K     |█████████████████               | 1.6 MB 29.9 MB/s eta 0:00:01\r\u001b[K     |█████████████████▏              | 1.6 MB 29.9 MB/s eta 0:00:01\r\u001b[K     |█████████████████▎              | 1.6 MB 29.9 MB/s eta 0:00:01\r\u001b[K     |█████████████████▍              | 1.6 MB 29.9 MB/s eta 0:00:01\r\u001b[K     |█████████████████▌              | 1.7 MB 29.9 MB/s eta 0:00:01\r\u001b[K     |█████████████████▋              | 1.7 MB 29.9 MB/s eta 0:00:01\r\u001b[K     |█████████████████▊              | 1.7 MB 29.9 MB/s eta 0:00:01\r\u001b[K     |█████████████████▉              | 1.7 MB 29.9 MB/s eta 0:00:01\r\u001b[K     |██████████████████              | 1.7 MB 29.9 MB/s eta 0:00:01\r\u001b[K     |██████████████████              | 1.7 MB 29.9 MB/s eta 0:00:01\r\u001b[K     |██████████████████              | 1.7 MB 29.9 MB/s eta 0:00:01\r\u001b[K     |██████████████████▏             | 1.7 MB 29.9 MB/s eta 0:00:01\r\u001b[K     |██████████████████▎             | 1.7 MB 29.9 MB/s eta 0:00:01\r\u001b[K     |██████████████████▍             | 1.8 MB 29.9 MB/s eta 0:00:01\r\u001b[K     |██████████████████▌             | 1.8 MB 29.9 MB/s eta 0:00:01\r\u001b[K     |██████████████████▋             | 1.8 MB 29.9 MB/s eta 0:00:01\r\u001b[K     |██████████████████▊             | 1.8 MB 29.9 MB/s eta 0:00:01\r\u001b[K     |██████████████████▉             | 1.8 MB 29.9 MB/s eta 0:00:01\r\u001b[K     |███████████████████             | 1.8 MB 29.9 MB/s eta 0:00:01\r\u001b[K     |███████████████████             | 1.8 MB 29.9 MB/s eta 0:00:01\r\u001b[K     |███████████████████▏            | 1.8 MB 29.9 MB/s eta 0:00:01\r\u001b[K     |███████████████████▎            | 1.8 MB 29.9 MB/s eta 0:00:01\r\u001b[K     |███████████████████▍            | 1.8 MB 29.9 MB/s eta 0:00:01\r\u001b[K     |███████████████████▌            | 1.9 MB 29.9 MB/s eta 0:00:01\r\u001b[K     |███████████████████▋            | 1.9 MB 29.9 MB/s eta 0:00:01\r\u001b[K     |███████████████████▊            | 1.9 MB 29.9 MB/s eta 0:00:01\r\u001b[K     |███████████████████▉            | 1.9 MB 29.9 MB/s eta 0:00:01\r\u001b[K     |████████████████████            | 1.9 MB 29.9 MB/s eta 0:00:01\r\u001b[K     |████████████████████            | 1.9 MB 29.9 MB/s eta 0:00:01\r\u001b[K     |████████████████████▏           | 1.9 MB 29.9 MB/s eta 0:00:01\r\u001b[K     |████████████████████▎           | 1.9 MB 29.9 MB/s eta 0:00:01\r\u001b[K     |████████████████████▍           | 1.9 MB 29.9 MB/s eta 0:00:01\r\u001b[K     |████████████████████▌           | 1.9 MB 29.9 MB/s eta 0:00:01\r\u001b[K     |████████████████████▋           | 2.0 MB 29.9 MB/s eta 0:00:01\r\u001b[K     |████████████████████▊           | 2.0 MB 29.9 MB/s eta 0:00:01\r\u001b[K     |████████████████████▉           | 2.0 MB 29.9 MB/s eta 0:00:01\r\u001b[K     |█████████████████████           | 2.0 MB 29.9 MB/s eta 0:00:01\r\u001b[K     |█████████████████████           | 2.0 MB 29.9 MB/s eta 0:00:01\r\u001b[K     |█████████████████████▏          | 2.0 MB 29.9 MB/s eta 0:00:01\r\u001b[K     |█████████████████████▎          | 2.0 MB 29.9 MB/s eta 0:00:01\r\u001b[K     |█████████████████████▍          | 2.0 MB 29.9 MB/s eta 0:00:01\r\u001b[K     |█████████████████████▌          | 2.0 MB 29.9 MB/s eta 0:00:01\r\u001b[K     |█████████████████████▌          | 2.0 MB 29.9 MB/s eta 0:00:01\r\u001b[K     |█████████████████████▋          | 2.1 MB 29.9 MB/s eta 0:00:01\r\u001b[K     |█████████████████████▊          | 2.1 MB 29.9 MB/s eta 0:00:01\r\u001b[K     |█████████████████████▉          | 2.1 MB 29.9 MB/s eta 0:00:01\r\u001b[K     |██████████████████████          | 2.1 MB 29.9 MB/s eta 0:00:01\r\u001b[K     |██████████████████████          | 2.1 MB 29.9 MB/s eta 0:00:01\r\u001b[K     |██████████████████████▏         | 2.1 MB 29.9 MB/s eta 0:00:01\r\u001b[K     |██████████████████████▎         | 2.1 MB 29.9 MB/s eta 0:00:01\r\u001b[K     |██████████████████████▍         | 2.1 MB 29.9 MB/s eta 0:00:01\r\u001b[K     |██████████████████████▌         | 2.1 MB 29.9 MB/s eta 0:00:01\r\u001b[K     |██████████████████████▋         | 2.2 MB 29.9 MB/s eta 0:00:01\r\u001b[K     |██████████████████████▊         | 2.2 MB 29.9 MB/s eta 0:00:01\r\u001b[K     |██████████████████████▉         | 2.2 MB 29.9 MB/s eta 0:00:01\r\u001b[K     |███████████████████████         | 2.2 MB 29.9 MB/s eta 0:00:01\r\u001b[K     |███████████████████████         | 2.2 MB 29.9 MB/s eta 0:00:01\r\u001b[K     |███████████████████████▏        | 2.2 MB 29.9 MB/s eta 0:00:01\r\u001b[K     |███████████████████████▎        | 2.2 MB 29.9 MB/s eta 0:00:01\r\u001b[K     |███████████████████████▍        | 2.2 MB 29.9 MB/s eta 0:00:01\r\u001b[K     |███████████████████████▌        | 2.2 MB 29.9 MB/s eta 0:00:01\r\u001b[K     |███████████████████████▋        | 2.2 MB 29.9 MB/s eta 0:00:01\r\u001b[K     |███████████████████████▊        | 2.3 MB 29.9 MB/s eta 0:00:01\r\u001b[K     |███████████████████████▉        | 2.3 MB 29.9 MB/s eta 0:00:01\r\u001b[K     |████████████████████████        | 2.3 MB 29.9 MB/s eta 0:00:01\r\u001b[K     |████████████████████████        | 2.3 MB 29.9 MB/s eta 0:00:01\r\u001b[K     |████████████████████████▏       | 2.3 MB 29.9 MB/s eta 0:00:01\r\u001b[K     |████████████████████████▎       | 2.3 MB 29.9 MB/s eta 0:00:01\r\u001b[K     |████████████████████████▍       | 2.3 MB 29.9 MB/s eta 0:00:01\r\u001b[K     |████████████████████████▌       | 2.3 MB 29.9 MB/s eta 0:00:01\r\u001b[K     |████████████████████████▋       | 2.3 MB 29.9 MB/s eta 0:00:01\r\u001b[K     |████████████████████████▊       | 2.3 MB 29.9 MB/s eta 0:00:01\r\u001b[K     |████████████████████████▉       | 2.4 MB 29.9 MB/s eta 0:00:01\r\u001b[K     |█████████████████████████       | 2.4 MB 29.9 MB/s eta 0:00:01\r\u001b[K     |█████████████████████████       | 2.4 MB 29.9 MB/s eta 0:00:01\r\u001b[K     |█████████████████████████▏      | 2.4 MB 29.9 MB/s eta 0:00:01\r\u001b[K     |█████████████████████████▏      | 2.4 MB 29.9 MB/s eta 0:00:01\r\u001b[K     |█████████████████████████▎      | 2.4 MB 29.9 MB/s eta 0:00:01\r\u001b[K     |█████████████████████████▍      | 2.4 MB 29.9 MB/s eta 0:00:01\r\u001b[K     |█████████████████████████▌      | 2.4 MB 29.9 MB/s eta 0:00:01\r\u001b[K     |█████████████████████████▋      | 2.4 MB 29.9 MB/s eta 0:00:01\r\u001b[K     |█████████████████████████▊      | 2.4 MB 29.9 MB/s eta 0:00:01\r\u001b[K     |█████████████████████████▉      | 2.5 MB 29.9 MB/s eta 0:00:01\r\u001b[K     |██████████████████████████      | 2.5 MB 29.9 MB/s eta 0:00:01\r\u001b[K     |██████████████████████████      | 2.5 MB 29.9 MB/s eta 0:00:01\r\u001b[K     |██████████████████████████▏     | 2.5 MB 29.9 MB/s eta 0:00:01\r\u001b[K     |██████████████████████████▎     | 2.5 MB 29.9 MB/s eta 0:00:01\r\u001b[K     |██████████████████████████▍     | 2.5 MB 29.9 MB/s eta 0:00:01\r\u001b[K     |██████████████████████████▌     | 2.5 MB 29.9 MB/s eta 0:00:01\r\u001b[K     |██████████████████████████▋     | 2.5 MB 29.9 MB/s eta 0:00:01\r\u001b[K     |██████████████████████████▊     | 2.5 MB 29.9 MB/s eta 0:00:01\r\u001b[K     |██████████████████████████▉     | 2.5 MB 29.9 MB/s eta 0:00:01\r\u001b[K     |███████████████████████████     | 2.6 MB 29.9 MB/s eta 0:00:01\r\u001b[K     |███████████████████████████     | 2.6 MB 29.9 MB/s eta 0:00:01\r\u001b[K     |███████████████████████████▏    | 2.6 MB 29.9 MB/s eta 0:00:01\r\u001b[K     |███████████████████████████▎    | 2.6 MB 29.9 MB/s eta 0:00:01\r\u001b[K     |███████████████████████████▍    | 2.6 MB 29.9 MB/s eta 0:00:01\r\u001b[K     |███████████████████████████▌    | 2.6 MB 29.9 MB/s eta 0:00:01\r\u001b[K     |███████████████████████████▋    | 2.6 MB 29.9 MB/s eta 0:00:01\r\u001b[K     |███████████████████████████▊    | 2.6 MB 29.9 MB/s eta 0:00:01\r\u001b[K     |███████████████████████████▉    | 2.6 MB 29.9 MB/s eta 0:00:01\r\u001b[K     |████████████████████████████    | 2.7 MB 29.9 MB/s eta 0:00:01\r\u001b[K     |████████████████████████████    | 2.7 MB 29.9 MB/s eta 0:00:01\r\u001b[K     |████████████████████████████▏   | 2.7 MB 29.9 MB/s eta 0:00:01\r\u001b[K     |████████████████████████████▎   | 2.7 MB 29.9 MB/s eta 0:00:01\r\u001b[K     |████████████████████████████▍   | 2.7 MB 29.9 MB/s eta 0:00:01\r\u001b[K     |████████████████████████████▌   | 2.7 MB 29.9 MB/s eta 0:00:01\r\u001b[K     |████████████████████████████▋   | 2.7 MB 29.9 MB/s eta 0:00:01\r\u001b[K     |████████████████████████████▊   | 2.7 MB 29.9 MB/s eta 0:00:01\r\u001b[K     |████████████████████████████▊   | 2.7 MB 29.9 MB/s eta 0:00:01\r\u001b[K     |████████████████████████████▉   | 2.7 MB 29.9 MB/s eta 0:00:01\r\u001b[K     |█████████████████████████████   | 2.8 MB 29.9 MB/s eta 0:00:01\r\u001b[K     |█████████████████████████████   | 2.8 MB 29.9 MB/s eta 0:00:01\r\u001b[K     |█████████████████████████████▏  | 2.8 MB 29.9 MB/s eta 0:00:01\r\u001b[K     |█████████████████████████████▎  | 2.8 MB 29.9 MB/s eta 0:00:01\r\u001b[K     |█████████████████████████████▍  | 2.8 MB 29.9 MB/s eta 0:00:01\r\u001b[K     |█████████████████████████████▌  | 2.8 MB 29.9 MB/s eta 0:00:01\r\u001b[K     |█████████████████████████████▋  | 2.8 MB 29.9 MB/s eta 0:00:01\r\u001b[K     |█████████████████████████████▊  | 2.8 MB 29.9 MB/s eta 0:00:01\r\u001b[K     |█████████████████████████████▉  | 2.8 MB 29.9 MB/s eta 0:00:01\r\u001b[K     |██████████████████████████████  | 2.8 MB 29.9 MB/s eta 0:00:01\r\u001b[K     |██████████████████████████████  | 2.9 MB 29.9 MB/s eta 0:00:01\r\u001b[K     |██████████████████████████████▏ | 2.9 MB 29.9 MB/s eta 0:00:01\r\u001b[K     |██████████████████████████████▎ | 2.9 MB 29.9 MB/s eta 0:00:01\r\u001b[K     |██████████████████████████████▍ | 2.9 MB 29.9 MB/s eta 0:00:01\r\u001b[K     |██████████████████████████████▌ | 2.9 MB 29.9 MB/s eta 0:00:01\r\u001b[K     |██████████████████████████████▋ | 2.9 MB 29.9 MB/s eta 0:00:01\r\u001b[K     |██████████████████████████████▊ | 2.9 MB 29.9 MB/s eta 0:00:01\r\u001b[K     |██████████████████████████████▉ | 2.9 MB 29.9 MB/s eta 0:00:01\r\u001b[K     |███████████████████████████████ | 2.9 MB 29.9 MB/s eta 0:00:01\r\u001b[K     |███████████████████████████████ | 2.9 MB 29.9 MB/s eta 0:00:01\r\u001b[K     |███████████████████████████████▏| 3.0 MB 29.9 MB/s eta 0:00:01\r\u001b[K     |███████████████████████████████▎| 3.0 MB 29.9 MB/s eta 0:00:01\r\u001b[K     |███████████████████████████████▍| 3.0 MB 29.9 MB/s eta 0:00:01\r\u001b[K     |███████████████████████████████▌| 3.0 MB 29.9 MB/s eta 0:00:01\r\u001b[K     |███████████████████████████████▋| 3.0 MB 29.9 MB/s eta 0:00:01\r\u001b[K     |███████████████████████████████▊| 3.0 MB 29.9 MB/s eta 0:00:01\r\u001b[K     |███████████████████████████████▉| 3.0 MB 29.9 MB/s eta 0:00:01\r\u001b[K     |████████████████████████████████| 3.0 MB 29.9 MB/s eta 0:00:01\r\u001b[K     |████████████████████████████████| 3.0 MB 29.9 MB/s \n",
            "\u001b[?25hInstalling collected packages: rhinoMorph\n",
            "Successfully installed rhinoMorph-3.8.0.0\n"
          ],
          "name": "stdout"
        }
      ]
    },
    {
      "cell_type": "code",
      "metadata": {
        "colab": {
          "base_uri": "https://localhost:8080/"
        },
        "id": "CAfikoGYhOaR",
        "outputId": "e4d63a6e-1c16-4a95-9069-c39540534a12"
      },
      "source": [
        "# RHINO 시작\n",
        "import rhinoMorph\n",
        "rn = rhinoMorph.startRhino()"
      ],
      "execution_count": null,
      "outputs": [
        {
          "output_type": "stream",
          "text": [
            "filepath:  /usr/local/lib/python3.7/dist-packages\n",
            "classpath:  /usr/local/lib/python3.7/dist-packages/rhinoMorph/lib/rhino.jar\n",
            "RHINO started!\n"
          ],
          "name": "stdout"
        }
      ]
    },
    {
      "cell_type": "markdown",
      "metadata": {
        "id": "geOg7i_zrlII"
      },
      "source": [
        "## 구글 드라이브 연결"
      ]
    },
    {
      "cell_type": "code",
      "metadata": {
        "colab": {
          "base_uri": "https://localhost:8080/"
        },
        "id": "3_4SbMwHilkb",
        "outputId": "af9af7e6-25b4-46e3-e204-325e3e0907ef"
      },
      "source": [
        "from google.colab import drive\n",
        "drive.mount('/content/gdrive', force_remount=True)"
      ],
      "execution_count": null,
      "outputs": [
        {
          "output_type": "stream",
          "text": [
            "Mounted at /content/gdrive\n"
          ],
          "name": "stdout"
        }
      ]
    },
    {
      "cell_type": "code",
      "metadata": {
        "id": "3jQ34kJxi8Nh"
      },
      "source": [
        "!cp -r /content/gdrive/MyDrive/BigLeaderAI/자연어처리 /content/"
      ],
      "execution_count": null,
      "outputs": []
    },
    {
      "cell_type": "code",
      "metadata": {
        "colab": {
          "base_uri": "https://localhost:8080/"
        },
        "id": "PGugUrsJ5COo",
        "outputId": "c5a1affc-d218-450e-a515-4aa774e48648"
      },
      "source": [
        "%cd /content/gdrive/MyDrive/BigLeaderAI/자연어처리/pytest/"
      ],
      "execution_count": null,
      "outputs": [
        {
          "output_type": "stream",
          "text": [
            "/content/gdrive/MyDrive/BigLeaderAI/자연어처리/pytest\n"
          ],
          "name": "stdout"
        }
      ]
    },
    {
      "cell_type": "markdown",
      "metadata": {
        "id": "57jTbAl9rqsG"
      },
      "source": [
        "## Colab 폰트 설정"
      ]
    },
    {
      "cell_type": "code",
      "metadata": {
        "id": "VBNp6q7YjFPl",
        "colab": {
          "base_uri": "https://localhost:8080/"
        },
        "outputId": "5b511e90-cbae-441b-897b-20074a754cd6"
      },
      "source": [
        "import matplotlib as mpl\n",
        "import matplotlib.pyplot as plt\n",
        "%config InlineBackend.figure_format = 'retina' # 폰트가 깨끗하게 보이도록 설정\n",
        "\n",
        "!apt install fonts-nanum # 나눔 폰트 설치\n",
        "\n",
        "import matplotlib.font_manager as fm\n",
        "fontpath = '/usr/share/fonts/truetype/nanum/NanumMyeongjo.ttf'\n",
        "font = fm.FontProperties(fname=fontpath, size=9)\n",
        "\n",
        "# 기본 글꼴 변경\n",
        "import matplotlib as mpl\n",
        "mpl.font_manager._rebuild()\n",
        "mpl.pyplot.rc('font', family='NanumMyeongjo')\n",
        "\n",
        "#런타임 > 런타임 다시 시작 수행 후 다시 진행"
      ],
      "execution_count": null,
      "outputs": [
        {
          "output_type": "stream",
          "text": [
            "Reading package lists... Done\n",
            "Building dependency tree       \n",
            "Reading state information... Done\n",
            "The following NEW packages will be installed:\n",
            "  fonts-nanum\n",
            "0 upgraded, 1 newly installed, 0 to remove and 80 not upgraded.\n",
            "Need to get 9,604 kB of archives.\n",
            "After this operation, 29.5 MB of additional disk space will be used.\n",
            "Get:1 http://archive.ubuntu.com/ubuntu bionic/universe amd64 fonts-nanum all 20170925-1 [9,604 kB]\n",
            "Fetched 9,604 kB in 1s (10.1 MB/s)\n",
            "Selecting previously unselected package fonts-nanum.\n",
            "(Reading database ... 161413 files and directories currently installed.)\n",
            "Preparing to unpack .../fonts-nanum_20170925-1_all.deb ...\n",
            "Unpacking fonts-nanum (20170925-1) ...\n",
            "Setting up fonts-nanum (20170925-1) ...\n",
            "Processing triggers for fontconfig (2.12.6-0ubuntu2) ...\n"
          ],
          "name": "stdout"
        }
      ]
    },
    {
      "cell_type": "markdown",
      "metadata": {
        "id": "YZ1kfahP0Ir-"
      },
      "source": [
        "# 데이터 로딩"
      ]
    },
    {
      "cell_type": "code",
      "metadata": {
        "id": "f-G8DAlS0J1C"
      },
      "source": [
        "# 읽기 함수 정의\n",
        "def read_data(filename, encoding='cp949', start_line=1) :\n",
        "  with open(filename, 'r', encoding=encoding) as f :\n",
        "    data = [line.split('\\t') for line in f.read().splitlines()]\n",
        "    data = data[start_line:]\n",
        "  return data\n",
        "\n",
        "#쓰기 함수도 정의\n",
        "def write_data(data, filename, encoding='cp949') :\n",
        "  with open(filename, 'w', encoding=encoding) as f :\n",
        "    f.write(data)"
      ],
      "execution_count": null,
      "outputs": []
    },
    {
      "cell_type": "code",
      "metadata": {
        "id": "vkuQU21N7OJF"
      },
      "source": [
        "# 전체파일은 ratings.txt\n",
        "# data = read_data('/content/자연어처리/pytest/ratings_small.txt', encoding='cp949') # 절대경로\n",
        "data = read_data('/content/자연어처리/pytest_big/ratings.txt') # 상대 경로"
      ],
      "execution_count": null,
      "outputs": []
    },
    {
      "cell_type": "code",
      "metadata": {
        "id": "2WTZ3lXH-TTC",
        "colab": {
          "base_uri": "https://localhost:8080/"
        },
        "outputId": "c2d467e2-92f0-4029-dfcf-2a1862fd9eb3"
      },
      "source": [
        "print(len(data))\n",
        "print(data[0])\n",
        "print(type(data))"
      ],
      "execution_count": null,
      "outputs": [
        {
          "output_type": "stream",
          "text": [
            "200000\n",
            "['8112052', '어릴때보고 지금다시봐도 재밌어요ㅋㅋ', '1']\n",
            "<class 'list'>\n"
          ],
          "name": "stdout"
        }
      ]
    },
    {
      "cell_type": "markdown",
      "metadata": {
        "id": "4m4jy2WBBZbz"
      },
      "source": [
        "# 전체 데이터 형태소 분석"
      ]
    },
    {
      "cell_type": "code",
      "metadata": {
        "id": "vkh60KVm4k4h",
        "colab": {
          "base_uri": "https://localhost:8080/"
        },
        "outputId": "e47168cc-780c-4e74-a7a4-374f2ceda320"
      },
      "source": [
        "import rhinoMorph\n",
        "rn = rhinoMorph.startRhino()\n",
        "\n",
        "morphed_data = ''\n",
        "for data_each in data :\n",
        "  morphed_data_each = rhinoMorph.onlyMorph_list(\n",
        "      rn, data_each[1], pos = ['NNG', 'NNP', 'VV', 'VA', 'XR', 'IC', 'MM', 'MAG', 'MAJ'])\n",
        "  joined_data_each = ' '.join(morphed_data_each)\n",
        "  if joined_data_each :\n",
        "    morphed_data += data_each[0]+'\\t'+joined_data_each+'\\t'+data_each[2]+'\\n'\n",
        "\n",
        "# 형태소 분석된 파일 저장\n",
        "write_data(morphed_data, 'ratings_morphed.txt')"
      ],
      "execution_count": null,
      "outputs": [
        {
          "output_type": "stream",
          "text": [
            "filepath:  /usr/local/lib/python3.7/dist-packages\n",
            "classpath:  /usr/local/lib/python3.7/dist-packages/rhinoMorph/lib/rhino.jar\n",
            "JVM is already started~\n",
            "RHINO started!\n"
          ],
          "name": "stdout"
        }
      ]
    },
    {
      "cell_type": "markdown",
      "metadata": {
        "id": "ZqGojemqAiC5"
      },
      "source": [
        "# 형태분석된 데이터 로딩"
      ]
    },
    {
      "cell_type": "code",
      "metadata": {
        "id": "tLJpp-3dAkUf",
        "colab": {
          "base_uri": "https://localhost:8080/"
        },
        "outputId": "0b839e7f-3201-4d01-9e09-6d1ca016b031"
      },
      "source": [
        "data = read_data('ratings_morphed.txt', start_line=0)\n",
        "print(len(data))\n",
        "print(len(data[0]))\n",
        "print(data[0])"
      ],
      "execution_count": null,
      "outputs": [
        {
          "output_type": "stream",
          "text": [
            "197514\n",
            "3\n",
            "['8112052', '어리 때 보 지금 다시 보 재미있 ㅋㅋ', '1']\n"
          ],
          "name": "stdout"
        }
      ]
    },
    {
      "cell_type": "markdown",
      "metadata": {
        "id": "xNNPjYMZBHwk"
      },
      "source": [
        "# 감정사전 읽기"
      ]
    },
    {
      "cell_type": "code",
      "metadata": {
        "id": "B8QcgPl4BJb5",
        "colab": {
          "base_uri": "https://localhost:8080/"
        },
        "outputId": "66a164ba-d0fb-4def-d053-bbb7d83cc093"
      },
      "source": [
        "data_id = [line[0] for line in data] # 데이터 id\n",
        "data_text = [line[1] for line in data] # 데이터 본문\n",
        "data_senti = [line[2] for line in data] # 데이터 긍부정 부분\n",
        "\n",
        "positive = read_data('positive.txt') # 긍정 감정사전 읽기\n",
        "negative = read_data('negative.txt') # 부정 감정사전 읽기\n",
        "\n",
        "pos_found = []\n",
        "neg_found = []\n",
        "\n",
        "print(positive[:5])\n",
        "print(negative[:5])"
      ],
      "execution_count": null,
      "outputs": [
        {
          "output_type": "stream",
          "text": [
            "[['가능'], ['가능하'], ['가락'], ['가치'], ['간단하']]\n",
            "[['가로막'], ['가로지르'], ['가리'], ['가명'], ['가시']]\n"
          ],
          "name": "stdout"
        }
      ]
    },
    {
      "cell_type": "markdown",
      "metadata": {
        "id": "GtYmqzsOBwlE"
      },
      "source": [
        "# 감정단어 파악"
      ]
    },
    {
      "cell_type": "code",
      "metadata": {
        "id": "-RPMOTGwBktm",
        "colab": {
          "base_uri": "https://localhost:8080/"
        },
        "outputId": "da3f8457-ab66-45c2-edb9-ccc873a6bc4f"
      },
      "source": [
        "def cntWordInLine(data, senti) :\n",
        "  senti_found = []\n",
        "  for onedata in data :\n",
        "    oneline_word = onedata.split(' ') # 한 줄의 데이터를 공백 단위로 분리하여 리스트로 저장\n",
        "    senti_temp = 0                    # 그 줄에서 발견된 감정단어의 수를 담는 변수\n",
        "    for sentiword in senti :          # 감정 사전의 어휘\n",
        "      if sentiword[0] in oneline_word :#sentiword[0] 하여 리스트 원소의 문자열로 추출\n",
        "        senti_temp += 1               # 현재의 감정단어와 일치하면 숫자를 하나 올려 줌\n",
        "    senti_found.append(senti_temp)    # 현재의 줄에서 찾은 감성단어의 숫자를 해당 위치에 저장\n",
        "  return senti_found\n",
        "\n",
        "data_senti_poscnt = cntWordInLine(data_text, positive) # 발견된 긍정 단어의 숫자 파악\n",
        "data_senti_negcnt = cntWordInLine(data_text, negative) # 발견된 부정 단어의 숫자 파악\n",
        "\n",
        "print(data_senti_poscnt[:20])\n",
        "print(data_senti_negcnt[:20])"
      ],
      "execution_count": null,
      "outputs": [
        {
          "output_type": "stream",
          "text": [
            "[1, 5, 1, 0, 0, 2, 1, 0, 0, 0, 1, 1, 1, 0, 1, 2, 0, 1, 0, 1]\n",
            "[0, 1, 0, 1, 0, 0, 0, 1, 0, 0, 0, 0, 0, 0, 0, 1, 0, 0, 1, 0]\n"
          ],
          "name": "stdout"
        }
      ]
    },
    {
      "cell_type": "markdown",
      "metadata": {
        "id": "RRtskHEUGbCe"
      },
      "source": [
        "# 감정점수 계산"
      ]
    },
    {
      "cell_type": "code",
      "metadata": {
        "id": "wTCV92x4GcgE",
        "colab": {
          "base_uri": "https://localhost:8080/",
          "height": 203
        },
        "outputId": "6a00d1b1-a5d9-439f-ff99-3c2c2c6df30c"
      },
      "source": [
        "import pandas as pd\n",
        "\n",
        "newdata = pd.DataFrame({'id':data_id, 'text':data_text, 'original':data_senti,\n",
        "                        'pos':data_senti_poscnt, 'neg':data_senti_negcnt})\n",
        "\n",
        "newdata['senti_score'] = newdata['pos'] - newdata['neg'] # 긍정개수에서 부정개수를 뺀 값을 저장\n",
        "\n",
        "newdata.loc[newdata.senti_score > 0, 'new'] = 1 # 새로운 긍정 기호\n",
        "newdata.loc[newdata.senti_score <= 0, 'new'] = 0 # 새로운 부정 기호\n",
        "\n",
        "# 처음에 기록된 긍부정과 새로 계산된 긍부정이 같은지 여부를 matched 컬럼에 저장\n",
        "# original 컬럼은 문자로 되어 있으므로 숫자로 변환 뒤 비교\n",
        "newdata.loc[pd.to_numeric(newdata.original) == newdata.new, 'matched'] = 'True'\n",
        "newdata.loc[pd.to_numeric(newdata.original) != newdata.new, 'matched'] = 'False'\n",
        "\n",
        "newdata.head()"
      ],
      "execution_count": null,
      "outputs": [
        {
          "output_type": "execute_result",
          "data": {
            "text/html": [
              "<div>\n",
              "<style scoped>\n",
              "    .dataframe tbody tr th:only-of-type {\n",
              "        vertical-align: middle;\n",
              "    }\n",
              "\n",
              "    .dataframe tbody tr th {\n",
              "        vertical-align: top;\n",
              "    }\n",
              "\n",
              "    .dataframe thead th {\n",
              "        text-align: right;\n",
              "    }\n",
              "</style>\n",
              "<table border=\"1\" class=\"dataframe\">\n",
              "  <thead>\n",
              "    <tr style=\"text-align: right;\">\n",
              "      <th></th>\n",
              "      <th>id</th>\n",
              "      <th>text</th>\n",
              "      <th>original</th>\n",
              "      <th>pos</th>\n",
              "      <th>neg</th>\n",
              "      <th>senti_score</th>\n",
              "      <th>new</th>\n",
              "      <th>matched</th>\n",
              "    </tr>\n",
              "  </thead>\n",
              "  <tbody>\n",
              "    <tr>\n",
              "      <th>0</th>\n",
              "      <td>8112052</td>\n",
              "      <td>어리 때 보 지금 다시 보 재미있 ㅋㅋ</td>\n",
              "      <td>1</td>\n",
              "      <td>1</td>\n",
              "      <td>0</td>\n",
              "      <td>1</td>\n",
              "      <td>1.0</td>\n",
              "      <td>True</td>\n",
              "    </tr>\n",
              "    <tr>\n",
              "      <th>1</th>\n",
              "      <td>8132799</td>\n",
              "      <td>디자인 배우 학생 외국 디자이너 일구 전통 통하 발전 문화 산업 부럽 사실 우리나라...</td>\n",
              "      <td>1</td>\n",
              "      <td>5</td>\n",
              "      <td>1</td>\n",
              "      <td>4</td>\n",
              "      <td>1.0</td>\n",
              "      <td>True</td>\n",
              "    </tr>\n",
              "    <tr>\n",
              "      <th>2</th>\n",
              "      <td>4655635</td>\n",
              "      <td>폴리스스토리 시리즈 뉴 없 최고</td>\n",
              "      <td>1</td>\n",
              "      <td>1</td>\n",
              "      <td>0</td>\n",
              "      <td>1</td>\n",
              "      <td>1.0</td>\n",
              "      <td>True</td>\n",
              "    </tr>\n",
              "    <tr>\n",
              "      <th>3</th>\n",
              "      <td>9251303</td>\n",
              "      <td>와 연기 진짜 쩔 지루 생각하 몰입 그래 이런 진짜 영화</td>\n",
              "      <td>1</td>\n",
              "      <td>0</td>\n",
              "      <td>1</td>\n",
              "      <td>-1</td>\n",
              "      <td>0.0</td>\n",
              "      <td>False</td>\n",
              "    </tr>\n",
              "    <tr>\n",
              "      <th>4</th>\n",
              "      <td>10067386</td>\n",
              "      <td>안개 자욱 하 밤하늘 뜨 초승달 같 영화</td>\n",
              "      <td>1</td>\n",
              "      <td>0</td>\n",
              "      <td>0</td>\n",
              "      <td>0</td>\n",
              "      <td>0.0</td>\n",
              "      <td>False</td>\n",
              "    </tr>\n",
              "  </tbody>\n",
              "</table>\n",
              "</div>"
            ],
            "text/plain": [
              "         id                                               text  ...  new  matched\n",
              "0   8112052                              어리 때 보 지금 다시 보 재미있 ㅋㅋ  ...  1.0     True\n",
              "1   8132799  디자인 배우 학생 외국 디자이너 일구 전통 통하 발전 문화 산업 부럽 사실 우리나라...  ...  1.0     True\n",
              "2   4655635                                  폴리스스토리 시리즈 뉴 없 최고  ...  1.0     True\n",
              "3   9251303                    와 연기 진짜 쩔 지루 생각하 몰입 그래 이런 진짜 영화  ...  0.0    False\n",
              "4  10067386                             안개 자욱 하 밤하늘 뜨 초승달 같 영화  ...  0.0    False\n",
              "\n",
              "[5 rows x 8 columns]"
            ]
          },
          "metadata": {
            "tags": []
          },
          "execution_count": 16
        }
      ]
    },
    {
      "cell_type": "markdown",
      "metadata": {
        "id": "MYQD2QWiIBjG"
      },
      "source": [
        "# 원점수와 비교 및 저장"
      ]
    },
    {
      "cell_type": "code",
      "metadata": {
        "id": "BofKyyiOH3Dc",
        "colab": {
          "base_uri": "https://localhost:8080/"
        },
        "outputId": "fba1273b-b165-4eef-b747-3fe83c84666a"
      },
      "source": [
        "score = newdata.matched.str.count('True').sum() / (newdata.matched.str.count('True').sum()\n",
        "                            + newdata.matched.str.count('False').sum()) * 100\n",
        "\n",
        "print(score)\n",
        "\n",
        "newdata.to_csv('newfile.csv', sep=',', encoding='cp949', index=False) # csv 저장\n",
        "newdata.to_csv('newfile.txt', sep='\\t', encoding='cp949', index=False) # txt 저장"
      ],
      "execution_count": null,
      "outputs": [
        {
          "output_type": "stream",
          "text": [
            "62.542402057575664\n"
          ],
          "name": "stdout"
        }
      ]
    },
    {
      "cell_type": "markdown",
      "metadata": {
        "id": "rlnc-xDlJsWy"
      },
      "source": [
        "# 시그모이드 점수 계산"
      ]
    },
    {
      "cell_type": "markdown",
      "metadata": {
        "id": "zp0C7lw3Jw7O"
      },
      "source": [
        "* 시그모이드 함수는 모든 값을 0~1 사이로 변경해준다.\n",
        "* 따라서 각 문장에 긍정 혹은 부정 단어가 아무리 많아도 값을 정규화하는 효과를 갖는다.\n",
        "* 다음과 같이 하여 'sigmoid' 컬럼에 계산 결과를 넣을 수 있다."
      ]
    },
    {
      "cell_type": "code",
      "metadata": {
        "id": "L-hDqq4TI21g"
      },
      "source": [
        "import math\n",
        "def sigmoid(x) :\n",
        "  return 1/(1+math.exp(-x))\n",
        "\n",
        "newdata['sigmoid'] = newdata.senti_score.apply(sigmoid)"
      ],
      "execution_count": null,
      "outputs": []
    },
    {
      "cell_type": "code",
      "metadata": {
        "id": "j-rA5IT2KGyg",
        "colab": {
          "base_uri": "https://localhost:8080/",
          "height": 438
        },
        "outputId": "292ffa4c-643d-45f3-9bf9-4a0d3e1de2ae"
      },
      "source": [
        "newdata.head()"
      ],
      "execution_count": null,
      "outputs": [
        {
          "output_type": "execute_result",
          "data": {
            "text/html": [
              "<div>\n",
              "<style scoped>\n",
              "    .dataframe tbody tr th:only-of-type {\n",
              "        vertical-align: middle;\n",
              "    }\n",
              "\n",
              "    .dataframe tbody tr th {\n",
              "        vertical-align: top;\n",
              "    }\n",
              "\n",
              "    .dataframe thead th {\n",
              "        text-align: right;\n",
              "    }\n",
              "</style>\n",
              "<table border=\"1\" class=\"dataframe\">\n",
              "  <thead>\n",
              "    <tr style=\"text-align: right;\">\n",
              "      <th></th>\n",
              "      <th>id</th>\n",
              "      <th>text</th>\n",
              "      <th>original</th>\n",
              "      <th>pos</th>\n",
              "      <th>neg</th>\n",
              "      <th>senti_score</th>\n",
              "      <th>new</th>\n",
              "      <th>matched</th>\n",
              "      <th>sigmoid</th>\n",
              "    </tr>\n",
              "  </thead>\n",
              "  <tbody>\n",
              "    <tr>\n",
              "      <th>0</th>\n",
              "      <td>8112052</td>\n",
              "      <td>어리 때 보 지금 다시 보 재미있 ㅋㅋ</td>\n",
              "      <td>1</td>\n",
              "      <td>1</td>\n",
              "      <td>0</td>\n",
              "      <td>1</td>\n",
              "      <td>1.0</td>\n",
              "      <td>True</td>\n",
              "      <td>0.731059</td>\n",
              "    </tr>\n",
              "    <tr>\n",
              "      <th>1</th>\n",
              "      <td>8132799</td>\n",
              "      <td>디자인 배우 학생 외국 디자이너 일구 전통 통하 발전 문화 산업 부럽 사실 우리나라...</td>\n",
              "      <td>1</td>\n",
              "      <td>5</td>\n",
              "      <td>1</td>\n",
              "      <td>4</td>\n",
              "      <td>1.0</td>\n",
              "      <td>True</td>\n",
              "      <td>0.982014</td>\n",
              "    </tr>\n",
              "    <tr>\n",
              "      <th>2</th>\n",
              "      <td>4655635</td>\n",
              "      <td>폴리스스토리 시리즈 뉴 없 최고</td>\n",
              "      <td>1</td>\n",
              "      <td>1</td>\n",
              "      <td>0</td>\n",
              "      <td>1</td>\n",
              "      <td>1.0</td>\n",
              "      <td>True</td>\n",
              "      <td>0.731059</td>\n",
              "    </tr>\n",
              "    <tr>\n",
              "      <th>3</th>\n",
              "      <td>9251303</td>\n",
              "      <td>와 연기 진짜 쩔 지루 생각하 몰입 그래 이런 진짜 영화</td>\n",
              "      <td>1</td>\n",
              "      <td>0</td>\n",
              "      <td>1</td>\n",
              "      <td>-1</td>\n",
              "      <td>0.0</td>\n",
              "      <td>False</td>\n",
              "      <td>0.268941</td>\n",
              "    </tr>\n",
              "    <tr>\n",
              "      <th>4</th>\n",
              "      <td>10067386</td>\n",
              "      <td>안개 자욱 하 밤하늘 뜨 초승달 같 영화</td>\n",
              "      <td>1</td>\n",
              "      <td>0</td>\n",
              "      <td>0</td>\n",
              "      <td>0</td>\n",
              "      <td>0.0</td>\n",
              "      <td>False</td>\n",
              "      <td>0.500000</td>\n",
              "    </tr>\n",
              "  </tbody>\n",
              "</table>\n",
              "</div>"
            ],
            "text/plain": [
              "         id  ...   sigmoid\n",
              "0   8112052  ...  0.731059\n",
              "1   8132799  ...  0.982014\n",
              "2   4655635  ...  0.731059\n",
              "3   9251303  ...  0.268941\n",
              "4  10067386  ...  0.500000\n",
              "\n",
              "[5 rows x 9 columns]"
            ]
          },
          "metadata": {
            "tags": []
          },
          "execution_count": 19
        }
      ]
    }
  ]
}