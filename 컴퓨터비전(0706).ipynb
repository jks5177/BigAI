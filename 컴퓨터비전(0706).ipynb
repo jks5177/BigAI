{
 "cells": [
  {
   "cell_type": "markdown",
   "metadata": {},
   "source": [
    "* Curve fitting using Least squares\n",
    "    * For the 2D points, find the 2nd-order curve using least squares\n",
    "    * y = ax^2 + bx + c\n",
    "* Sampling 6 2D points out of total 8 points\n",
    "    * Randomly select 6 point\n",
    "    * Twice curve fitting\n",
    "    * Compare two curves"
   ]
  },
  {
   "cell_type": "code",
   "execution_count": 2,
   "metadata": {},
   "outputs": [],
   "source": [
    "points = [(-2.9, 35.4), (-2.1, 19.7), (-0.9, 5.7), (1.1, 2.1), (0.1, 1.2), (1.9, 8.7), (3.1, 25.7), (4.0, 41.5)]"
   ]
  },
  {
   "cell_type": "code",
   "execution_count": 3,
   "metadata": {
    "scrolled": true
   },
   "outputs": [],
   "source": [
    "import numpy as np\n",
    "from matplotlib import pyplot"
   ]
  },
  {
   "cell_type": "code",
   "execution_count": 4,
   "metadata": {},
   "outputs": [
    {
     "data": {
      "text/plain": [
       "35.4"
      ]
     },
     "execution_count": 4,
     "metadata": {},
     "output_type": "execute_result"
    }
   ],
   "source": [
    "points[0][1]"
   ]
  },
  {
   "cell_type": "code",
   "execution_count": 5,
   "metadata": {},
   "outputs": [],
   "source": [
    "rand = np.random.choice(range(8), 6, replace=False, p=None)"
   ]
  },
  {
   "cell_type": "code",
   "execution_count": 6,
   "metadata": {
    "scrolled": true
   },
   "outputs": [
    {
     "name": "stdout",
     "output_type": "stream",
     "text": [
      "[[ 9.61e+00  3.10e+00  1.00e+00]\n",
      " [ 3.61e+00  1.90e+00  1.00e+00]\n",
      " [ 1.60e+01  4.00e+00  1.00e+00]\n",
      " [ 8.41e+00 -2.90e+00  1.00e+00]\n",
      " [ 8.10e-01 -9.00e-01  1.00e+00]\n",
      " [ 1.00e-02  1.00e-01  1.00e+00]]\n",
      "[[25.7]\n",
      " [ 8.7]\n",
      " [41.5]\n",
      " [35.4]\n",
      " [ 5.7]\n",
      " [ 1.2]]\n"
     ]
    }
   ],
   "source": [
    "A = np.zeros(shape=(6,3))\n",
    "x = np.zeros(shape=(6,1))\n",
    "y = np.zeros(shape=(6,1))\n",
    "\n",
    "for i in range(len(rand)) :\n",
    "    x[i] = points[rand[i]][0]\n",
    "    A[i] = [x[i]**2, x[i], 1]\n",
    "    y[i] = points[rand[i]][1]\n",
    "\n",
    "print(A)\n",
    "print(y)"
   ]
  },
  {
   "cell_type": "code",
   "execution_count": 7,
   "metadata": {},
   "outputs": [],
   "source": [
    "def  Least_Squares(matrix_X, matrix_y) :\n",
    "    return np.dot(np.dot(np.linalg.inv(np.dot(matrix_X.T, matrix_X)), matrix_X.T),matrix_y)"
   ]
  },
  {
   "cell_type": "code",
   "execution_count": 8,
   "metadata": {},
   "outputs": [
    {
     "data": {
      "text/plain": [
       "array([[ 3.14773841],\n",
       "       [-2.39063659],\n",
       "       [ 1.63997202]])"
      ]
     },
     "execution_count": 8,
     "metadata": {},
     "output_type": "execute_result"
    }
   ],
   "source": [
    "b = Least_Squares(A, y)\n",
    "b"
   ]
  },
  {
   "cell_type": "code",
   "execution_count": 9,
   "metadata": {},
   "outputs": [],
   "source": [
    "def func(a, b, c, x) :\n",
    "    return a*(x**2) + b*x + c"
   ]
  },
  {
   "cell_type": "code",
   "execution_count": 10,
   "metadata": {},
   "outputs": [
    {
     "data": {
      "text/plain": [
       "array([[ 3.1],\n",
       "       [ 1.9],\n",
       "       [ 4. ],\n",
       "       [-2.9],\n",
       "       [-0.9],\n",
       "       [ 0.1]])"
      ]
     },
     "execution_count": 10,
     "metadata": {},
     "output_type": "execute_result"
    }
   ],
   "source": [
    "x"
   ]
  },
  {
   "cell_type": "code",
   "execution_count": 11,
   "metadata": {},
   "outputs": [],
   "source": [
    "x.sort()"
   ]
  },
  {
   "cell_type": "code",
   "execution_count": 15,
   "metadata": {},
   "outputs": [
    {
     "data": {
      "text/plain": [
       "[-2.9, -2.1, -0.9, 1.1, 0.1, 1.9, 3.1, 4.0]"
      ]
     },
     "execution_count": 15,
     "metadata": {},
     "output_type": "execute_result"
    }
   ],
   "source": [
    "x"
   ]
  },
  {
   "cell_type": "code",
   "execution_count": 12,
   "metadata": {},
   "outputs": [
    {
     "data": {
      "text/plain": [
       "array([[24.47876469],\n",
       "       [ 8.46109815],\n",
       "       [42.44124019],\n",
       "       [35.04529815],\n",
       "       [ 6.34121306],\n",
       "       [ 1.43238575]])"
      ]
     },
     "execution_count": 12,
     "metadata": {},
     "output_type": "execute_result"
    }
   ],
   "source": [
    "func(b[0], b[1], b[2], x)"
   ]
  },
  {
   "cell_type": "code",
   "execution_count": 13,
   "metadata": {},
   "outputs": [
    {
     "data": {
      "image/png": "[encoded data removed]",
      "text/plain": [
       "<Figure size 432x288 with 1 Axes>"
      ]
     },
     "metadata": {
      "needs_background": "light"
     },
     "output_type": "display_data"
    }
   ],
   "source": [
    "pyplot.plot(x, func(b[0],b[1],b[2], x), '--', color='red')\n",
    "pyplot.show()"
   ]
  },
  {
   "cell_type": "code",
   "execution_count": 14,
   "metadata": {},
   "outputs": [
    {
     "ename": "NameError",
     "evalue": "name 'curve_fit' is not defined",
     "output_type": "error",
     "traceback": [
      "\u001b[1;31m---------------------------------------------------------------------------\u001b[0m",
      "\u001b[1;31mNameError\u001b[0m                                 Traceback (most recent call last)",
      "\u001b[1;32m<ipython-input-14-ea8502982a62>\u001b[0m in \u001b[0;36m<module>\u001b[1;34m\u001b[0m\n\u001b[0;32m     12\u001b[0m \u001b[1;33m\u001b[0m\u001b[0m\n\u001b[0;32m     13\u001b[0m \u001b[1;31m# curve fit\u001b[0m\u001b[1;33m\u001b[0m\u001b[1;33m\u001b[0m\u001b[1;33m\u001b[0m\u001b[0m\n\u001b[1;32m---> 14\u001b[1;33m \u001b[0mpopt\u001b[0m\u001b[1;33m,\u001b[0m \u001b[0m_\u001b[0m \u001b[1;33m=\u001b[0m \u001b[0mcurve_fit\u001b[0m\u001b[1;33m(\u001b[0m\u001b[0mobjective\u001b[0m\u001b[1;33m,\u001b[0m \u001b[0mx\u001b[0m\u001b[1;33m,\u001b[0m \u001b[0my\u001b[0m\u001b[1;33m)\u001b[0m\u001b[1;33m\u001b[0m\u001b[1;33m\u001b[0m\u001b[0m\n\u001b[0m\u001b[0;32m     15\u001b[0m \u001b[1;33m\u001b[0m\u001b[0m\n\u001b[0;32m     16\u001b[0m \u001b[1;31m# summarize the parameter values\u001b[0m\u001b[1;33m\u001b[0m\u001b[1;33m\u001b[0m\u001b[1;33m\u001b[0m\u001b[0m\n",
      "\u001b[1;31mNameError\u001b[0m: name 'curve_fit' is not defined"
     ]
    }
   ],
   "source": [
    " \n",
    "# define the true objective function\n",
    "def objective(x, a, b, c):\n",
    "\treturn a * x + (b * (x**2)) + c\n",
    "\n",
    "# choose the input and output variables\n",
    "x = []\n",
    "y = []\n",
    "\n",
    "for i, j in points :\n",
    "    x.append(i)\n",
    "    y.append(j)\n",
    "\n",
    "# curve fit\n",
    "popt, _ = curve_fit(objective, x, y)\n",
    "\n",
    "# summarize the parameter values\n",
    "a, b, c = popt\n",
    "print('y = %.5f * x + %.5f * x^2 + %.5f' % (a, b, c))\n",
    "\n",
    "# plot input vs output\n",
    "pyplot.scatter(x, y)\n",
    "\n",
    "# define a sequence of inputs between the smallest and largest known inputs\n",
    "x_line = arange(min(x), max(x), 1)\n",
    "\n",
    "# calculate the output for the range\n",
    "y_line = objective(x_line, a, b, c)\n",
    "\n",
    "# create a line plot for the mapping function\n",
    "pyplot.plot(x_line, y_line, '--', color='red')\n",
    "pyplot.show()"
   ]
  },
  {
   "cell_type": "code",
   "execution_count": null,
   "metadata": {},
   "outputs": [],
   "source": []
  }
 ],
 "metadata": {
  "kernelspec": {
   "display_name": "Python 3",
   "language": "python",
   "name": "python3"
  },
  "language_info": {
   "codemirror_mode": {
    "name": "ipython",
    "version": 3
   },
   "file_extension": ".py",
   "mimetype": "text/x-python",
   "name": "python",
   "nbconvert_exporter": "python",
   "pygments_lexer": "ipython3",
   "version": "3.8.5"
  }
 },
 "nbformat": 4,
 "nbformat_minor": 4
}
