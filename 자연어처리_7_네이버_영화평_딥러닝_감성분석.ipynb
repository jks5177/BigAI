{
  "nbformat": 4,
  "nbformat_minor": 0,
  "metadata": {
    "colab": {
      "name": "7_네이버_영화평_딥러닝_감성분석.ipynb",
      "provenance": [],
      "collapsed_sections": [],
      "authorship_tag": "ABX9TyOCAXmcmKlRhoMJuD6jD38J",
      "include_colab_link": true
    },
    "kernelspec": {
      "name": "python3",
      "display_name": "Python 3"
    },
    "language_info": {
      "name": "python"
    }
  },
  "cells": [
    {
      "cell_type": "markdown",
      "metadata": {
        "id": "view-in-github",
        "colab_type": "text"
      },
      "source": [
        "<a href=\"https://colab.research.google.com/github/jks5177/BigAI/blob/main/%EC%9E%90%EC%97%B0%EC%96%B4%EC%B2%98%EB%A6%AC_7_%EB%84%A4%EC%9D%B4%EB%B2%84_%EC%98%81%ED%99%94%ED%8F%89_%EB%94%A5%EB%9F%AC%EB%8B%9D_%EA%B0%90%EC%84%B1%EB%B6%84%EC%84%9D.ipynb\" target=\"_parent\"><img src=\"https://colab.research.google.com/assets/colab-badge.svg\" alt=\"Open In Colab\"/></a>"
      ]
    },
    {
      "cell_type": "markdown",
      "metadata": {
        "id": "BUnWKuHhmAF5"
      },
      "source": [
        "# 연습문제\n",
        "* 네이버 영화평 자료로 딥러닝 감정분석을 수행하시오.\n",
        "\n",
        "  * 이제까지의 내용을 종합적으로 활용해야 한다.\n",
        "    * 한글데이터의 로디오가 형태소분석 - 빈도분석과 감성분석\n",
        "    * 딥러닝의 사용 - IMDB 텍스트 이진분류\n",
        "    * 자료형의 선택(문자열, 리스트, 넘파이 배열)"
      ]
    },
    {
      "cell_type": "markdown",
      "metadata": {
        "id": "p81T9Sio3DL7"
      },
      "source": [
        "# 사전 설정\n"
      ]
    },
    {
      "cell_type": "markdown",
      "metadata": {
        "id": "ZobrGGOYrch_"
      },
      "source": [
        "## RHINO 설치"
      ]
    },
    {
      "cell_type": "code",
      "metadata": {
        "colab": {
          "base_uri": "https://localhost:8080/"
        },
        "id": "WNM9qQThgx6X",
        "outputId": "7dd1cb6e-5301-46f7-ad61-b76eb3b41fc4"
      },
      "source": [
        "# java jdk 설치\n",
        "!apt-get update\n",
        "!apt-get install g++ openjdk-8-jdk"
      ],
      "execution_count": null,
      "outputs": [
        {
          "output_type": "stream",
          "text": [
            "\r0% [Working]\r            \rGet:1 https://cloud.r-project.org/bin/linux/ubuntu bionic-cran40/ InRelease [3,626 B]\n",
            "\r0% [Connecting to archive.ubuntu.com] [Connecting to security.ubuntu.com] [1 In\r                                                                               \rIgn:2 https://developer.download.nvidia.com/compute/cuda/repos/ubuntu1804/x86_64  InRelease\n",
            "\r0% [Connecting to archive.ubuntu.com] [Connecting to security.ubuntu.com] [1 In\r0% [Connecting to archive.ubuntu.com] [Connecting to security.ubuntu.com] [Conn\r                                                                               \rIgn:3 https://developer.download.nvidia.com/compute/machine-learning/repos/ubuntu1804/x86_64  InRelease\n",
            "\r0% [Connecting to archive.ubuntu.com] [Connecting to security.ubuntu.com (91.18\r0% [1 InRelease gpgv 3,626 B] [Connecting to archive.ubuntu.com] [Connecting to\r                                                                               \rGet:4 https://developer.download.nvidia.com/compute/cuda/repos/ubuntu1804/x86_64  Release [697 B]\n",
            "\r0% [1 InRelease gpgv 3,626 B] [Connecting to archive.ubuntu.com] [Connecting to\r                                                                               \rHit:5 https://developer.download.nvidia.com/compute/machine-learning/repos/ubuntu1804/x86_64  Release\n",
            "Get:6 https://developer.download.nvidia.com/compute/cuda/repos/ubuntu1804/x86_64  Release.gpg [836 B]\n",
            "Get:7 http://security.ubuntu.com/ubuntu bionic-security InRelease [88.7 kB]\n",
            "Get:8 http://ppa.launchpad.net/c2d4u.team/c2d4u4.0+/ubuntu bionic InRelease [15.9 kB]\n",
            "Hit:9 http://archive.ubuntu.com/ubuntu bionic InRelease\n",
            "Get:11 http://archive.ubuntu.com/ubuntu bionic-updates InRelease [88.7 kB]\n",
            "Ign:12 https://developer.download.nvidia.com/compute/cuda/repos/ubuntu1804/x86_64  Packages\n",
            "Hit:13 http://ppa.launchpad.net/cran/libgit2/ubuntu bionic InRelease\n",
            "Get:12 https://developer.download.nvidia.com/compute/cuda/repos/ubuntu1804/x86_64  Packages [679 kB]\n",
            "Hit:14 http://ppa.launchpad.net/deadsnakes/ppa/ubuntu bionic InRelease\n",
            "Get:15 http://archive.ubuntu.com/ubuntu bionic-backports InRelease [74.6 kB]\n",
            "Get:16 http://ppa.launchpad.net/graphics-drivers/ppa/ubuntu bionic InRelease [21.3 kB]\n",
            "Get:17 http://security.ubuntu.com/ubuntu bionic-security/main amd64 Packages [2,257 kB]\n",
            "Get:18 http://ppa.launchpad.net/c2d4u.team/c2d4u4.0+/ubuntu bionic/main Sources [1,785 kB]\n",
            "Get:19 http://security.ubuntu.com/ubuntu bionic-security/restricted amd64 Packages [500 kB]\n",
            "Get:20 http://security.ubuntu.com/ubuntu bionic-security/multiverse amd64 Packages [31.5 kB]\n",
            "Get:21 http://security.ubuntu.com/ubuntu bionic-security/universe amd64 Packages [1,420 kB]\n",
            "Get:22 http://archive.ubuntu.com/ubuntu bionic-updates/restricted amd64 Packages [533 kB]\n",
            "Get:23 http://archive.ubuntu.com/ubuntu bionic-updates/main amd64 Packages [2,693 kB]\n",
            "Get:24 http://archive.ubuntu.com/ubuntu bionic-updates/multiverse amd64 Packages [38.7 kB]\n",
            "Get:25 http://archive.ubuntu.com/ubuntu bionic-updates/universe amd64 Packages [2,190 kB]\n",
            "Get:26 http://ppa.launchpad.net/c2d4u.team/c2d4u4.0+/ubuntu bionic/main amd64 Packages [913 kB]\n",
            "Get:27 http://ppa.launchpad.net/graphics-drivers/ppa/ubuntu bionic/main amd64 Packages [44.1 kB]\n",
            "Fetched 13.4 MB in 4s (3,135 kB/s)\n",
            "Reading package lists... Done\n",
            "Reading package lists... Done\n",
            "Building dependency tree       \n",
            "Reading state information... Done\n",
            "g++ is already the newest version (4:7.4.0-1ubuntu2.3).\n",
            "g++ set to manually installed.\n",
            "The following additional packages will be installed:\n",
            "  fonts-dejavu-core fonts-dejavu-extra libatk-wrapper-java\n",
            "  libatk-wrapper-java-jni libgail-common libgail18 libgtk2.0-0 libgtk2.0-bin\n",
            "  libgtk2.0-common libxxf86dga1 openjdk-8-jdk-headless openjdk-8-jre\n",
            "  openjdk-8-jre-headless x11-utils\n",
            "Suggested packages:\n",
            "  gvfs openjdk-8-demo openjdk-8-source visualvm icedtea-8-plugin libnss-mdns\n",
            "  fonts-ipafont-gothic fonts-ipafont-mincho fonts-wqy-microhei\n",
            "  fonts-wqy-zenhei fonts-indic mesa-utils\n",
            "The following NEW packages will be installed:\n",
            "  fonts-dejavu-core fonts-dejavu-extra libatk-wrapper-java\n",
            "  libatk-wrapper-java-jni libgail-common libgail18 libgtk2.0-0 libgtk2.0-bin\n",
            "  libgtk2.0-common libxxf86dga1 openjdk-8-jdk openjdk-8-jdk-headless\n",
            "  openjdk-8-jre openjdk-8-jre-headless x11-utils\n",
            "0 upgraded, 15 newly installed, 0 to remove and 80 not upgraded.\n",
            "Need to get 43.5 MB of archives.\n",
            "After this operation, 163 MB of additional disk space will be used.\n",
            "Get:1 http://archive.ubuntu.com/ubuntu bionic/main amd64 libxxf86dga1 amd64 2:1.1.4-1 [13.7 kB]\n",
            "Get:2 http://archive.ubuntu.com/ubuntu bionic/main amd64 fonts-dejavu-core all 2.37-1 [1,041 kB]\n",
            "Get:3 http://archive.ubuntu.com/ubuntu bionic/main amd64 fonts-dejavu-extra all 2.37-1 [1,953 kB]\n",
            "Get:4 http://archive.ubuntu.com/ubuntu bionic/main amd64 x11-utils amd64 7.7+3build1 [196 kB]\n",
            "Get:5 http://archive.ubuntu.com/ubuntu bionic/main amd64 libatk-wrapper-java all 0.33.3-20ubuntu0.1 [34.7 kB]\n",
            "Get:6 http://archive.ubuntu.com/ubuntu bionic/main amd64 libatk-wrapper-java-jni amd64 0.33.3-20ubuntu0.1 [28.3 kB]\n",
            "Get:7 http://archive.ubuntu.com/ubuntu bionic/main amd64 libgtk2.0-common all 2.24.32-1ubuntu1 [125 kB]\n",
            "Get:8 http://archive.ubuntu.com/ubuntu bionic/main amd64 libgtk2.0-0 amd64 2.24.32-1ubuntu1 [1,769 kB]\n",
            "Get:9 http://archive.ubuntu.com/ubuntu bionic/main amd64 libgail18 amd64 2.24.32-1ubuntu1 [14.2 kB]\n",
            "Get:10 http://archive.ubuntu.com/ubuntu bionic/main amd64 libgail-common amd64 2.24.32-1ubuntu1 [112 kB]\n",
            "Get:11 http://archive.ubuntu.com/ubuntu bionic/main amd64 libgtk2.0-bin amd64 2.24.32-1ubuntu1 [7,536 B]\n",
            "Get:12 http://archive.ubuntu.com/ubuntu bionic-updates/universe amd64 openjdk-8-jre-headless amd64 8u292-b10-0ubuntu1~18.04 [28.2 MB]\n",
            "Get:13 http://archive.ubuntu.com/ubuntu bionic-updates/universe amd64 openjdk-8-jre amd64 8u292-b10-0ubuntu1~18.04 [69.6 kB]\n",
            "Get:14 http://archive.ubuntu.com/ubuntu bionic-updates/universe amd64 openjdk-8-jdk-headless amd64 8u292-b10-0ubuntu1~18.04 [8,284 kB]\n",
            "Get:15 http://archive.ubuntu.com/ubuntu bionic-updates/universe amd64 openjdk-8-jdk amd64 8u292-b10-0ubuntu1~18.04 [1,644 kB]\n",
            "Fetched 43.5 MB in 3s (13.0 MB/s)\n",
            "Selecting previously unselected package libxxf86dga1:amd64.\n",
            "(Reading database ... 160837 files and directories currently installed.)\n",
            "Preparing to unpack .../00-libxxf86dga1_2%3a1.1.4-1_amd64.deb ...\n",
            "Unpacking libxxf86dga1:amd64 (2:1.1.4-1) ...\n",
            "Selecting previously unselected package fonts-dejavu-core.\n",
            "Preparing to unpack .../01-fonts-dejavu-core_2.37-1_all.deb ...\n",
            "Unpacking fonts-dejavu-core (2.37-1) ...\n",
            "Selecting previously unselected package fonts-dejavu-extra.\n",
            "Preparing to unpack .../02-fonts-dejavu-extra_2.37-1_all.deb ...\n",
            "Unpacking fonts-dejavu-extra (2.37-1) ...\n",
            "Selecting previously unselected package x11-utils.\n",
            "Preparing to unpack .../03-x11-utils_7.7+3build1_amd64.deb ...\n",
            "Unpacking x11-utils (7.7+3build1) ...\n",
            "Selecting previously unselected package libatk-wrapper-java.\n",
            "Preparing to unpack .../04-libatk-wrapper-java_0.33.3-20ubuntu0.1_all.deb ...\n",
            "Unpacking libatk-wrapper-java (0.33.3-20ubuntu0.1) ...\n",
            "Selecting previously unselected package libatk-wrapper-java-jni:amd64.\n",
            "Preparing to unpack .../05-libatk-wrapper-java-jni_0.33.3-20ubuntu0.1_amd64.deb ...\n",
            "Unpacking libatk-wrapper-java-jni:amd64 (0.33.3-20ubuntu0.1) ...\n",
            "Selecting previously unselected package libgtk2.0-common.\n",
            "Preparing to unpack .../06-libgtk2.0-common_2.24.32-1ubuntu1_all.deb ...\n",
            "Unpacking libgtk2.0-common (2.24.32-1ubuntu1) ...\n",
            "Selecting previously unselected package libgtk2.0-0:amd64.\n",
            "Preparing to unpack .../07-libgtk2.0-0_2.24.32-1ubuntu1_amd64.deb ...\n",
            "Unpacking libgtk2.0-0:amd64 (2.24.32-1ubuntu1) ...\n",
            "Selecting previously unselected package libgail18:amd64.\n",
            "Preparing to unpack .../08-libgail18_2.24.32-1ubuntu1_amd64.deb ...\n",
            "Unpacking libgail18:amd64 (2.24.32-1ubuntu1) ...\n",
            "Selecting previously unselected package libgail-common:amd64.\n",
            "Preparing to unpack .../09-libgail-common_2.24.32-1ubuntu1_amd64.deb ...\n",
            "Unpacking libgail-common:amd64 (2.24.32-1ubuntu1) ...\n",
            "Selecting previously unselected package libgtk2.0-bin.\n",
            "Preparing to unpack .../10-libgtk2.0-bin_2.24.32-1ubuntu1_amd64.deb ...\n",
            "Unpacking libgtk2.0-bin (2.24.32-1ubuntu1) ...\n",
            "Selecting previously unselected package openjdk-8-jre-headless:amd64.\n",
            "Preparing to unpack .../11-openjdk-8-jre-headless_8u292-b10-0ubuntu1~18.04_amd64.deb ...\n",
            "Unpacking openjdk-8-jre-headless:amd64 (8u292-b10-0ubuntu1~18.04) ...\n",
            "Selecting previously unselected package openjdk-8-jre:amd64.\n",
            "Preparing to unpack .../12-openjdk-8-jre_8u292-b10-0ubuntu1~18.04_amd64.deb ...\n",
            "Unpacking openjdk-8-jre:amd64 (8u292-b10-0ubuntu1~18.04) ...\n",
            "Selecting previously unselected package openjdk-8-jdk-headless:amd64.\n",
            "Preparing to unpack .../13-openjdk-8-jdk-headless_8u292-b10-0ubuntu1~18.04_amd64.deb ...\n",
            "Unpacking openjdk-8-jdk-headless:amd64 (8u292-b10-0ubuntu1~18.04) ...\n",
            "Selecting previously unselected package openjdk-8-jdk:amd64.\n",
            "Preparing to unpack .../14-openjdk-8-jdk_8u292-b10-0ubuntu1~18.04_amd64.deb ...\n",
            "Unpacking openjdk-8-jdk:amd64 (8u292-b10-0ubuntu1~18.04) ...\n",
            "Setting up libgtk2.0-common (2.24.32-1ubuntu1) ...\n",
            "Setting up fonts-dejavu-core (2.37-1) ...\n",
            "Setting up libxxf86dga1:amd64 (2:1.1.4-1) ...\n",
            "Setting up fonts-dejavu-extra (2.37-1) ...\n",
            "Setting up openjdk-8-jre-headless:amd64 (8u292-b10-0ubuntu1~18.04) ...\n",
            "update-alternatives: using /usr/lib/jvm/java-8-openjdk-amd64/jre/bin/orbd to provide /usr/bin/orbd (orbd) in auto mode\n",
            "update-alternatives: using /usr/lib/jvm/java-8-openjdk-amd64/jre/bin/servertool to provide /usr/bin/servertool (servertool) in auto mode\n",
            "update-alternatives: using /usr/lib/jvm/java-8-openjdk-amd64/jre/bin/tnameserv to provide /usr/bin/tnameserv (tnameserv) in auto mode\n",
            "Setting up libgtk2.0-0:amd64 (2.24.32-1ubuntu1) ...\n",
            "Setting up libgail18:amd64 (2.24.32-1ubuntu1) ...\n",
            "Setting up openjdk-8-jdk-headless:amd64 (8u292-b10-0ubuntu1~18.04) ...\n",
            "update-alternatives: using /usr/lib/jvm/java-8-openjdk-amd64/bin/idlj to provide /usr/bin/idlj (idlj) in auto mode\n",
            "update-alternatives: using /usr/lib/jvm/java-8-openjdk-amd64/bin/wsimport to provide /usr/bin/wsimport (wsimport) in auto mode\n",
            "update-alternatives: using /usr/lib/jvm/java-8-openjdk-amd64/bin/jsadebugd to provide /usr/bin/jsadebugd (jsadebugd) in auto mode\n",
            "update-alternatives: using /usr/lib/jvm/java-8-openjdk-amd64/bin/native2ascii to provide /usr/bin/native2ascii (native2ascii) in auto mode\n",
            "update-alternatives: using /usr/lib/jvm/java-8-openjdk-amd64/bin/javah to provide /usr/bin/javah (javah) in auto mode\n",
            "update-alternatives: using /usr/lib/jvm/java-8-openjdk-amd64/bin/hsdb to provide /usr/bin/hsdb (hsdb) in auto mode\n",
            "update-alternatives: using /usr/lib/jvm/java-8-openjdk-amd64/bin/clhsdb to provide /usr/bin/clhsdb (clhsdb) in auto mode\n",
            "update-alternatives: using /usr/lib/jvm/java-8-openjdk-amd64/bin/extcheck to provide /usr/bin/extcheck (extcheck) in auto mode\n",
            "update-alternatives: using /usr/lib/jvm/java-8-openjdk-amd64/bin/schemagen to provide /usr/bin/schemagen (schemagen) in auto mode\n",
            "update-alternatives: using /usr/lib/jvm/java-8-openjdk-amd64/bin/xjc to provide /usr/bin/xjc (xjc) in auto mode\n",
            "update-alternatives: using /usr/lib/jvm/java-8-openjdk-amd64/bin/jhat to provide /usr/bin/jhat (jhat) in auto mode\n",
            "update-alternatives: using /usr/lib/jvm/java-8-openjdk-amd64/bin/wsgen to provide /usr/bin/wsgen (wsgen) in auto mode\n",
            "Setting up x11-utils (7.7+3build1) ...\n",
            "Setting up libgail-common:amd64 (2.24.32-1ubuntu1) ...\n",
            "Setting up libatk-wrapper-java (0.33.3-20ubuntu0.1) ...\n",
            "Setting up libgtk2.0-bin (2.24.32-1ubuntu1) ...\n",
            "Setting up libatk-wrapper-java-jni:amd64 (0.33.3-20ubuntu0.1) ...\n",
            "Setting up openjdk-8-jre:amd64 (8u292-b10-0ubuntu1~18.04) ...\n",
            "update-alternatives: using /usr/lib/jvm/java-8-openjdk-amd64/jre/bin/policytool to provide /usr/bin/policytool (policytool) in auto mode\n",
            "Setting up openjdk-8-jdk:amd64 (8u292-b10-0ubuntu1~18.04) ...\n",
            "update-alternatives: using /usr/lib/jvm/java-8-openjdk-amd64/bin/appletviewer to provide /usr/bin/appletviewer (appletviewer) in auto mode\n",
            "update-alternatives: using /usr/lib/jvm/java-8-openjdk-amd64/bin/jconsole to provide /usr/bin/jconsole (jconsole) in auto mode\n",
            "Processing triggers for man-db (2.8.3-2ubuntu0.1) ...\n",
            "Processing triggers for hicolor-icon-theme (0.17-2) ...\n",
            "Processing triggers for fontconfig (2.12.6-0ubuntu2) ...\n",
            "Processing triggers for mime-support (3.60ubuntu1) ...\n",
            "Processing triggers for libc-bin (2.27-3ubuntu1.2) ...\n",
            "/sbin/ldconfig.real: /usr/local/lib/python3.7/dist-packages/ideep4py/lib/libmkldnn.so.0 is not a symbolic link\n",
            "\n"
          ],
          "name": "stdout"
        }
      ]
    },
    {
      "cell_type": "code",
      "metadata": {
        "colab": {
          "base_uri": "https://localhost:8080/"
        },
        "id": "BugId2Hdg6R4",
        "outputId": "3b447487-020d-4a94-af96-7bb12cb6bbcd"
      },
      "source": [
        "#JPype 설치\n",
        "!pip install JPype1"
      ],
      "execution_count": null,
      "outputs": [
        {
          "output_type": "stream",
          "text": [
            "Collecting JPype1\n",
            "  Downloading JPype1-1.3.0-cp37-cp37m-manylinux_2_5_x86_64.manylinux1_x86_64.whl (448 kB)\n",
            "\u001b[?25l\r\u001b[K     |▊                               | 10 kB 20.8 MB/s eta 0:00:01\r\u001b[K     |█▌                              | 20 kB 26.8 MB/s eta 0:00:01\r\u001b[K     |██▏                             | 30 kB 29.8 MB/s eta 0:00:01\r\u001b[K     |███                             | 40 kB 20.5 MB/s eta 0:00:01\r\u001b[K     |███▋                            | 51 kB 9.8 MB/s eta 0:00:01\r\u001b[K     |████▍                           | 61 kB 10.0 MB/s eta 0:00:01\r\u001b[K     |█████                           | 71 kB 9.8 MB/s eta 0:00:01\r\u001b[K     |█████▉                          | 81 kB 9.5 MB/s eta 0:00:01\r\u001b[K     |██████▋                         | 92 kB 9.9 MB/s eta 0:00:01\r\u001b[K     |███████▎                        | 102 kB 9.0 MB/s eta 0:00:01\r\u001b[K     |████████                        | 112 kB 9.0 MB/s eta 0:00:01\r\u001b[K     |████████▊                       | 122 kB 9.0 MB/s eta 0:00:01\r\u001b[K     |█████████▌                      | 133 kB 9.0 MB/s eta 0:00:01\r\u001b[K     |██████████▏                     | 143 kB 9.0 MB/s eta 0:00:01\r\u001b[K     |███████████                     | 153 kB 9.0 MB/s eta 0:00:01\r\u001b[K     |███████████▊                    | 163 kB 9.0 MB/s eta 0:00:01\r\u001b[K     |████████████▍                   | 174 kB 9.0 MB/s eta 0:00:01\r\u001b[K     |█████████████▏                  | 184 kB 9.0 MB/s eta 0:00:01\r\u001b[K     |█████████████▉                  | 194 kB 9.0 MB/s eta 0:00:01\r\u001b[K     |██████████████▋                 | 204 kB 9.0 MB/s eta 0:00:01\r\u001b[K     |███████████████▎                | 215 kB 9.0 MB/s eta 0:00:01\r\u001b[K     |████████████████                | 225 kB 9.0 MB/s eta 0:00:01\r\u001b[K     |████████████████▉               | 235 kB 9.0 MB/s eta 0:00:01\r\u001b[K     |█████████████████▌              | 245 kB 9.0 MB/s eta 0:00:01\r\u001b[K     |██████████████████▎             | 256 kB 9.0 MB/s eta 0:00:01\r\u001b[K     |███████████████████             | 266 kB 9.0 MB/s eta 0:00:01\r\u001b[K     |███████████████████▊            | 276 kB 9.0 MB/s eta 0:00:01\r\u001b[K     |████████████████████▍           | 286 kB 9.0 MB/s eta 0:00:01\r\u001b[K     |█████████████████████▏          | 296 kB 9.0 MB/s eta 0:00:01\r\u001b[K     |██████████████████████          | 307 kB 9.0 MB/s eta 0:00:01\r\u001b[K     |██████████████████████▋         | 317 kB 9.0 MB/s eta 0:00:01\r\u001b[K     |███████████████████████▍        | 327 kB 9.0 MB/s eta 0:00:01\r\u001b[K     |████████████████████████        | 337 kB 9.0 MB/s eta 0:00:01\r\u001b[K     |████████████████████████▉       | 348 kB 9.0 MB/s eta 0:00:01\r\u001b[K     |█████████████████████████▌      | 358 kB 9.0 MB/s eta 0:00:01\r\u001b[K     |██████████████████████████▎     | 368 kB 9.0 MB/s eta 0:00:01\r\u001b[K     |███████████████████████████     | 378 kB 9.0 MB/s eta 0:00:01\r\u001b[K     |███████████████████████████▊    | 389 kB 9.0 MB/s eta 0:00:01\r\u001b[K     |████████████████████████████▌   | 399 kB 9.0 MB/s eta 0:00:01\r\u001b[K     |█████████████████████████████▏  | 409 kB 9.0 MB/s eta 0:00:01\r\u001b[K     |██████████████████████████████  | 419 kB 9.0 MB/s eta 0:00:01\r\u001b[K     |██████████████████████████████▋ | 430 kB 9.0 MB/s eta 0:00:01\r\u001b[K     |███████████████████████████████▍| 440 kB 9.0 MB/s eta 0:00:01\r\u001b[K     |████████████████████████████████| 448 kB 9.0 MB/s \n",
            "\u001b[?25hRequirement already satisfied: typing-extensions in /usr/local/lib/python3.7/dist-packages (from JPype1) (3.7.4.3)\n",
            "Installing collected packages: JPype1\n",
            "Successfully installed JPype1-1.3.0\n"
          ],
          "name": "stdout"
        }
      ]
    },
    {
      "cell_type": "code",
      "metadata": {
        "colab": {
          "base_uri": "https://localhost:8080/"
        },
        "id": "8j3QNJZyhI5v",
        "outputId": "a442351c-272c-4ab0-dd42-4079aead4636"
      },
      "source": [
        "# RHINO 설치\n",
        "!pip install rhinoMorph"
      ],
      "execution_count": null,
      "outputs": [
        {
          "output_type": "stream",
          "text": [
            "Collecting rhinoMorph\n",
            "  Downloading rhinoMorph-3.8.0.0-py3-none-any.whl (3.0 MB)\n",
            "\u001b[K     |████████████████████████████████| 3.0 MB 13.0 MB/s \n",
            "\u001b[?25hInstalling collected packages: rhinoMorph\n",
            "Successfully installed rhinoMorph-3.8.0.0\n"
          ],
          "name": "stdout"
        }
      ]
    },
    {
      "cell_type": "code",
      "metadata": {
        "colab": {
          "base_uri": "https://localhost:8080/"
        },
        "id": "CAfikoGYhOaR",
        "outputId": "5533d99f-b07f-426b-be7c-055c65823ba9"
      },
      "source": [
        "# RHINO 시작\n",
        "import rhinoMorph\n",
        "rn = rhinoMorph.startRhino()"
      ],
      "execution_count": null,
      "outputs": [
        {
          "output_type": "stream",
          "text": [
            "filepath:  /usr/local/lib/python3.7/dist-packages\n",
            "classpath:  /usr/local/lib/python3.7/dist-packages/rhinoMorph/lib/rhino.jar\n",
            "RHINO started!\n"
          ],
          "name": "stdout"
        }
      ]
    },
    {
      "cell_type": "markdown",
      "metadata": {
        "id": "geOg7i_zrlII"
      },
      "source": [
        "## 구글 드라이브 연결"
      ]
    },
    {
      "cell_type": "code",
      "metadata": {
        "colab": {
          "base_uri": "https://localhost:8080/"
        },
        "id": "3_4SbMwHilkb",
        "outputId": "8b95fa6e-621d-437e-ef24-82c69e5bc26c"
      },
      "source": [
        "from google.colab import drive\n",
        "drive.mount('/content/gdrive', force_remount=True)"
      ],
      "execution_count": null,
      "outputs": [
        {
          "output_type": "stream",
          "text": [
            "Mounted at /content/gdrive\n"
          ],
          "name": "stdout"
        }
      ]
    },
    {
      "cell_type": "code",
      "metadata": {
        "id": "3jQ34kJxi8Nh"
      },
      "source": [
        "!cp -r /content/gdrive/MyDrive/BigLeaderAI/자연어처리 /content/"
      ],
      "execution_count": null,
      "outputs": []
    },
    {
      "cell_type": "code",
      "metadata": {
        "colab": {
          "base_uri": "https://localhost:8080/"
        },
        "id": "PGugUrsJ5COo",
        "outputId": "712c71d6-02ef-4ed5-b3f8-c73db34ee30d"
      },
      "source": [
        "%cd /content/gdrive/MyDrive/BigLeaderAI/자연어처리/pytest/"
      ],
      "execution_count": null,
      "outputs": [
        {
          "output_type": "stream",
          "text": [
            "/content/gdrive/MyDrive/BigLeaderAI/자연어처리/pytest\n"
          ],
          "name": "stdout"
        }
      ]
    },
    {
      "cell_type": "markdown",
      "metadata": {
        "id": "57jTbAl9rqsG"
      },
      "source": [
        "## Colab 폰트 설정"
      ]
    },
    {
      "cell_type": "code",
      "metadata": {
        "colab": {
          "base_uri": "https://localhost:8080/"
        },
        "id": "VBNp6q7YjFPl",
        "outputId": "d40092ee-37d3-47a0-c5fb-047281b582ca"
      },
      "source": [
        "import matplotlib as mpl\n",
        "import matplotlib.pyplot as plt\n",
        "%config InlineBackend.figure_format = 'retina' # 폰트가 깨끗하게 보이도록 설정\n",
        "\n",
        "!apt install fonts-nanum # 나눔 폰트 설치\n",
        "\n",
        "import matplotlib.font_manager as fm\n",
        "fontpath = '/usr/share/fonts/truetype/nanum/NanumMyeongjo.ttf'\n",
        "font = fm.FontProperties(fname=fontpath, size=9)\n",
        "\n",
        "# 기본 글꼴 변경\n",
        "import matplotlib as mpl\n",
        "mpl.font_manager._rebuild()\n",
        "mpl.pyplot.rc('font', family='NanumMyeongjo')\n",
        "\n",
        "#런타임 > 런타임 다시 시작 수행 후 다시 진행"
      ],
      "execution_count": null,
      "outputs": [
        {
          "output_type": "stream",
          "text": [
            "Reading package lists... Done\n",
            "Building dependency tree       \n",
            "Reading state information... Done\n",
            "The following NEW packages will be installed:\n",
            "  fonts-nanum\n",
            "0 upgraded, 1 newly installed, 0 to remove and 80 not upgraded.\n",
            "Need to get 9,604 kB of archives.\n",
            "After this operation, 29.5 MB of additional disk space will be used.\n",
            "Get:1 http://archive.ubuntu.com/ubuntu bionic/universe amd64 fonts-nanum all 20170925-1 [9,604 kB]\n",
            "Fetched 9,604 kB in 2s (5,573 kB/s)\n",
            "Selecting previously unselected package fonts-nanum.\n",
            "(Reading database ... 161413 files and directories currently installed.)\n",
            "Preparing to unpack .../fonts-nanum_20170925-1_all.deb ...\n",
            "Unpacking fonts-nanum (20170925-1) ...\n",
            "Setting up fonts-nanum (20170925-1) ...\n",
            "Processing triggers for fontconfig (2.12.6-0ubuntu2) ...\n"
          ],
          "name": "stdout"
        }
      ]
    },
    {
      "cell_type": "markdown",
      "metadata": {
        "id": "1P150PO5oHMX"
      },
      "source": [
        "# 데이터 로딩"
      ]
    },
    {
      "cell_type": "code",
      "metadata": {
        "id": "V6Yl9bclmeyQ"
      },
      "source": [
        "# 읽기 함수 정의\n",
        "def read_data(filename, encoding='cp949', start_line=1) :\n",
        "  with open(filename, 'r', encoding=encoding) as f :\n",
        "    data = [line.split('\\t') for line in f.read().splitlines()]\n",
        "    data = data[start_line:]\n",
        "  return data\n",
        "\n",
        "#쓰기 함수도 정의\n",
        "def write_data(data, filename, encoding='cp949') :\n",
        "  with open(filename, 'w', encoding=encoding) as f :\n",
        "    f.write(data)"
      ],
      "execution_count": null,
      "outputs": []
    },
    {
      "cell_type": "code",
      "metadata": {
        "id": "f0TrAio8rzKa"
      },
      "source": [
        "# 전체파일은 ratings.txt\n",
        "data = read_data('ratings_small.txt') # 상대 경로"
      ],
      "execution_count": null,
      "outputs": []
    },
    {
      "cell_type": "markdown",
      "metadata": {
        "id": "3CweSb-9sUZs"
      },
      "source": [
        "# 데이터 확인"
      ]
    },
    {
      "cell_type": "code",
      "metadata": {
        "colab": {
          "base_uri": "https://localhost:8080/"
        },
        "id": "X5ZXRVJRsD8K",
        "outputId": "a36051d9-6148-41b8-eaab-fb22ab750bd2"
      },
      "source": [
        "print(len(data))\n",
        "print(len(data[0]))\n",
        "print(data[0])\n",
        "print(data[0:3])"
      ],
      "execution_count": null,
      "outputs": [
        {
          "output_type": "stream",
          "text": [
            "500\n",
            "3\n",
            "['8112052', '어릴때보고 지금다시봐도 재밌어요ㅋㅋ', '1']\n",
            "[['8112052', '어릴때보고 지금다시봐도 재밌어요ㅋㅋ', '1'], ['8132799', '\"디자인을 배우는 학생으로, 외국디자이너와 그들이 일군 전통을 통해 발전해가는 문화산업이 부러웠는데. 사실 우리나라에서도 그 어려운시절에 끝까지 열정을 지킨 노라노 같은 전통이있어 저와 같은 사람들이 꿈을 꾸고 이뤄나갈 수 있다는 것에 감사합니다.\"', '1'], ['4655635', '폴리스스토리 시리즈는 1부터 뉴까지 버릴께 하나도 없음.. 최고.', '1']]\n"
          ],
          "name": "stdout"
        }
      ]
    },
    {
      "cell_type": "markdown",
      "metadata": {
        "id": "9rC-vSP1s7qQ"
      },
      "source": [
        "# 전체 데이터 형태소 분석"
      ]
    },
    {
      "cell_type": "code",
      "metadata": {
        "colab": {
          "base_uri": "https://localhost:8080/"
        },
        "id": "6kBvnVTfsbUt",
        "outputId": "3645cceb-3d33-4d89-a57b-946452bea227"
      },
      "source": [
        "import rhinoMorph\n",
        "rn = rhinoMorph.startRhino()\n",
        "\n",
        "morphed_data = ''\n",
        "for data_each in data :\n",
        "  morphed_data_each = rhinoMorph.onlyMorph_list(\n",
        "      rn, data_each[1], pos = ['NNG', 'NNP', 'VV', 'VA', 'XR', 'IC', 'MM', 'MAG', 'MAJ'])\n",
        "  joined_data_each = ' '.join(morphed_data_each)\n",
        "  if joined_data_each :\n",
        "    morphed_data += data_each[0]+'\\t'+joined_data_each+'\\t'+data_each[2]+'\\n'\n",
        "\n",
        "# 형태소 분석된 파일 저장\n",
        "write_data(morphed_data, 'ratings_morphed.txt')"
      ],
      "execution_count": null,
      "outputs": [
        {
          "output_type": "stream",
          "text": [
            "filepath:  /usr/local/lib/python3.7/dist-packages\n",
            "classpath:  /usr/local/lib/python3.7/dist-packages/rhinoMorph/lib/rhino.jar\n",
            "JVM is already started~\n",
            "RHINO started!\n"
          ],
          "name": "stdout"
        }
      ]
    },
    {
      "cell_type": "markdown",
      "metadata": {
        "id": "NRInp4jMvQ1S"
      },
      "source": [
        "# 분석된 데이터 로딩"
      ]
    },
    {
      "cell_type": "code",
      "metadata": {
        "colab": {
          "base_uri": "https://localhost:8080/"
        },
        "id": "37NUNYfPu81m",
        "outputId": "42c58db2-583e-45b8-e61d-23f9dcc9d97d"
      },
      "source": [
        "data = read_data('ratings_morphed.txt', start_line=0)\n",
        "print(len(data))\n",
        "print(len(data[0]))\n",
        "\n",
        "texts = [line[1] for line in data] # 데이터의 본문\n",
        "labels = [line[2] for line in data] # 데이터의 긍부정 (1:긍정, 0:부정)"
      ],
      "execution_count": null,
      "outputs": [
        {
          "output_type": "stream",
          "text": [
            "495\n",
            "3\n"
          ],
          "name": "stdout"
        }
      ]
    },
    {
      "cell_type": "markdown",
      "metadata": {
        "id": "f4ipK6_wztPZ"
      },
      "source": [
        "# Data 확인"
      ]
    },
    {
      "cell_type": "code",
      "metadata": {
        "colab": {
          "base_uri": "https://localhost:8080/"
        },
        "id": "2bUB1jSmvSs7",
        "outputId": "95c3917a-152e-44f3-9cd3-9f9847cc248e"
      },
      "source": [
        "print('texts 0 : ', texts[0])\n",
        "print('texts len : ', len(texts))\n",
        "\n",
        "print('labels 0 : ', labels[0])\n",
        "print('labels len : ', len(labels))\n",
        "\n",
        "print('texts type : ', type(texts))"
      ],
      "execution_count": null,
      "outputs": [
        {
          "output_type": "stream",
          "text": [
            "texts 0 :  어리 때 보 지금 다시 보 재미있 ㅋㅋ\n",
            "texts len :  495\n",
            "labels 0 :  1\n",
            "labels len :  495\n",
            "texts type :  <class 'list'>\n"
          ],
          "name": "stdout"
        }
      ]
    },
    {
      "cell_type": "markdown",
      "metadata": {
        "id": "ii_s8maV0ipy"
      },
      "source": [
        "# Data Tokenizing\n",
        "\n",
        "* 텍스트에 사용된 단어의 종류를 빈도 순으로 정렬하는 작업을 수행한다."
      ]
    },
    {
      "cell_type": "code",
      "metadata": {
        "id": "KeXmjsFEytLY"
      },
      "source": [
        "%tensorflow_version 2.x\n",
        "from keras.preprocessing.text import Tokenizer\n",
        "from keras.preprocessing.sequence import pad_sequences\n",
        "import numpy as np\n",
        "import math\n",
        "\n",
        "validation_ratio = math.floor(len(texts) * 0.3) # validation 생성\n",
        "max_words = 10000 # 데이터셋에서 가장 빈도가 높은 9,999개의 단어만 사용한다. 남은 1개는 padding 0을 위해 남겨놓음\n",
        "maxlen = 100 # 항상 각 문장의 길이가 200 단어가 되도록 고정\n",
        "\n",
        "tokenizer = Tokenizer(num_words=max_words) # 상위빈도 max_words 개의 단어를 추려내는 Tokenizer 객체 생성\n",
        "tokenizer.fit_on_texts(texts) # texts 내용에 대한 단어 인덱스를 구축한다. 사용할 단어가 결정된다.\n",
        "word_index = tokenizer.word_index # 단어와 인덱스의 쌍을 가져온다."
      ],
      "execution_count": null,
      "outputs": []
    },
    {
      "cell_type": "markdown",
      "metadata": {
        "id": "m3xZ8FeM0yh9"
      },
      "source": [
        "# Tokenizing 결과 확인"
      ]
    },
    {
      "cell_type": "code",
      "metadata": {
        "colab": {
          "base_uri": "https://localhost:8080/"
        },
        "id": "D6hHAlte0vcg",
        "outputId": "0b8c06d2-36ba-483a-bede-f85385e42da9"
      },
      "source": [
        "print('전체에서 %s개의 고유한 토큰을 찾았습니다.'%len(word_index))\n",
        "print('word_index type: ', type(word_index))\n",
        "print('word_index: ', word_index)"
      ],
      "execution_count": null,
      "outputs": [
        {
          "output_type": "stream",
          "text": [
            "전체에서 1750개의 고유한 토큰을 찾았습니다.\n",
            "word_index type:  <class 'dict'>\n",
            "word_index:  {'영화': 1, '보': 2, '하': 3, '없': 4, 'ㅋㅋ': 5, '정말': 6, '너무': 7, '있': 8, '좋': 9, '재미있': 10, '되': 11, '진짜': 12, '연기': 13, '같': 14, '말': 15, '만들': 16, '왜': 17, '다': 18, '최고': 19, 'ㅋ': 20, '잘': 21, '때': 22, '나오': 23, '사람': 24, '아깝': 25, '안': 26, '감동': 27, '평점': 28, '모르': 29, '이': 30, '재미': 31, '이런': 32, '알': 33, '드라마': 34, '다시': 35, '배우': 36, '그': 37, '가': 38, 'ㅠ': 39, '한국': 40, '스토리': 41, '재미없': 42, '생각': 43, '시간': 44, '내용': 45, '못': 46, '더': 47, '주': 48, '마음': 49, 'ㅠㅠ': 50, '감독': 51, '이쁘': 52, '지금': 53, '대하': 54, '명작': 55, '아': 56, '내내': 57, 'ㅎㅎ': 58, '처음': 59, '그런': 60, '좋아하': 61, '전': 62, 'ㅡㅡ': 63, '웃기': 64, '주인공': 65, '돈': 66, '지루': 67, '완전': 68, '굿': 69, '작품': 70, '장면': 71, '남자': 72, '액션': 73, '무슨': 74, '수': 75, '많': 76, '원작': 77, '10점': 78, '최악': 79, '끝': 80, '와': 81, '일본': 82, '남': 83, '그렇': 84, '그냥': 85, 'ㅎ': 86, '받': 87, '인생': 88, '쓰레기': 89, '참': 90, '짱': 91, '잼': 92, '들': 93, '답답': 94, '사실': 95, '생각하': 96, '웃': 97, '공포': 98, '소재': 99, '빠지': 100, '역시': 101, '못하': 102, '마지막': 103, '어떻하': 104, '또': 105, '많이': 106, '기대': 107, '얼굴': 108, '정도': 109, '결말': 110, '별로': 111, '당시': 112, '좀': 113, '이것': 114, '연출': 115, '어리': 116, '사랑': 117, '없이': 118, '씬': 119, '시대': 120, '꼭': 121, '아름답': 122, '속': 123, '일': 124, '한': 125, '느낌': 126, '이야기': 127, '그리고': 128, '살': 129, '오': 130, '보이': 131, '가지': 132, '대박': 133, '자신': 134, '웃음': 135, '만점': 136, '별': 137, '억지': 138, '찍': 139, '길': 140, '개연성': 141, '엉성': 142, '우리나라': 143, '몰입': 144, '바보': 145, '귀엽': 146, '어쩌': 147, '더욱': 148, '잠': 149, '자': 150, '영상': 151, '슬프': 152, '기억': 153, '안되': 154, '친구': 155, '제발': 156, '강추': 157, '두': 158, '모두': 159, 'ㄷㄷ': 160, '티비': 161, '음악': 162, '따뜻하': 163, '싫': 164, '비하': 165, '눈물': 166, '가족': 167, '음': 168, '계속': 169, '줄': 170, '이름': 171, '지': 172, '반': 173, '개인적': 174, '함께': 175, '코미디': 176, '기분': 177, '울': 178, '날': 179, '엔딩': 180, '저': 181, '잇': 182, 'ㅜㅜ': 183, '맞': 184, '소녀': 185, '특히': 186, '늦': 187, '높': 188, '막장': 189, '허': 190, '각본': 191, '수준': 192, '애': 193, '유치': 194, '귀신': 195, '여자': 196, '신기': 197, '장애우': 198, '노잼': 199, '경찰': 200, '시방': 201, '어렵': 202, '시절': 203, '지키': 204, '이루': 205, '그래': 206, '뜨': 207, '전쟁': 208, '감정': 209, '반전': 210, '낮': 211, '긴장감': 212, '느끼': 213, '갈수록': 214, '어': 215, '제대로': 216, '범죄': 217, '사랑하': 218, '그저': 219, '잊': 220, '한번': 221, '짓': 222, '여러': 223, '동안': 224, '어울리': 225, '대체': 226, '마치': 227, '흥미진진': 228, '집': 229, '인정': 230, '년': 231, '요즘': 232, '아이돌': 233, '뻔하': 234, '캐릭터': 235, '매력': 236, '이제': 237, '훌륭': 238, '떨어지': 239, '너무너무': 240, '굳': 241, '아침': 242, '행복': 243, '찾': 244, '요': 245, '대단': 246, '일단': 247, 'ㅇ': 248, '드리': 249, '욕': 250, '빨리': 251, '장르': 252, '정치': 253, '굉장히': 254, '표현': 255, '연기자': 256, '한마디': 257, '엇': 258, '초반': 259, '황당': 260, '진지': 261, '차': 262, '시나리오': 263, '마': 264, '노래': 265, '품': 266, '인': 267, '그렇게': 268, '찾아보': 269, '추천': 270, '얼마나': 271, '멋지': 272, 'ㅡ': 273, '신': 274, '개봉': 275, '필요': 276, '놓': 277, '무협': 278, '아직': 279, '역': 280, '판': 281, '야하': 282, '여주': 283, '에': 284, '가장': 285, '작': 286, '필름': 287, '내가': 288, '폭풍': 289, '집중': 290, '분': 291, '거의': 292, '알바': 293, '졸작': 294, '볼만하': 295, '이상': 296, '접하': 297, '작가': 298, '갓': 299, '전범': 300, '죽이': 301, '가짜': 302, 'tv': 303, '심하': 304, '일본인': 305, '질질': 306, '짜증나': 307, '짜증': 308, '위하': 309, '출연': 310, 'ㄱ': 311, '헉': 312, '설리': 313, '망하': 314, '이렇게': 315, '답': 316, '말리': 317, '어느': 318, '간': 319, '모든': 320, '아주': 321, '영차': 322, '학생': 323, '외국': 324, '전통': 325, '통하': 326, '문화': 327, '꿈': 328, '나가': 329, '병': 330, '감동적': 331, '하지만': 332, '훗날': 333, '대사': 334, '무': 335, '평': 336, '생생': 337, '전하': 338, '수작': 339, '임팩트': 340, '오랜만': 341, '밤': 342, '션': 343, '용서': 344, '비판': 345, '아역': 346, '영원히': 347, '인간': 348, '여운': 349, '실화': 350, '일어나': 351, '서': 352, '가치': 353, '이정재': 354, '우정': 355, '매우': 356, '미소': 357, '젤': 358, '어린': 359, '세우': 360, '사라지': 361, '여배우': 362, '본': 363, '라': 364, '격투': 365, '걍': 366, '대한민국': 367, '비': 368, '시작': 369, '매력적': 370, '재밌게': 371, '후회': 372, '영상미': 373, '잔잔': 374, '감탄': 375, '왠': 376, '헐': 377, '흘리': 378, '사명감': 379, '아기': 380, '첫': 381, '바로': 382, '졸리': 383, '우연히': 384, '돌리': 385, '아프': 386, '트': 387, '배경음악': 388, '탄탄': 389, '제목': 390, '가을': 391, '벌써': 392, '안타깝': 393, '양심': 394, '비슷': 395, '릴': 396, '상': 397, '모으': 398, '청소년': 399, '멋있': 400, '재밌': 401, '세기': 402, '기다리': 403, '성룡': 404, '마이': 405, '원': 406, '죽': 407, '나': 408, '힘들': 409, '훨씬': 410, '인도': 411, '순수': 412, '아련': 413, '지내': 414, '모습': 415, '터': 416, '옷': 417, '입': 418, '괜찮': 419, '딱': 420, '빠져들': 421, '크리스틴': 422, '전혀': 423, '남편': 424, '뮤지컬': 425, '괜히': 426, '과': 427, '실력': 428, '그래도': 429, '바비': 430, '옛날': 431, '소리': 432, '더빙': 433, '뒤': 434, '영': 435, '노': 436, '바뀌': 437, '올리': 438, '신념': 439, '다만': 440, '배심원': 441, '연설': 442, '이민호': 443, '단순': 444, '함': 445, '안보': 446, '류승범': 447, '즐겁': 448, '등장인물': 449, '무척': 450, '엄마': 451, '아쉽': 452, '정부': 453, '의지': 454, '으': 455, '연출력': 456, '사이코': 457, 'ㄷ': 458, '아이': 459, '알맞': 460, '자리': 461, '연속': 462, '코드': 463, '짜임새': 464, '적절': 465, '바라': 466, '나중': 467, '잘하': 468, '동화': 469, '녀': 470, '의문': 471, '아픔': 472, '그러': 473, '이유': 474, '고': 475, '소중': 476, '무당': 477, '코': 478, '부분': 479, '주연': 480, '열': 481, '나쁘': 482, '모슬렘': 483, '신고': 484, '미국': 485, '틀': 486, '난리': 487, '람보': 488, '아빠': 489, '따': 490, '그리하': 491, '후': 492, '부실': 493, '뭘': 494, '어이없': 495, '맨': 496, '중국': 497, '견자': 498, '잃': 499, '역사': 500, '어제': 501, '자서': 502, '드러나': 503, '욕하': 504, '밋밋': 505, '세상에': 506, '극장': 507, '만화': 508, '빼': 509, '막판': 510, '낚이': 511, '부족': 512, '끈': 513, '성인': 514, '피': 515, '기': 516, '낫': 517, '점점': 518, '존나': 519, '어떻': 520, '딸': 521, '포스터': 522, '교': 523, '억지로': 524, '결국': 525, '하나같이': 526, '걸리': 527, '점수': 528, '평이': 529, '말자': 530, '명성': 531, '글': 532, '문제': 533, '실감': 534, '끄': 535, '티': 536, '치': 537, '차라리': 538, '박흥식': 539, '저질': 540, '야': 541, '더럽': 542, '의': 543, '갑자기': 544, '극': 545, '기법': 546, 'ㅉㅉ': 547, '영화관': 548, '뭐야': 549, '편집': 550, '강성재': 551, '잡': 552, '보지': 553, '낭비': 554, '정도전': 555, '입장': 556, '아들': 557, '엉망': 558, '멍청': 559, '보안관': 560, '힐즈': 561, '강우': 562, '달리': 563, '하모': 564, '미치': 565, '심사': 566, '조반니': 567, '전개': 568, '쓰': 569, '아동': 570, '금': 571, '정극': 572, '조니뎁': 573, '디자인': 574, '디자이너': 575, '일구': 576, '발전': 577, '산업': 578, '부럽': 579, '열정': 580, '노라노': 581, '꾸': 582, '감사': 583, '폴리스스토리': 584, '시리즈': 585, '뉴': 586, '쩔': 587, '안개': 588, '자욱': 589, '밤하늘': 590, '초승달': 591, '해보': 592, '개들': 593, '1빠': 594, '나이': 595, '하나하나': 596, '완벽': 597, '이해하': 598, '고질라': 599, '오페라': 600, '극단적': 601, '갈리': 602, '스릴감': 603, '전장': 604, '네고시에이터': 605, '아무런': 606, '관련': 607, '단연': 608, '밀회': 609, '화이팅': 610, '상당': 611, '강렬': 612, '일품': 613, '스릴러': 614, '때가': 615, '도': 616, '마디': 617, '꺼내': 618, '벅차': 619, '설치': 620, '교복': 621, '볼펜': 622, '자국': 623, '미처': 624, '형태': 625, '강압적': 626, '세뇌': 627, '중세': 628, '이러하': 629, '존재': 630, '죽기': 631, '제니퍼': 632, '코넬리': 633, '눈부시': 634, '로버트': 635, '드니로': 636, '가슴속': 637, '저런': 638, '는지': 639, '화나': 640, '잠재': 641, '악마': 642, '공간': 643, '존속': 644, '다큐': 645, '엉뚱': 646, '광적': 647, '재현': 648, '쉬': 649, '틈틈이': 650, '줄이': 651, '충격': 652, '경각심': 653, '일깨우': 654, '존': 655, '그라': 656, '샴': 657, '농아': 658, '인문': 659, '이범수': 660, '해라': 661, '제이크': 662, '질렌할': 663, '입가': 664, '샤방샤방': 665, '원표': 666, '조연': 667, '이양': 668, '바다': 669, '아쿠아리움': 670, '들어가': 671, '자녀': 672, '정의': 673, '콜트': 674, '노동자': 675, '브라질': 676, '울리': 677, '도법': 678, '멤버': 679, '겁나': 680, '워낙': 681, '스마트': 682, '암살': 683, '하여튼': 684, '북한': 685, '목숨': 686, '걸': 687, '납득': 688, '나불거리': 689, '종북': 690, '박평식': 691, '내리': 692, '반갑': 693, '여주인공': 694, '유쾌하': 695, '해먹': 696, '탱고': 697, '밀려오': 698, '평생': 699, '영순위': 700, '상당히': 701, '신동엽': 702, '순간': 703, '캐치': 704, '탁': 705, '얄밉': 706, '미워하': 707, '이영자': 708, '이동욱': 709, '전작': 710, '다소': 711, '진부': 712, '사발': 713, '신부': 714, '처절히': 715, '실천': 716, '제리': 717, '부정': 718, '로키': 719, '원주율': 720, '메이커': 721, '추석': 722, '특선': 723, '선택하': 724, '조합': 725, '어머니': 726, '드래곤볼': 727, '에볼루션': 728, 'ㅇㅇ': 729, '예능': 730, '방학': 731, '눈': 732, '비비': 733, '채널': 734, '엔': 735, '권력': 736, '의리': 737, '역사적': 738, '깨우치': 739, '초롱': 740, '팬': 741, '심': 742, '달달': 743, '보고': 744, '중간': 745, '본방': 746, '사수': 747, '요새': 748, '향': 749, '챙기': 750, '화질': 751, '퀄리티': 752, '중': 753, '장국영': 754, '자살': 755, '사실적': 756, '극적': 757, '예전': 758, '곱': 759, '움찔': 760, '부탁': 761, '연': 762, '폭력': 763, '걱정': 764, '저어': 765, '성추행': 766, '목격': 767, '증언': 768, '덕분': 769, '섹시하': 770, '어설프': 771, '비디오방': 772, '헌데': 773, '오래': 774, '틈': 775, '남기남': 776, '형': 777, '우상': 778, '다니': 779, '매회': 780, '리타': 781, '자꾸': 782, '슬': 783, '죄책감': 784, '크': 785, '이어': 786, '붙이': 787, '묘사': 788, '흥행': 789, '절대': 790, '디테일': 791, '따봉': 792, '달': 793, '파고들': 794, '성격': 795, '다음': 796, '설정': 797, '점차': 798, '판타지': 799, '미래': 800, '현실': 801, '언론': 802, '탄압': 803, '은유': 804, '오카다': 805, '준이치': 806, '예상': 807, '의외': 808, '꽉': 809, '다그': 810, '허정무': 811, '대신': 812, '장외': 813, '룡': 814, '국대': 815, '고고싱': 816, '어찌': 817, '인가': 818, '보조개': 819, '에니메이션': 820, '최고봉': 821, '초딩': 822, '비포': 823, '미드': 824, '나잇': 825, '떠나보내': 826, '심정': 827, '또한': 828, '한편': 829, '절로': 830, '코스케': 831, '디': 832, '임진강': 833, '부': 834, '멈추': 835, '한석규': 836, '허니': 837, '재': 838, '꿀잼': 839, '개꿀잼': 840, '셈': 841, '한예슬': 842, '미탄': 843, '헤어': 844, '메이크업': 845, '드라': 846, '만하': 847, '훈남': 848, '쉐프': 849, '요리': 850, '도배': 851, '우고': 852, '팬텀': 853, '일반': 854, '곁': 855, '돌아가': 856, '라면': 857, '아쉬움': 858, '알파치노': 859, '명화': 860, '태어나': 861, '역대': 862, '위': 863, '대부': 864, '바람': 865, '레벨': 866, '잭': 867, '마돈나': 868, '엘비스': 869, '급': 870, '춤': 871, '바비도': 872, '바스코': 873, '이번': 874, '결과': 875, '불만': 876, '어쩌면': 877, '당연': 878, '깎아내리': 879, '까': 880, '충분히': 881, '이기': 882, '자격': 883, '사극': 884, '장혁': 885, '명품': 886, '온': 887, '마련': 888, '이사': 889, '그날': 890, '저녁': 891, '탓': 892, '워낭': 893, '자막': 894, '한데': 895, '포': 896, '연말': 897, '사회': 898, '치부': 899, '정확': 900, '예언': 901, '찐': 902, '엣': 903, '제일': 904, '슈퍼': 905, '울트라': 906, '초': 907, '막': 908, '벌리': 909, '중동': 910, '새롭': 911, '참여': 912, '궁금하': 913, '지루하': 914, '아버지이': 915, '무사': 916, '일생': 917, '의미': 918, '죽음': 919, '일지': 920, '물결': 921, '상대': 922, '늘어놓': 923, '일장': 924, '작위적': 925, '신파조': 926, '흔들리': 927, '무죄': 928, '돌': 929, '애정': 930, '어떤': 931, '멜로': 932, '최영': 933, '장군': 934, '안치환': 935, '방향': 936, '묻': 937, '생각나': 938, '스토리지': 939, '엿보이': 940, '걸작': 941, 'ㅁ': 942, '오스트레일리아': 943, '조금': 944, '프랑스': 945, '떠돌': 946, '심장': 947, '쫄깃': 948, '웰메이드': 949, '물': 950, '황정민': 951, '기쁘': 952, '깔끔': 953, '절제': 954, '소설가': 955, '운전': 956, '맥거핀': 957, '아이맥스': 958, '선택': 959, '스타일': 960, '무능': 961, '국민': 962, '참신': 963, '퀘벡': 964, '은거': 965, '것': 966, '우와': 967, '호킹': 968, '능욕': 969, '누': 970, '보통': 971, '특유': 972, '돋보이': 973, '이정현': 974, '현실적': 975, '독특': 976, '전형적': 977, '부르': 978, '손': 979, '욕망': 980, '명대사': 981, '똥칠': 982, '블레이드러너': 983, '버금가': 984, '결코': 985, '떠오르': 986, '특별': 987, '정일우': 988, '상투적': 989, '존경': 990, '반지': 991, '제왕': 992, '피터': 993, '잭슨': 994, '봄': 995, '물론': 996, '감독판': 997, '캬': 998, '추억': 999, '아버지': 1000, '녹화': 1001, '넘': 1002, '리메이크': 1003, '런': 1004, '보너스': 1005, '보신': 1006, '만화영화': 1007, '귀수': 1008, '아군': 1009, '첫사랑': 1010, '설레임': 1011, '그대로': 1012, '관람': 1013, '향수': 1014, '맡아보': 1015, '김민선': 1016, '김규리': 1017, '여신': 1018, '미모': 1019, '성': 1020, '힐링': 1021, '무비': 1022, '앉': 1023, '질리': 1024, '외계인': 1025, '신분': 1026, '맥라이언': 1027, '애니': 1028, '지도': 1029, '사회상': 1030, '반영': 1031, '러브': 1032, '모드': 1033, '점': 1034, '여행': 1035, '빠트리': 1036, '고소': 1037, '방송': 1038, '털털': 1039, '인간적': 1040, '실제로': 1041, '입문': 1042, '펼치': 1043, '가연': 1044, '이물감': 1045, '시': 1046, '가족애': 1047, '주제': 1048, '배': 1049, '급사': 1050, '정신': 1051, '차리': 1052, '싸이코': 1053, '패스': 1054, '안인숙': 1055, '다우': 1056, '넘넘': 1057, '조각': 1058, '여유': 1059, '로': 1060, '일요일': 1061, '오후': 1062, '나른': 1063, '세계': 1064, '포근': 1065, '스타워즈': 1066, '쌍': 1067, '탑': 1068, '아무리': 1069, '백날': 1070, '말해': 1071, '백문': 1072, '불여일견': 1073, '볼': 1074, '강하': 1075, '중의': 1076, '알콜': 1077, '중독': 1078, '겉보기': 1079, '안정적': 1080, '채': 1081, '수없': 1082, '공허': 1083, '외로움': 1084, '술': 1085, '괴롭': 1086, '삶': 1087, '내생': 1088, '눈동자': 1089, '허준': 1090, '모래시계': 1091, '황금': 1092, '의제': 1093, '국': 1094, '인하': 1095, '규모': 1096, '사업가': 1097, '집안': 1098, '갈등': 1099, '서로': 1100, '원수': 1101, '바꾸': 1102, '낡': 1103, '방': 1104, '골고루': 1105, '해외': 1106, '수니': 1107, '원하': 1108, '앗': 1109, '따듯': 1110, '앞': 1111, '윤': 1112, '아여': 1113, '신이': 1114, '영원': 1115, '운': 1116, '잘못': 1117, '박한': 1118, '조안': 1119, '몸매': 1120, '살아가': 1121, '짠하': 1122, '멋': 1123, '쥐': 1124, '목소리': 1125, '간직': 1126, '보내': 1127, '도리': 1128, '글쎄': 1129, '알라': 1130, '미움': 1131, '가르침': 1132, '애국': 1133, '시민': 1134, '폄하': 1135, '교회': 1136, '반성해': 1137, '진정': 1138, '기독교인': 1139, '이리하': 1140, '행운': 1141, '크레딧': 1142, '끝나': 1143, '발견': 1144, '목록': 1145, '잔잔하': 1146, '배경': 1147, '휴식': 1148, '켜': 1149, '터미네이터': 1150, '맥클레인': 1151, '얘기': 1152, '확실': 1153, 'mb': 1154, '혼자': 1155, '올해': 1156, '짱짱': 1157, '눈빛': 1158, '생동감': 1159, '넘치': 1160, '몸짓': 1161, '발짓': 1162, '하다못해': 1163, '강아지': 1164, '토토': 1165, '흐름': 1166, '희망': 1167, '기쁨': 1168, '슬픔': 1169, '비극적': 1170, '동전': 1171, '양면': 1172, '지닌': 1173, '다주': 1174, '매일': 1175, '파렴치한': 1176, '어거지': 1177, '그만': 1178, '넣': 1179, '욕심': 1180, '낳': 1181, '욕보이': 1182, '카': 1183, '쿄': 1184, '부풀': 1185, '이상대': 1186, '엄정화': 1187, '도대체': 1188, '인지': 1189, '뇌': 1190, '마르': 1191, '간만': 1192, '형편': 1193, '행동': 1194, '불편': 1195, '연기력': 1196, '토': 1197, '아이언': 1198, '벗어나': 1199, '어휴': 1200, '유명': 1201, '은퇴': 1202, '파랑': 1203, '포스': 1204, '햇님': 1205, '멀리서': 1206, '괴물': 1207, '뒤태': 1208, '양': 1209, '빛': 1210, '연상': 1211, '대작': 1212, '운영': 1213, '강혜정': 1214, '후반부': 1215, '토니': 1216, '스캇': 1217, '지독': 1218, '상투': 1219, '갇히': 1220, '오브': 1221, '따르': 1222, '가랑이': 1223, '찢어지': 1224, '뱁새': 1225, '애초': 1226, '반대성': 1227, '향인': 1228, '망': 1229, '신은': 1230, '제맛': 1231, '제로': 1232, '아이러니': 1233, '뻔뻔': 1234, '끝마무리': 1235, '공산당': 1236, '비호': 1237, '어중간': 1238, '엠': 1239, '비씨': 1240, 'ㅅㅂ': 1241, '오해': 1242, '데리': 1243, '여실히': 1244, '일터': 1245, '일상': 1246, '작업': 1247, '안습': 1248, '공룡': 1249, '둘리': 1250, '게다가': 1251, '인터넷': 1252, '찌라시': 1253, '접': 1254, '부담': 1255, '손해': 1256, '애도': 1257, '헤어지': 1258, '란': 1259, '본사': 1260, '현시대': 1261, '동양': 1262, '이하': 1263, '화려': 1264, '잔뜩': 1265, '허무': 1266, '않': 1267, '남주': 1268, '구해주': 1269, '화교': 1270, '심심': 1271, '끌': 1272, '그동안': 1273, '복수': 1274, '가이': 1275, '천천히': 1276, '목': 1277, '임신부': 1278, '차차': 1279, '무너뜨리': 1280, '교제': 1281, '활용': 1282, '준수': 1283, '박스': 1284, '수면제': 1285, '린': 1286, '놀라': 1287, '히로시마': 1288, '상공': 1289, '리틀': 1290, '떨어뜨리': 1291, '낭만적': 1292, '여기': 1293, 'ㅜ': 1294, '로더': 1295, '게스트': 1296, '휘동': 1297, '오늘': 1298, '클라라': 1299, '프로': 1300, '망치': 1301, '하하': 1302, '너도나도': 1303, '난잡': 1304, '스시': 1305, '확실히': 1306, '죄다': 1307, '창': 1308, '생기': 1309, 'ㄹ': 1310, '맛나': 1311, '한듬': 1312, '성형': 1313, '부작용': 1314, '고도': 1315, '안속': 1316, '싣': 1317, '런닝': 1318, '리얼': 1319, '찌': 1320, '당분간': 1321, '일점': 1322, '혜': 1323, '한채영': 1324, '벗': 1325, '의도': 1326, '송중기': 1327, '꾸역꾸역': 1328, '포기': 1329, '도이': 1330, '휴머니즘': 1331, '교훈': 1332, '성우': 1333, '직업': 1334, '할인': 1335, '말아먹': 1336, '금고': 1337, '암': 1338, '어지간': 1339, '제국주의': 1340, '살인마': 1341, '영구': 1342, '씁쓸': 1343, '몸': 1344, '개그': 1345, '총': 1346, '표창': 1347, '빠르': 1348, '장난치': 1349, '허비': 1350, '취향': 1351, '식': 1352, '머저리': 1353, '드럽': 1354, '스포': 1355, '캐': 1356, '뉴스': 1357, '조종사': 1358, '뛰어내리': 1359, '다르': 1360, '다운': 1361, '이어지': 1362, '나래': 1363, '버리': 1364, '긴지': 1365, '속편': 1366, '그렇지': 1367, '확신': 1368, '증거': 1369, '맥': 1370, '극초': 1371, '이끌': 1372, '내기': 1373, '장치': 1374, '그닥': 1375, '상관없': 1376, '분신': 1377, '사바': 1378, '배신': 1379, '특정': 1380, '다른': 1381, '마마보이': 1382, '신비': 1383, '투자': 1384, '제작': 1385, '체크': 1386, '홍보': 1387, '쓰기': 1388, '귀찮': 1389, '댓글': 1390, '경기': 1391, '순': 1392, '거짓말': 1393, '극장가': 1394, '인구': 1395, '모독': 1396, '내시': 1397, '로그인': 1398, '말순': 1399, '배려': 1400, '성희롱': 1401, '인식': 1402, '열받': 1403, '네': 1404, '자식': 1405, '증후군': 1406, '맡기': 1407, '부모': 1408, '핸드폰': 1409, '동영상': 1410, '핵': 1411, '서해주': 1412, '감당': 1413, '비주얼': 1414, '부각': 1415, '세': 1416, '얼': 1417, '내': 1418, '강동원': 1419, '인기': 1420, '얼마': 1421, '나인': 1422, '틴': 1423, '무리수': 1424, '포카혼타스': 1425, '무저갱': 1426, '끌려오': 1427, '다이': 1428, '디즈니사': 1429, '방해': 1430, '호': 1431, '곡': 1432, '새': 1433, '발': 1434, '범': 1435, '학이': 1436, '전개도': 1437, '무난': 1438, '개': 1439, '함정': 1440, '유일하': 1441, '관심': 1442, '무섭': 1443, '쩝': 1444, '싱겁': 1445, '후우': 1446, '흥미': 1447, '판이': 1448, '안재모': 1449, '고풍': 1450, '분위기': 1451, '끌어가': 1452, '공포물': 1453, '약하': 1454, '어는': 1455, '같잖': 1456, '관객': 1457, '우롱': 1458, '별점': 1459, '멍청이': 1460, '사': 1461, '연예': 1462, '한영': 1463, '누구': 1464, '네이버': 1465, '밑': 1466, '낮잠': 1467, '스턴': 1468, '대역': 1469, '뚱': 1470, '땡': 1471, '쿡': 1472, '엥': 1473, '되감기': 1474, '발로': 1475, '웬만하': 1476, '저냥': 1477, '분량': 1478, '늘리': 1479, '급급': 1480, '일주일': 1481, '혹시나': 1482, '깨닫': 1483, '최소': 1484, '자원': 1485, '극치': 1486, '청춘': 1487, '이렇': 1488, '여교사': 1489, '미스': 1490, '캐스팅': 1491, '지나': 1492, '까지': 1493, '자랑': 1494, '뻔': 1495, '함의': 1496, '제한': 1497, '박': 1498, '흐흐흐': 1499, '알리': 1500, '일부러': 1501, '낮추': 1502, '나쁜놈': 1503, '계시': 1504, '조선왕조실록': 1505, '공식': 1506, '기록': 1507, '태종': 1508, '이방원': 1509, '쓰이': 1510, '평가': 1511, '무료': 1512, '딴것': 1513, '오르': 1514, '듣': 1515, '선진국': 1516, '패': 1517, '순위': 1518, '딸래미': 1519, '근데': 1520, '면상': 1521, '분노': 1522, '치미': 1523, '도데체': 1524, '스트라빈스키': 1525, '밝히': 1526, '아까': 1527, '워': 1528, '시디': 1529, '스토리텔링': 1530, '궁금': 1531, '재난': 1532, '모로': 1533, '다이애나': 1534, '전체적': 1535, '부인': 1536, '실종': 1537, '그러면': 1538, '사건': 1539, '전말': 1540, '테': 1541, '잡히': 1542, '재판': 1543, '우습': 1544, '엉덩이': 1545, '그다지': 1546, '어색': 1547, '김': 1548, '싸우': 1549, '집어넣': 1550, '상황': 1551, '퍼': 1552, '중간중간': 1553, '사고': 1554, '다치': 1555, '이식': 1556, '전가': 1557, '세가': 1558, '날개': 1559, '악': 1560, '포장': 1561, '악어': 1562, '골': 1563, '세명': 1564, '은정': 1565, '싸움': 1566, '힘': 1567, '못쓰': 1568, '끌리': 1569, '매번': 1570, '밖': 1571, '뛰어넘': 1572, '고전': 1573, '장땡': 1574, '유일': 1575, '속지': 1576, '그지': 1577, '영화당': 1578, '추리': 1579, '단형': 1580, '탕': 1581, '웨이': 1582, '만족': 1583, '장난하': 1584, '하나님': 1585, '개독': 1586, '양키': 1587, '새끼': 1588, '떡': 1589, '정신병원': 1590, '위험': 1591, '실망': 1592, '도저히': 1593, '좀비': 1594, '나머지': 1595, '전부': 1596, '화': 1597, '방법': 1598, '컨텐츠': 1599, '닿': 1600, '맛': 1601, '이해': 1602, '불가': 1603, '삼류': 1604, '아래': 1605, '지능': 1606, '원숭이': 1607, '왼쪽': 1608, '검': 1609, '내면': 1610, '귀': 1611, '기울이': 1612, '지성': 1613, '에혀': 1614, '파이': 1615, '먹칠': 1616, '솔직히': 1617, '땡칠이': 1618, '날로': 1619, '먹': 1620, '아니야': 1621, '기준': 1622, '리그': 1623, '닥': 1624, '박시환': 1625, '박재정': 1626, '우승': 1627, '후보': 1628, '올라가': 1629, '위원': 1630, '이승철': 1631, '엠넷': 1632, '슈': 1633, '스케': 1634, '조작': 1635, '추노': 1636, '민폐': 1637, '언': 1638, '그럴싸하': 1639, '저급': 1640, '로빈': 1641, '윌리암스': 1642, '한장': 1643, '심형래': 1644, '킬링': 1645, '타임': 1646, '한숨': 1647, '공짜': 1648, '태우': 1649, '뒤집': 1650, '전이': 1651, '사이먼': 1652, '베이커': 1653, '홀리': 1654, '정서': 1655, '유머': 1656, '비추': 1657, '안경': 1658, '끼이': 1659, '시시': 1660, '매니아': 1661, '쓸데없이': 1662, '무겁': 1663, '폼': 1664, '재지': 1665, '학교': 1666, '반올림': 1667, '왕': 1668, '작정': 1669, '후속작': 1670, '착하': 1671, '생략': 1672, '권투': 1673, '전윤수': 1674, '미인도': 1675, '여자아이': 1676, '벗기': 1677, '명백': 1678, '학대': 1679, '출현': 1680, '책임': 1681, '지지': 1682, '어린아이': 1683, '관계': 1684, '어른': 1685, '되돌': 1686, '삐질삐질': 1687, '업로드': 1688, '정말로': 1689, '그린스': 1690, '크린': 1691, '수정': 1692, '홍콩': 1693, '시어스': 1694, '타워': 1695, '가보': 1696, '인단': 1697, '마이클': 1698, '베이': 1699, '대충': 1700, '적당': 1701, '산만': 1702, '오글': 1703, '미국인': 1704, '상업': 1705, '애니메이션': 1706, '해': 1707, '인력': 1708, '피하': 1709, '인류': 1710, '비극': 1711, '세계사': 1712, '오점': 1713, '지구적': 1714, '나라': 1715, '공통적': 1716, '발생': 1717, '현상': 1718, '따라쟁이': 1719, '가늘': 1720, '지우': 1721, '대부분': 1722, '지브리': 1723, '빈약': 1724, '뜬금없': 1725, '요소': 1726, '도무지': 1727, '혁신적': 1728, '클래식': 1729, '촬영': 1730, '거울': 1731, '다중': 1732, '인격': 1733, '킬링타임': 1734, '추가': 1735, '관하': 1736, '코믹': 1737, '나치': 1738, '태권도': 1739, '예고편': 1740, '포켓': 1741, '몬스터': 1742, '짜가': 1743, '레': 1744, '더욱더': 1745, '질': 1746, '떨': 1747, '라따뚜이': 1748, '스머프': 1749, '저그': 1750}\n"
          ],
          "name": "stdout"
        }
      ]
    },
    {
      "cell_type": "markdown",
      "metadata": {
        "id": "uudHPLnW1Dqw"
      },
      "source": [
        "# Data Sequencing"
      ]
    },
    {
      "cell_type": "code",
      "metadata": {
        "colab": {
          "base_uri": "https://localhost:8080/"
        },
        "id": "zxshGeuQ02Va",
        "outputId": "9592e523-6db5-48af-c32c-2a769a900f25"
      },
      "source": [
        "# 각 문장에서 상위 빈도 9,999(max_words)개의 단어만 추출하여 word_index의 숫자를 가지는 리스트로 변환한다.\n",
        "\n",
        "text_data = tokenizer.texts_to_sequences(texts) # 빈도 10,000의 Tokenizer결과가 여기서 반영된다.\n",
        "\n",
        "print('data0:', text_data[0])\n",
        "\n",
        "print('texts0 : ', texts[0])"
      ],
      "execution_count": null,
      "outputs": [
        {
          "output_type": "stream",
          "text": [
            "data0: [116, 22, 2, 53, 35, 2, 10, 5]\n",
            "texts0 :  어리 때 보 지금 다시 보 재미있 ㅋㅋ\n"
          ],
          "name": "stdout"
        }
      ]
    },
    {
      "cell_type": "markdown",
      "metadata": {
        "id": "WbBvm-O31UrB"
      },
      "source": [
        "# Data Padding"
      ]
    },
    {
      "cell_type": "code",
      "metadata": {
        "colab": {
          "base_uri": "https://localhost:8080/"
        },
        "id": "F4YVHHWF1LYv",
        "outputId": "70011f42-cd2c-4b9a-9819-8c7a8a1c4e36"
      },
      "source": [
        "from keras.preprocessing.sequence import pad_sequences\n",
        "\n",
        "text_data = pad_sequences(text_data, maxlen=maxlen)\n",
        "\n",
        "print('data:', text_data)\n",
        "print('data0 : ', text_data[0])\n",
        "print(len(text_data[0]))"
      ],
      "execution_count": null,
      "outputs": [
        {
          "output_type": "stream",
          "text": [
            "data: [[   0    0    0 ...    2   10    5]\n",
            " [   0    0    0 ...  329    8  583]\n",
            " [   0    0    0 ...  586    4   19]\n",
            " ...\n",
            " [   0    0    0 ...  543 1746 1747]\n",
            " [   0    0    0 ...    2   84    5]\n",
            " [   0    0    0 ...  322  322  322]]\n",
            "data0 :  [  0   0   0   0   0   0   0   0   0   0   0   0   0   0   0   0   0   0\n",
            "   0   0   0   0   0   0   0   0   0   0   0   0   0   0   0   0   0   0\n",
            "   0   0   0   0   0   0   0   0   0   0   0   0   0   0   0   0   0   0\n",
            "   0   0   0   0   0   0   0   0   0   0   0   0   0   0   0   0   0   0\n",
            "   0   0   0   0   0   0   0   0   0   0   0   0   0   0   0   0   0   0\n",
            "   0   0 116  22   2  53  35   2  10   5]\n",
            "100\n"
          ],
          "name": "stdout"
        }
      ]
    },
    {
      "cell_type": "markdown",
      "metadata": {
        "id": "i-MifUn01sqN"
      },
      "source": [
        "# One-Hot Encoding"
      ]
    },
    {
      "cell_type": "code",
      "metadata": {
        "id": "sJdtmISU1fIh"
      },
      "source": [
        "def to_one_hot(sequences, dimension) :\n",
        "  results = np.zeros((len(sequences), dimension))\n",
        "  for i, sequences in enumerate(sequences) :\n",
        "    results[i, sequences] = 1.\n",
        "  return results  "
      ],
      "execution_count": null,
      "outputs": []
    },
    {
      "cell_type": "code",
      "metadata": {
        "id": "JmiPmU312Hk5"
      },
      "source": [
        "text_data = to_one_hot(text_data, dimension=max_words)\n",
        "labels = np.asarray(labels).astype('float32')"
      ],
      "execution_count": null,
      "outputs": []
    },
    {
      "cell_type": "markdown",
      "metadata": {
        "id": "ZrYUzkVw2ZPc"
      },
      "source": [
        "# One-Hot Encoding 결과 확인"
      ]
    },
    {
      "cell_type": "code",
      "metadata": {
        "colab": {
          "base_uri": "https://localhost:8080/"
        },
        "id": "4T49AdiT2VAG",
        "outputId": "5b8ec5fe-a994-469b-d226-682cc6215625"
      },
      "source": [
        "print('text_data : ', text_data)\n",
        "\n",
        "print(len(data[0]))\n",
        "print('text_data[0][0:100] : ', text_data[0][0:100])"
      ],
      "execution_count": null,
      "outputs": [
        {
          "output_type": "stream",
          "text": [
            "text_data :  [[1. 0. 1. ... 0. 0. 0.]\n",
            " [1. 0. 0. ... 0. 0. 0.]\n",
            " [1. 0. 0. ... 0. 0. 0.]\n",
            " ...\n",
            " [1. 1. 0. ... 0. 0. 0.]\n",
            " [1. 0. 1. ... 0. 0. 0.]\n",
            " [1. 0. 0. ... 0. 0. 0.]]\n",
            "3\n",
            "text_data[0][0:100] :  [1. 0. 1. 0. 0. 1. 0. 0. 0. 0. 1. 0. 0. 0. 0. 0. 0. 0. 0. 0. 0. 0. 1. 0.\n",
            " 0. 0. 0. 0. 0. 0. 0. 0. 0. 0. 0. 1. 0. 0. 0. 0. 0. 0. 0. 0. 0. 0. 0. 0.\n",
            " 0. 0. 0. 0. 0. 1. 0. 0. 0. 0. 0. 0. 0. 0. 0. 0. 0. 0. 0. 0. 0. 0. 0. 0.\n",
            " 0. 0. 0. 0. 0. 0. 0. 0. 0. 0. 0. 0. 0. 0. 0. 0. 0. 0. 0. 0. 0. 0. 0. 0.\n",
            " 0. 0. 0. 0.]\n"
          ],
          "name": "stdout"
        }
      ]
    },
    {
      "cell_type": "markdown",
      "metadata": {
        "id": "igxMbJ162v78"
      },
      "source": [
        "# Train 데이터와 Validation 데이터 준비"
      ]
    },
    {
      "cell_type": "code",
      "metadata": {
        "colab": {
          "base_uri": "https://localhost:8080/"
        },
        "id": "vJBT0uoc2m3C",
        "outputId": "0a13110e-ffac-4a5a-a8be-03208e2e8ccc"
      },
      "source": [
        "print('데이터 텐서의 크기 :', text_data.shape)\n",
        "print('레이블 텐서의 크기 : ', labels.shape)\n",
        "\n",
        "indices = np.arange(text_data.shape[0])\n",
        "np.random.shuffle(indices)\n",
        "text_data = text_data[indices]\n",
        "labels = labels[indices]\n",
        "\n",
        "print(indices)"
      ],
      "execution_count": null,
      "outputs": [
        {
          "output_type": "stream",
          "text": [
            "데이터 텐서의 크기 : (495, 10000)\n",
            "레이블 텐서의 크기 :  (495,)\n",
            "[441 289 270 475 494  50  39 127 146 369  25 217 272  69 228 168 361 267\n",
            "  35 317 400  86 418 148   3 214 390 323 111 387  62 433  70 414 338 281\n",
            " 237 431 348 220 153 429 145 459  13 331 336 213  10 401 391  42 425 477\n",
            " 163  68 149  15  93 155 239 432 227 439 285 143  32  71 203 290 462 252\n",
            " 124 328 309 299 104  26 166 407 250 144 423 404  75  74 395 164 350 355\n",
            " 324  46 326 181 150  64 453 212 329 283 392 314 464 268 442 292 184  59\n",
            "  14 454 165 286 160  83 126 340 260  56 357 282 327 371 394 223  72 380\n",
            "  23  41 445 312  98 492 385 479 472  24 456 493 339 322 398 103  97 374\n",
            " 179 141  89 296  18  95 123 315 344 206  55 276  76 253 263 280 291 265\n",
            " 415  52 411 318   7  85 377 341 197 279  45  61 381 422 185   8 325 412\n",
            " 448  99 403 482 461 307 177 133 183  38 364 140 226 234 319  16  90 484\n",
            "  36 261  96  53  34  17 151 363 167 446 205 345  60 194 302 375 465 467\n",
            " 130 424  37 258 447 218 409  67 156 310 353 284 244 158 273 152 471 117\n",
            " 443 301 288 230 236 406 118  82 182 305 397  21 207  78 225 100 193 382\n",
            " 269 190 455 311 211 379 161 306 316 216 303 483 313 367 147 358 106 480\n",
            " 113 274  11 173  22 430 287 129 221 470 393 131  29 233 171  94 224 436\n",
            " 421 247  79 110 478  80 192 294 107 389 489 259 125 142 372 335 297 321\n",
            " 334 488 196 245 255 215  63 157 200   4  51  28 241 320 491 257 208 354\n",
            " 262 352   5 102 460 399  65 178 419 293 378 300  47 408  12 384 304 481\n",
            " 402 373 476  48   6 176 356 128 278 109 308 186 346 174 386  84 201 275\n",
            "  54 444 466  91 473 170 162 469 342 343 376   9 154 416 337 365 295 204\n",
            " 440 198 370 362 435 405 413 298  73  88 242 191 256   1 195  19 122 116\n",
            " 420   2 428 112  58 366 426 485 238 210 437 135 231 180 458 108  43 175\n",
            " 222 254  27  49 487 417 134 349 388 243 368 449  81 229 246 232 347  92\n",
            " 271 219 137  57 138 351 121 457 120 332 438  31 172 330 359 360  87 434\n",
            " 452 101 266  66  40 451 136 450 132 139 188 248 189 240   0  44 114 333\n",
            " 463 468 474 490  20 119 264 251 115  30  33 187 277 105 202 209 199 235\n",
            " 249 410 486 159 169 427  77 383 396]\n"
          ],
          "name": "stdout"
        }
      ]
    },
    {
      "cell_type": "markdown",
      "metadata": {
        "id": "fbpKqRHR31ry"
      },
      "source": [
        "# TrainSet, TestSet, ValidationSet 나누기"
      ]
    },
    {
      "cell_type": "code",
      "metadata": {
        "id": "Pka-Sw6P3IF7"
      },
      "source": [
        "from sklearn.model_selection import train_test_split\n",
        "\n",
        "X_train, X_test, y_train, y_test = train_test_split(text_data, labels, test_size=0.2)\n",
        "\n",
        "\n",
        "X_train, X_valid, y_train, y_valid = train_test_split(X_train, y_train, test_size=0.2)"
      ],
      "execution_count": null,
      "outputs": []
    },
    {
      "cell_type": "markdown",
      "metadata": {
        "id": "Y9VM2PUHAdAG"
      },
      "source": [
        "# 모델 정의하기"
      ]
    },
    {
      "cell_type": "code",
      "metadata": {
        "id": "jTgwSDxm8use"
      },
      "source": [
        "from tensorflow.keras.models import Sequential\n",
        "from tensorflow.keras.layers import Dense\n",
        "\n",
        "model = Sequential()\n",
        "\n",
        "model.add(Dense(64, activation='relu', input_shape=(max_words,)))\n",
        "model.add(Dense(32, activation='relu'))\n",
        "model.add(Dense(1, activation='sigmoid'))"
      ],
      "execution_count": null,
      "outputs": []
    },
    {
      "cell_type": "markdown",
      "metadata": {
        "id": "QWaS0HfqAlzK"
      },
      "source": [
        "# 모델 요약 출력"
      ]
    },
    {
      "cell_type": "code",
      "metadata": {
        "colab": {
          "base_uri": "https://localhost:8080/"
        },
        "id": "SSvns6q8Am7t",
        "outputId": "cf354900-650f-498b-cd2a-669dbb18e0db"
      },
      "source": [
        "model.summary()"
      ],
      "execution_count": null,
      "outputs": [
        {
          "output_type": "stream",
          "text": [
            "Model: \"sequential\"\n",
            "_________________________________________________________________\n",
            "Layer (type)                 Output Shape              Param #   \n",
            "=================================================================\n",
            "dense (Dense)                (None, 64)                640064    \n",
            "_________________________________________________________________\n",
            "dense_1 (Dense)              (None, 32)                2080      \n",
            "_________________________________________________________________\n",
            "dense_2 (Dense)              (None, 1)                 33        \n",
            "=================================================================\n",
            "Total params: 642,177\n",
            "Trainable params: 642,177\n",
            "Non-trainable params: 0\n",
            "_________________________________________________________________\n"
          ],
          "name": "stdout"
        }
      ]
    },
    {
      "cell_type": "markdown",
      "metadata": {
        "id": "GmjDxfSXBEbu"
      },
      "source": [
        "# 모델 요약 출력"
      ]
    },
    {
      "cell_type": "code",
      "metadata": {
        "colab": {
          "base_uri": "https://localhost:8080/"
        },
        "id": "07nfwP7FAoAS",
        "outputId": "f87b8f9e-9f97-4750-9c3f-62d6d8c907be"
      },
      "source": [
        "model.summary()"
      ],
      "execution_count": null,
      "outputs": [
        {
          "output_type": "stream",
          "text": [
            "Model: \"sequential\"\n",
            "_________________________________________________________________\n",
            "Layer (type)                 Output Shape              Param #   \n",
            "=================================================================\n",
            "dense (Dense)                (None, 64)                640064    \n",
            "_________________________________________________________________\n",
            "dense_1 (Dense)              (None, 32)                2080      \n",
            "_________________________________________________________________\n",
            "dense_2 (Dense)              (None, 1)                 33        \n",
            "=================================================================\n",
            "Total params: 642,177\n",
            "Trainable params: 642,177\n",
            "Non-trainable params: 0\n",
            "_________________________________________________________________\n"
          ],
          "name": "stdout"
        }
      ]
    },
    {
      "cell_type": "markdown",
      "metadata": {
        "id": "D9A3bjAABRaR"
      },
      "source": [
        "# Compile & Train Model"
      ]
    },
    {
      "cell_type": "code",
      "metadata": {
        "id": "hS8vx2tsIUG7"
      },
      "source": [
        "import tensorflow as tf\n",
        "from tensorflow import keras\n",
        "\n",
        "#콜백 생성\n",
        "early_stopping_cb = keras.callbacks.EarlyStopping(patience=20)\n",
        "model_checkpoint_cb = keras.callbacks.ModelCheckpoint(\"my_cifar10_model.h5\")\n",
        "run_index = 1 # 모델을 훈련할 때마다 증가시킴"
      ],
      "execution_count": null,
      "outputs": []
    },
    {
      "cell_type": "code",
      "metadata": {
        "id": "m0UJ9869BG-Y"
      },
      "source": [
        "model.compile(loss='binary_crossentropy', optimizer='rmsprop', metrics=['acc'])"
      ],
      "execution_count": null,
      "outputs": []
    },
    {
      "cell_type": "code",
      "metadata": {
        "colab": {
          "base_uri": "https://localhost:8080/"
        },
        "id": "9oCfOnqdB7an",
        "outputId": "23b243c4-9ece-4225-97d0-f56828a606a5"
      },
      "source": [
        "run_logdir = '/content/자연어처리/pytest/my_cifar10_basic_logs_test'\n",
        "tensorboard_cb = keras.callbacks.TensorBoard(run_logdir)\n",
        "callbacks = [early_stopping_cb, model_checkpoint_cb, tensorboard_cb]\n",
        "\n",
        "history = model.fit(X_train, y_train, epochs=10, validation_data=(X_valid, y_valid))"
      ],
      "execution_count": null,
      "outputs": [
        {
          "output_type": "stream",
          "text": [
            "Epoch 1/10\n",
            "10/10 [==============================] - 3s 77ms/step - loss: 0.6925 - acc: 0.4937 - val_loss: 0.6932 - val_acc: 0.4875\n",
            "Epoch 2/10\n",
            "10/10 [==============================] - 0s 10ms/step - loss: 0.6569 - acc: 0.8418 - val_loss: 0.6876 - val_acc: 0.5500\n",
            "Epoch 3/10\n",
            "10/10 [==============================] - 0s 10ms/step - loss: 0.5957 - acc: 0.9019 - val_loss: 0.6765 - val_acc: 0.6375\n",
            "Epoch 4/10\n",
            "10/10 [==============================] - 0s 10ms/step - loss: 0.5073 - acc: 0.9525 - val_loss: 0.6530 - val_acc: 0.6625\n",
            "Epoch 5/10\n",
            "10/10 [==============================] - 0s 10ms/step - loss: 0.4113 - acc: 0.9589 - val_loss: 0.6267 - val_acc: 0.6375\n",
            "Epoch 6/10\n",
            "10/10 [==============================] - 0s 10ms/step - loss: 0.3214 - acc: 0.9620 - val_loss: 0.6015 - val_acc: 0.6375\n",
            "Epoch 7/10\n",
            "10/10 [==============================] - 0s 10ms/step - loss: 0.2482 - acc: 0.9620 - val_loss: 0.5917 - val_acc: 0.6500\n",
            "Epoch 8/10\n",
            "10/10 [==============================] - 0s 9ms/step - loss: 0.1896 - acc: 0.9747 - val_loss: 0.5851 - val_acc: 0.6500\n",
            "Epoch 9/10\n",
            "10/10 [==============================] - 0s 10ms/step - loss: 0.1453 - acc: 0.9778 - val_loss: 0.5926 - val_acc: 0.7125\n",
            "Epoch 10/10\n",
            "10/10 [==============================] - 0s 10ms/step - loss: 0.1126 - acc: 0.9810 - val_loss: 0.6075 - val_acc: 0.7000\n"
          ],
          "name": "stdout"
        }
      ]
    },
    {
      "cell_type": "markdown",
      "metadata": {
        "id": "o7LMob3NmUJX"
      },
      "source": [
        "# Save Model"
      ]
    },
    {
      "cell_type": "code",
      "metadata": {
        "colab": {
          "base_uri": "https://localhost:8080/"
        },
        "id": "q0qJFNLrp1PZ",
        "outputId": "73264a25-79d2-4b48-fa6d-17e69ec1c92a"
      },
      "source": [
        "!pwd"
      ],
      "execution_count": null,
      "outputs": [
        {
          "output_type": "stream",
          "text": [
            "/content/자연어처리/pytest\n"
          ],
          "name": "stdout"
        }
      ]
    },
    {
      "cell_type": "code",
      "metadata": {
        "id": "2dJDbFUzJKWV"
      },
      "source": [
        "# multidimensional numpy arrays를 저장할 수 있는 h5 file(HDF) 포맷으로 저장한다.\n",
        "model.save('text_binary_model.h5')"
      ],
      "execution_count": null,
      "outputs": []
    },
    {
      "cell_type": "code",
      "metadata": {
        "id": "af-7UN6Xmhbl"
      },
      "source": [
        "# 훈련데이터에서 사용된 상위빈도 10,000개의 단어로 된 Tokenizer 저장\n",
        "# 새로 입력된 문장에서도 같은 단어가 추출되게 한다.\n",
        "import pickle\n",
        "with open('text_binary_tokenizer.pickle', 'wb') as handle :\n",
        "  pickle.dump(tokenizer, handle, protocol=pickle.HIGHEST_PROTOCOL)"
      ],
      "execution_count": null,
      "outputs": []
    },
    {
      "cell_type": "markdown",
      "metadata": {
        "id": "vK7Jv5GCm42o"
      },
      "source": [
        "# Accuracy & Loss 확인"
      ]
    },
    {
      "cell_type": "code",
      "metadata": {
        "colab": {
          "base_uri": "https://localhost:8080/"
        },
        "id": "cLRFzOz3m4KM",
        "outputId": "9e0a6f1d-8ab8-4c8c-870b-848fb4236294"
      },
      "source": [
        "# history 딕셔너리 안에 있는 정확도와 손실값을 가져와 본다.\n",
        "acc = history.history['acc']\n",
        "val_acc = history.history['val_acc']\n",
        "loss = history.history['loss']\n",
        "val_loss = history.history['val_loss']\n",
        "\n",
        "print('Accuracy of each epoch : ', acc)\n",
        "epochs = range(1, len(acc) + 1)"
      ],
      "execution_count": null,
      "outputs": [
        {
          "output_type": "stream",
          "text": [
            "Accuracy of each epoch :  [0.49367088079452515, 0.8417721390724182, 0.9018987417221069, 0.952531635761261, 0.9588607549667358, 0.9620253443717957, 0.9620253443717957, 0.9746835231781006, 0.9778481125831604, 0.9810126423835754]\n"
          ],
          "name": "stdout"
        }
      ]
    },
    {
      "cell_type": "markdown",
      "metadata": {
        "id": "7PJ1tWhmnUvz"
      },
      "source": [
        "# Plotting Accuracy"
      ]
    },
    {
      "cell_type": "code",
      "metadata": {
        "colab": {
          "base_uri": "https://localhost:8080/",
          "height": 315
        },
        "id": "LLN7KSVEnSwQ",
        "outputId": "dbc48b72-fa28-427d-b530-26e0dee6a954"
      },
      "source": [
        "import matplotlib.pyplot as plt\n",
        "\n",
        "# 훈련데이터의 정확도에 비해 검증데이터의 정확도는 낮게 나타난다.\n",
        "# epoch가 늘어나면서 모델은 훈련데이터에 매우 민감해져(과대적합) 오히려 새로운 데이터를 잘 못 맞춘다.\n",
        "plt.plot(epochs, acc, 'bo', label='TrainingACC')\n",
        "plt.plot(epochs, val_acc, 'b', label='ValidationAcc')\n",
        "plt.title('Training and validation accuracy')\n",
        "plt.legend()"
      ],
      "execution_count": null,
      "outputs": [
        {
          "output_type": "execute_result",
          "data": {
            "text/plain": [
              "<matplotlib.legend.Legend at 0x7fcaa707a310>"
            ]
          },
          "metadata": {
            "tags": []
          },
          "execution_count": 34
        },
        {
          "output_type": "stream",
          "text": [
            "findfont: Font family ['NanumMyeongjo'] not found. Falling back to DejaVu Sans.\n",
            "findfont: Font family ['NanumMyeongjo'] not found. Falling back to DejaVu Sans.\n"
          ],
          "name": "stderr"
        },
        {
          "output_type": "display_data",
          "data": {
            "image/png": "[encoded data removed]",
            "text/plain": [
              "<Figure size 432x288 with 1 Axes>"
            ]
          },
          "metadata": {
            "tags": [],
            "image/png": {
              "width": 372,
              "height": 263
            },
            "needs_background": "light"
          }
        }
      ]
    },
    {
      "cell_type": "markdown",
      "metadata": {
        "id": "Lq_saJifn2cn"
      },
      "source": [
        "# Plotting Loss"
      ]
    },
    {
      "cell_type": "code",
      "metadata": {
        "colab": {
          "base_uri": "https://localhost:8080/",
          "height": 280
        },
        "id": "lLzeyN3Onz92",
        "outputId": "3f67e707-25b9-4fe0-8693-a50559689d24"
      },
      "source": [
        "plt.figure()\n",
        "\n",
        "# 훈련데이터의 손실값은 낮아지나, 검증데이터의 손실값은 높아진다.\n",
        "# 손실값은 오류값을 말한다. 예측과 정답의 차이를 거리 계산으로 구한 값이다.\n",
        "plt.plot(epochs, loss, 'bo', label='Training Loss')\n",
        "plt.plot(epochs, val_loss, 'b', label='Validation Loss')\n",
        "plt.title('Training and validation loss')\n",
        "plt.legend()\n",
        "\n",
        "plt.show()"
      ],
      "execution_count": null,
      "outputs": [
        {
          "output_type": "display_data",
          "data": {
            "image/png": "[encoded data removed]",
            "text/plain": [
              "<Figure size 432x288 with 1 Axes>"
            ]
          },
          "metadata": {
            "tags": [],
            "image/png": {
              "width": 372,
              "height": 263
            },
            "needs_background": "light"
          }
        }
      ]
    },
    {
      "cell_type": "markdown",
      "metadata": {
        "id": "fG1BHAaHoeES"
      },
      "source": [
        "# Load Model"
      ]
    },
    {
      "cell_type": "code",
      "metadata": {
        "colab": {
          "base_uri": "https://localhost:8080/"
        },
        "id": "hRUyoivbobt7",
        "outputId": "d115b991-5618-4cea-a7e5-ec74dc4a8bef"
      },
      "source": [
        "import os\n",
        "from tensorflow.keras.models import load_model\n",
        "\n",
        "filepath = '/content/자연어처리/pytest/'\n",
        "os.chdir(filepath)\n",
        "print('Current Directory :', os.getcwd())\n",
        "\n",
        "loaded_model = load_model('text_binary_model.h5')\n",
        "print('model loaded : ', loaded_model)\n",
        "\n",
        "with open('text_binary_tokenizer.pickle', 'rb') as handle :\n",
        "  loaded_tokenizer = pickle.load(handle)"
      ],
      "execution_count": null,
      "outputs": [
        {
          "output_type": "stream",
          "text": [
            "Current Directory : /content/자연어처리/pytest\n",
            "model loaded :  <tensorflow.python.keras.engine.sequential.Sequential object at 0x7fcaa704f090>\n"
          ],
          "name": "stdout"
        }
      ]
    },
    {
      "cell_type": "markdown",
      "metadata": {
        "id": "9CC-zFFHqBH9"
      },
      "source": [
        "# Test Data 확인"
      ]
    },
    {
      "cell_type": "code",
      "metadata": {
        "colab": {
          "base_uri": "https://localhost:8080/"
        },
        "id": "iAKddR7npCI6",
        "outputId": "bdcf2f60-c559-4800-c6e1-51650f70c874"
      },
      "source": [
        "print('X_test :', X_test)"
      ],
      "execution_count": null,
      "outputs": [
        {
          "output_type": "stream",
          "text": [
            "X_test : [[1. 0. 0. ... 0. 0. 0.]\n",
            " [1. 0. 0. ... 0. 0. 0.]\n",
            " [1. 1. 0. ... 0. 0. 0.]\n",
            " ...\n",
            " [1. 1. 1. ... 0. 0. 0.]\n",
            " [1. 1. 0. ... 0. 0. 0.]\n",
            " [1. 0. 0. ... 0. 0. 0.]]\n"
          ],
          "name": "stdout"
        }
      ]
    },
    {
      "cell_type": "code",
      "metadata": {
        "colab": {
          "base_uri": "https://localhost:8080/"
        },
        "id": "EJFsRhvAqJuN",
        "outputId": "db76eee8-4d50-4a6d-95a6-c27c799ab822"
      },
      "source": [
        "test_eval = loaded_model.evaluate(X_test, y_test)\n",
        "print('prediction model loss & acc : ', test_eval)"
      ],
      "execution_count": null,
      "outputs": [
        {
          "output_type": "stream",
          "text": [
            "4/4 [==============================] - 0s 3ms/step - loss: 0.5506 - acc: 0.6970\n",
            "prediction model loss & acc :  [0.5505521297454834, 0.6969696879386902]\n"
          ],
          "name": "stdout"
        }
      ]
    }
  ]
}