{
 "cells": [
  {
   "cell_type": "markdown",
   "metadata": {},
   "source": [
    "# 검색하기"
   ]
  },
  {
   "cell_type": "code",
   "execution_count": 40,
   "metadata": {},
   "outputs": [],
   "source": [
    "# riss.kr 에서 특정 키워드로 논문 / 학술 자료 검색하기\n",
    "\n",
    "#Step 1. 필요한 모듈을 로딩합니다.\n",
    "from selenium import webdriver\n",
    "import time"
   ]
  },
  {
   "cell_type": "code",
   "execution_count": 41,
   "metadata": {},
   "outputs": [
    {
     "name": "stdout",
     "output_type": "stream",
     "text": [
      "====================================================================================================\n",
      "이 크롤러는 RISS 사이트의 논문 및 학술자료 수집용 웹크롤러입니다.\n",
      "====================================================================================================\n",
      "1. 수닙할 자료의 키워드는 무엇입니까?(여래개일 경우 , 로 구분하여 입력) : 해양자원, 도시재생\n",
      "\n",
      "\n"
     ]
    }
   ],
   "source": [
    "# Step 2. 사용자에게 검색 관련 정보들을 입력 받습니다.\n",
    "print(\"=\" * 100)\n",
    "print(\"이 크롤러는 RISS 사이트의 논문 및 학술자료 수집용 웹크롤러입니다.\")\n",
    "print(\"=\" * 100)\n",
    "query_text = input('1. 수닙할 자료의 키워드는 무엇입니까?(여래개일 경우 , 로 구분하여 입력) : ')\n",
    "# query_txt = '해양자원, 도시재생'\n",
    "print('\\n')"
   ]
  },
  {
   "cell_type": "code",
   "execution_count": 42,
   "metadata": {},
   "outputs": [],
   "source": [
    "# Step3. 크롬 드라이버 설정 및 웹 페이지 열기\n",
    "chrome_path = 'C:/Users/aa/Downloads/chromedriver_win32/chromedriver.exe'\n",
    "driver = webdriver.Chrome(chrome_path)\n",
    "\n",
    "url = 'http://www.riss.kr/'\n",
    "driver.get(url)\n",
    "time.sleep(2) # 페이지에 접속할 시간을 줌"
   ]
  },
  {
   "cell_type": "code",
   "execution_count": 44,
   "metadata": {},
   "outputs": [],
   "source": [
    "# Step 4. 자동으로 검색어 입력 후 조회하기\n",
    "element = driver.find_element_by_id(\"query\")\n",
    "driver.find_element_by_id(\"query\").click()\n",
    "element.send_keys(query_text)\n",
    "element.send_keys('\\n')"
   ]
  },
  {
   "cell_type": "markdown",
   "metadata": {},
   "source": [
    "## 연습 문제로 실력 굳히기\n",
    "\n",
    "1. 네이버 사이트의 검색창에 '서수진 빅데이터' 키워드를 입력한 후 검색을 실행하도록 코드를 작성하게요.\n",
    "\n",
    "2. 다음 사이트의 검색창에 '서수진 빅데이터' 키워드를 입력한 후 검색을 실행하도록 작성하세요.\n",
    "\n",
    "3. 구글 사이트의 검색창에 '서수진 빅데이터' 키워드를 입력한 후 검색을 실행하도록 코드를 작성하세요."
   ]
  },
  {
   "cell_type": "code",
   "execution_count": 7,
   "metadata": {},
   "outputs": [],
   "source": [
    "query_text = '서수진 빅데이터'"
   ]
  },
  {
   "cell_type": "code",
   "execution_count": 29,
   "metadata": {},
   "outputs": [],
   "source": [
    "chrome_path = 'C:/Users/aa/Downloads/chromedriver_win32/chromedriver.exe'\n",
    "driver = webdriver.Chrome(chrome_path)\n",
    "\n",
    "url = 'https://www.naver.com/'\n",
    "driver.get(url)\n",
    "time.sleep(2)\n",
    "\n",
    "element = driver.find_element_by_id(\"query\")\n",
    "driver.find_element_by_id(\"query\").click()\n",
    "element.send_keys(query_text)\n",
    "element.send_keys('\\n')"
   ]
  },
  {
   "cell_type": "code",
   "execution_count": 25,
   "metadata": {},
   "outputs": [],
   "source": [
    "chrome_path = 'C:/Users/aa/Downloads/chromedriver_win32/chromedriver.exe'\n",
    "driver = webdriver.Chrome(chrome_path)\n",
    "\n",
    "url = 'https://www.daum.net/'\n",
    "driver.get(url)\n",
    "time.sleep(2)\n",
    "\n",
    "element = driver.find_element_by_id(\"q\")\n",
    "driver.find_element_by_id(\"q\").click()\n",
    "element.send_keys(query_text)\n",
    "element.send_keys('\\n')"
   ]
  },
  {
   "cell_type": "code",
   "execution_count": 18,
   "metadata": {},
   "outputs": [],
   "source": [
    "chrome_path = 'C:/Users/aa/Downloads/chromedriver_win32/chromedriver.exe'\n",
    "driver = webdriver.Chrome(chrome_path)\n",
    "\n",
    "url = 'https://www.google.com/'\n",
    "driver.get(url)\n",
    "time.sleep(2)\n",
    "\n",
    "element = driver.find_element_by_name(\"q\")\n",
    "driver.find_element_by_name(\"q\").click()\n",
    "element.send_keys(query_text)\n",
    "element.send_keys('\\n')"
   ]
  },
  {
   "cell_type": "code",
   "execution_count": 37,
   "metadata": {},
   "outputs": [],
   "source": [
    "chrome_path = 'C:/Users/aa/Downloads/chromedriver_win32/chromedriver.exe'\n",
    "driver = webdriver.Chrome(chrome_path)\n",
    "\n",
    "url = 'https://www.kyungnam.ac.kr/'\n",
    "driver.get(url)\n",
    "time.sleep(10)"
   ]
  },
  {
   "cell_type": "code",
   "execution_count": 38,
   "metadata": {},
   "outputs": [],
   "source": [
    "driver.find_element_by_xpath('/html/body/div[2]/div[1]/div/div[3]/ul/li[1]/a').click()\n",
    "\n",
    "element = driver.find_element_by_id(\"top-search\")\n",
    "driver.find_element_by_id(\"top-search\").click()\n",
    "element.send_keys('장학금')\n",
    "element.send_keys('\\n')"
   ]
  },
  {
   "cell_type": "markdown",
   "metadata": {},
   "source": [
    "# Beautiful Soup로 원하는 값 추출 후 저장하기"
   ]
  },
  {
   "cell_type": "code",
   "execution_count": null,
   "metadata": {},
   "outputs": [],
   "source": [
    "# riss.kr 에서 특정 키워드로 논문 / 학술 자료 검색하기\n",
    "\n",
    "#Step 1. 필요한 모듈을 로딩합니다.\n",
    "from selenium import webdriver\n",
    "import time"
   ]
  },
  {
   "cell_type": "code",
   "execution_count": null,
   "metadata": {},
   "outputs": [],
   "source": [
    "query_text = '전염병'"
   ]
  },
  {
   "cell_type": "code",
   "execution_count": null,
   "metadata": {},
   "outputs": [],
   "source": [
    "# Step3. 크롬 드라이버 설정 및 웹 페이지 열기\n",
    "chrome_path = 'C:/Users/aa/Downloads/chromedriver_win32/chromedriver.exe'\n",
    "driver = webdriver.Chrome(chrome_path)\n",
    "\n",
    "url = 'http://www.riss.kr/'\n",
    "driver.get(url)\n",
    "time.sleep(2) # 페이지에 접속할 시간을 줌"
   ]
  },
  {
   "cell_type": "code",
   "execution_count": null,
   "metadata": {},
   "outputs": [],
   "source": [
    "# Step 4. 자동으로 검색어 입력 후 조회하기\n",
    "element = driver.find_element_by_id(\"query\")\n",
    "driver.find_element_by_id(\"query\").click()\n",
    "element.send_keys(query_text)\n",
    "element.send_keys('\\n')"
   ]
  },
  {
   "cell_type": "code",
   "execution_count": 45,
   "metadata": {},
   "outputs": [
    {
     "name": "stdout",
     "output_type": "stream",
     "text": [
      "1   주민참여를 통한 항만형 도시재생사업의 활성화 방안 : 부산 북항재개발사업을 중심으로  류동길 대구대학교 2010 국내박사  RANK : 6818639    원문보기 목차검색조회  음성듣기               바다와 항만을 가진 도시는 항만을 새롭게 개선하는 항만재개발과 리모델링이 새로운 화두로 등장하였다. 외국의 경우 1950년대부터 대규모 또는 부분적인 항만재개발사업이 진행되었고, 아시아의 각국들도 항만에 대하여 재개발사업이 진행되고 있다. 부산항은 항만환경에 대한 변화와 재개발의 문제점을 개선하기 위하여 부산 북항의 기능을 신항으로 이전하고 북항지역을 새로운 도시공간으로 재개발을 추진 및 시행하고 있다. 부산 북항에 적절한 항만재개발사업을 위한 방향 설정은 부산이 가지고 있는 정체성에 대한 고민과 더불어 도시를 구성하는 시민(주민)들이 북항재개발사업에 대하여 어떻게 인지하고 있느냐에 대한 공동의 논의가 필요하다는 것이다.본 연구의 목적은 부산시민들의 북항재개발사업에 대한 설문조사를 중심으로, 향후 주민참여 방법과 주민참여를 통한 항만형 도시재생사업의 활성화 방안에 기여함을 목적으로 한다. 이를 위하여 본 연구에서는 부산 북항재개발사업의 사례와 외국의 항만재개발사업 사례를 중심으로 항만형 도시재생사업에 대해 고찰하고 항만재개발지역과 주변지역의 활성화 방안을 제안한다. 외국의 항만재개발사업 사례를 통해 부산 북항재개발사업의 개발방향과 컨셉 및 항만 재개발사업의 시사점에 대해 고찰한다. 그리고 북항재개발사업에 대한 주민참여 방법과 주민참여를 통한 도시 마케팅방안을 제안한다. 이를 통해서 향후 주민참여를 통한 항만형 도시재생사업에 관한 활성화 방안을 연구한다.본 연구의 구성은 총 5개의 장으로 구성한다. Ⅰ장은 서론 부분으로 본 연구의 연구배경과 목적 및 연구의 범위와 방법, 연구의 구성과 흐름도를 설명한다. Ⅱ장은 도시재생사업, 항만재개발사업, 주민참여방법 및 주민참여를 통한 도시마케팅의 전반적인 이론적 고찰과 선행연구로 구성한다. Ⅲ장은 부산북항재개발사업의 개요와 실증분석을 위한 연구모형의 설정 및 설문지 구성에 관하여 서술한다. Ⅳ장은 설문조사를 통해 수집된 자료에 대한 실증분석의 결과를 서술한다. Ⅴ장은 결론 부분으로 연구 결과의 요약과 시사점을 나타내고 본 연구의 한계와 향후 연구과제에 대하여 서술한다.본 연구의 설문조사에서 분석한 북항재개발사업의 주민참여 방법에 대한 구체적인 방안을 살펴보면 다음과 같다. 부산 북항재개발사업의 적극적인 주민참여 전략으로는 주민평가제의 도입이 매우 유용한 방법으로 판단된다. 각 개발의 주체가 자체적으로 수행하는 자체 평가과정에서 주민의 의견을 수렴하기 위하여 주민들과의 면접이나 설문조사를 통해 간접적으로 반영하는 제도의 도입은 부산광역시의 전반적인 도시재생사업과 북항 재개발사업에 대하여 홍보적으로 매우 좋은 효과가 나타날 것으로 판단된다. 주민참여를 확대하고 제도를 정착하기 위해서 우선적으로 전제되어야 되는 중요한 사항은 주민참여에 관련된 홍보의 강화이다. 주민이 생활하는 도시공간의 변화와 직접적으로 연계되는 지역 현황에 대해 정보를 공개함으로서 주민들의 관심을 증대하는 효과가 나타날 것이다.본 연구의 실증분석을 살펴본 결과 및 시사점은 다음과 같다. 항만재개발사업은 고부가가치 공간으로서의 전환이 가장 큰 목적이며 친수성 레저활동 증가에 따른 공간 확보와 시민들을 위한 공간 등의 오래된 항만지역을 새로운 공간으로서의 변화를 요구하고 있다. 그리고 북항재개발사업의 예상효과에 대한 분석결과는 도시 이미지의 상승이 가장 큰 효과로 나타났고, 지역경제의 활성화와 지역의 인지도와 지명도의 상승 순으로 나타났다. 북항재개발사업의 상징성에 의한 도시 홍보에도 기여할 것으로 예상하고 관광객도 증가할 것으로 예상하였다. 북항재개발사업에 관한 주민참여 방안에 대한 분석결과는 주민의견을 수렴하는 방법들의 타당성에서 주민투표, 지방의회 총회에서 토론 및 의결, 지방의회 해당 상임위원회에서 토론 및 의결의 경우에는 의견이 중립되어 있는 것으로 나타났다. 여론조사, 공론조사, 시민자문위원회, 공청회, 인터넷 게시판/인터넷투표, 전문가위원회에 대해서는 타당성이 높은 것으로 나타났다. 시민들이 생각하는 의견수렴 필요단계에서 가장 많이 선택한 단계는 최종 대안을 선택하는 단계와 사업 시행결과를 분석하고 평가하는 과정으로 사업결과에 대한 평가를 통해 적절한 피드백을 제공하는 과정 단계에서 필요성이 가장 크게 나타났다. 북항재개발사업에 관한 도시마케팅 활성화 방안에 대해서는 우리나라 최대의 항만도시 이미지 부각, 외국인 관광객을 위한 홍보가 후속적인 마케팅 방안으로서 가장 적절한 방법으로 나타났다. 민간단체와 연계하여 진행할 마케팅전략에 관한 분석결과에서는 해양레포츠 단지의 조성, 자갈치 수산관광단지의 조성, 지역 대학과 연계한 인적 자원 확보, 언론매체와 연계성 강화가 민간과 연계하여 실시할 수 있는 마케팅전략으로 나타났다.본 연구는 부산 북항재개발사업의 사례를 중심으로 분석한 결과에 따라 우리나라에 적합한 항만형 도시재생사업의 활성화방안을 다음과 같이 제안한다.항만재개발 정책은 계획수립 및 사업단계에서 다음과 같은 세 가지 핵심 비전을 실현하는 것을 목표로 하고 있다. 첫째, 노후 항만을 재개발한 친수공간(waterfront)은 사회적 자산으로서 개인이나 다양한 그룹, 집단이 쉽게 접근하고 공유할 수 있는 공간으로 전환하여야 한다. 둘째, 항만과 주변 지역을 연계하여 해양지향적 교류의 장으로 재개발함으로써 항만과 도시의 지속가능하고 상생적인 발전이 가능하여야 한다. 셋째, 고용을 창출하고 부동산의 가치를 높이며 그 지역으로 새로운 비즈니스를 유인하고 관광자원화함으로써 지역경제가 새롭게 발전하는 데 기여하여야 할 것이다. Recently, harbor renovation and remodeling have become hot issues in coastal cities. In foreign countries, major scale or partial harbor redevelopment projects have been performed since 1950s, and many Asian countries are also promoting similar harbor redevelopment projects. Busan Harbor transferred the functions of the Busan North Harbor to a new harbor to change the harbor environment and to improve the problemsrelated to the redevelopment and has promoted the redevelopment of the North Harbor region as a new urban space. Busan North Harbor Redevelopment Project requires the consideration on its identity and the discussion participated by residents about how the citizens (residents) considered the project.Based on such a research background, this study aimed at contributing to the activation plan for the harbor urban renovation projects based on residents participation as well as proposing a method with which residents participate in the project, based on the survey of Busan citizens on the North Redevelopment Project. To this end, the study examines harbor urban redevelopment projects based on cases studies of Busan North Redevelopment Project as well as similarforeign projects and studied the promotion plan for activating the local economy in the harbor redevelopment region and surrounding regions and the establishment of the local identity. Through the case study on foreign projects, the study also examined the development direction of the Busan North Harbor Redevelopment Project and its issues. Furthermore, it proposed the residents participation plan and an urban marketing plan based on residents participation for the North Harbor Redevelopment Project. By collecting Busan citizens'opinions on the project, the study also hoped to examine the activation plan for future harbor urban redevelopment projects based on residents participation.This study consisted of five chapters. Chapter 1, introduction, discussedthe background, goal, scope, methodology, construction and flowchart of the study. Chapter II reviewed, as a preliminary study, the overall theoretical aspects of urban marketing based on residents participation as well as urban renovation projects, harbor redevelopment projects as well as residents participation methods. Chapter III discussed the introduction to the Busan North Harbor Redevelopment Project, sets the research model for the empirical analysis, and examined the construction of the questionnaire. Chapter IV discussed the result of the empirical analysis on the collected data from the survey. Finally, Chapter V summarized the study result and further issues as well as the limitations of the study and future study issues.The detailed aspects ofthe residents participation plan for the North Harbor Redevelopment Project analyzed in the survey from this study are as follows. It is believed that the introduction of the resident evaluation system is very useful as the active residents participation strategy. In the self-evaluation process that the owners of the development performs by themselves, the introduction of the system that indirectly reflects the interviews or surveys with residents to collect their opinions will result in the positive promotional impact on the overall urban renovation project and the North Harbor Redevelopment Project in Busan. The important issue that should be considered in advance in order to expand residents participation and the settlement of the system is to strengthenthe promotion related to residents participation. Making available in public the information on local situations directly related to the changes in urban spaces in which the residents live will result in increasing the residents'interest.The result and important issues based on the empirical analysis of this study are as follows. The biggest goal of harbor redevelopment projects is to change the space into one with high added value, stressing on the acquirement of spaces due to the increase in water-based leisure activities and the desire to change the old harbor regions to a new space for citizens. The result of the analysis on the expected effect of the North Harbor Redevelopment Project showed that the biggest impact of the project would be on the increase in the brand image of Busan, followed by the activation of the local economy, the recognition of the city, and its awareness. Also expected from the project were the promotion of Busan based on the symbolic image of the North Harbor Redevelopment Project and the increase in the number of tourists. The result of the analysis on the residents participation plan for the North Harbor Redevelopment Project showed that the residents' opinions would be most well presented by the resident voting in the validity of methods that collect residents'opinions, the discussion and the resolution in the local assembly, and the discussion and the resolution in the standing committee of the local assembly. High validity was shown in the public surveys, citizen advisory committees, public hearings, internet boards and voting, and special committees. The most required process by citizens for collecting people's opinions was the processes of selecting the final alternative and analyzing and evaluating the project results, showing that the most required processes were those in which the project results are evaluated and appropriate feedback is given. As for the urban marketing promotion plan related to the North Harbor Redevelopment Project, stressing on the image of Busan as Korea's largest harbor city and attracting more foreign tourists were the most appropriate methods for the post-marketing plans. The result of the analysis on the marketing strategies collaborating with private organizations showed that the establishment of a marine leisure sports complex, Jagalchi Marine Tourist Complex, acquiring human resources based on the cooperation with local universities and colleges, and strengthening the collaboration with local media were the marketing strategies that could be performed.This study proposed, based on the analysis of the case study of the Busan North Harbor Redevelopment Project, the promotion plan of harbor urban renovation projects that are appropriate in Korea's situations. The harbor redevelopment policy aims at realizing the following three core visions in the establishment and executing the plan. First, the waterfront spaces developed from old harbors are social assets and therefore should be converted into spaces which individuals as well as various types of groups and organizations can easily access to and share. Second, the redevelopment of harbors and surrounding regions as a place for marine exchanges should enable the sustainable and co-existing development of harbors and cities. Third, the projects should create jobs, increase the value of immovables, attract new businesses to the local community, and create new tourist resources so as to contribute to the advance of the local economy.\n",
      "\n",
      "\n",
      "원문보기\n",
      "\n",
      "\n",
      "목차검색조회\n",
      "\n",
      "\n",
      "음성듣기\n",
      "\n",
      "\n",
      "2   수변공간을 활용한  부산 도시재생의 방향  이은주 부산대학교 대학원 2021 국내석사  RANK : 6818623    원문보기 목차검색조회               도시는 인간이 살아가는 중요한 정주공간으로 자연환경과 삶의 방식, 경험에 따라 차별성을 드러내며 형성되어 왔다. 도시는 복잡하고 다양하게 계속 발전하고 있으며 국가는 점차 브랜드화 된 도시 경쟁력에 의존해 가고 있다. 한국은 인구감소⋅고령화 현상에 따른 도시의 쇠퇴와 소멸에 대응하고자 도시재생이라는 정책으로 도시를 다시 재정비하고 있는 추세이다. \r",
      "최근 들어 ‘도시재생 뉴딜사업'과 함께 수변공간을 도시의 중심공간으로 활용하려는 경향이 지배적이다. 다수의 지방자치단체들이 환경 및 경관에 대한 중요성을 인식하고 하천을 정비하고 있으며, 해안도시와 지역의 통합형 경관관리 방안을 모색하고 있다. 또한 수변공간의 자연⋅환경적 가치와 역사⋅문화적 가치로 도시브랜드를 형성하는 동시에 도시경쟁력을 향상시켜 경제적 파급효과를 유발하면서 도시재생의 전략적 수단으로 강조되고 있다. 이는 도시재생사업에서 로컬의 역사성 발굴과 보존, 자연환경 및 문화자산 활용은 매우 중요하기 때문일 것이다. 이 논문에서는 수변공간과 로컬문화를 활용한 국외 도시재생 사례분석을 통해 도시재생의 시사점을 분석하고, 이를 바탕으로 부산광역시 수영강변을 대상으로 수변도시 부산의 미래 발전적 방향과 도시경쟁력을 갖추기 위한 도시재생의 방향을 모색하고자 하였다. \r",
      "2장에서는 인간의 삶의 토대이며 사회적 존재로서 삶이 영위되는 장소인 도시공간과 로컬, 로컬문화의 관계를 고찰하였다. 로컬문화는 지역민들의 삶의 질 개선과 미래성장 동력을 제공하며, 다른 로컬과의 차별성으로 로컬브랜드의 가치를 높이는 데 중요한 역할을 한다. 역사를 기반으로 형성된 로컬문화는 지역민들을 결속하는 동시에 로컬브랜드 가치를 높이는 문화콘텐츠를 형성하는 힘을 가진다. 지속가능한 도시발전 방향을 모색하여 ‘로컬시민의 삶터'로서의 도시공간의 가치와 거주하고 일하며 즐길 수 있는 다양한 삶의 현장으로서의 도시에 주목하였다. 수변도시가 보유하고 있는 천혜의 수변환경을 이용한 해양관광, 레저문화를 통하여 지속가능한 로컬중심의 삶의 질 향상을 추진해야 할 시기이다. 시민 개개인이 언제 어디서든 다양한 문화예술활동을 즐기고 실천할 수 있는 삶을 제공하는 도시, 시민 스스로 개인의 삶의 주체가 되어 인생을 즐길 수 있는 로컬문화가 곧 미래도시의 경쟁력을 강화시킬 것이다. 도시재생의 방향성도 이러한 측면에서 설정할 수 있을 것이다.\r",
      "3장에서는 국외 도시들의 도시재생 사례를 수변공간을 활용한 도시재생 사례와 로컬문화를 활용한 도시재생사례로 분류하여 다양한 방식으로 분석하였다. 수변공간과 로컬문화를 활용하여 도시재생에 성공한 대표적인 도시들로 부산과 도시규모나 지리적ㆍ자연적 환경(특히 수변공간), 인구밀도가 비슷한 6개의 도시를 선정하였다. 이 장에서는 ‘수변공간, 로컬문화'로 분류하여 논의를 진행하였으나, 이 두 가지 특성은 성공적인 도시재생을 위한 필수요소로 그 특성을 명확하게 규정하기에는 그 경계가 불명확하다 할 수 있다. 사례 분석을 통해 ‘로컬문화의 활용, 중장기 계획 수립과 실천, 민관협력과 파트너쉽 강화'라는 세 가지 시사점을 도출하였으며, 4장에서 수변도시 부산의 지속가능한 글로벌 도시로의 성장가능성과 새로운 도시재생 경영전략을 세 가지로 제안하였다.\r",
      "4장에서는 이러한 인식을 바탕으로 부산광역시 수영강변 지역의 개발논리와 로컬문화의 부재를 분석하고, 수영강을 중심으로 동서로 나뉘어 있는 ‘수영강 망미아트로드' 일대와 해운대 센텀 지역 일부를 ‘수영강 워터프론트플랫폼(Suyoung River Waterfrontplatform)'이라 명명하고, 해양 수변 문화도시로의 발전 방안을 모색하였다.\r",
      "먼저, 수영강 망미아트로드는 수영성문화마을사업으로 활기를 찾고 있는 수영구 망미동 일대 약 2.1km의 골목길과 수영강변 일대를 아우른다. 최근 망미동 일대는 F1963을 중심으로 수영야류, 갤러리골목, 망미골목 등과 같은 다양한 문화콘텐츠가 형성됨으로써 새로운 변화가 기대되고 있다. 이 지역은 개발제한으로 인해 환경자원과 역사성/고유성을 간직하고 있으며, 자연발생적으로 생겨나는 다양한 콘텐츠를 포함한 골목들을 중심으로 공동체문화를 형성할 수 있는 가능성을 지니고 있다. \r",
      "다음으로, 도심 속 수영강 워터프론트플랫폼을 중심으로 골목문화와 골목길 네트워킹 형성은 새로운 문화⋅예술 콘텐츠 사업으로서 ‘아시아영상복합미디어도시 부산'으로 나아갈 수 있는 방안이라고 보았다. 특히, ‘BIFO 부산국제예술사진전'은 전문적인 지식과 교육, 인프라를 갖춘 문화매개자를 중심으로 다양한 콘텐츠 개발과 공간 활성화, 창의적인 문화예술 전시기획이다. 해안 수변도시 부산의 지리적 특성을 감안한 여름기간 동안의 크고 작은 행사들을 동시에 개최함으로써 다양한 볼거리⋅즐길거리가 형성될 것이다. 다양한 콘텐츠와 중장기적인 기간 동안 개최되는 영상미디어사업과 관광산업의 결합은 일자리 창출과 더불어 대규모 축제산업으로 이어질 것이며, 지역경제 활성화에 시너지 효과를 창출할 것이다. 이처럼 행정구역의 경계를 넘어 부산의 도심 속 수영강변과 해운대 센텀, 수영 망미동 일대를 통합하여 도시재생 사업을 추진하는 것은 ‘한국적 도시재생'에 새로운 지표를 형성하게 될 것이라 기대한다.\n",
      "\n",
      "\n",
      "원문보기\n",
      "\n",
      "\n",
      "목차검색조회\n",
      "\n",
      "\n",
      "3   마산시 도시재생사업 진단 및 정책 개선에 관한 연구  이석중 국민대학교 법무대학원 2009 국내석사  RANK : 6818622    복사/대출신청                한반도 서남단에 자리잡은 마산시는 주변 신도시의 성장으로 인해 인구유출이 더욱 심화되고 생산기반이 취약해 지는 도시 공동화 현상이 가속되고 있다. 일반적으로 도심의 쇠퇴는 도시환경의 물리적 쇠퇴를 초래할 뿐만 아니라 도시의 유지를 위한 자족성까지 약화시키는 결과를 초래하게 된다. 이러한 공동화 추세는 지속적으로 나타날 것이 예상되는 바 마산시에서는 도시 재생에 대한 종합적인 계획을 수립해 놓고 시행 중에 있다.대표적으로 현재 ‘마산밸리 2020 장기계획'과 ‘마산 신동력 6+6 정책'을 수립해 놓고 마산항 개발과 관광자원 인프라 구축 등 다양한 정책을 수립하여 추진 중에 있으나 뚜렷한 가시적인 효과가 나타나지 않는다고 알려져 있다. 이제 현 시점에서 마산시에서 추진하는 일련의 사업들이 과연 장기적인 도시 공동화 현상을 예방하고 도시의 재생을 가능케 하는 사업들인가에 대한 평가가 필요하다. 특히 도시 재생사업의 수혜자인 현지 주민 및 개발업자 들을 대상으로 각 사업들에 대한 인식, 만족도 등을 점검해 볼 필요가 있으며 이로부터 추진상의 문제점과 개선방안을 도출해 내야 한다.본 연구는 이러한 연구의 필요성을 인식하고, 과거 산업화시대 수출산업 성장의 근거지이었던 한반도 남단의 마산시를 대상으로 현재의 도시 재생사업 현황 및 문제점을 분석해 보고 향후 추진을 위한 개선방안을 제안하였다.본 논문에서는 도시재생사업의 개념을 도시재생사업을 포함하고 물리적 정비사업의 차원을 뛰어넘어 도시의 기능을 재건하는 복합적 수단을 포함한 광의의 개념으로 해석하고 현재 마산시에서 추진 중인 물리적인 도시기능 재생을 위한 도심지 재개발사업, 주택재개발사업, 주택재건축사업, 주거환경개선 사업외에도 도시의 브랜드 가치를 증대하고 사업과 산업기반을 확충하는 제반 사업들도 분석대상 사업에 포함하였다.이러한 도시 재생사업의 연구대상 범위를 포괄적으로 정의한 후, 문헌 및 선행연구, 정책발표자료 및 전문가 인터뷰 등을 통해 마산시의 현황과 문제점, 마산시 도시재생사업 현황 및 도시재생 방향에 대하여 분석하였다. 설문을 마산시 소재 재개발·재건축 관계자 및 시공사 및 공무원 그리고 일반 시민을 대상으로 하였으며, 설문 결과는 SPSS 통계 프로그램을 이용하여 빈도분석과 교차분석을 활용하여 도출하였다.연구결과에서 나타난 결론을 정책적 시사점을 중심으로 요약해 보면 아래와 같다.① 도시재생사업 추진 기본방향-마산시의 도시재생은 지역경제활성화를 통한 일자리 창출과 주거환경 개선에 역점을 두어야 할 것을 판단됨.-마산시의 도시재생사업은 ‘해양 관광도시'를 지향하되, 문화적 측면이나 상업적 측면도 고려해야 함.-마산시의 도시재생사업이 활성화되기 위해서는 마산시의 재정 등 사업추진 역량 확보가 가장 시급함.-복잡한 행정절차가 마산시의 주택재개발이나 재건축 계획에 가장 큰 문제점이므로, 관련 법령의 개정을 통하여 수도권 이외 지역 도시에서의 주택 재개발이나 재건축에 대한 규제 완화와 인센티브 부여 정책이 필요함.② 도시재생사업 세부 추진사업 검토-가치창출사업군에 대한 분석을 통해 마산시의 도시재생사업은 시민생활에 보다 직접적이고 유형적인 것이어야 함.-마산시 도시재생을 위해서는 주택개발이나 관광개발 보다는 기존의 산업시설과 신규 개발 산업시설에 대한 집중적인 지원이 필요함.-주택건설사업군에 대한 분석 결과 주택 신축을 위한 개발사업 보다는 기존 주택 단지의 재개발·재건축 사업이 마산시의 도시재생을 위해서는 더욱 효과가 높았음.-사업별 중요도를 분석한 결과 응답자들은 마산시 도시재생을 위해서는 산업기반 재생이 가장 중요하며, 그 다음으로는 도시가치창출, 마지막으로 주택건설이 중요한 것으로 응답함. 결과적으로 12개 사업 중 자유무역부지 확장사업(1위), 진북산업단지 조성사업(2위), 구도심 상권회복 사업(3위), 재개발·재건축 사업(4위)이 중요한 것으로 나타났음.③ 도시재생사업 개선책 제안-드림베이 도시 브랜드 전략은 마산시 도시재생사업의 측면에서 활용하기 위해서는 물의 이미지를 강화하는 방향으로의 전략적 수정이 필요함.-도시전체늬 관광 자원화를 위한 적절한 도시재생 전략을 수립하여 주민에게 홍보해야 함.-도시의 문화적 재생을 위해서는 도시의 모든 문화적 자산을 최대한 활용하는 것이 필요로 하며, 마산의 경우 문신의 작품을 활용하는 것이 효과적일 것임.-마산시의 도시재생사업은 많은 일자리를 제공할 수 있는 산업체의 적극 유치가 필요하며, 정부의 지원도 이러한 방향에서 이루어져야 할 것임.\n",
      "\n",
      "\n",
      "복사/대출신청\n",
      "\n",
      "\n",
      "4   뉴 뮤지올로지 개념을 적용한 서부산권 문화자원 활성화 방안 연구  조선경 동아대학교 대학원 2019 국내석사  RANK : 3410751    원문보기 목차검색조회  음성듣기               도시의 발전 과정은 지역의 특성과 함께 이해할 수 있다. 부산은 대륙과 바다가 만나는 관문이기에 원도심을 중심으로 근대 도시의 기틀을 성립하였고 동부산 일원은 해양관광도시로서 자리매김하고 있다. 그러나 고대사의 중심지였던 서부산은 상대적으로 지역발전에서 소외되는 경향을 보여왔다.\r",
      "서부산권은 낙동강 하구에 위치함으로 농경과 교역에 용이하여 인구가 밀집하기 유리한 조건을 갖춘 강 문화권에 속하며 고대부터 근ㆍ현대에 이르기까지 자연과 인간의 서식 터전으로 공존해옴에 따라 유구한 역사자원과 다양한 생태자원을 보유한 지역이다. 또한 어업, 농업, 공업으로의 변화를 겪으며 늘 산업과 생산에 관련한 활동이 이루어졌던 곳이며 지역 주민들의 삶의 터전으로 자리매김하여 지역 전체가 생활사 박물관이라해도 과언이 아니다.\r",
      "이러한 서부산권의 가치를 재발견하고 낙후되었던 지역을 개발하기 위한 사업 열풍이 2015년 ‘서부산 글로벌시티 그랜드플랜' 계획 수립을 발단으로 본격화되고 있다. 그러나 도시는 더 이상 물리적인 개발의 논리만으로는 낙관적인 미래를 그릴 수 없으며, 서부산에서 추진 중인 대다수의 사업에서 지역문화를 이루는 근원이라 할 수 있는 문화자원에 대한 고려가 부족한 실정이기에 인문학적 접근의 보완이 필요함을 분명히 하였다.\r",
      "이에 본 연구는 서부산권 문화자원의 역사적 의미와 가치, 장소성, 지역사회적 맥락 등을 고려하여 성장 위주의 개발보다는 지역정체성을 반영한 문화주도적 발전 방안을 제시하고자 ‘뉴 뮤지올로지(New museology)' 개념의 적용을 제안하였다. 뉴 뮤지올로지는 기존 박물관이 지나치게 방법론적임을 비판하며 태동한 개념으로 문화자원을 보존하고 활용하여 지역 전체를 박물관화하는 것을 일련의 목표로 삼는다.\r",
      "따라서 본 연구는 서부산권의 문화자원을 활용하여 뉴 뮤지올로지적 지구를 조성할 것을 제안하며 그에 따른 문화자원의 보존과 활용 방안을 제시함으로 지역활성화 및 지속가능한 발전 경로를 모색하는데 목적이 있다. 서부산권 개발 사업이 본격화되기 이전에 지역의 문화자원을 발굴하고 지역의 가치를 현 시점해서 재고해봄으로 서부산 지역과 지역의 문화자원이 가지는 매력을 재조명하고자 했다. 본 논문이 향후 서부산 지역계획에 참고 가능한 하나의 방법으로 도움이 되었으면 하는 바람이다.\n",
      "\n",
      "\n",
      "원문보기\n",
      "\n",
      "\n",
      "목차검색조회\n",
      "\n",
      "\n",
      "음성듣기\n",
      "\n",
      "\n",
      "5   도서지역 노후·쇠퇴시설의 생태문화적 재생 요소 중요도 연구 : 인천광역시 옹진군을 중심으로  신선미 인하대학교 대학원 2011 국내석사  RANK : 3410751    원문보기 목차검색조회  음성듣기               과거 도서지역은 개발 정책에서 소외된 지역이었으나 최근 국가균형발전 차원의 낙후지역 개발에 대한 정책적 관심이 높아짐에 따라 도서개발에 대한 관심이 증대되었다. 2000년대 이후 관광객의 다양한 욕구충족, 주 5일제 시행, 내륙관광의 포화상태로 인해 해양관광이 부각됨에 따라 도서지역에 대한 투자와 관심이 증가하고 있다. 도서지역의 개발 정책은 도서지역의 환경개선이 아니라 관광개발에 초점을 두고 있기 때문에 도서지역의 특수성을 고려하지 않고 도시개발과 같은 형태인 대규모 개발을 하고 있다. 이러한 난개발로 인해 도서지역의 생태ㆍ문화자원을 훼손시키고 있는 실정이다. 도서지역의 생태ㆍ문화자원은 도서지역을 방문하는 관광객들에게 관광욕구를 충족시킬 수 있는 도서지역의 중요한 관광자원이다. 또한 도서지역 주민에게는 경제적 소득원이 될 수 있는 중요한 자원이기도 하다. 도서지역의 생태문화자원을 최대 보존 및 보전하는 방향으로 나아가야한다. 또한 도서지역은 노후성으로 인해 새로운 기반시설의 건립이 필수적이지만, 도서지역의 격절성으로 인해 새로운 건축물을 짓는 것은 비용적 부담이 들고 건축폐기물이 발생하기 때문에 노후ㆍ쇠퇴시설을 개보수하여 지역의 생태문화적 자원으로 재생시키는 방안이 강구될 필요가 있다.   본 연구에서는 도서지역에 적합한 생태ㆍ문화자원을 최대한 보존 및 보전하는 방안과 도서지역 내 방치되어 있는 폐교, 노후불량주택, 쇠퇴산업시설, 폐공간의 재생 방향을 논의하기 위해 생태문화적 방법을 통해서 접근하고자 한다. 따라서 본 연구는 도서지역 노후ㆍ쇠퇴시설의 생태문화적 재생 연구를 위해 인천광역시 옹진군의 정책 자료와 선행연구를 통해 생태문화적 재생 요소를 도출하고 이러한 틀을 바탕으로 전문가 설문조사를 실시하여 인천광역시 옹진군의 노후ㆍ쇠퇴시설의 생태문화적 재생 요소의 중요도를 연구하는데 목적이 있다. 본 연구의 공간적 범위는 인천광역시 옹진군으로 한정한다.   본 연구에서는 도서지역 재생에 적용가능한 생태문화적 재생 요인에 대한 내용만을 중점적으로 살펴보았다. 폐교는 넓은 부지와 건물을 이용할 수 있어 활용도가 매우 높은 시설물이다. 폐교에는 학교 건물과 운동장 부지가 포함되어 있다. 폐교는 지역의 향토적인 문화유산을 보존하거나 전시하여 문화를 활성화할 수 있고 지역주민을 위한 문화체육시설로 활용이 가능하다. 또한 아름다운 경관을 보유하고 있어 휴양시설로 활용이 가능하다.   노후ㆍ불량주택은 「농어촌주택개량촉진법」에 의해 농어촌 지역의 주거환경 향상을 위하여 노후하거나 불량한 농어촌주택을 개량하거나 철거하고 있다. 도서의 아름다운 경관을 보전하고 주민들의 안전한 생활을 제공하기 위해 노후ㆍ불량주택에 대한 관리가 시급하다. 노후ㆍ불량주택을 활용하면 기존 건물을 철거할 때 발생되는 폐자재와 쓰레기를 감소시킬 수 있다. 또한 건축적 가치와 역사적 가치가 있는 주택은 역사문화유산으로 보존할 필요가 있다.   해안가에 가까이 위치한 쇠퇴산업시설은 해양관광과 생태체험의 장소로 조성하는 계획을 가지고 있다. 쇠퇴산업시설을 친수공간으로 활용할 시, 보행자전용지구 및 보행자전용도로 설치, 보행자 도로 구축 및 네트워크 구성하여 주민 및 관광객들의 접근과 이용이 가능하도록 한다. 또한 해안을 중심으로 도서의 독특성을 담은 쉼터, 안내시설 등의 편의시설 배치하되 해양경관을 보전하여야 한다. 안전성을 고려한 시설물(가드레일, 가로등) 설치하여야 하고 수변감상을 위한 전망데크 조성하여야 한다.   폐공간은 보행, 휴식, 만남, 산책 등의 가로공간과 건물의 옥상, 건물과 건물사이의 자투리 공간, 골목 등의 건축공간이 있다. 폐공간은 좁은 자투리 공간으로 쓸모없는 공간으로 인식되어서 쓰레기 투기, 물건의 적재, 불법 주ㆍ정차 공간이 되고 있다. 따라서 환경악화와 사회문제를 발생시킬 뿐만 아니라 옹진군의 아름다운 경관을 저해하고 있다. 폐공간은 쾌적한 공간으로 변화시킬 수 있는 잠재적인 공간으로, 생태문화적 재생 시 다양한 활용방안을 모색해야 한다.\n",
      "\n",
      "\n",
      "원문보기\n",
      "\n",
      "\n",
      "목차검색조회\n",
      "\n",
      "\n",
      "음성듣기\n",
      "\n",
      "\n",
      "6   원도심 부산중구 신·재생에너지 도입방안에 관한 연구  임주호 동아대학교 동북아국제대학원 2010 국내석사  RANK : 3410735    원문보기  음성듣기               세계는 지구온난화로 인한 집중성 호우, 극심한 가뭄, 태풍 등에 시달리고 있다. 특히 개발도상국의 많은 인구(2억 6천 200만명)가 생명과 재산 피해에 가장 취약한 것으로 나타나고 있다. 지금 세계는 환경과 경제 두 마리의 토끼 를 잡겠다는 강한 의지를 보이고 있는 이러한 시기에 정부가 저탄소 녹색성장을 추진하겠다고 선언한 것은 매우 시기적절한 정책이라 고 할 수 있다.  한국은 온실가스 배출 순위에서 세계 10위 국가이며 1990년부터 2005년까지의 증가율을 보면 세계적으로 가장 높은 기록을 보여주고 있다. 에너지 소비는 10위권 내에 진입해있다. 환경위기를 타개하기 위해 많은 선진국 정부들과 세계 기업들, 시민들은 오래 전부터 행동을 개시하고 있다. 영국, 독일, 일본 등은 기후변화 법을 시행하고 있거나 시행을 고려 중이다. 영국은 2050년까지 60% 감축을 법으로 명시하고 있으며, 탄소 없는 지역사회를 목표로 건물 에너지 효율 기준을 높이도록 요구하고 제로탄소 주택 건설을 활발하게 추진하고 있다. 대량소비의 상징인 미국도 기후변화 대응에 부정적이더니 최근부터는 정책 변화를 보여주고 있다. 미국의 기업들이 앞장서서 온실가스 감축을 위한 정부의 강력한 법률 제정이 필요하다고 주장할 정도이다. 미국 전역의 300여 개 도시는 기후변화를 막기 위한 구체적인 행동에 돌입하고 있으며 32개 주정부는 구체적인 감축 목표를 세워 추진하고 있다. 녹색기술에 대한 사회적 요구와 공급도 함께 증대되고 있다. 대표적인 것이 신·재생에너지 분야 이다. 미국 태양에너지 학회는 태양에너지 녹색산업의 일자리가 2006년 1만 7600개에서 2030년 130만개로 무려 7,582%가 증가할 것으로 예측하고 있다. UN은 2003년부터 2005년 동안 중국 내에서 태양에너지로 인한 일자리 창출이 15만 명에 달한 것으로 보고하고 있다. 풍력 에너지의 경우 풍력 터빈의 규모가 독일에서만 지난 20년 동안 100배가 증가하였다. “이제는 그린 오션이다” 세계 기업들은 경영의 위험 관리를 위해서 기후변화 문제에 적극적으로 대응하고 있다. 세계자원연구소(WRI)는 현명하게 대응하지 못하는 기업들은 커다란 위험에 직면할 것으로 예상하고 있는데, 한국 기업에도 시사하는 바가 크다. 즉 기업에 대한 환경규제 강화의 위험, 대기업 협력사들의 대응 미비로 인한 제품 공급사슬의 붕괴 위험, 환경 친화적 제품 및 기술 개발의 격차에 따른 기술 종속 위험, 온실가스 다배출 기업에 대한 법적 소송의 위험, 기업 이미지나 제품 브랜드가 손상될 수 있는 위험, 기상재난에 의한 기업의 경제적 손실 위험 등을 경고하고 있다. 많은 기업들이 초기에는 기후변화 대응 문제를 비용으로 인식한 것은 사실이나, 이제는 당면 현실을 공감하고 있다. 따라서 지방자치단체의 원도심 부산중구에도 현실적 지역여건을 고려한 신재생에너지 종류를 선정해서 우선 시범 설치하여 전역확대실시 및 온실가스 저감정책에 관한 년차별 계획을 수립하여 탄소제로도시 구축으로 후손들에게 친환경 녹색성장 원도심의 쾌적한 환경보존과 탄소배출권의 경제적 부가가치 창출이 되는 그린 센터럴 시티 원도심 부산중구 만들기에 우리 다함께 지속적인 관심과 노력이 요구 된다. Caused by global warming, recently, localized torrential downpours, severe droughts and typhoons are sweeping the entire world, leaving life and property damages to which people of developing countries(262 million in total population) are most vulnerable. It's not easy to keep harmony between environment and economy. Nevertheless, the Korean government proclaimed that it would drive so-called the low-carbon green growth. This can be said a well-time policy. Korea is ranked 9th in the world in greenhouse gas emission and, especially, first in the increase rate of the emission between 1990 and 2005. The country also belongs to the world's top ten energy consumers. Lots of the governments of developed countries, global companies and citizens have been making actions against environmental crises. The U.K., Germany and Japan are already or considering implementing acts on climate change. Especially, the U.K. enacted a law that provided 60% reduction in the country's greenhouse gas emission by 2050. In addition, the British government is requesting regional communities to raise the standards of building energy efficiency and ultimately become free of carbon and actively promoting the construction of carbon-free houses. Despite that they are like the representative of enormously energy-consuming countries, the U.S. has so far been negative about taking measures against climate change. But now, their policies are changing. Notably, U.S. companies are raising their government's need to make a strong legislation for reduction in greenhouse gas emission.   In the U.S., about 300 cities are beginning to implement substantial actions to prevent climate change and 32 state governments are setting and actively driving to achieve substantial targets for reduction in greenhouse gas emission. In the country, green technology is being more and more supplied as it is being more and more socially demanded. One of the most representatives of the technology is the field of new and renewable energy. The U.S. Solar Energy Society has estimated that the number of jobs related to solar energy and the green industry would increase by as high as 7,582% from 17,600 in 2006 to 1,3 million in 2030. The U.N. has reported that 150,000 jobs related to solar energy would be created in China between 2003 and 2005. Only in Germany, the total capacity of wind power turbines increased by 100 times over the past 20 years. 1-2. \"Now, it's Green Ocean\". Under this slogan, lots of global companies are actively coping with the matter of climate change, ultimately controling possible risks of their business management. The World Resource Institute has warned that if enterprises fail to cope better with climate change, they would face many serious risks, for example, strengthening  environmental regulations on business, collapse of supply chains due to poor cooperation by conglomerates as partners in greenhouse gas emission reduction, technological dependence on other enterprises due to gap in the ability to develop environment-friendly products and technologies, facing lawsuits against excessive greenhouse gas emission, devaluation of corporate and brand images and undergoing financial damages due to aggravated weather conditions. All of these possible risks give lots of suggestions for Korean businesses. Initially, lots of enterprises thought that measures against climate change were just things of which cost was arisen. But now, they are considering climate change management as a very important issue in question. In this study, it is proposed that as a model case, new and renewable energies should be first introduced to the main downtown of Busan, that is, Jung-gu district provided kinds of the energies are determined considering physical conditions of the district. Later, it might be possible to introduce such energies throughout Busan and make yearly plans for reducing greenhouse gas emission in the city. If all of these moves become successful, our descendants would live in the city where they enjoy fruits of the environment-friendly, green growth and added values created by the carbon emission right. Above all, therefore, we should continue paying much attention and making lots of efforts in order to making Jung-gu district as the green center of the city.\n",
      "\n",
      "\n",
      "원문보기\n",
      "\n",
      "\n",
      "음성듣기\n",
      "\n",
      "\n",
      "7   공공의무화 제도를 통한 건축산업 신재생에너지 동향에 관한 연구  김도헌 울산대학교 2010 국내석사  RANK : 3410734    원문보기 목차검색조회  음성듣기               국 문 요 약 최근 모든 산업의 화두는 신재생에너지(New Renewable Energy) 에 초점이 맞추어 있다. 국내뿐만 아니라 세계적인 화두이기도 하다.  정부 슬로건도 녹생성장 이라는 단어를 중심으로 하여 각 산업별 패러다임을 형성하고 있다. 주제의 핵심은 온실가스 감축의무부담 본격화, 에너지 패러다임의 전환, 에너지시장 불안정 심화, 국가간 신재생에너지 기술경쟁 심화가 신재생에너지의 필요성을 부추기고 있다.   따라서 건축산업 또한 이점을 지켜보고만 있을 수는 없는 입장이다. 신재생에너지 및 재생에너지 개발, 이용, 보급촉진법 제 12조 제 2항에 의거하여 연면적 3,000㎡ 이상의 공공기관 건축 시 공사비의 5% 이상을 신재생에너지 이용에 쓰도록 의무화 하고 있다.    따라서, 본 연구는 신재생에너지(신에너지+재생에너지)의 원별 중 신에너지 3개분야(연료전지, 수소에너지, 석탄액화가스 및 중질잔사유 가스화에너지)와 재생에너지 8개분야(태양열, 태양광, 풍력, 해양, 지열, 수력, 바이오에너지, 폐기물에너지)중 보편적으로 건축물에 적용이 가능한 재생에너지의 일원인 태양열, 태양광, 지열을 공공의무화 제도를 통한 사례를 조사하여 건축산업 신재생에너지 동향을 연구하였으며 결론은 다음과 같다. 첫째, 신재생에너지에 대한 건축공사비 설비투자비율은 의무화 비율을 조금 넘어선 5.5%의 평균투자 비율을 나타내고 있으며, 에너지원별 투자분석은 지열, 태양광, 태양열 순이며, 조사대상 379개 건축물중 건축물 유형에서는 교육연구 및 복지시설이 132개로 가장 많았으며 다음으로는 공공업무시설 순이다. 건축유형별 적용현황은 설계건당 적용설비건수는 1.1건~1.8의 평균 적용건수를 나타낸다.  둘째, 신재생에너지 기술현황 및 전망으로, 태양광의 경우 보급물량의 급격한 신장으로 Cost인하가 가장 두드러진 현상이며, 태양광 주택 보급의 경우 2004년 310호에서 2007년 8,000호이며 2012년 10,000호를 목표로 하며, ㎾당 설치단가 추이는 2003년 1,500만원, 2006년 940만원, 2007년 840만원이며, 2009년 800만원 초반 단계이다. 하지만 공공의무화 대상이 아닌 민간투자의 경우 초기투자 대비 손익분기점이 15년이상 소요된다는 단점이 있다. 태양열의 경우 안정적 시장확대가 도모되며 냉난방, 중고온 분야로 기술개발 및 실증이 확대되어 건축물 난방, 온수설비에 다각도로 활용되고 있으며, 지열은 핵심기술개발 및 보급기반이 점차 확대되어 지열설비의 설치가 지속적으로 증가하는 추세이며, 특히 공공기관 설치의무화 이후 지열 설비설치가 급격히 증가하였으며, 태양열, 태양광, 지열중 투자대비 활용적 가치측면에서는 지열이 가장 우수한 것으로 사료된다.  아울러 우리나라 건설산업은 1970년대 이후 급속한 경제성장 과정에서 양적인 성장에서 질적인 성장으로 거듭․발전하면서 세계적으로 기술력을 인정받고 있으며 최근 화두가 되고 있는 신재생에너지가 건축산업에 새로운 패러다임으로 성장하고 있어 국내 건축산업이 이러한 변화에 적극적인 대응과 노력이 필요할 것으로 사료된다..\n",
      "\n",
      "\n",
      "원문보기\n",
      "\n",
      "\n",
      "목차검색조회\n",
      "\n",
      "\n",
      "음성듣기\n",
      "\n",
      "\n",
      "8   노후항만 재생을 위한 워터프론트 공공디자인에 관한 연구 : 인천내항 1,8부두 사례연구  김세훈 인하대학교 대학원 2010 국내석사  RANK : 3410734    원문보기 목차검색조회  음성듣기               인류의 문명이 시작되면서 물은 매우 중요한 역할을 하고 있다. 특히, 산업사회가 되면서 강이나 바다는 항만으로 건설되어 물류기능의 중심인 교통, 정보, 무역 등 서로의 교류를 위해 중요수단으로 활용되고 있다. 그러나 시간이 흐름에 따라 세계의 경제구조가 변화되면서 제조업은 점점 쇠퇴되었고, 수변공간은 점차 노후한 산업시설로 인해 환경오염은 물론 도시공동화 현상 등 도시전체에 부정적인 영향을 주는 요인으로 전락하게 되었다.선진국에서는 이처럼 사회문제로 전락하여 버려진 수변공간을 1970년을 전․후로 재개발하였으며, 성공적인 사례가 다양하다. 이러한 성공적인 수변공간의 재개발 사례가 세계적으로 알려지면서 아시아에서도 수변공간을 매력적인 공간으로 재개발하여 새로운 공간으로 재창조하기 시작하였다. 최근 우리나라에서도 세계적인 변화추세와 도시생활의 패러다임 변화로 인해 휴식 및 레크레이션 장소로 수변공간이 주목받고 있다. 따라서 한강 르네상스 프로젝트, 부산 북항 재개발 등 크고, 작은 수변공간에 대한 개발이 활발히 진행되고 있다.이러한 맥락에서 본 논문의 목적은 최근 재개발사업으로 이슈가 되고있는 인천내항의 1,8부두를 대상지로 선정하여 현재 국토해양부에서 추진 중인 마스터플랜의 핵심내용을 평가․분석하고, 노후한 항만의 재생을 워터프론트공공디자인을 통하여 대상지가 더욱더 발전할 수 있도록 발전방향을 모색하기 위함이다. 왜냐하면 워터프론트공공디자인은 수변이 인접한 공간에 공공디자인의 개념을 반영하여 더욱 매력적인 공간으로 창출하기 위한 디자인이며, 단순한 디자인의 개념을 벗어나 수변공간으로의 접근성 향상과 수변공간에서의 쾌적한 생활을 고려한 디자인으로 정의할 수 있기 때문이다. 이러한 워터프론트 공공디자인은 인천내항 1,8부두의 노후한 항만의재생은 물론 도시가경쟁력을 가질수있도록 하는 중요한 수단이 될 수 있다.이러한 맥락에서 본 논문은 워터프론트의 핵심디자인 요소를 ①경관의연출, ②호안디자인, ③광장디자인, ④수변의연출 ⑤산책보행로디자인,  ⑥건물환경디자인, ⑦소프트웨어연출로 구분하였다. 또한 공공디자인의 핵심디자인요소를 ①공공시설물, ②공공시각매체, ③옥외광고물, ④공공건축물, ⑤공공공간으로 구분하였다. 이러한 워터프론트의 핵심디자인요소와 공공디자인 핵심디자인요소와의 연관성 분석을 통해 본 논문의 분석의 틀로 활용하였다.또한 워터프론트 공공디자인의 해외사례연구 대상지로 일본의 미나토미라이21과 시드니의 달링하버를 선정하였으며 분석결과 ①역사문화자원의 활용과 지역정체성이 확립되어야 하고, ②친환경 워터프론트가 조성되어야 하며, ③워터프론트 랜드마크 디자인을 강화하고, ④정부주도의 사업추진 의지와 긴밀한 민관협력이 필요하다는 시사점을 도출하였다. 이러한 해외사례 시사점을 기준으로 최근계획 중인 국토해양부 마스터플랜의 핵심내용을 평가․분석한 결과 ①구도심과의 연계성 강화와 지역의 정체성을 강화할 필요가 있으며, ②친환경 친수공간 디자인 강화와 워터프론트의 접근성의 향상을 위한 디자인 전략이 필요하고, ③인천의 대표적인 워터프론트 상징거리 조성과, ④민간의 사업참여 기회와 민관협력 시스템 구축이 필요하다는 결론을 도출하였다. 이러한 시사점을 인천내항 1,8부두의 워터프론트 공공디자인을 위한 발전방향으로 제시하였다.\n",
      "\n",
      "\n",
      "원문보기\n",
      "\n",
      "\n",
      "목차검색조회\n",
      "\n",
      "\n",
      "음성듣기\n",
      "\n",
      "\n",
      "9   순환골재를 이용한 해양생태 복원용 포러스콘크리트의 역학적 특성 및 적용성 평가에 관한 연구  이준 忠南大學校 2008 국내박사  RANK : 3410733    원문보기 목차검색조회  음성듣기               In the twenty first century, the climate has changed as a result of global warming, the protection of the earth's environment has become humans' urgent mission. The whole world tries to develop the new environmental friendly ideas and technology. In the construction sector, development is being made considering both environmental problems and improving scenic beauty of cities. The harmony between nature and concrete structures was also required. In view of this requirement, various research paths are being taken, focusing on coarse aggregates to make multi-functional porous concrete having continuous voids so as to improve water and air permeability, noise absorption, water purification, and applicable to vegetation.Further, urban redevelopment programs and expansion of social infrastructure have caused massive amounts of construction waste in construction fields, and the mounds of it keep increasing every year. Among construction wastes, waste concrete, the most commonly used, is mostly recycled as base course material, reclamation material, and block for pavement. However, 90% of it has been recycled as a simple material because of lack of recycling facilities and technology for quality confirmation. Considering that South Korea does not possess enough natural aggregate resources, research on various usages of alternative aggregate resources is definitely necessary in terms of valid use of resources and protection of the environment.  Therefore, this study aims at searching for optimum manufacturing conditions and performance improvement factors for a stable quality confirmation of porous concrete. This present  ways of efficient recycling of waste concrete, which is construction waste to improve the quality of porous concrete, and test the possibility for restoration of ocean ecology. And this study analyzes mechanical properties, such as strengths and durabilities, according to mixing factors of porous concrete; this uses recycled aggregate, and performs field application through the evaluation of habitation ability of the ocean ecosystem. The result of the study are as follows. (1) The characteristics of porous concrete, according to mixing methods, shows that as the mixing time increases, void ratio and compressive strength become stabilized. The case that used materials are divided, and mixed by omni mixer, realized the most excellent mixture and physical characteristics. (2) As for the low water-cement ratio that is mostly applied to porous concrete, rodding, which is a specimen casting method of normal concrete, cannot perform the uniform specimen casting due to many human factors. Vibrating compaction satisfied target void ratio and shows excellent characteristics of strength.(3) As for effects, according to the use of silica fume and glass fiber to improve quality of porous concrete, 10% of silica fume and 3% of glass fiber satisfied the target void ratio and presents distinguished characteristics of strength. The quality improvement by mixing silica fume and glass fiber is effective for the case that uses recycled aggregate.(4) Void ratio of porous concrete and coefficient of water permeability slightly increase as the mixing ratio of recycled aggregate increases, but the difference is insignificant. The characteristics of strength decreases as the target void ratio and grading of aggregate increase. And as contents of recycled aggregate increase, strength decreases. However, in a case that silica fume and glass fiber mix at the same time, in a 100% mixing ratio of recycled aggregate, when only crushed aggregate are used, 90∼94% compressive strength is shown and flexural strength shows similar strength characteristics. (5) Durability of porous concrete that uses recycled aggregate presents a similar tendency to strength characteristics. As target void ratio and mixing ratio of recycled aggregate increases, the durability decreases, and becomes better when the grading of aggregate is small. Also, when silica fume and glass fiber are mixed, durability of porous concrete increases. This quality improvement is effective in the case of using recycled aggregate and by 50% of mixing ratio of recycled aggregate. The durability is better than when only crushed aggregate is used.  (6) Habitation ability of ocean seaweeds and small creatures of porous concrete is improved 1.9 to 4.6 times compared to the normal concrete, which shows that verifies that it provides an excellent habitation base for marine organisms. Also, the factor of porous concrete that most effects activation of ocean seaweeds and small animals is void ratio. As void ratio increases, the habitation areas and numbers of marin creatures increase. When covering area ratio of seaweeds, more than 20% of target void ratio, more than 50% of covering area ratio of seaweeds is shown. Also, the difference between habitation conditions and distribution of ocean life is insignificant according to mixing ratio of recycled aggregate. Thus, extensive use of recycled aggregate is possible as using material of porous concrete for restoration of ocean ecosystem. 21세기에 들어 지구 온난화 현상에 의한 기상이변의 속출로 환경보존 문제가 인류의 공통과제로 인식되어 감에 따라 전 세계적으로 환경을 배려한 신개념·신기술의 개발이 요구되고 있는 실정이다. 건설분야에서도 각종 개발 시 주변 환경과의 조화 및 공생을 전제로 한 개발이 요구되어 콘크리트에 잔골재를 사용하지 않고 단입도의 굵은골재만을 사용하여 복합체 내부에 인위적으로 다량의 연속공극 및 넓은 비표면적을 형성시켜 투수, 투기, 생물의 서식기반 제공 등 환경친화적 기능을 갖는 포러스콘크리트에 주목하여 다양한 용도로의 활용연구가 진행되고 있으며, 우리나라에서도 이에 관한 연구가 주목받고 있다.  또한 최근 도시 재개발사업 및 사회기반 시설의 확충 등으로 건설현장에서는 막대한 양의 건설폐기물이 발생되고 있으며, 그 발생량은 매년 증가추세에 있다. 폐기물 중 가장 큰 비중을 차지하는 폐콘크리트는 그동안 노반재, 매립재, 포장용 블록 등으로 주로 이용되어 왔으나 재생설비 및 품질확보 기술의 미흡 등으로 90% 이상이 단순 재활용에만 이용되고 있어 천연골재 자원이 부족한 국내 실정을 감안할 때 자원의 유효이용 및 환경보존 측면에서 대체 골재 자원으로서의 다양한 용도개발 연구가 시급한 실정이다. 따라서, 본 연구에서는 건설폐기물인 폐콘크리트의 유효활용 방안 제시와 포러스콘크리트의 품질특성 향상 및 해양생태 복원용 소재로서의 적용가능성을 검증하기 위하여 포러스콘크리트의 안정적인 품질확보를 위한 최적 제조조건과 성능향상 요인을 도출하고 폐콘크리트 순환골재를 이용한 포러스콘크리트의 배합요인별 강도 및 내구성 등의 역학적 특성 분석과 해양생물의 서식능력 평가를 통한 현장 적용성 연구를 수행하였다. 본 연구에서 수행한 연구결과를 요약하면 다음과 같다.(1) 포러스콘크리트의 혼합방법에 따른 특성은 믹싱시간이 증가할수록 공극률 및 압축강도 특성이 안정화되는 것으로 나타났으며, 옴니믹서를 사용하여 사용재료를 분할 혼합한 경우가 가장 우수한 혼합성 및 물리적 특성을 구현하였다. (2) 포러스콘크리트에 주로 사용되는 낮은 물-시멘트비 영역에서는 일반콘크리트의 공시체 제작방법인 봉다짐의 경우 인적요인이 많이 작용하여 균일한 공시체의 제작이 곤란한 것을 확인할 수 있었으며, 진동다짐의 경우가 목표공극률을 만족시키고 강도특성 또한 우수한 것으로 나타났다.(3) 포러스콘크리트의 품질특성 개선을 위한 실리카퓸 및 유리섬유의 사용에 따른 영향은 실리카퓸 10%와 유리섬유 3%에서 목표공극률을 만족시키고 우수한 강도특성을 나타냈으며, 또한 실리카퓸 및 유리섬유의 혼입에 따른 품질특성 개선은 순환골재를 사용한 경우에도 효과적임을 확인할 수 있었다.  (4) 포러스콘크리트의 공극률 및 투수계수는 순환골재의 혼입률이 증가함에 따라 다소 증가하는 것으로 나타났으나 그 차이는 미미하였다. 강도특성은 목표공극률 및 골재입도가 증가함에 따라 감소하는 것으로 나타났으며, 순환골재의 혼입률이 증가하는 경우에도 강도는 저하되는 것으로 나타났다. 하지만 실리카퓸 및 유리섬유를 동시에 혼입한 경우 순환골재 혼입률 100%에서는 부순돌만을 사용한 경우에 비하여 90∼94% 정도의 압축강도를 발현하였고, 휨강도의 경우에는 유사한 강도특성을 나타냈다. (5) 순환골재를 이용한 포러스콘크리트의 내구성은 강도특성의 경우와 유사한 경향을 나타내 목표공극률 및 순환골재 혼입률이 증가함에 따라 내구성능이 저하되는 것으로 나타났으며, 골재입도가 작은 경우가 다소 양호한 성능을 나타냈다. 또한, 실리카퓸 및 유리섬유를 혼입한 경우에는 포러스콘크리트의 내구성능이 향상되었으며, 이러한 품질특성 개선 효과는 순환골재를 혼입한 경우에도 유효하여 순환골재 혼입률 50%까지는 부순돌만을 사용한 경우보다 우수하거나 유사한 내구성능을 나타냈다. (6) 포러스콘크리트의 해양식물 및 소동물의 서식능력은 일반콘크리트에 비하여 1.9∼4.6배까지 향상되어 해양생물의 서식기반 제공능력이 우수함을 확인할 수 있었다. 또한 포러스콘크리트의 해양식물 및 소동물의 활성화에 가장 큰 영향을 미치는 요인은 공극률인 것으로 나타났으며, 공극률이 증가함에 따라 해양생물의 서식면적 및 개체수가 증가하였고, 해양식물의 경우 목표공극률 20% 이상에서는 50% 이상의 해양식물 피복률을 나타냈다. 또한 순환골재 혼입에 따른 해양생물의 서식상태와 분포 차이는 미미한 것으로 나타나 해양생태 복원용 포러스콘크리트의 사용골재로서 순환골재의 대량 활용이 가능할 것으로 판단된다.\n",
      "\n",
      "\n",
      "원문보기\n",
      "\n",
      "\n",
      "목차검색조회\n",
      "\n",
      "\n",
      "음성듣기\n",
      "\n",
      "\n",
      "10   發泡 폴리스틸렌 廢材를 利用한 再生 輕量骨材 콘크리트의 物性에 관한 硏究  안재철 東亞大學校 大學院 2002 국내박사  RANK : 3410732    원문보기               최근 人類가 직면한 環境問題의 약 30% 정도가 建設行爲에서 기인한다는 점을 고려할 때, 環境親和的 建築은 가장 시급히 해결해야할 문제중 하나이다. 이러한 관점에서 볼 때, 消費의 副産物은 再活用을 통하여 또 다른 生産을 위한 投入資源으로 인식되어야 한다. 短期的으로 보면, 이러한 과정은 生産單價를 상승시키고 利潤이 減少되는 것처럼 보이지만, 『持讀 可能한 開發(sustainable development)』을 위한 基本的인 접근이라 할 것이다.本 硏究는 産業廢棄物을 再活用하기 위한 신기술 개발의 일환으로, 재활용율이 50%로 미진한 發泡폴리스틸렌(EPS, Expanded Polystyrene) 廢材를 이용하여 再生 輕量骨材로서 활용하고자 한다. 그러나, EPS 내부의 많은 空隙(Porosity)은 경량콘크리트의 輕量性과 斷熱性을 높이는 측면에서는 장점이 있으나, 强度와 耐久性 측면에서 많은 문제점이 있다.따라서 본 논문은 廢 EPS의 再加工을 통하여 경량콘크리트의 제반 물성에 유리한 새로운 空隙構造를 가진 재생 경량골재를 개발하고, 그 活用價値를 확인하는 것을 주 연구방향으로 한다.또한, 경량콘크리트 적용실험을 통하여 構造用 및 非構造用 경량콘크리트로서의 제반 물성을 골재의 공극구조에 준하여 定量的으로 分析하고, 향후 實用化 및 配合設計를 위한 기초자료를 마련하는데 본 연구의 목적이 있다.本 硏究를 통하여 얻어진 연구결과를 요약하면 다음과 같다.第 1章에서는 輕量骨材 및 輕量콘크리트의 개발에 관한 社會的·技術的 背景과 그에 따른 硏究의 目的을 제시하였으며, 세부 연구의 구성에 관하여 정리하였다.第 2章은 理論的 考察로서, 기존 경량골재 및 경량콘크리트의 특성과 空隙理論을 통하여 新材料의 開發方向을 구체화할 수 있었다.특히, EPS 廢棄物의 發生과 再活用에 관한 現況分析을 통하여, 現 都市社曾의 環境的 問題點을 고찰하고, 재생골재의 개발시 예측되는 效用性과 建築材料로서의 향후 適用可能性을 예측할 수 있었다.第 3章에서는 본 연구에서 개발한 EPS 再生骨材의 새로운 空隙構造와 그에 따른 物性을 고찰하였으며, 그 결과는 다음과 같다.(1) 폐 EPS를 瞬間 摩擦熱 鎔融方式을 이용하여 再加工한 EPS 재생골재는 超輕量骨材로서, 내부조직은 두꺼운 隔璧으로 둘러싸인 다량의 空隙으로 이루어져 있으며, 공극들은 독립된 상태로 존재하는 것으로 나타났다.(2) EPS 再生骨材의 壓縮强度 결과를 통하여 내부 독립공극과 격벽으로 구성된 空隙構造의 構造的 性能이 우수한 것을 확인할 수 있었다.第 4章에서는 EPS 재생골재를 이용한 경량콘크리트의 輕量性 및 斷熱性能에 관하여 실험을 통해 고찰하였으며, 다음과 같은 결과를 얻었다.(1) 超輕量骨材인 EPS 재생 잔골재와 굵은골재를 혼합·치환한 경량콘크리트는 보통 콘크리트의 절반 수준의 경량성을 나타내었다.(2) EPS 재생 잔골재와 굵은골재를 이용한 경량콘크리트는 輕量콘크리트 1·2種과 유사한 단열성능을 나타내었으며, 全骨材를 EPS 재생골재로 이용한 경우 보통콘크리트에 비하여 약 70% 斷熱效果를 나타내었다.(3) 超音波傳播速度法은 경량콘크리트 內部의 空隙量의 推定에 유효하였으며, 제반 물성과의 상관성이 높아 향후 品質管理에 있어 유효할 것으로 나타났다.第 5章에서는 EPS 재생골재를 이용한 경량콘크리트의 流動特性 중 슬럼핑擧動과 材料分離抵抗性에 관하여 고찰하였으며, 연구결과는 다음과 같다.(1) 旣存의 輕量骨材와 달리 독립공극으로 이루어진 EPS 재생골재는 prewetting 하지 않은 氣乾狀態에도 不安定한 슬럼프가 나타나지 않아 流動性管理가 우수한 것으로 나타났다.(2) 경량콘크리트의 슬럼프는 單位容積重量에 큰 영향을 받는 것으로 나타났으며, 향후 超輕量콘크리트의 實用化를 위해서는 단위용적중량과 배합설계를 고려한 最適 目標 슬럼프를 정하는 것이 品質管理에 있어 중요할 것으로 판단된다.(3) EPS 재생골재를 이용한 경량콘크리트는 普通콘크리트 基準 20㎝ 以上의 슬럼프에서 材料分離가 크게 나타났으며, 단위 페이스트량이 많을수록 骨材의 移動範圍가 큰 것으로 나타났다. 硏究結果, 單位容積重量을 이용하여 경량콘크리트의 材料分離振抗性을 定量的으로 分析할 수 있었다.第 6章에서는 EPS 재생골재를 이용한 경량콘크리트의 强度特性에 관하여 실험을 통한 연구를 진행한 결과, 다음과 같은 결과를 얻었다.(1) EPS 재생골재를 이용한 경량콘크리트는 기존의 경량콘크리트에 비하여 우수한 강도성상을 나타내었으며, 매트릭스와 골재간의 合成擧動效果가 우수한 것으로 나타났다. 이는 골재강도가 높아 골재 微細龜裂의 발생시점이 高强度 領域에서 나타났기 때문인 것으로 판단된다.(2) 콘크리트 內部의 空隙量 推定에 有效한 것으로 나타난 超音波傳播速度法은 압축강도의 추정에도 신뢰성이 높은 非破壞試驗法인 것으로 판단된다.第 7章에서는 輕量骨材의 空隙理論과 실험결과를 토대로 EPS 재생골재의 공극특성이 경량콘크리트의 제반 성능에 미치는 영향을 최종적으로 고찰할 수 있었으며, 향후 경량콘크리트의 配合設計를 위한 자료로서 활용이 가능할 것으로 판단된다.이상과 같이 본 연구의 결과를 총괄하여 볼 때, EPS 廢棄物을 이용하여 경량콘크리트용 골재로서 제반 물성이 우수한 재생골재의 개발이 가능한 것으로 나타났다. 따라서, EPS 再生骨材를 이용한 輕量콘크리트는 建築物 外壁시스템의 적용시 우수한 성능을 나타낼 것으로 판단되며, 海洋産業과 밀접한 관련이 있는 국내여건을 고려할 때 향후 海洋構造物 및 浮揚構造物로의 활용이 가능할 것으로 보인다. We extract gross amount of natural resources from earth -which is organic unit-, consume and dispose the waste matter without any consideration of final destination. This is the most impending environmental problem which the human race are facing. Especially, because the 30% of ecological crisis depends on construction activities, architecture that harmonize with environment is one of the most important issues that needs to be solved.Therefore, the wastes by recycling have to percept resources for another products. For short terms, this process seems to increase the production cost and seems to decrease profits. However, this is basic approach for the \"ESSD (Environmentally sound and sustainable development)\".This study is one of the new technical developments for recycling industrial wastes, so we are going to use the EPS waste, which have the percentage of recycling rate are about 50%, as recycled lightweight aggregate by processing.Since there are many good properties on EPS's porous microstructure, it On the other hand, increases lightness and thermal insulation of concrete. there are many problems in strength, durability.Therefore, the main purpose of this study is to develope recycled lightweight aggregate with new pore structure, and to estimate the value of recycling by advantage of the whole property on lightweight concrete through EPS waste by processing.Another purpose of the study is to quantitative analysis property on lightweight concrete such as lightness, thermal insulation, fluidity, strength, etc with experiments, and to provide fundamental data for mix design and practical use from now.In short, the results of the study are such that ;In chapter one, first mention is that there is the social & technical background for development of lightweight aggregate and lightweight concrete. The second mention is that the purpose of the study is provided. And last, the detail of the study‘s hierarchy is arranged.In chapter two, the way of new material's developments are visualized through the character of the existing lightweight aggregate & lightweight concrete and porosity theory.Especially, the environmental problems in the present urban society is considered by the present state analysis of EPS's waste occurrence and recycling, and predicts effective value when recycled aggregate is developed and the possible application as architecture materials.In chapter three, new pore structure of EPS lightweight aggregate considered through the study and experienced that property. And the results are as follows ;1) EPS aggregate are super lightweight aggregate and specific gravity are under 1.0. Also it makes of EPS waste by the frictional heat of fusion, the inside pore structure are made with independent pores with thick septum.2) EPS aggregate with independent pores have really low absorption rate comparing with existing lightweight aggregates, also it is really easy toquality control in terms of fresh concrete.3) From the results of EPS aggregate's strength, the pore structure with independent pores & septum are very superior in structural property to others.In chapter four, the experiment is considered lightness and thermal insulation of lightweight concrete by using of EPS aggregate the results are as follows ;1) All-lightweight concrete using EPS aggregate such as super lightweight aggregate showed halves of lightness comparing with ordinary concrete.2) Thermal insulation effect of lightweight concrete using EPS fine or coarse aggregate is similar to lightweight concrete type Ⅰ&Ⅱ. And compared to normal concrete, all-lightweight concrete using EPS aggregate shows 70% of thermal insulation effect.3) Ultrasonic pulse velocity on nondestructive test can estimate porosity in lightweight concrete. Also it can effectively apply to quality control because of hight relationship with all-lightweight concrete's property.In chapter five, lightweight concrete using EPS aggregate considered slumping behavior & segregation-resistibility among concrete's fluidity properties. The results are as follows ;1) EPS aggregate are really good in terms of fluidity control since it's absorption rate is very lower than that of the existing lightweight aggregate's that. Also it does not show unstable slump value if it does not prewetting in the condition of air-dry.2) In equal mix design, all-lightweight concrete's slump are measured differently in terms of unit weight. For the practical use of all-lightweight concrete, targeted slump value considering targeted unit weight is important decisions for quality control.3) From the results, segregation-resistibility can analysis as quantitatively taking advantage of unit weight of all-lightweight concrete.All-lightweight concrete using EPS aggregate showed segregation when the slump is more than 20cm, also the more quantity of paste have, the movement of aggregates cover a wide range.In chapter six, all-lightweight concrete using EPS aggregate are considered in strength properties. The results are as follows ;1) All-lightweight concrete using EPS aggregate are superior to other existing lightweight concrete in terms of strength. And composite behavior between paste matrix and aggregate was excellent also.2) Ultrasonic pulse velocity that can estimate porosity in concrete's internal parts rely on nondestructive test with compressive strength estimates.In chapter seven, base on lightweight aggregate's pore theory and experimental results, pore characteristics of EPS aggregate can be finally considered to whole efficiency of lightweight concrete. Also it believes that the study can give an useful data for mix design of lightweight concrete from now on.Considering all results of this study, recycled lightweight aggregate using EPS waste had excellent properties as aggregate for lightweight concrete.Therefore, all-lightweight concrete using EPS aggregate can be very efficient when it applies an outer wall system of the building, and it can be useful of marine structure & floating offshore structure since the domestic conditions are close to ocean industrial.From now on, the range of practical use of EPS aggregate will be use more extend as structural materials if the resinoid materials make up the weak point as heat-resistance with developing fireproofing method.\n",
      "\n",
      "\n",
      "원문보기\n",
      "\n",
      "\n"
     ]
    }
   ],
   "source": [
    "#Step 5.학위 논문 선택하기\n",
    "# link : 하이퍼링크 이동할 때, 페이지를 변경할때 많이 씀\n",
    "# link_text : 글을 눌러 하이퍼링크로 이동할 때\n",
    "driver.find_element_by_link_text('학위논문').click()\n",
    "time.sleep(2)\n",
    "\n",
    "#Step 6.Beautiful Soup 로 본문 내용만 추출하기\n",
    "from bs4 import BeautifulSoup\n",
    "html_1 = driver.page_source #현재 페이지의 전체 소스코드를 다 가져오기\n",
    "soup_1 = BeautifulSoup(html_1, 'html.parser')\n",
    "\n",
    "# .find('태그명', '속성값') = .find('태그명', calss_='속성값')\n",
    "content_1 = soup_1.find('div','srchResultListW').find_all('li')\n",
    "for i in content_1 :\n",
    "    print(i.get_text().replace(\"\\n\",\" \").strip())\n",
    "    print(\"\\n\")"
   ]
  },
  {
   "cell_type": "code",
   "execution_count": 46,
   "metadata": {},
   "outputs": [
    {
     "name": "stdout",
     "output_type": "stream",
     "text": [
      "결과를 저장할 파일명을 쓰세요(예: e:\\BigAI\\iss.txt): e:\\BigAI\\iss.txt\n",
      "요청하신 데이터 수집 작업이 정상적으로 완료되었습니다\n",
      "수집된 결과는 e:\\BigAI\\iss.txt 에 저장되었습니다\n"
     ]
    }
   ],
   "source": [
    "#Step 7. 표준 출력 방향을 바꾸어 txt 파일에 저장하기\n",
    "import sys \n",
    "f_name = input('결과를 저장할 파일명을 쓰세요(예: e:\\\\BigAI\\\\iss.txt): ')\n",
    "\n",
    "orig_stdout = sys.stdout\n",
    "file = open(f_name , 'a' , encoding='UTF-8')\n",
    "sys.stdout = file  #모니터에 출력하지 말고 file 에 출력해라\n",
    "\n",
    "for i in content_1 :\n",
    "    #i.get_text() == i.string\n",
    "    print(i.get_text().replace(\"\\n\",\"\"))\n",
    "\n",
    "file.close()    \n",
    "sys.stdout = orig_stdout  #원래대로 변경 - 다시 화면에 출력시켜라    \n",
    "\n",
    "print('요청하신 데이터 수집 작업이 정상적으로 완료되었습니다')\n",
    "print('수집된 결과는 %s 에 저장되었습니다' %f_name)"
   ]
  },
  {
   "cell_type": "code",
   "execution_count": null,
   "metadata": {},
   "outputs": [],
   "source": []
  },
  {
   "cell_type": "markdown",
   "metadata": {},
   "source": [
    "## 연습 문제로 실력 굳히기\n",
    "\n",
    "1. 네이버 사이트에서 '서진수 빅데이터'로 검색 한 후 '뉴스' 카테고리를 선택하여 조회된 기사들을 수집하여 txt 형식으로 저장하세요(단, 파일경로와 이름은 자유롭게 선택하세요)\n",
    "\n",
    "2. 다음 사이트에서 '서수진 빅데이터'로 검색한 후 '뉴스' 카테고리를 선택하여 조회된 기사들을 수집하여 txt 형식으로 저장하세요(단 파일 경로와 이름은 자유롭게 선택하세요)\n",
    "\n",
    "3. 한국관광공사의 대한민국 구석구석 사이트(https://korean.visitkorea.or.kr) 에서 \"여름방학\" 키워드로 검색한 후 화면 오른쪽의 \"어제의 인기 검색어\" 목록을 수집하여 txt 형식으로 저장하세요. (단 파일경로와 이름은 자유롭게 선택하세요)"
   ]
  },
  {
   "cell_type": "code",
   "execution_count": 47,
   "metadata": {},
   "outputs": [],
   "source": [
    "chrome_path = 'C:/Users/aa/Downloads/chromedriver_win32/chromedriver.exe'\n",
    "driver = webdriver.Chrome(chrome_path)\n",
    "\n",
    "url = 'https://www.naver.com/'\n",
    "driver.get(url)\n",
    "time.sleep(2)\n",
    "\n",
    "element = driver.find_element_by_id(\"query\")\n",
    "driver.find_element_by_id(\"query\").click()\n",
    "element.send_keys('서진수 빅데이터')\n",
    "element.send_keys('\\n')"
   ]
  },
  {
   "cell_type": "code",
   "execution_count": 52,
   "metadata": {},
   "outputs": [
    {
     "name": "stdout",
     "output_type": "stream",
     "text": [
      "문서 저장하기  Keep에 저장 Keep 바로가기  베타뉴스2018.04.11. 빅데이터 전문가 서진수, '강사양성' 직접 나선다   해당 과정에 대한 내용은 오프라인 설명회에서 공개되며, 참가를 원하는 사람은 19일까지 온오프믹스 홈페이지(KBS 명견만리 서진수 직강 '빅데이터 전문강사 되기' 무료 세미나)를 통해 신청하면 된다. 서진수 대표에...\n",
      "\n",
      "\n",
      "문서 저장하기  Keep에 저장 Keep 바로가기  중도일보2018.04.10. 빅데이터 전문가 서진수, 4차 산업혁명 시대의 가치와 준비 방법 제시   지난 6일, 성수동 카페에서 진행된 명사와의 인터뷰에서 빅데이터 전문가 서진수 대표가 4차산업혁명과 빅데이터, 미래에 대해 약 4시간 동안 다양한 이야기를 나눴다. Q. 간단하게 본인 소개 부탁 드립니다. A. 저는 고향이...\n",
      "\n",
      "\n",
      "문서 저장하기  Keep에 저장 Keep 바로가기  게임포커스2015.08.10. '빅데이터 분석 전도사' 서진수 소장 \"데이터 분석, 누구나 할 수 있다\"   게임포커스는 '빅데이터 분석 전도사'로 잘 알려진 서진수 데이터컨시어지랩 연구소장을 만나 빅데이터, 빅데이터 전문가란 어떤 것인지, 그가 강연 등에서 소개한 데이터 분석 툴 'R'은 어떤 것인지 들어봤다....\n",
      "\n",
      "\n",
      "문서 저장하기  Keep에 저장 Keep 바로가기  연합뉴스2015.05.20.네이버뉴스 '빅데이터 분석 전도사' 서진수, 무료 강연 진행   ▲도서출판더알음(대표 서진수)은 빅데이터 활용과 관련해 대학교와 대학원, 회사 등에서 무료 지식특강을 진행한다고 20일 밝혔다. 입문자와 초보자를 위한 빅데이터 분석 방법을 다루는 이번 강의는 취업난을 겪고...\n",
      "\n",
      "\n",
      "문서 저장하기  Keep에 저장 Keep 바로가기  SBS CNBC2015.05.18.네이버뉴스 빅데이터 전문가 서진수 청년들의 희망 멘토로 강단 서다   저자 서진수는 \"빅데이터는 앞으로 산업 분야를 가리지 않고 우리가 사는 미래를 예측할 수 있는 도구가 될 것\"이라고 예상하면서 \"데이터 분석에 입문하고자 하는 분들이나 현직에서 데이터 관련 업무를 하고 있지만...\n",
      "\n",
      "\n",
      "문서 저장하기  Keep에 저장 Keep 바로가기  뉴시스2015.05.04.네이버뉴스 ‘빅데이터 분석 전도사’ 서진수 주목, 인문대생 멘토   = 데이터 관리와 분석 전문가인 서진수가 빅데이터 활용 무료강연을 펼치고 있다. 그는 데이터 관련 분야에서 15년 정도 종사하면서 다양한 기업체의 데이터베이스를 구축하고 운영, 분석해왔다. 오라클 SQL과 PL/SQL...\n",
      "\n",
      "\n",
      "문서 저장하기  Keep에 저장 Keep 바로가기  서울신문5면 TOP2018.10.19.네이버뉴스 [2018 서울미래컨퍼런스] “40만개 기사 1시간 만에 크롤링… 2020년 빅데이터...   [서울신문] 2015~2018년 언론 기사 크롤링 시연 연령별·성별 관심 뉴스 한번에 보여줘 “남북관계에서도 빅데이터 활용 가능”서진수 데이터앤피플 대표4개로 분할된 커다란 화면에 작은 글씨로 된 수백개의 기사...\n",
      "\n",
      "\n",
      "문서 저장하기  Keep에 저장 Keep 바로가기  뉴스12016.05.10.네이버뉴스 인공지능 시대 개막, 빅데이터 분석 세미나 ‘화제’   ㈜데이터앤피플, ㈜컨시어지소프트의 서진수 대표는 빅데이터와 머신 러닝 관련 분야 전문가로 15년의 경력을 자랑하는 베테랑이다. 서진수 대표는 지식은 널리 퍼질수록 더 가치가 있고 세상을 밝게 할 수 있다는...\n",
      "\n",
      "\n",
      "문서 저장하기  Keep에 저장 Keep 바로가기  데일리한국2016.05.02. 알파고 통해 바라본 미래…빅데이터 중요성 확대   빅데이터 전문가 서진수 대표 “빅데이터와 프로그래밍 관련지식이 곧 경쟁력” 세계를 휩쓴 올 상반기 최대의 이슈 가운데 하나는 알파고와 이세돌9단의 대국이었다. 인간과 인공지능의 대결로도 풀이되는 이번 대국은...\n",
      "\n",
      "\n",
      "문서 저장하기  Keep에 저장 Keep 바로가기  디지털타임스2016.04.28.네이버뉴스 인공지능 시대, 빅데이터와 프로그래밍 중요성 강조   ㈜데이터앤피플과 ㈜컨시어지소프트를 운영하는 빅데이터 전문가 서진수 대표에게 이야기를 들어보았다. 최근 KBS와 TV조선 등의 프로그램에서 빅데이터 분석 기술을 활용해 사회적 이슈를 분석하며 시청자들이...\n",
      "\n",
      "\n"
     ]
    }
   ],
   "source": [
    "driver.find_element_by_link_text('뉴스').click()\n",
    "time.sleep(2)\n",
    "\n",
    "#Step 6.Beautiful Soup 로 본문 내용만 추출하기\n",
    "from bs4 import BeautifulSoup\n",
    "html_1 = driver.page_source #현재 페이지의 전체 소스코드를 다 가져오기\n",
    "soup_1 = BeautifulSoup(html_1, 'html.parser')\n",
    "\n",
    "# .find('태그명', '속성값') = .find('태그명', calss_='속성값')\n",
    "content_1 = soup_1.find('ul','list_news').find_all('li')\n",
    "for i in content_1 :\n",
    "    print(i.get_text().replace(\"\\n\",\" \").strip())\n",
    "    print(\"\\n\")"
   ]
  },
  {
   "cell_type": "code",
   "execution_count": 51,
   "metadata": {},
   "outputs": [
    {
     "name": "stdout",
     "output_type": "stream",
     "text": [
      "결과를 저장할 파일명을 쓰세요(예: e:\\BigAI\\iss.txt): e:\\BigAI\\naver_serch.txt\n",
      "요청하신 데이터 수집 작업이 정상적으로 완료되었습니다\n",
      "수집된 결과는 e:\\BigAI\\naver_serch.txt 에 저장되었습니다\n"
     ]
    }
   ],
   "source": [
    "import sys \n",
    "f_name = input('결과를 저장할 파일명을 쓰세요(예: e:\\\\BigAI\\\\iss.txt): ')\n",
    "\n",
    "orig_stdout = sys.stdout\n",
    "file = open(f_name , 'a' , encoding='UTF-8')\n",
    "sys.stdout = file  #모니터에 출력하지 말고 file 에 출력해라\n",
    "\n",
    "for i in content_1 :\n",
    "    #i.get_text() == i.string\n",
    "    print(i.get_text().replace(\"\\n\",\"\"))\n",
    "\n",
    "file.close()    \n",
    "sys.stdout = orig_stdout  #원래대로 변경 - 다시 화면에 출력시켜라    \n",
    "\n",
    "print('요청하신 데이터 수집 작업이 정상적으로 완료되었습니다')\n",
    "print('수집된 결과는 %s 에 저장되었습니다' %f_name)"
   ]
  },
  {
   "cell_type": "code",
   "execution_count": 53,
   "metadata": {},
   "outputs": [],
   "source": [
    "chrome_path = 'C:/Users/aa/Downloads/chromedriver_win32/chromedriver.exe'\n",
    "driver = webdriver.Chrome(chrome_path)\n",
    "\n",
    "url = 'https://www.daum.net/'\n",
    "driver.get(url)\n",
    "time.sleep(2)\n",
    "\n",
    "element = driver.find_element_by_id(\"q\")\n",
    "driver.find_element_by_id(\"q\").click()\n",
    "element.send_keys('서진수 빅데이터')\n",
    "element.send_keys('\\n')"
   ]
  },
  {
   "cell_type": "code",
   "execution_count": 58,
   "metadata": {},
   "outputs": [
    {
     "name": "stdout",
     "output_type": "stream",
     "text": [
      "노랑풍선, ‘자유여행 통합 플랫폼’ 오픈 오늘=서진수 관광레저 전문기자] 정진원 (주)노랑풍선 기획총괄 전무는 10일 ‘자유여행 플랫폼’ 오픈과 관련해 “향후 차세대 한국형 OTA로 새로운 여행 트렌드를 제시해 갈 것”이라며 “자체시스템 구축을 계기로 포스트 코로나 여행시장을 주도해 가는 한편...  위클리오늘 2021.06.11  10301^https://cp.news.search.daum.net/p/107310345^26nTJJmphzH02nYkTH^news^mediaArticle^%EC%84%9C%EC%A7%84%EC%88%98%20%EB%B9%85%EB%8D%B0%EC%9D%B4%ED%84%B0^26nTJJmphzH02nYkTH\n",
      "\n",
      "\n",
      "'명견만리' 초연결시대, 당신의 정보가 만들어 낸 빅데이터 혁명…프리젠터 김승주 교수 서진수 대표 데이터 전문가 서진수 대표와 함께 그 내막을 들어본다. * 프리젠터 김승주 : 고려대학교 정보보호대학원 교수 * 프리젠터 서진수 : 빅데이터 전문가 ■ 개인정보 유출 1위 국가, 대한민국! 지난주, 국내 1위 이동통신사에서 가입자 절반이 넘는 2800만 명의 개인...  라이브엔 2016.07.15  10301^https://cp.news.search.daum.net/p/47360876^265M9e0rCnIQa8l465^news^mediaArticle^%EC%84%9C%EC%A7%84%EC%88%98%20%EB%B9%85%EB%8D%B0%EC%9D%B4%ED%84%B0^265M9e0rCnIQa8l465\n",
      "\n",
      "\n",
      "서진수 대표, 변화의 흐름을 이끄는 빅데이터 전문가 산업혁명’ 변화의 흐름을 이끄는 빅데이터 전문가 서진수 ㈜컨시어지소프트 대표 | ㈜데이터앤피플 대표 언제부터인가 미디어에서...등장하고 있다. 4차 산업혁명은 인공 지능, 사물인터넷, 빅데이터, 모바일 등 첨단 정보통신기술이 발달함에 따라 경제·사회 전반...  주간인물위클리피플 2017.08.24  10301^https://cp.news.search.daum.net/p/59256114^26JVyheIX6WbWzmPRg^news^mediaArticle^%EC%84%9C%EC%A7%84%EC%88%98%20%EB%B9%85%EB%8D%B0%EC%9D%B4%ED%84%B0^26JVyheIX6WbWzmPRg\n",
      "\n",
      "\n",
      "빅데이터 전문가 서진수, '강사양성' 직접 나선다 과정에 대한 내용은 오프라인 설명회에서 공개되며, 참가를 원하는 사람은 19일까지 온오프믹스 홈페이지(KBS 명견만리 서진수 직강 '빅데이터 전문강사 되기' 무료 세미나)를 통해 신청하면 된다. 서진수 대표에 대한 자세한 정보는 포털에 ‘서진수 홈페이지...  베타뉴스 2018.04.11  10301^https://cp.news.search.daum.net/p/66155286^263bKe-7sS__Pl5dOU^news^mediaArticle^%EC%84%9C%EC%A7%84%EC%88%98%20%EB%B9%85%EB%8D%B0%EC%9D%B4%ED%84%B0^263bKe-7sS__Pl5dOU\n",
      "\n",
      "\n",
      "'빅데이터 분석 전도사' 서진수 주목, 인문대생 멘토 【서울=뉴시스】유희연 기자 = 데이터 관리와 분석 전문가인 서진수가 빅데이터 활용 무료강연을 펼치고 있다. 그는 데이터 관련 분야에서 15년 정도 종사하면서 다양한 기업체의 데이터베이스를 구축하고 운영, 분석해왔다. 오라클 SQL과 PL/SQL, 오라클 관리실무...  뉴시스 2015.05.04 다음뉴스  10301^http://v.media.daum.net/v/20150504152121172?f=o^268BZtuxfC7fWOhRLl^news^mediaArticle^%EC%84%9C%EC%A7%84%EC%88%98%20%EB%B9%85%EB%8D%B0%EC%9D%B4%ED%84%B0^268BZtuxfC7fWOhRLl\n",
      "\n",
      "\n",
      "'빅데이터 분석 전도사' 서진수, 무료 강연 진행 ▲도서출판더알음(대표 서진수)은 빅데이터 활용과 관련해 대학교와 대학원, 회사 등에서 무료 지식특강을 진행한다고 20일 밝혔다. 입문자와 초보자를 위한 빅데이터 분석 방법을 다루는 이번 강의는 취업난을 겪고 있는 인문계열 학생들을 위해 기획됐다. 최근...  연합뉴스 2015.05.20 다음뉴스  10301^http://v.media.daum.net/v/20150520111211126?f=o^268tp7EaE5MK52uHSk^news^mediaArticle^%EC%84%9C%EC%A7%84%EC%88%98%20%EB%B9%85%EB%8D%B0%EC%9D%B4%ED%84%B0^268tp7EaE5MK52uHSk\n",
      "\n",
      "\n",
      "빅데이터 전문가 서진수, 청년 멘토로 나서 매우 어렵다. 그러므로 취업 성공을 위해서는 현직에서 전문가로 종사하고 있는 '선배'들의 조언이 큰 길잡이가 될 수 있다. 빅데이터 전문가 서진수(도서출판 더알음 대표)는 취업을 꿈꾸는 청년들의 멘토 역할을 자처한다. 대학, 기업, 관공서 등에서 강의하며...  조선일보 2015.04.20 다음뉴스  10301^http://v.media.daum.net/v/20150420130412151?f=o^26HvRH6sJOQJSCds4s^news^mediaArticle^%EC%84%9C%EC%A7%84%EC%88%98%20%EB%B9%85%EB%8D%B0%EC%9D%B4%ED%84%B0^26HvRH6sJOQJSCds4s\n",
      "\n",
      "\n",
      "빅데이터 전문가 서진수 청년들의 희망 멘토로 강단 서다 직장인들에게 작은 도움이 되고자 여러 대학교와 대학원, 회사 등을 방문해 무료 특강을 진행하고 있는 것이다. 저자 서진수는 \"빅데이터는 앞으로 산업 분야를 가리지 않고 우리가 사는 미래를 예측할 수 있는 도구가 될 것\"이라고 예상하면서 \"데이터 분석에 입문...  SBS Biz 2015.05.18 다음뉴스  10301^http://v.media.daum.net/v/20150518133505852?f=o^26HxvVzNjpqpg_P3zh^news^mediaArticle^%EC%84%9C%EC%A7%84%EC%88%98%20%EB%B9%85%EB%8D%B0%EC%9D%B4%ED%84%B0^26HxvVzNjpqpg_P3zh\n",
      "\n",
      "\n",
      "코로나19가 바꿔놓은 대한민국 관광지도 [위클리오늘=서진수 관광레저 전문기자] 코로나19는 한국인들의 국내여행 지형마저 크게 바꿔놓았다. 한국관광공사(사장 안영배)가...지출도 2019년과 크게 달라진 양상을 보였다. 이동통신 빅데이터(KT)를 활용해 기초지자체별 방문자수를 분석해 본 결과, 인천공항...  위클리오늘 2021.02.24  10301^https://cp.news.search.daum.net/p/103217460^26KCO28bm-59HmwIVb^news^mediaArticle^%EC%84%9C%EC%A7%84%EC%88%98%20%EB%B9%85%EB%8D%B0%EC%9D%B4%ED%84%B0^26KCO28bm-59HmwIVb\n",
      "\n",
      "\n",
      "'빅데이터 분석 전도사' 서진수 소장 \"데이터 분석, 누구나 할 수 있다\" 빅데이터라는 말이 여기저기서 사용되고 있지만 빅데이터가 무엇인지를 아는 사람은 드물 것 같다. 빅데이터란 대체 무엇인가 서진수 소장: 빅데이터란 용어는 크다, 빠르다, 많다 등 다양한 의미를 가지고 있습니다만 더 쉽게 말하자면 우리 주변에서 우리를...  게임포커스 2015.08.10  10301^https://cp.news.search.daum.net/p/37605667^264Egw0tf8xLqg52gt^news^mediaArticle^%EC%84%9C%EC%A7%84%EC%88%98%20%EB%B9%85%EB%8D%B0%EC%9D%B4%ED%84%B0^264Egw0tf8xLqg52gt\n",
      "\n",
      "\n"
     ]
    }
   ],
   "source": [
    "driver.find_element_by_link_text('뉴스').click()\n",
    "time.sleep(2)\n",
    "\n",
    "#Step 6.Beautiful Soup 로 본문 내용만 추출하기\n",
    "from bs4 import BeautifulSoup\n",
    "html_1 = driver.page_source #현재 페이지의 전체 소스코드를 다 가져오기\n",
    "soup_1 = BeautifulSoup(html_1, 'html.parser')\n",
    "\n",
    "# .find('태그명', '속성값') = .find('태그명', calss_='속성값')\n",
    "content_1 = soup_1.find('ul','list_news').find_all('li')\n",
    "for i in content_1 :\n",
    "    print(i.get_text().replace(\"\\n\",\" \").strip())\n",
    "    print(\"\\n\")"
   ]
  },
  {
   "cell_type": "code",
   "execution_count": 59,
   "metadata": {
    "scrolled": true
   },
   "outputs": [
    {
     "name": "stdout",
     "output_type": "stream",
     "text": [
      "결과를 저장할 파일명을 쓰세요(예: e:\\BigAI\\iss.txt): e:\\BigAI\\daum_search.txt\n",
      "요청하신 데이터 수집 작업이 정상적으로 완료되었습니다\n",
      "수집된 결과는 e:\\BigAI\\daum_search.txt 에 저장되었습니다\n"
     ]
    }
   ],
   "source": [
    "import sys \n",
    "f_name = input('결과를 저장할 파일명을 쓰세요(예: e:\\\\BigAI\\\\iss.txt): ')\n",
    "\n",
    "orig_stdout = sys.stdout\n",
    "file = open(f_name , 'a' , encoding='UTF-8')\n",
    "sys.stdout = file  #모니터에 출력하지 말고 file 에 출력해라\n",
    "\n",
    "for i in content_1 :\n",
    "    #i.get_text() == i.string\n",
    "    print(i.get_text().replace(\"\\n\",\"\"))\n",
    "\n",
    "file.close()    \n",
    "sys.stdout = orig_stdout  #원래대로 변경 - 다시 화면에 출력시켜라    \n",
    "\n",
    "print('요청하신 데이터 수집 작업이 정상적으로 완료되었습니다')\n",
    "print('수집된 결과는 %s 에 저장되었습니다' %f_name)"
   ]
  },
  {
   "cell_type": "code",
   "execution_count": 74,
   "metadata": {},
   "outputs": [],
   "source": [
    "chrome_path = 'C:/Users/aa/Downloads/chromedriver_win32/chromedriver.exe'\n",
    "driver = webdriver.Chrome(chrome_path)\n",
    "\n",
    "url = 'https://korean.visitkorea.or.kr'\n",
    "driver.get(url)\n",
    "time.sleep(2)\n",
    "\n",
    "driver.maximize_window() #최대화 후 크롤링 진행"
   ]
  },
  {
   "cell_type": "code",
   "execution_count": 75,
   "metadata": {},
   "outputs": [],
   "source": [
    "# driver.find_element_by_id(\"openSearchFormInput\").click()\n",
    "\n",
    "element = driver.find_element_by_id(\"inp_search\")\n",
    "driver.find_element_by_id(\"inp_search\").click()\n",
    "element.send_keys('여름여행')\n",
    "element.send_keys('\\n')"
   ]
  },
  {
   "cell_type": "code",
   "execution_count": 80,
   "metadata": {},
   "outputs": [
    {
     "data": {
      "text/plain": [
       "'\\n어제의 인기 검색어\\n1여름여행2경기도3통영4강원도5가을여행6부산7제주도8계곡9여수10경주\\n'"
      ]
     },
     "execution_count": 80,
     "metadata": {},
     "output_type": "execute_result"
    }
   ],
   "source": [
    "full_html = driver.page_source\n",
    "soup = BeautifulSoup(full_html, 'html.parser')\n",
    "\n",
    "#하나의 세트로 뽑는다.\n",
    "content_list = soup.find('div', 'area_sWordList').get_text()\n",
    "\n",
    "content_list"
   ]
  },
  {
   "cell_type": "code",
   "execution_count": 81,
   "metadata": {
    "scrolled": false
   },
   "outputs": [
    {
     "name": "stdout",
     "output_type": "stream",
     "text": [
      "1여름여행\n",
      "\n",
      "\n",
      "2경기도\n",
      "\n",
      "\n",
      "3통영\n",
      "\n",
      "\n",
      "4강원도\n",
      "\n",
      "\n",
      "5가을여행\n",
      "\n",
      "\n",
      "6부산\n",
      "\n",
      "\n",
      "7제주도\n",
      "\n",
      "\n",
      "8계곡\n",
      "\n",
      "\n",
      "9여수\n",
      "\n",
      "\n",
      "10경주\n",
      "\n",
      "\n"
     ]
    }
   ],
   "source": [
    "#Step 6.Beautiful Soup 로 본문 내용만 추출하기\n",
    "from bs4 import BeautifulSoup\n",
    "html_1 = driver.page_source #현재 페이지의 전체 소스코드를 다 가져오기\n",
    "soup_1 = BeautifulSoup(html_1, 'html.parser')\n",
    "\n",
    "# .find('태그명', '속성값') = .find('태그명', calss_='속성값')\n",
    "content_1 = soup_1.find('div','box_rightType3').find_all('li')\n",
    "for i in content_1 :\n",
    "    print(i.get_text().replace(\"\\n\",\" \").strip())\n",
    "    print(\"\\n\")"
   ]
  },
  {
   "cell_type": "code",
   "execution_count": 82,
   "metadata": {},
   "outputs": [
    {
     "name": "stdout",
     "output_type": "stream",
     "text": [
      "여름여행\n",
      "\n",
      "\n",
      "경기도\n",
      "\n",
      "\n",
      "통영\n",
      "\n",
      "\n",
      "강원도\n",
      "\n",
      "\n",
      "가을여행\n",
      "\n",
      "\n",
      "부산\n",
      "\n",
      "\n",
      "제주도\n",
      "\n",
      "\n",
      "계곡\n",
      "\n",
      "\n",
      "여수\n",
      "\n",
      "\n",
      "경주\n",
      "\n",
      "\n"
     ]
    }
   ],
   "source": [
    "#Step 6.Beautiful Soup 로 본문 내용만 추출하기\n",
    "from bs4 import BeautifulSoup\n",
    "html_1 = driver.page_source #현재 페이지의 전체 소스코드를 다 가져오기\n",
    "soup_1 = BeautifulSoup(html_1, 'html.parser')\n",
    "\n",
    "# .find('태그명', '속성값') = .find('태그명', calss_='속성값')\n",
    "content_1 = soup_1.find('div','box_rightType3').find_all('li')\n",
    "\n",
    "for i in content_1 :\n",
    "    txt = i.find('em').get_text()\n",
    "    print(txt)\n",
    "    print(\"\\n\")"
   ]
  },
  {
   "cell_type": "code",
   "execution_count": 73,
   "metadata": {},
   "outputs": [
    {
     "name": "stdout",
     "output_type": "stream",
     "text": [
      "결과를 저장할 파일명을 쓰세요(예: e:\\BigAI\\iss.txt): e:\\\\BigAI\\\\summer.txt\n",
      "요청하신 데이터 수집 작업이 정상적으로 완료되었습니다\n",
      "수집된 결과는 e:\\\\BigAI\\\\summer.txt 에 저장되었습니다\n"
     ]
    }
   ],
   "source": [
    "import sys \n",
    "f_name = input('결과를 저장할 파일명을 쓰세요(예: e:\\\\BigAI\\\\iss.txt): ')\n",
    "\n",
    "orig_stdout = sys.stdout\n",
    "file = open(f_name , 'a' , encoding='UTF-8')\n",
    "sys.stdout = file  #모니터에 출력하지 말고 file 에 출력해라\n",
    "\n",
    "for i in content_1 :\n",
    "    #i.get_text() == i.string\n",
    "    print(i.get_text().replace(\"\\n\",\"\"))\n",
    "\n",
    "file.close()    \n",
    "sys.stdout = orig_stdout  #원래대로 변경 - 다시 화면에 출력시켜라    \n",
    "\n",
    "print('요청하신 데이터 수집 작업이 정상적으로 완료되었습니다')\n",
    "print('수집된 결과는 %s 에 저장되었습니다' %f_name)"
   ]
  },
  {
   "cell_type": "markdown",
   "metadata": {},
   "source": [
    "# 항목별 내용 추출 후 다양한 형식의 파일로 저장"
   ]
  },
  {
   "cell_type": "markdown",
   "metadata": {},
   "source": [
    "1 - 10 : driver.find_element_by_link_text('2').click()\n",
    "11 : > 표시 눌러"
   ]
  },
  {
   "cell_type": "code",
   "execution_count": null,
   "metadata": {},
   "outputs": [],
   "source": [
    "# riss.kr 에서 특정 키워드로 논문 / 학술 자료 검색하기\n",
    "\n",
    "#Step 1. 필요한 모듈을 로딩합니다\n",
    "from selenium import webdriver\n",
    "import time \n",
    "\n",
    "#Step 2. 사용자에게 검색 관련 정보들을 입력 받습니다.\n",
    "print(\"=\" *100)\n",
    "print(\" 이 크롤러는 RISS 사이트의 논문 및 학술자료 수집용 웹크롤러입니다.\")\n",
    "print(\"=\" *100)\n",
    "query_txt = input('1.수집할 자료의 키워드는 무엇입니까?(여러개일 경우 , 로 구분하여 입력): ')\n",
    "\n",
    "#Step 3. 수집된 데이터를 저장할 파일 이름 입력받기 \n",
    "ft_name = input('2.결과를 저장할 txt형식의 파일명을 쓰세요(예: e:\\\\BigAI\\\\riss.txt): ')\n",
    "fc_name = input('3.결과를 저장할 csv형식의 파일명을 쓰세요(예: e:\\\\BigAI\\\\riss.csv): ')\n",
    "fx_name = input('4.결과를 저장할 xls형식의 파일명을 쓰세요(예: e:\\\\BigAI\\\\riss.xls): ')\n",
    "\n",
    "#Step 4. 크롬 드라이버 설정 및 웹 페이지 열기\n",
    "chrome_path = 'C:/Users/aa/Downloads/chromedriver_win32/chromedriver.exe'\n",
    "driver = webdriver.Chrome(chrome_path)\n",
    "\n",
    "url = 'http://www.riss.kr/'\n",
    "driver.get(url)\n",
    "time.sleep(2)\n",
    "\n",
    "#Step 5. 자동으로 검색어 입력 후 조회하기\n",
    "element = driver.find_element_by_id(\"query\")\n",
    "driver.find_element_by_id(\"query\").click( )\n",
    "element.send_keys(query_txt)\n",
    "element.send_keys(\"\\n\")\n",
    "time.sleep(2)\n",
    "\n",
    "#Step 6.학위 논문 선택하기\n",
    "driver.find_element_by_link_text('학위논문').click()\n",
    "time.sleep(2)\n",
    "\n",
    "#Step 7.Beautiful Soup 로 본문 내용만 추출하기\n",
    "from bs4 import BeautifulSoup\n",
    "html_1 = driver.page_source\n",
    "soup_1 = BeautifulSoup(html_1, 'html.parser')\n",
    "\n",
    "content_1 = soup_1.find('div','srchResultListW').find_all('li')\n",
    "for i in content_1 :\n",
    "    print(i.get_text().replace(\"\\n\",\"\"))\n",
    "\n",
    "#Step 8. 총 검색 건수를 보여주고 수집할 건수 입력받기\n",
    "import math\n",
    "total_cnt = soup_1.find('div','searchBox pd').find('span','num').get_text()\n",
    "print('검색하신 키워드 %s (으)로 총 %s 건의 학위논문이 검색되었습니다' %(query_txt,total_cnt))\n",
    "collect_cnt = int(input('이 중에서 몇 건을 수집하시겠습니까?: '))\n",
    "collect_page_cnt = math.ceil(collect_cnt / 10)\n",
    "print('%s 건의 데이터를 수집하기 위해 %s 페이지의 게시물을 조회합니다.' %(collect_cnt,collect_page_cnt))\n",
    "\n",
    "#Step 9. 각 항목별로 데이터를 추출하여 리스트에 저장하기\n",
    "no2 = [ ]        #번호 저장\n",
    "title2 = [ ]     #논문제목 저장\n",
    "writer2 = [ ]    #논문저자 저장\n",
    "org2 = [ ]       #소속기관 저장\n",
    "no = 1\n",
    "\n",
    "# 다음 페이지 번호 만들기\n",
    "page_no=[ ]\n",
    "\n",
    "for i in range(10,collect_cnt) :\n",
    "    if i % 10 == 0 :\n",
    "            page_no.append(i + 1)\n",
    "\n",
    "for a in range(1, collect_page_cnt + 1) :\n",
    "    \n",
    "    html_2 = driver.page_source\n",
    "    soup_2 = BeautifulSoup(html_2, 'html.parser')\n",
    "\n",
    "    content_2 = soup_2.find('div','srchResultListW').find_all('li')\n",
    "    \n",
    "    for b in content_2 :    \n",
    "        #1. 논문제목 있을 경우만\n",
    "        try :\n",
    "            title = b.find('div','cont').find('p','title').get_text()\n",
    "        except :\n",
    "            continue\n",
    "        else :\n",
    "            f = open(ft_name, 'a' , encoding=\"UTF-8\")\n",
    "            print('1.번호:',no)\n",
    "            no2.append(no)\n",
    "            f.write('\\n'+'1.번호:' + str(no))\n",
    "\n",
    "            print('2.논문제목:',title)\n",
    "            title2.append(title)\n",
    "            f.write('\\n' + '2.논문제목:' + title)\n",
    "            \n",
    "            writer = b.find('span','writer').get_text()\n",
    "            print('3.저자:',writer)\n",
    "            writer2.append(writer)\n",
    "            f.write('\\n' + '3.저자:' + writer)\n",
    "\n",
    "            org = b.find('span','assigned').get_text()\n",
    "            print('4.소속기관:' , org)\n",
    "            org2.append(org)\n",
    "            f.write('\\n' + '4.소속기관:' + org + '\\n')\n",
    "            \n",
    "            f.close( )\n",
    "            \n",
    "            no += 1\n",
    "            print(\"\\n\")\n",
    "            \n",
    "            if no > collect_cnt :\n",
    "                break\n",
    "\n",
    "            time.sleep(1)        # 페이지 변경 전 1초 대기 \n",
    "\n",
    "        c = math.floor(a/10)-1 \n",
    "        a += 1\n",
    "\n",
    "        if a == page_no[c]:\n",
    "            driver.find_element_by_link_text('다음 페이지로').click()\n",
    "        else :\n",
    "            driver.find_element_by_link_text('%s' %a).click() # 다음 페이지번호 클릭\n",
    "        \n",
    "print(\"요청하신 작업이 모두 완료되었습니다\")\n",
    "\n",
    "# Step 10. 수집된 데이터를 xls와 csv 형태로 저장하기\n",
    "import pandas as pd \n",
    "\n",
    "df = pd.DataFrame()\n",
    "df['번호']=no2\n",
    "df['제목']=pd.Series(title2) # pd.Series()를 사용하는 이유는 빈 공간을 NaN으로 채우기 위해\n",
    "df['저자']=pd.Series(writer2)\n",
    "df['소속(발행)기관']=pd.Series(org2)\n",
    "\n",
    "# xls 형태로 저장하기\n",
    "df.to_excel(fx_name,index=False, encoding=\"utf-8\")\n",
    "\n",
    "# csv 형태로 저장하기\n",
    "df.to_csv(fc_name,index=False, encoding=\"utf-8-sig\")\n",
    "\n",
    "print('요청하신 데이터 수집 작업이 정상적으로 완료되었습니다')\n"
   ]
  }
 ],
 "metadata": {
  "kernelspec": {
   "display_name": "Python 3",
   "language": "python",
   "name": "python3"
  },
  "language_info": {
   "codemirror_mode": {
    "name": "ipython",
    "version": 3
   },
   "file_extension": ".py",
   "mimetype": "text/x-python",
   "name": "python",
   "nbconvert_exporter": "python",
   "pygments_lexer": "ipython3",
   "version": "3.8.5"
  }
 },
 "nbformat": 4,
 "nbformat_minor": 4
}
