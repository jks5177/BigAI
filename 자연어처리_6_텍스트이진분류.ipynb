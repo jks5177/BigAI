{
  "nbformat": 4,
  "nbformat_minor": 0,
  "metadata": {
    "colab": {
      "name": "6_텍스트이진분류.ipynb",
      "provenance": [],
      "collapsed_sections": [],
      "authorship_tag": "ABX9TyMcVMCKvLDSAFSwtW7uQptZ",
      "include_colab_link": true
    },
    "kernelspec": {
      "name": "python3",
      "display_name": "Python 3"
    },
    "language_info": {
      "name": "python"
    },
    "accelerator": "GPU"
  },
  "cells": [
    {
      "cell_type": "markdown",
      "metadata": {
        "id": "view-in-github",
        "colab_type": "text"
      },
      "source": [
        "<a href=\"https://colab.research.google.com/github/jks5177/BigAI/blob/main/%EC%9E%90%EC%97%B0%EC%96%B4%EC%B2%98%EB%A6%AC_6_%ED%85%8D%EC%8A%A4%ED%8A%B8%EC%9D%B4%EC%A7%84%EB%B6%84%EB%A5%98.ipynb\" target=\"_parent\"><img src=\"https://colab.research.google.com/assets/colab-badge.svg\" alt=\"Open In Colab\"/></a>"
      ]
    },
    {
      "cell_type": "markdown",
      "metadata": {
        "id": "p81T9Sio3DL7"
      },
      "source": [
        "# 사전 설정\n"
      ]
    },
    {
      "cell_type": "markdown",
      "metadata": {
        "id": "geOg7i_zrlII"
      },
      "source": [
        "## 구글 드라이브 연결"
      ]
    },
    {
      "cell_type": "code",
      "metadata": {
        "colab": {
          "base_uri": "https://localhost:8080/"
        },
        "id": "3_4SbMwHilkb",
        "outputId": "b262685e-5fa3-4d2a-cc92-a70aca7b72c8"
      },
      "source": [
        "from google.colab import drive\n",
        "drive.mount('/content/gdrive', force_remount=True)"
      ],
      "execution_count": null,
      "outputs": [
        {
          "output_type": "stream",
          "text": [
            "Mounted at /content/gdrive\n"
          ],
          "name": "stdout"
        }
      ]
    },
    {
      "cell_type": "code",
      "metadata": {
        "id": "3jQ34kJxi8Nh"
      },
      "source": [
        "!cp -r /content/gdrive/MyDrive/BigLeaderAI/자연어처리 /content/"
      ],
      "execution_count": null,
      "outputs": []
    },
    {
      "cell_type": "code",
      "metadata": {
        "colab": {
          "base_uri": "https://localhost:8080/"
        },
        "id": "PGugUrsJ5COo",
        "outputId": "fe02b8ae-9301-4dc7-b086-d28a431142c6"
      },
      "source": [
        "%cd /content/gdrive/MyDrive/BigLeaderAI/자연어처리/pytest/aclImdb_v1_small/aclImdb/"
      ],
      "execution_count": null,
      "outputs": [
        {
          "output_type": "stream",
          "text": [
            "/content/gdrive/MyDrive/BigLeaderAI/자연어처리/pytest/aclImdb_v1_small/aclImdb\n"
          ],
          "name": "stdout"
        }
      ]
    },
    {
      "cell_type": "code",
      "metadata": {
        "colab": {
          "base_uri": "https://localhost:8080/"
        },
        "id": "VTuxkO9xIGIj",
        "outputId": "a0053aa1-5e12-43c3-cb27-d4981d540a89"
      },
      "source": [
        "!ls"
      ],
      "execution_count": null,
      "outputs": [
        {
          "output_type": "stream",
          "text": [
            "test  train\n"
          ],
          "name": "stdout"
        }
      ]
    },
    {
      "cell_type": "markdown",
      "metadata": {
        "id": "Ri12kFTmKB4r"
      },
      "source": [
        "# Train Data Loading"
      ]
    },
    {
      "cell_type": "code",
      "metadata": {
        "id": "JwkEgW0bKEV6"
      },
      "source": [
        "import os\n",
        "\n",
        "imdb_dir = '/content/gdrive/MyDrive/BigLeaderAI/자연어처리/pytest/aclImdb_v1_small/aclImdb/'\n",
        "train_dir = os.path.join(imdb_dir, 'train')\n",
        "labels = []\n",
        "texts = []\n",
        "\n",
        "for label_type in ['neg', 'pos'] :\n",
        "  dir_name = os.path.join(train_dir, label_type)\n",
        "  for fname in os.listdir(dir_name) :\n",
        "    if fname[-4:] == '.txt' : # .txt파일 확인\n",
        "      f = open(os.path.join(dir_name, fname), encoding='utf8')\n",
        "      texts.append(f.read()) # 텍스트에 저장\n",
        "      f.close()\n",
        "      if label_type == 'neg' :\n",
        "        labels.append(0) # neg 폴더에 있는 값이면 0 추가\n",
        "      else :\n",
        "        labels.append(1) # pos 폴더에 있는 값이면 1 추가"
      ],
      "execution_count": null,
      "outputs": []
    },
    {
      "cell_type": "markdown",
      "metadata": {
        "id": "zW7tGa3BLcJW"
      },
      "source": [
        "# Data 확인"
      ]
    },
    {
      "cell_type": "code",
      "metadata": {
        "colab": {
          "base_uri": "https://localhost:8080/"
        },
        "id": "J1iCZusKKKx3",
        "outputId": "c7e2384e-4d2d-4908-89ef-2627638c3fd9"
      },
      "source": [
        "print('texts 0:', texts[0])\n",
        "print('texts len:', len(texts))\n",
        "\n",
        "print('labels 0 :', labels[0])\n",
        "print('labels len:', len(labels))\n",
        "\n",
        "print('texts type:', type(texts))"
      ],
      "execution_count": null,
      "outputs": [
        {
          "output_type": "stream",
          "text": [
            "texts 0: Story of a man who has unnatural feelings for a pig. Starts out with a opening scene that is a terrific example of absurd comedy. A formal orchestra audience is turned into an insane, violent mob by the crazy chantings of it's singers. Unfortunately it stays absurd the WHOLE time with no general narrative eventually making it just too off putting. Even those from the era should be turned off. The cryptic dialogue would make Shakespeare seem easy to a third grader. On a technical level it's better than you might think with some good cinematography by future great Vilmos Zsigmond. Future stars Sally Kirkland and Frederic Forrest can be seen briefly.\n",
            "texts len: 60\n",
            "labels 0 : 0\n",
            "labels len: 60\n",
            "texts type: <class 'list'>\n"
          ],
          "name": "stdout"
        }
      ]
    },
    {
      "cell_type": "markdown",
      "metadata": {
        "id": "_WYEoQHFLzo3"
      },
      "source": [
        "# Data Tokenizing\n",
        "\n",
        "* 텍스트에 사용된 단어의 종류를 빈도 순으로 정렬하는 작업을 수행한다."
      ]
    },
    {
      "cell_type": "code",
      "metadata": {
        "id": "x1DlN3QSLldT"
      },
      "source": [
        "%tensorflow_version 2.x\n",
        "from keras.preprocessing.text import Tokenizer\n",
        "from keras.preprocessing.sequence import pad_sequences\n",
        "import numpy as np\n",
        "import math\n",
        "\n",
        "validation_ratio = math.floor(len(texts) * 0.3) # validation 생성\n",
        "max_words = 10000 # 데이터셋에서 가장 빈도가 높은 9,999개의 단어만 사용한다. 남은 1개는 padding 0을 위해 남겨놓음\n",
        "maxlen = 200 # 항상 각 문장의 길이가 200 단어가 되도록 고정\n",
        "\n",
        "tokenizer = Tokenizer(num_words=max_words) # 상위빈도 max_words 개의 단어를 추려내는 Tokenizer 객체 생성\n",
        "tokenizer.fit_on_texts(texts) # texts 내용에 대한 단어 인덱스를 구축한다. 사용할 단어가 결정된다.\n",
        "word_index = tokenizer.word_index # 단어와 인덱스의 쌍을 가져온다."
      ],
      "execution_count": null,
      "outputs": []
    },
    {
      "cell_type": "markdown",
      "metadata": {
        "id": "mJq8u3GdOVrT"
      },
      "source": [
        "validation 데이터가 test로 사용하지 못하는 이유 :\n",
        "\n",
        "검증을 통해 모델이 조절되기 때문에 검증 데이터로 사용하지 못함\n",
        "\n",
        "이미 모델은 검증 데이터에 최적화 되어있음\n",
        "\n",
        "인덱싱의 첫 값이 1로 시작함 => 0번은 데이터 패딩에 이용함"
      ]
    },
    {
      "cell_type": "markdown",
      "metadata": {
        "id": "4fA89SvIQ_4J"
      },
      "source": [
        "# Tokenizing 결과 확인"
      ]
    },
    {
      "cell_type": "code",
      "metadata": {
        "colab": {
          "base_uri": "https://localhost:8080/"
        },
        "id": "fIRVD8NqRBkb",
        "outputId": "afe27625-ff69-4ccd-a239-4003928df5ca"
      },
      "source": [
        "print('전체에서 %s개의 고유한 토큰을 찾았습니다.'%len(word_index))\n",
        "print('word_index type: ', type(word_index))\n",
        "print('word_index: ', word_index)"
      ],
      "execution_count": null,
      "outputs": [
        {
          "output_type": "stream",
          "text": [
            "전체에서 2828개의 고유한 토큰을 찾았습니다.\n",
            "word_index type:  <class 'dict'>\n",
            "word_index:  {'the': 1, 'and': 2, 'a': 3, 'of': 4, 'to': 5, 'br': 6, 'is': 7, 'in': 8, 'i': 9, 'this': 10, 'it': 11, 'that': 12, 'for': 13, 'film': 14, 'was': 15, 'are': 16, 'with': 17, 'but': 18, 'movie': 19, 'as': 20, 'you': 21, 'not': 22, 'at': 23, 'he': 24, 'on': 25, 'be': 26, 'one': 27, 'have': 28, 'an': 29, 'all': 30, 'his': 31, 'like': 32, 'good': 33, 'has': 34, 'or': 35, 'some': 36, 'just': 37, 'so': 38, 'even': 39, 'who': 40, 'by': 41, 'my': 42, 'story': 43, 'about': 44, 'from': 45, 'out': 46, 'time': 47, 'when': 48, \"it's\": 49, 'very': 50, 'they': 51, 'no': 52, 'if': 53, 'really': 54, 'acting': 55, 'there': 56, 'every': 57, 'him': 58, 'ever': 59, 'most': 60, 'more': 61, 'great': 62, 'people': 63, 'other': 64, 'how': 65, 'also': 66, 'her': 67, 'too': 68, 'would': 69, 'bad': 70, 'their': 71, 'your': 72, 'made': 73, 'what': 74, 'she': 75, 'stanley': 76, 'can': 77, 'had': 78, 'me': 79, 'make': 80, 'plot': 81, 'characters': 82, 'read': 83, 'only': 84, 'up': 85, 'character': 86, 'will': 87, 'love': 88, 'well': 89, 'into': 90, 'director': 91, 'movies': 92, 'any': 93, 'these': 94, 'red': 95, 'actors': 96, 'here': 97, 'first': 98, 'do': 99, 'iris': 100, 'such': 101, 'many': 102, 'after': 103, \"don't\": 104, 'see': 105, 'should': 106, 'which': 107, 'were': 108, 'then': 109, 'two': 110, 'its': 111, 'we': 112, 'again': 113, \"can't\": 114, 'think': 115, 'been': 116, 'over': 117, 'does': 118, 'say': 119, 'life': 120, 'cast': 121, 'giallo': 122, 'seen': 123, 'could': 124, 'much': 125, 'way': 126, 'though': 127, 'least': 128, 'find': 129, 'interesting': 130, \"he's\": 131, 'watching': 132, 'yet': 133, 'films': 134, 'family': 135, 'times': 136, 'never': 137, 'because': 138, 'makes': 139, 'real': 140, 'job': 141, 'scene': 142, 'better': 143, 'than': 144, 'new': 145, 'them': 146, 'end': 147, 'line': 148, 'before': 149, 'still': 150, 'jane': 151, '10': 152, 'high': 153, 'fonda': 154, 'walken': 155, 'queen': 156, 'production': 157, 'get': 158, 'overall': 159, 'pretty': 160, 'nothing': 161, 'watch': 162, 'seeing': 163, 'another': 164, 'know': 165, 'our': 166, 'where': 167, 'camera': 168, 'through': 169, \"isn't\": 170, 'style': 171, 'enough': 172, 'work': 173, 'robert': 174, 'came': 175, 'go': 176, 'score': 177, 'each': 178, 'man': 179, 'whole': 180, 'off': 181, 'feel': 182, 'beautiful': 183, 'effects': 184, 'far': 185, 'violence': 186, 'minutes': 187, 'being': 188, 'why': 189, 'role': 190, 'young': 191, 'school': 192, 'script': 193, 'lines': 194, 'terrible': 195, 'seven': 196, 'down': 197, 'few': 198, 'almost': 199, 'money': 200, \"didn't\": 201, 'while': 202, 'bit': 203, 'said': 204, 'need': 205, 'recommend': 206, 'both': 207, 'ending': 208, 'art': 209, 'thing': 210, 'world': 211, 'genre': 212, 'human': 213, 'working': 214, 'horror': 215, 'those': 216, 'left': 217, \"there's\": 218, \"i'm\": 219, 'already': 220, 'same': 221, 'action': 222, 'write': 223, 'home': 224, 'others': 225, 'reason': 226, 'house': 227, 'done': 228, 'saw': 229, 'part': 230, 'understand': 231, 'night': 232, 'actually': 233, 'seems': 234, 'take': 235, 'show': 236, 'performances': 237, 'something': 238, 'excellent': 239, 'written': 240, 'deniro': 241, 'madsen': 242, 'hard': 243, 'without': 244, 'de': 245, 'niro': 246, 'although': 247, 'tale': 248, 'bromwell': 249, 'memorable': 250, 'kills': 251, 'italian': 252, 'evelyn': 253, 'making': 254, 'might': 255, 'however': 256, 'let': 257, 'imdb': 258, 'watched': 259, 'performance': 260, 'used': 261, 'fact': 262, 'away': 263, 'hot': 264, 'title': 265, 'course': 266, 'worst': 267, 'give': 268, 'cannot': 269, 'put': 270, 'type': 271, 'society': 272, 'going': 273, 'mean': 274, 'given': 275, 'now': 276, 'probably': 277, 'best': 278, 'quite': 279, 'place': 280, 'must': 281, 'later': 282, '1972': 283, 'fan': 284, 'sound': 285, 'low': 286, 'illiterate': 287, 'unbelievable': 288, \"doesn't\": 289, 'waste': 290, 'ok': 291, 'years': 292, 'hollywood': 293, 'instead': 294, 'always': 295, 'gun': 296, 'care': 297, 'original': 298, 'cinema': 299, 'black': 300, 'novel': 301, \"film's\": 302, 'illiteracy': 303, 'drama': 304, 'special': 305, \"iris'\": 306, 'bouchet': 307, 'feelings': 308, 'unfortunately': 309, 'seem': 310, 'level': 311, 'future': 312, 'lot': 313, 'annoying': 314, 'decent': 315, 'thought': 316, 'boring': 317, 'looks': 318, 'drug': 319, 'save': 320, 'poorly': 321, 'everything': 322, 'three': 323, 'believe': 324, 'us': 325, '3': 326, 'want': 327, 'war': 328, 'become': 329, 'looking': 330, 'worth': 331, 'tells': 332, 'things': 333, 'perfect': 334, 'father': 335, 'back': 336, \"you'll\": 337, 'ask': 338, 'often': 339, 'did': 340, 'music': 341, 'arnold': 342, 'happy': 343, 'supporting': 344, 'found': 345, 'rape': 346, 'got': 347, '2': 348, 'favorite': 349, 'kind': 350, 'beginning': 351, 'shot': 352, 'wonder': 353, 'guess': 354, 'totally': 355, 'come': 356, 'simply': 357, 'needs': 358, 'gets': 359, 'face': 360, 'may': 361, 'sub': 362, \"won't\": 363, 'nice': 364, 'rather': 365, 'stories': 366, 'class': 367, 'little': 368, 'gives': 369, 'teachers': 370, 'personal': 371, 'unique': 372, 'sex': 373, 'factory': 374, 'year': 375, 'relations': 376, 'daughter': 377, 'sister': 378, 'christopher': 379, 'puss': 380, 'murders': 381, 'barbara': 382, 'female': 383, 'example': 384, 'general': 385, 'stars': 386, 'believable': 387, 'clearly': 388, 'techniques': 389, 'wanted': 390, 'feeling': 391, 'second': 392, 'parts': 393, 'girls': 394, 'drugs': 395, 'actresses': 396, 'poor': 397, 'subject': 398, 'serious': 399, 'funny': 400, 'possibly': 401, 'own': 402, 'gave': 403, 'goes': 404, 'tristan': 405, 'price': 406, 'himself': 407, 'anything': 408, 'truly': 409, 'earth': 410, 'living': 411, 'reality': 412, 'tell': 413, 'friends': 414, 'awkward': 415, 'editing': 416, 'effect': 417, 'appears': 418, 'perhaps': 419, 'generally': 420, 'fast': 421, 'case': 422, 'around': 423, 'main': 424, 'couple': 425, 'women': 426, \"you're\": 427, 'male': 428, 'someone': 429, 'effort': 430, 'anyone': 431, 'either': 432, 'says': 433, 'big': 434, 'vosloo': 435, 'star': 436, 'took': 437, 'leaves': 438, \"fonda's\": 439, \"i've\": 440, \"couldn't\": 441, 'turkish': 442, 'michael': 443, 'american': 444, 'names': 445, 'experience': 446, 'directing': 447, 'trying': 448, '1': 449, 'piece': 450, 'viewer': 451, 'fighting': 452, 'post': 453, 'help': 454, 'viewers': 455, 'mostly': 456, 'true': 457, \"barker's\": 458, 'hope': 459, 'romance': 460, 'sense': 461, 'chace': 462, 'scenes': 463, 'move': 464, 'stylish': 465, 'age': 466, 'picture': 467, 'doing': 468, '4': 469, 'enjoyable': 470, 'heart': 471, 'adult': 472, 'industrial': 473, 'references': 474, 'workers': 475, 'husband': 476, 'beauty': 477, 'traditionally': 478, 'public': 479, 'among': 480, 'suddenly': 481, 'children': 482, 'brilliant': 483, 'fun': 484, 'songs': 485, 'dancing': 486, 'emilio': 487, 'gorgeous': 488, 'kitty': 489, 'grave': 490, 'gothic': 491, 'incredibly': 492, 'theatre': 493, 'starts': 494, 'comedy': 495, 'audience': 496, 'cinematography': 497, 'writers': 498, 'lots': 499, \"i'd\": 500, 'wasted': 501, 'look': 502, 'corey': 503, 'information': 504, 'playing': 505, 'sebastian': 506, 'loaded': 507, 'sure': 508, 'seemed': 509, 'redeeming': 510, 'self': 511, 'thrown': 512, 'use': 513, 'issues': 514, 'check': 515, 'vinnie': 516, 'predictable': 517, 'writer': 518, 'terribly': 519, 'name': 520, 'released': 521, 'woman': 522, 'talents': 523, 'person': 524, 'else': 525, 'worse': 526, 'days': 527, 'enjoy': 528, '5': 529, 'amount': 530, \"that's\": 531, 'law': 532, \"aren't\": 533, 'appear': 534, 'lets': 535, 'storyline': 536, 'slow': 537, 'mention': 538, 'takes': 539, 'images': 540, 'colors': 541, 'definitely': 542, 'period': 543, 'pure': 544, 'early': 545, 'weird': 546, 'becomes': 547, 'am': 548, 'direction': 549, 'considering': 550, 'enjoyed': 551, 'looked': 552, 'shy': 553, 'fake': 554, 'edward': 555, 'furlong': 556, '20': 557, 'crap': 558, 'everybody': 559, 'skill': 560, 'tried': 561, 'sounded': 562, 'positive': 563, 'laugh': 564, 'dvd': 565, 'interested': 566, 'suck': 567, 'thinking': 568, 'budget': 569, 'heard': 570, 'mr': 571, 'day': 572, 'amateur': 573, 'english': 574, 'reading': 575, 'having': 576, 'less': 577, 'sometimes': 578, 'yourself': 579, 'source': 580, 'oh': 581, 'god': 582, 'yes': 583, \"i'll\": 584, 'killing': 585, 'unless': 586, 'last': 587, 'window': 588, 'contrived': 589, 'stupid': 590, 'masterpiece': 591, 'idea': 592, 'exercise': 593, 'opinion': 594, 'lives': 595, 'means': 596, 'hitchcock': 597, 'especially': 598, 'europe': 599, 'germany': 600, 'mixed': 601, 'lack': 602, 'emotional': 603, 'master': 604, 'giving': 605, 'liked': 606, 'adaptation': 607, 'union': 608, 'street': 609, 'felt': 610, 'top': 611, 'sensitive': 612, 'hair': 613, 'knows': 614, 'convincing': 615, 'potential': 616, \"wasn't\": 617, 'attention': 618, \"wouldn't\": 619, 'average': 620, 'mess': 621, 'stage': 622, 'completely': 623, 'teaching': 624, 'lead': 625, 'students': 626, 'student': 627, 'classic': 628, 'adults': 629, 'john': 630, 'williams': 631, 'small': 632, 'unable': 633, 'dead': 634, 'literacy': 635, 'haunting': 636, 'musical': 637, 'magic': 638, 'screen': 639, 'difficult': 640, 'complex': 641, 'system': 642, 'worker': 643, 'therefore': 644, 'cares': 645, \"she's\": 646, 'realm': 647, 'teenage': 648, 'regarding': 649, 'afraid': 650, 'tenderness': 651, 'overwhelming': 652, 'strong': 653, 'begins': 654, 'forward': 655, 'south': 656, 'keisha': 657, 'widow': 658, 'dance': 659, 'unlike': 660, 'importance': 661, 'middle': 662, 'lovely': 663, 'singing': 664, 'boots': 665, 'ogre': 666, 'roles': 667, 'cat': 668, 'corin': 669, 'elements': 670, 'indeed': 671, 'killer': 672, 'frightening': 673, 'sybil': 674, 'danning': 675, 'gialli': 676, 'herrings': 677, \"miraglia's\": 678, 'mesmerizing': 679, 'uncanny': 680, 'lady': 681, 'greatest': 682, 'creepy': 683, 'atmosphere': 684, 'castle': 685, 'pig': 686, 'terrific': 687, 'absurd': 688, 'orchestra': 689, 'turned': 690, 'insane': 691, 'crazy': 692, 'stays': 693, 'era': 694, 'easy': 695, 'seriously': 696, 'expected': 697, 'resolution': 698, 'alas': 699, \"large's\": 700, 'apparently': 701, 'called': 702, 'named': 703, 'cole': 704, 'points': 705, 'weak': 706, 'actress': 707, 'quality': 708, 'portrays': 709, 'individual': 710, 'unfortunate': 711, 'thus': 712, 'convoluted': 713, 'attractive': 714, 'final': 715, 'gunfight': 716, \"'bad'\": 717, 'void': 718, 'note': 719, 'delivered': 720, 'jones': 721, 'vile': 722, 'added': 723, 'murder': 724, 'soundtrack': 725, 'conflicts': 726, 'ultimately': 727, 'five': 728, 'thru': 729, 'happened': 730, 'endure': 731, 'wish': 732, 'pace': 733, 'straight': 734, 'graduation': 735, 'celebration': 736, 'jesse': 737, 'metcalfe': 738, 'substances': 739, 'april': 740, 'nathalie': 741, 'kelley': 742, 'aspect': 743, 'able': 744, 'horrific': 745, 'considered': 746, 'brought': 747, 'disgusting': 748, 'types': 749, 'taste': 750, 'happen': 751, 'sequence': 752, 'cheesy': 753, 'jump': 754, 'cuts': 755, 'cut': 756, 'specific': 757, 'disturbing': 758, 'somewhat': 759, 'grab': 760, 'swallow': 761, 'needed': 762, 'form': 763, 'torture': 764, 'abroad': 765, 'keep': 766, 'trust': 767, 'stop': 768, 'please': 769, 'extremely': 770, 'mark': 771, 'son': 772, 'reputation': 773, 'settings': 774, 'expectations': 775, 'except': 776, \"tristan's\": 777, 'leave': 778, 'result': 779, 'past': 780, 'event': 781, 'ways': 782, 'large': 783, 'against': 784, 'constant': 785, 'tricks': 786, 'motion': 787, 'perspective': 788, 'random': 789, 'cheap': 790, 'despite': 791, 'relative': 792, 'respect': 793, \"we'll\": 794, 'bigger': 795, 'based': 796, 'scores': 797, 'incredible': 798, 'comment': 799, 'buying': 800, 'renting': 801, 'free': 802, 'drive': 803, 'spot': 804, 'full': 805, 'eye': 806, '1969': 807, 'date': 808, 'late': 809, '70s': 810, 'distorted': 811, 'using': 812, 'different': 813, 'accompanied': 814, 'dialog': 815, 'sort': 816, 'obviously': 817, 'quickly': 818, 'total': 819, 'bore': 820, 'finally': 821, 'recent': 822, 'town': 823, 'background': 824, 'desired': 825, 'actor': 826, 'lousy': 827, 'otherwise': 828, 'unnecessary': 829, 'continuity': 830, 'plays': 831, 'intelligent': 832, 'talent': 833, 'herself': 834, 'moves': 835, 'ill': 836, 'manner': 837, 'book': 838, 'equally': 839, 'rule': 840, 'ten': 841, 'review': 842, 'require': 843, 'text': 844, 'avoid': 845, 'ago': 846, 'sleep': 847, 'plus': 848, 'side': 849, 'appreciate': 850, 'ability': 851, 'failure': 852, 'teeth': 853, 'dimensional': 854, 'ball': 855, 'guns': 856, 'fired': 857, 'video': 858, 'member': 859, 'girl': 860, 'shouting': 861, 'f': 862, 'decide': 863, 'credits': 864, 'wait': 865, 'literally': 866, 'america': 867, 'crew': 868, 'further': 869, 'international': 870, 'writing': 871, 'produce': 872, 'bottom': 873, 'present': 874, 'rented': 875, 'knowledge': 876, 'forget': 877, 'shame': 878, 'dialogs': 879, 'native': 880, 'speakers': 881, 'play': 882, 'awful': 883, 'sole': 884, 'usually': 885, 'degree': 886, 'damn': 887, \"shouldn't\": 888, 'coffeshop': 889, 'requires': 890, 'begin': 891, 'standard': 892, 'honestly': 893, 'expect': 894, 'questions': 895, 'hallmark': 896, 'executed': 897, 'neither': 898, 'involved': 899, 'mediocre': 900, 'costs': 901, 'bored': 902, 'anymore': 903, 'shattered': 904, 'spare': 905, 'par': 906, 'half': 907, 'assed': 908, 'christ': 909, 'warn': 910, 'account': 911, 'express': 912, 'hour': 913, 'claim': 914, 'flicks': 915, 'stay': 916, 'indifferent': 917, 'van': 918, 'consider': 919, 'loved': 920, 'theatrical': 921, 'famous': 922, 'language': 923, 'survive': 924, 'immediately': 925, 'white': 926, 'vanquished': 927, 'victims': 928, 'ambiguous': 929, 'change': 930, 'today': 931, 'set': 932, 'british': 933, 'spies': 934, 'german': 935, 'trains': 936, 'symbol': 937, 'intensity': 938, 'train': 939, 'classical': 940, 'guys': 941, 'principal': 942, 'willing': 943, 'destruction': 944, 'path': 945, 'actions': 946, 'moments': 947, 'demonstrative': 948, 'try': 949, 'alone': 950, 'horrible': 951, 'insightful': 952, 'pat': 953, \"'union\": 954, \"street'\": 955, 'fails': 956, 'angle': 957, 'england': 958, 'anger': 959, 'truth': 960, 'inspiring': 961, 'accept': 962, 'tales': 963, 'leading': 964, 'protagonists': 965, 'issue': 966, 'lost': 967, 'covered': 968, 'flick': 969, 'masterpieces': 970, 'thriller': 971, 'includes': 972, 'catch': 973, 'word': 974, 'entertainment': 975, 'motives': 976, 'fetched': 977, 'setting': 978, \"what's\": 979, 'behavior': 980, 'kids': 981, 'paying': 982, 'wants': 983, 'political': 984, 'hand': 985, 'flaws': 986, 'stuff': 987, 'filmed': 988, 'uses': 989, '50': 990, 'nearly': 991, 'single': 992, 'produced': 993, \"haven't\": 994, 'right': 995, 'situation': 996, 'episode': 997, 'hell': 998, 'fine': 999, 'superb': 1000, 'arrangement': 1001, 'absence': 1002, 'refreshing': 1003, 'waterbury': 1004, 'locale': 1005, 'lush': 1006, 'resulted': 1007, 'bring': 1008, 'mainstream': 1009, 'ordinary': 1010, 'itself': 1011, 'wondered': 1012, 'version': 1013, 'successfully': 1014, 'efforts': 1015, 'caught': 1016, 'outstanding': 1017, 'turn': 1018, 'plimpton': 1019, 'etc': 1020, 'areas': 1021, 'adventure': 1022, 'u': 1023, 'imagine': 1024, 'marriage': 1025, 'wise': 1026, 'portrayal': 1027, 'theme': 1028, 'touching': 1029, 'fordist': 1030, 'assembly': 1031, 'loses': 1032, 'drops': 1033, 'brother': 1034, 'abusive': 1035, 'wife': 1036, 'beer': 1037, 'leaving': 1038, 'conventional': 1039, 'whose': 1040, 'presumably': 1041, 'outside': 1042, 'capitalism': 1043, 'conform': 1044, 'everyone': 1045, 'technology': 1046, 'creative': 1047, 'bauhaus': 1048, 'dream': 1049, 'access': 1050, 'monetary': 1051, 'vehicular': 1052, 'participation': 1053, 'open': 1054, 'social': 1055, 'books': 1056, 'bible': 1057, 'once': 1058, 'plan': 1059, 'studio': 1060, 'moved': 1061, 'highly': 1062, 'recommended': 1063, 'problems': 1064, 'return': 1065, 'nudity': 1066, 'reasons': 1067, 'becoming': 1068, 'apart': 1069, 'fabulous': 1070, 'surprise': 1071, 'natella': 1072, 'latrina': 1073, 'nervous': 1074, 'courage': 1075, 'together': 1076, 'skills': 1077, 'lacking': 1078, 'kitchen': 1079, 'typical': 1080, 'fairy': 1081, 'king': 1082, 'remember': 1083, 'child': 1084, 'wall': 1085, 'praise': 1086, 'deeper': 1087, \"walken's\": 1088, 'dancer': 1089, 'jason': 1090, \"children's\": 1091, 'kid': 1092, 'eyes': 1093, 'old': 1094, \"weren't\": 1095, 'recently': 1096, \"miller's\": 1097, 'falls': 1098, 'vera': 1099, 'fairytales': 1100, 'concerning': 1101, 'gruesome': 1102, 'sisters': 1103, 'involving': 1104, 'figure': 1105, 'earlier': 1106, 'fashion': 1107, 'necessary': 1108, 'bruno': 1109, 'absolute': 1110, 'gory': 1111, 'revenge': 1112, 'macabre': 1113, 'grandfather': 1114, 'victim': 1115, 'fourteen': 1116, 'successful': 1117, 'compelling': 1118, 'behind': 1119, 'miraglia': 1120, 'spine': 1121, 'chilling': 1122, 'genuinely': 1123, 'ravishing': 1124, 'stunningly': 1125, 'elegant': 1126, 'painting': 1127, 'fiendish': 1128, 'gem': 1129, 'laughter': 1130, 'sexy': 1131, 'imaginable': 1132, 'shows': 1133, 'preserved': 1134, 'broadway': 1135, 'deeply': 1136, 'gay': 1137, 'blue': 1138, 'collar': 1139, 'unnatural': 1140, 'opening': 1141, 'formal': 1142, 'violent': 1143, 'mob': 1144, 'chantings': 1145, 'singers': 1146, 'narrative': 1147, 'eventually': 1148, 'putting': 1149, 'cryptic': 1150, 'dialogue': 1151, 'shakespeare': 1152, 'third': 1153, 'grader': 1154, 'technical': 1155, 'vilmos': 1156, 'zsigmond': 1157, 'sally': 1158, 'kirkland': 1159, 'frederic': 1160, 'forrest': 1161, 'briefly': 1162, 'promise': 1163, 'relatively': 1164, 'editors': 1165, 'wooden': 1166, 'edited': 1167, 'learnt': 1168, 'edit': 1169, 'splash': 1170, 'quick': 1171, \"'flashy'\": 1172, 'edits': 1173, 'meant': 1174, 'symbolic': 1175, 'breakdown': 1176, 'equilibrium': 1177, 'makers': 1178, 'reload': 1179, 'june': 1180, \"'08\": 1181, 'crappy': 1182, 'earn': 1183, 'sequel': 1184, 'killed': 1185, 'wee': 1186, 'hours': 1187, 'morning': 1188, 'battling': 1189, 'insomnia': 1190, 'drifting': 1191, 'missed': 1192, 'stronger': 1193, 'surprised': 1194, 'commenting': 1195, 'since': 1196, 'brooke': 1197, 'exceptional': 1198, 'b': 1199, 'grade': 1200, 'slop': 1201, 'spoken': 1202, 'realistic': 1203, 'representation': 1204, 'subsequent': 1205, 'spiral': 1206, 'perpetuation': 1207, 'state': 1208, 'events': 1209, 'mentioned': 1210, 'overused': 1211, 'unconvincing': 1212, 'irrelevant': 1213, 'concerned': 1214, 'lacklustre': 1215, 'unimaginative': 1216, 'implausible': 1217, 'reports': 1218, 'granted': 1219, 'confronted': 1220, 'carry': 1221, 'intermittent': 1222, 'punches': 1223, 'towards': 1224, 'revel': 1225, 'furthermore': 1226, 'educational': 1227, 'scare': 1228, 'number': 1229, 'board': 1230, 'effective': 1231, \"'requiem\": 1232, \"dream'\": 1233, \"'trainspotting'\": 1234, \"'fear\": 1235, 'loathing': 1236, 'las': 1237, \"vegas'\": 1238, \"'candy'\": 1239, 'examples': 1240, 'lighthearted': 1241, \"'go'\": 1242, \"'halfbaked'\": 1243, 'stolen': 1244, \"'lock\": 1245, 'stock': 1246, 'smokling': 1247, \"barrels'\": 1248, 'tainted': 1249, \"'loaded'\": 1250, 'strongly': 1251, 'suggest': 1252, 'semi': 1253, 'fictionalizing': 1254, 'screw': 1255, 'ups': 1256, 'incredulous': 1257, 'fantasies': 1258, 'rap': 1259, 'acted': 1260, 'stereotypical': 1261, 'lists': 1262, '2007': 1263, '2008': 1264, 'showtime': 1265, 'listed': 1266, 'synopsis': 1267, 'halfway': 1268, 'realized': 1269, 'undercover': 1270, 'cop': 1271, 'tho': 1272, 'stereotype': 1273, 'finishing': 1274, 'wishes': 1275, 'refund': 1276, 'spent': 1277, '15': 1278, 'laced': 1279, 'controlled': 1280, 'complete': 1281, 'spinelessness': 1282, 'irresponsibility': 1283, 'rapid': 1284, 'privilege': 1285, 'culture': 1286, 'allows': 1287, 'seduced': 1288, 'mind': 1289, 'altering': 1290, 'understandable': 1291, 'observing': 1292, 'penny': 1293, 'pound': 1294, 'dedication': 1295, 'met': 1296, 'impossible': 1297, 'frankly': 1298, 'besides': 1299, 'stare': 1300, 'monica': 1301, 'keena': 1302, 'qualities': 1303, 'beats': 1304, 'retire': 1305, 'trophy': 1306, 'comparison': 1307, 'insanely': 1308, 'created': 1309, 'existence': 1310, 'question': 1311, 'whether': 1312, 'humans': 1313, 'disgusted': 1314, 'ourselves': 1315, 'progress': 1316, 'species': 1317, 'universe': 1318, 'sincerely': 1319, 'hurts': 1320, 'ashamed': 1321, 'emphasize': 1322, 'global': 1323, 'responsibility': 1324, 'creating': 1325, 'prevent': 1326, 'creation': 1327, 'gross': 1328, 'distortions': 1329, 'embarrassment': 1330, 'sleeps': 1331, 'knowing': 1332, 'monsters': 1333, 'shark': 1334, 'attack': 1335, 'hilarious': 1336, 'crosses': 1337, 'dimension': 1338, 'death': 1339, 'shamelessly': 1340, 'sickening': 1341, 'point': 1342, 'shaky': 1343, 'buzz': 1344, 'rush': 1345, 'swerve': 1346, 'fancy': 1347, 'meticulously': 1348, 'repetitive': 1349, 'tortures': 1350, 'excrement': 1351, 'personally': 1352, 'shoulders': 1353, 'shake': 1354, 'submission': 1355, 'demanding': 1356, 'run': 1357, 'gallons': 1358, 'drain': 1359, 'o': 1360, 'inhumane': 1361, 'prisoners': 1362, 'showing': 1363, 'padded': 1364, 'cell': 1365, 'extravagant': 1366, 'suicide': 1367, 'methods': 1368, '72nd': 1369, 'sitting': 1370, 'facets': 1371, \"who's\": 1372, 'outweigh': 1373, 'rarely': 1374, 'traumatic': 1375, 'shook': 1376, 'partially': 1377, 'revealed': 1378, 'flashbacks': 1379, 'spelled': 1380, 'until': 1381, 'claustrophobic': 1382, 'environment': 1383, 'causes': 1384, 'loose': 1385, 'extreme': 1386, 'possible': 1387, 'opportunity': 1388, 'strip': 1389, 'club': 1390, 'celebrate': 1391, 'soon': 1392, 'follows': 1393, 'strippers': 1394, 'beach': 1395, 'party': 1396, 'befriends': 1397, 'pulls': 1398, 'dealing': 1399, 'underworld': 1400, 'technically': 1401, 'suffers': 1402, 'lackluster': 1403, 'engaging': 1404, 'counting': 1405, 'freeze': 1406, 'frames': 1407, 'echos': 1408, 'normally': 1409, 'utilize': 1410, \"character's\": 1411, 'sporadically': 1412, 'tossed': 1413, 'attempt': 1414, 'unknowns': 1415, 'notably': 1416, 'antagonist': 1417, 'suspect': 1418, 'projects': 1419, 'mentioning': 1420, 'rating': 1421, 'hotness': 1422, '11': 1423, 'distract': 1424, 'sit': 1425, 'nine': 1426, 'psychedelic': 1427, 'pulsating': 1428, 'symmetric': 1429, 'abstract': 1430, 'frame': 1431, 'start': 1432, 'birds': 1433, 'silhouetted': 1434, 'cup': 1435, 'tea': 1436, '8½': 1437, 'long': 1438, 'national': 1439, 'preservation': 1440, 'foundation': 1441, 'regardless': 1442, 'exact': 1443, 'indicative': 1444, 'pop': 1445, 'stylings': 1446, '60s': 1447, 'consists': 1448, 'simple': 1449, 'absolutely': 1450, 'intended': 1451, 'tiresome': 1452, 'bluntly': 1453, 'appeal': 1454, 'hip': 1455, 'understood': 1456, 'mortals': 1457, 'appreciation': 1458, 'college': 1459, 'abandoned': 1460, 'traffic': 1461, 'lookie': 1462, 'loos': 1463, 'chalk': 1464, 'viewable': 1465, 'brutal': 1466, 'shoot': 1467, 'glitches': 1468, 'overlookable': 1469, 'caliber': 1470, 'jackie': 1471, 'unbelievably': 1472, 'wasteful': 1473, 'caricature': 1474, \"snail's\": 1475, 'photographed': 1476, 'advised': 1477, 'insufferably': 1478, 'preachy': 1479, 'plugs': 1480, 'cliche': 1481, 'swoozie': 1482, 'kurtz': 1483, 'requiring': 1484, 'worthless': 1485, 'readers': 1486, 'tape': 1487, 'summary': 1488, 'terminator': 1489, 'deprived': 1490, 'offense': 1491, 'test': 1492, 'demanded': 1493, 'next': 1494, 'bought': 1495, 'sink': 1496, 'act': 1497, 'ass': 1498, 'allow': 1499, 'noise': 1500, 'paint': 1501, 'skirmish': 1502, 'game': 1503, 'bloke': 1504, 'robbery': 1505, 'gang': 1506, 'whining': 1507, 'voice': 1508, 'k': 1509, 'seconds': 1510, 'whoo': 1511, 'hoo': 1512, 'dumb': 1513, 'bounce': 1514, 'tough': 1515, 'bear': 1516, 'roll': 1517, 'tought': 1518, \"'we\": 1519, 'turks': 1520, 'insult': 1521, 'heist': 1522, 'hostage': 1523, \"'\": 1524, 'checked': 1525, 'contrary': 1526, 'persuade': 1527, 'micheal': 1528, 'project': 1529, 'kept': 1530, 'raise': 1531, 'offer': 1532, 'supposedly': 1533, 'meditation': 1534, 'paid': 1535, 'answer': 1536, 'hiring': 1537, 'cheapest': 1538, 'equipment': 1539, 'difficulty': 1540, 'adjustin': 1541, 'vice': 1542, 'versa': 1543, 'anxious': 1544, 'meditate': 1545, 'outthere': 1546, 'affect': 1547, 'disbelief': 1548, 'prior': 1549, 'suspicious': 1550, 'appearing': 1551, 'freebie': 1552, 'blonde': 1553, 'taken': 1554, 'flood': 1555, 'non': 1556, 'sounds': 1557, 'deserves': 1558, 'congratulate': 1559, 'genius': 1560, 'approved': 1561, 'mate': 1562, 'cost': 1563, 'intention': 1564, 'bucks': 1565, 'filming': 1566, 'supermarket': 1567, 'ones': 1568, 'jon': 1569, 'keeyes': 1570, 'purpose': 1571, 'angles': 1572, 'messed': 1573, \"they're\": 1574, 'toilet': 1575, 'paper': 1576, 'comes': 1577, 'apparent': 1578, 'serving': 1579, 'doubt': 1580, 'badass': 1581, 'shootout': 1582, \"should've\": 1583, 'oblivion': 1584, \"'till\": 1585, 'stress': 1586, 'goers': 1587, 'vote': 1588, 'comprehensively': 1589, 'destructive': 1590, 'morale': 1591, 'clichés': 1592, 'entertained': 1593, 'mainstay': 1594, 'major': 1595, 'device': 1596, 'conflict': 1597, 'puts': 1598, 'waves': 1599, 'malicious': 1600, 'beings': 1601, 'pushes': 1602, \"someone's\": 1603, '90': 1604, 'conclusion': 1605, 'comforting': 1606, 'police': 1607, 'sirens': 1608, 'challenge': 1609, 'tired': 1610, 'hackneyed': 1611, 'formula': 1612, 'clever': 1613, 'personality': 1614, 'components': 1615, 'space': 1616, 'soul': 1617, 'trash': 1618, 'publicly': 1619, 'embarrassed': 1620, 'disservice': 1621, \"they've\": 1622, 'assuming': 1623, 'release': 1624, 'afi': 1625, 'dallas': 1626, 'remaining': 1627, 'insulting': 1628, 'goof': 1629, 'shots': 1630, 'breaks': 1631, \"let's\": 1632, 'indicator': 1633, 'details': 1634, 'disappointing': 1635, 'expecting': 1636, 'shut': 1637, 'nuff': 1638, 'filler': 1639, 'expand': 1640, 'sucks': 1641, 'moronic': 1642, 'deniz': 1643, \"akkaya's\": 1644, 'breasts': 1645, 'ruined': 1646, 'unneeded': 1647, 'garbage': 1648, 'rag': 1649, 'minimum': 1650, 'offal': 1651, 'compelled': 1652, 'create': 1653, 'discover': 1654, 'friggen': 1655, 'essay': 1656, 'planning': 1657, 'suffice': 1658, 'studying': 1659, 'horrendous': 1660, 'throughout': 1661, 'speaks': 1662, 'jog': 1663, 'lars': 1664, \"trier's\": 1665, \"'breaking\": 1666, \"waves'\": 1667, \"'dancer\": 1668, \"night'\": 1669, 'admired': 1670, \"'dogville'\": 1671, 'dry': 1672, \"'europa'\": 1673, 'succeeded': 1674, 'success': 1675, 'european': 1676, 'oscar': 1677, 'foreign': 1678, 'explicit': 1679, 'extrovert': 1680, 'ambiguity': 1681, 'escape': 1682, 'treating': 1683, 'followed': 1684, 'victors': 1685, 'executioners': 1686, 'sides': 1687, 'survival': 1688, 'aftermath': 1689, 'catastrophic': 1690, 'nations': 1691, 'individuals': 1692, 'forever': 1693, 'disputes': 1694, 'courageous': 1695, 'decades': 1696, 'expression': 1697, 'fit': 1698, 'task': 1699, 'include': 1700, 'quotes': 1701, 'descending': 1702, 'directly': 1703, 'pre': 1704, 'brave': 1705, 'evil': 1706, 'crossing': 1707, 'speed': 1708, 'continent': 1709, 'dark': 1710, 'dramatism': 1711, 'sparkles': 1712, 're': 1713, 'birth': 1714, 'obsession': 1715, 'order': 1716, 'regulation': 1717, 'punctuality': 1718, 'civility': 1719, 'populate': 1720, 'spy': 1721, 'origin': 1722, 'coming': 1723, 'process': 1724, 'reconciliation': 1725, 'finds': 1726, 'corruption': 1727, 'liberators': 1728, 'oppressive': 1729, 'occupiers': 1730, 'resigned': 1731, 'fate': 1732, 'continue': 1733, 'doubtfully': 1734, 'treason': 1735, 'treatment': 1736, 'betrays': 1737, 'leopold': 1738, 'kessler': 1739, 'played': 1740, 'jean': 1741, 'marc': 1742, 'barr': 1743, 'confused': 1744, 'credibility': 1745, 'imitation': 1746, '30s': 1747, 'usage': 1748, 'color': 1749, 'majority': 1750, 'trier': 1751, 'artistic': 1752, 'filmmaker': 1753, 'capsule': 1754, 'zero': 1755, 'chemistry': 1756, 'ingenious': 1757, 'uncomfortably': 1758, 'drifts': 1759, 'map': 1760, 'handle': 1761, 'molasses': 1762, 'swift': 1763, 'adjective': 1764, 'excruciating': 1765, 'pacing': 1766, 'intent': 1767, 'uplifting': 1768, 'curing': 1769, 'bummer': 1770, 'unfortuntately': 1771, 'harrowing': 1772, 'northern': 1773, 'area': 1774, 'grabbed': 1775, 'hold': 1776, 'heartstrings': 1777, 'refused': 1778, 'weeks': 1779, 'finished': 1780, 'tears': 1781, 'repulsion': 1782, 'shock': 1783, 'sympathy': 1784, 'misery': 1785, 'depressing': 1786, 'utterly': 1787, 'gripping': 1788, 'dear': 1789, 'showered': 1790, 'layer': 1791, 'sweet': 1792, 'icing': 1793, 'sugar': 1794, 'condensed': 1795, 'touched': 1796, 'discarded': 1797, 'mass': 1798, 'viewing': 1799, '7': 1800, 'practical': 1801, 'content': 1802, 'essence': 1803, 'gut': 1804, 'darkness': 1805, 'rain': 1806, 'broken': 1807, 'windows': 1808, 'cardboard': 1809, 'graphically': 1810, 'described': 1811, 'stench': 1812, 'poverty': 1813, 'replaced': 1814, 'sunshine': 1815, 'houses': 1816, 'twinkling': 1817, \"william's\": 1818, 'positivity': 1819, \"'reality'\": 1820, 'advise': 1821, 'hesitate': 1822, 'preparing': 1823, \"'schindler's\": 1824, \"list'\": 1825, 'fanciful': 1826, 'vincent': 1827, 'mad': 1828, 'magician': 1829, 'realizes': 1830, 'vocational': 1831, 'sold': 1832, 'devise': 1833, 'avenging': 1834, 'wronged': 1835, 'scheme': 1836, 'fire': 1837, 'below': 1838, 'compared': 1839, 'patrick': 1840, \"o'neal\": 1841, 'mary': 1842, 'murphy': 1843, 'eva': 1844, 'gabor': 1845, 'jay': 1846, 'novello': 1847, 'basically': 1848, 'skimmed': 1849, 'spots': 1850, 'crawford': 1851, 'threw': 1852, 'cuss': 1853, 'sentence': 1854, 'saying': 1855, 'cussing': 1856, 'flashy': 1857, 'shaking': 1858, 'headache': 1859, 'dramatic': 1860, 'lol': 1861, 'anyways': 1862, 'die': 1863, 'yeah': 1864, 'portray': 1865, 'dictating': 1866, 'gone': 1867, 'opposite': 1868, 'wrote': 1869, 'suite': 1870, 'failed': 1871, 'badly': 1872, 'credit': 1873, 'media': 1874, 'maintain': 1875, 'gangster': 1876, 'sebastians': 1877, 'worn': 1878, 'cliché': 1879, 'relationships': 1880, 'drawn': 1881, 'deal': 1882, 'permission': 1883, 'rebellious': 1884, 'upper': 1885, 'judging': 1886, 'backflashes': 1887, 'solid': 1888, 'socially': 1889, 'critic': 1890, 'focusing': 1891, 'cool': 1892, 'moment': 1893, 'reflect': 1894, 'forcing': 1895, 'along': 1896, 'breath': 1897, 'naturally': 1898, 'evolve': 1899, 'glorify': 1900, 'abuse': 1901, 'incorrect': 1902, 'managing': 1903, 'ruin': 1904, '6': 1905, 'decisions': 1906, 'huge': 1907, 'exaggerated': 1908, 'unexplainable': 1909, 'happens': 1910, 'storywise': 1911, '30': 1912, 'motions': 1913, 'shakes': 1914, 'forwards': 1915, 'smooth': 1916, 'tracks': 1917, 'musics': 1918, 'dumbest': 1919, 'rips': 1920, 'manages': 1921, 'afterthought': 1922, 'cant': 1923, 'nonsense': 1924, 'somebody': 1925, 'somewhere': 1926, \"'oh\": 1927, 'load': 1928, \"shite'\": 1929, 'call': 1930, 'downloading': 1931, 'illegally': 1932, 'trailer': 1933, 'download': 1934, 'painful': 1935, 'cartoon': 1936, 'ran': 1937, 'programs': 1938, '35': 1939, 'profession': 1940, \"high's\": 1941, 'satire': 1942, 'closer': 1943, 'scramble': 1944, 'financially': 1945, 'pathetic': 1946, \"teachers'\": 1947, 'pomp': 1948, 'pettiness': 1949, 'remind': 1950, 'schools': 1951, 'knew': 1952, 'repeatedly': 1953, 'burn': 1954, 'recalled': 1955, 'inspector': 1956, 'sack': 1957, 'welcome': 1958, 'pity': 1959, \"women's\": 1960, 'usual': 1961, 'visuals': 1962, 'photography': 1963, 'casting': 1964, 'winner': 1965, 'porno': 1966, 'premise': 1967, 'authentic': 1968, 'ct': 1969, 'collectors': 1970, 'item': 1971, 'passable': 1972, 'satisfy': 1973, 'grownups': 1974, 'hide': 1975, 'braininess': 1976, 'doctorate': 1977, 'yale': 1978, \"diniro's\": 1979, 'guy': 1980, 'loser': 1981, 'turns': 1982, \"jane's\": 1983, '1990': 1984, 'henry': 1985, 'ford': 1986, 'thomas': 1987, 'edison': 1988, 'handled': 1989, \"nobody's\": 1990, 'fool': 1991, 'mid': 1992, '90s': 1993, \"year's\": 1994, '2003': 1995, 'schmidt': 1996, 'stream': 1997, 'studios': 1998, 'adolescents': 1999, 'reserve': 2000, 'screens': 2001, 'multi': 2002, 'complexes': 2003, 'rang': 2004, 'gulp': 2005, 'sudden': 2006, 'emotion': 2007, 'smile': 2008, 'sheer': 2009, 'identification': 2010, 'rank': 2011, 'martha': 2012, 'rewarding': 2013, 'fluid': 2014, 'seamless': 2015, 'skip': 2016, 'places': 2017, 'library': 2018, 'minor': 2019, 'detract': 2020, 'impact': 2021, 'incomprehensible': 2022, 'hardest': 2023, 'fix': 2024, 'smart': 2025, 'function': 2026, 'childhood': 2027, 'educated': 2028, \"hasn't\": 2029, 'faults': 2030, 'strengths': 2031, 'compliment': 2032, 'stretch': 2033, 'wind': 2034, 'hid': 2035, 'construction': 2036, 'mysteries': 2037, 'explained': 2038, 'unfolding': 2039, 'assume': 2040, 'rethink': 2041, 'movie\\x97just': 2042, 'hall': 2043, 'fame': 2044, 'sleeping': 2045, 'normal': 2046, 'rougher': 2047, 'learn': 2048, 'involves': 2049, 'honest': 2050, 'fairly': 2051, 'mild': 2052, 'explores': 2053, 'taylorist': 2054, 'modes': 2055, 'capitalist': 2056, 'treated': 2057, 'cogs': 2058, 'machine': 2059, 'overseen': 2060, 'managers': 2061, 'wielding': 2062, 'clipboards': 2063, 'controlling': 2064, 'exposed': 2065, 'firing': 2066, 'meet': 2067, 'criteria': 2068, 'supervisor': 2069, 'unspecified': 2070, 'mistake': 2071, 'destroys': 2072, 'families': 2073, 'send': 2074, 'nursing': 2075, 'dies': 2076, 'teen': 2077, 'mother': 2078, 'plant': 2079, 'declining': 2080, 'wages': 2081, 'partners': 2082, 'implication': 2083, 'nobody': 2084, 'illness': 2085, 'multiple': 2086, 'medical': 2087, 'lived': 2088, 'costly': 2089, 'unsuccessful': 2090, 'unemployment': 2091, 'office': 2092, 'yells': 2093, 'savings': 2094, 'lift': 2095, 'stake': 2096, 'bourgeois': 2097, 'notions': 2098, 'perfection': 2099, 'buy': 2100, 'reference': 2101, 'race': 2102, 'jail': 2103, 'men': 2104, 'suffer': 2105, 'disproportionally': 2106, 'incarceration': 2107, 'rates': 2108, 'remarks': 2109, 'composed': 2110, 'prisoner': 2111, 'wage': 2112, 'slave': 2113, 'believes': 2114, 'spite': 2115, \"father's\": 2116, 'traveling': 2117, 'salesman': 2118, 'reduced': 2119, 'purely': 2120, 'instrumental': 2121, 'contract': 2122, 'suggesting': 2123, 'married': 2124, 'wrong': 2125, 'eat': 2126, 'routine': 2127, 'artisanal': 2128, 'ideal': 2129, 'modernists': 2130, \"1920's\": 2131, 'socialists': 2132, 'provide': 2133, 'basic': 2134, 'allowing': 2135, 'fuller': 2136, 'traditional': 2137, 'gender': 2138, 'cooks': 2139, 'cleans': 2140, 'iron': 2141, 'mains': 2142, 'income': 2143, 'extended': 2144, 'brings': 2145, 'limits': 2146, 'gendered': 2147, 'metaphor': 2148, 'masculine': 2149, 'systems': 2150, 'circulation': 2151, 'cultural': 2152, 'enable': 2153, 'feminized': 2154, 'jobs': 2155, 'cooking': 2156, 'cleaning': 2157, 'excluded': 2158, 'regular': 2159, 'circulations': 2160, 'participate': 2161, 'bank': 2162, \"driver's\": 2163, 'license': 2164, 'ride': 2165, 'bus': 2166, 'asks': 2167, 'exists': 2168, 'learning': 2169, 'grabs': 2170, 'auto': 2171, 'repair': 2172, 'farming': 2173, 'spirituality': 2174, 'relativized': 2175, 'placed': 2176, 'value': 2177, 'plane': 2178, 'organized': 2179, 'religion': 2180, 'occasionally': 2181, 'dresser': 2182, 'pans': 2183, 'acknowledged': 2184, 'moral': 2185, 'force': 2186, 'devoted': 2187, 'mentions': 2188, 'rosary': 2189, 'objects': 2190, 'purse': 2191, 'snatching': 2192, 'enters': 2193, 'lands': 2194, 'managerial': 2195, 'position': 2196, 'health': 2197, 'car': 2198, 'taking': 2199, 'head': 2200, 'breadwinner': 2201, 'designer': 2202, 'dreaming': 2203, 'products': 2204, 'enduring': 2205, 'drudgery': 2206, 'incongruous': 2207, 'forced': 2208, 'exec': 2209, 'worried': 2210, 'according': 2211, 'pundits': 2212, \"we've\": 2213, 'comfortably': 2214, 'slightly': 2215, 'nostalgic': 2216, 'historical': 2217, 'distance': 2218, 'analyze': 2219, 'during': 2220, 'nevertheless': 2221, 'brain': 2222, 'disregard': 2223, 'close': 2224, 'warming': 2225, 'overcome': 2226, \"stanley's\": 2227, 'learned': 2228, 'widower': 2229, 'bakery': 2230, 'meets': 2231, 'decides': 2232, 'teach': 2233, 'romantically': 2234, 'learns': 2235, 'chicago': 2236, 'marry': 2237, 'profanity': 2238, 'rare': 2239, \"today's\": 2240, 'round': 2241, 'comments': 2242, 'tomreynolds2004': 2243, 'evident': 2244, 'travel': 2245, 'darker': 2246, 'roads': 2247, 'loneliness': 2248, 'disappointment': 2249, 'sorrow': 2250, 'portrayed': 2251, 'plenty': 2252, 'bitter': 2253, 'angry': 2254, 'comfort': 2255, 'quagmire': 2256, 'sentimental': 2257, 'sappy': 2258, 'became': 2259, 'humanity': 2260, 'dislike': 2261, 'vietnam': 2262, 'intelligence': 2263, 'goodness': 2264, 'fail': 2265, 'abilities': 2266, 'toughness': 2267, 'sell': 2268, 'viewed': 2269, 'cartoons': 2270, 'park': 2271, 'similar': 2272, 'format': 2273, 'adventures': 2274, 'exploding': 2275, 'sweets': 2276, 'behaved': 2277, 'bitches': 2278, 'leader': 2279, 'idiotic': 2280, 'bip': 2281, 'maths': 2282, 'teacher': 2283, 'fantastic': 2284, 'lenny': 2285, \"henry's\": 2286, 'gina': 2287, 'yashere': 2288, 'eastenders': 2289, 'chrissie': 2290, 'watts': 2291, 'tracy': 2292, 'ann': 2293, 'oberman': 2294, 'smack': 2295, \"pony's\": 2296, 'doon': 2297, 'mackichan': 2298, \"ringers'\": 2299, 'perry': 2300, \"blunder's\": 2301, 'nina': 2302, 'conti': 2303, 'canada': 2304, \"'stanley\": 2305, 'triumph': 2306, 'spirit': 2307, 'struggle': 2308, 'literate': 2309, 'realize': 2310, 'starting': 2311, 'stopping': 2312, 'nicely': 2313, 'view': 2314, 'credible': 2315, 'reviewers': 2316, 'rendered': 2317, 'consistent': 2318, 'carefully': 2319, 'chosen': 2320, 'add': 2321, 'depth': 2322, 'meaning': 2323, 'important': 2324, 'stresses': 2325, 'modern': 2326, 'devastating': 2327, 'career': 2328, 'consequences': 2329, 'vital': 2330, 'revolves': 2331, 'acquainted': 2332, 'fellow': 2333, 'employee': 2334, 'cafeteria': 2335, 'discovers': 2336, 'lessons': 2337, 'predict': 2338, 'initially': 2339, 'wary': 2340, 'involvement': 2341, 'develop': 2342, 'competently': 2343, 'coping': 2344, 'prospects': 2345, 'pregnant': 2346, 'unemployed': 2347, 'endearing': 2348, 'resourceful': 2349, 'bringing': 2350, 'dignity': 2351, 'commands': 2352, 'charming': 2353, 'yuppie': 2354, 'depicted': 2355, 'romances': 2356, 'aged': 2357, 'pair': 2358, 'struggles': 2359, 'heartwarming': 2360, 'troubling': 2361, 'albeit': 2362, 'fictional': 2363, 'underneath': 2364, 'humorous': 2365, 'surprisingly': 2366, 'trademark': 2367, 'works': 2368, 'sly': 2369, 'particular': 2370, 'dunce': 2371, 'supposed': 2372, 'eighties': 2373, 'overly': 2374, 'computer': 2375, 'generated': 2376, 'fare': 2377, 'pieces': 2378, 'sung': 2379, 'marner': 2380, 'particularly': 2381, 'fourth': 2382, 'nobles': 2383, 'sing': 2384, 'battle': 2385, 'rights': 2386, 'known': 2387, \"freakin'\": 2388, 'sings': 2389, 'dances': 2390, 'fits': 2391, 'devious': 2392, 'mischievous': 2393, 'trouble': 2394, 'eight': 2395, 'advance': 2396, \"you've\": 2397, 'villainous': 2398, 'dust': 2399, 'trap': 2400, 'enjoys': 2401, 'marvelous': 2402, 'singer': 2403, 'demonstrates': 2404, 'acrobatic': 2405, 'cartwheel': 2406, 'starring': 2407, 'connery': 2408, 'likable': 2409, 'fresh': 2410, 'curious': 2411, 'fx': 2412, 'entranced': 2413, 'held': 2414, 'amusing': 2415, 'disney': 2416, 'saccharine': 2417, 'sweetness': 2418, 'scary': 2419, 'benign': 2420, 'interestingly': 2421, 'implausibility': 2422, 'staying': 2423, 'whistling': 2424, 'song': 2425, 'musicals': 2426, 'stuck': 2427, 'costumes': 2428, 'lavish': 2429, 'surprising': 2430, 'catlike': 2431, 'costume': 2432, 'transformed': 2433, \"connery's\": 2434, 'cute': 2435, 'bold': 2436, 'princess': 2437, 'feature': 2438, 'length': 2439, 'personalities': 2440, 'favourite': 2441, 'pretend': 2442, 'drowning': 2443, 'country': 2444, 'rage': 2445, 'table': 2446, 'pretending': 2447, 'parents': 2448, 'alike': 2449, \"miraglio's\": 2450, 'mixing': 2451, 'requisite': 2452, 'sinister': 2453, 'stew': 2454, 'paramount': 2455, 'twisty': 2456, 'field': 2457, 'series': 2458, 'seeming': 2459, 'fulfillment': 2460, 'ancient': 2461, 'prophecy': 2462, 'murderer': 2463, 'cloaked': 2464, 'madwoman': 2465, 'assortment': 2466, 'headed': 2467, 'ridiculously': 2468, 'lustful': 2469, 'tramp': 2470, \"barbara's\": 2471, 'ingredient': 2472, 'superior': 2473, 'catchy': 2474, 'hummable': 2475, 'nicolai': 2476, 'provides': 2477, 'scenery': 2478, 'largely': 2479, 'wurzburg': 2480, 'treat': 2481, 'pleased': 2482, 'report': 2483, 'satisfied': 2484, 'various': 2485, 'knifings': 2486, 'shootings': 2487, 'impalements': 2488, 'carnage': 2489, 'tastefully': 2490, 'dishes': 2491, 'crypts': 2492, 'freaky': 2493, 'rats': 2494, 'bats': 2495, \"'em\": 2496, 'obligatory': 2497, 'ugo': 2498, 'pagliai': 2499, 'hunky': 2500, 'folks': 2501, 'print': 2502, 'loads': 2503, 'extras': 2504, 'boot': 2505, 'thanks': 2506, \"here's\": 2507, 'evidence': 2508, 'worship': 2509, 'acknowledge': 2510, 'wholesome': 2511, 'plotting': 2512, 'values': 2513, 'enchanting': 2514, 'inventively': 2515, 'sequences': 2516, 'golden': 2517, 'belongs': 2518, 'introduce': 2519, 'gloved': 2520, 'sexually': 2521, 'frustrated': 2522, 'blends': 2523, 'fashioned': 2524, 'myth': 2525, 'murderous': 2526, 'constantly': 2527, 'siblings': 2528, '100': 2529, '6th': 2530, 'inevitable': 2531, 'choreographer': 2532, 'prominent': 2533, 'modeling': 2534, 'agency': 2535, 'sharing': 2536, 'bed': 2537, 'manager': 2538, 'spree': 2539, 'obvious': 2540, 'culprit': 2541, 'states': 2542, 'fascinating': 2543, 'history': 2544, 'wears': 2545, 'blood': 2546, 'cloak': 2547, 'produces': 2548, 'ghastly': 2549, 'whenever': 2550, 'exactly': 2551, 'gentle': 2552, 'barbarically': 2553, 'stabbed': 2554, 'dagger': 2555, 'dragged': 2556, 'cars': 2557, 'impaled': 2558, 'fences': 2559, 'latter': 2560, 'acts': 2561, 'request': 2562, 'classy': 2563, 'tasteful': 2564, 'influence': 2565, 'forgotten': 2566, 'owes': 2567, 'la': 2568, 'dama': 2569, 'rossa': 2570, 'uccide': 2571, 'sette': 2572, 'volte': 2573, 'aka': 2574, 'genres': 2575, 'surpassed': 2576, 'hopes': 2577, '1971': 2578, 'atmospheric': 2579, 'compare': 2580, 'instant': 2581, 'hands': 2582, 'lover': 2583, 'missing': 2584, 'delivers': 2585, 'inventive': 2586, 'suspense': 2587, 'sublimely': 2588, 'eerily': 2589, 'combinations': 2590, 'terror': 2591, 'wildenbrück': 2592, 'legend': 2593, 'hundred': 2594, 'kill': 2595, 'photographer': 2596, 'murdered': 2597, 'proved': 2598, 'colorful': 2599, 'creepiness': 2600, 'effectively': 2601, 'feast': 2602, 'visually': 2603, \"grandfather's\": 2604, 'capable': 2605, 'goosebumps': 2606, 'arguably': 2607, 'appreciated': 2608, 'prime': 2609, 'ladies': 2610, \"bouchet's\": 2611, 'presence': 2612, 'graded': 2613, 'appearances': 2614, 'starred': 2615, 'cult': 2616, 'within': 2617, 'fernando': 2618, 'di': 2619, \"leo's\": 2620, 'milano': 2621, 'calibro': 2622, '9': 2623, 'lucio': 2624, \"fulci's\": 2625, 'highlight': 2626, 'duckling': 2627, 'unforgettable': 2628, 'wonderful': 2629, 'miss': 2630, 'marina': 2631, 'malfatti': 2632, 'beauties': 2633, 'bare': 2634, \"nicolai's\": 2635, 'intensely': 2636, 'eerie': 2637, 'ingeniously': 2638, 'tension': 2639, 'increses': 2640, 'passing': 2641, 'minute': 2642, 'stunning': 2643, 'words': 2644, 'easily': 2645, 'ranks': 2646, 'finest': 2647, 'priority': 2648, 'short': 2649, 'expertly': 2650, 'scripted': 2651, 'perfectly': 2652, 'searing': 2653, 'parody': 2654, 'london': 2655, 'rolling': 2656, 'vulgar': 2657, 'provocative': 2658, 'witty': 2659, 'sharp': 2660, 'superbly': 2661, 'caricatured': 2662, 'cross': 2663, 'section': 2664, 'accurate': 2665, 'following': 2666, 'escapades': 2667, 'term': 2668, 'parodying': 2669, 'correctness': 2670, 'flies': 2671, 'poke': 2672, 'taboo': 2673, 'disappoint': 2674, \"world's\": 2675, 'stopped': 2676, 'pit': 2677, 'door': 2678, 'participants': 2679, 'including': 2680, 'grand': 2681, 'experiment': 2682, 'hey': 2683, 'active': 2684, 'listened': 2685, 'futz': 2686, 'experimental': 2687, 'movement': 2688, 'york': 2689, '1960s': 2690, 'origins': 2691, 'darkly': 2692, 'liberty': 2693, 'morality': 2694, 'relevant': 2695, 'congress': 2696, 'outlaw': 2697, 'trashing': 2698, 'constitution': 2699, 'norms': 2700, 'removed': 2701, 'hate': 2702, 'surface': 2703, 'fable': 2704, 'animals': 2705, 'stifling': 2706, 'conformity': 2707, 'won': 2708, 'acclaim': 2709, 'toured': 2710, 's': 2711, 'influenced': 2712, 'luckily': 2713, 'originally': 2714, 'conceived': 2715, 'tom': 2716, \"o'horgan\": 2717, 'directed': 2718, 'jesus': 2719, 'superstar': 2720, 'aggressive': 2721, 'unsettling': 2722, 'glorious': 2723, 'wildly': 2724, 'imaginative': 2725, 'storytelling': 2726, 'till': 2727, 'received': 2728, 'reception': 2729, 'commentators': 2730, 'coplandesque': 2731, 'americana': 2732, 'discovered': 2733, 'none': 2734, 'poignant': 2735, \"schindler's\": 2736, 'list': 2737, 'associates': 2738, 'bombasticities': 2739, 'wars': 2740, 'surpasses': 2741, 'sensitivity': 2742, 'fully': 2743, 'keeping': 2744, 'tender': 2745, 'wit': 2746, 'sophistication': 2747, 'education': 2748, 'green': 2749, 'valley': 2750, 'konrack': 2751, 'voigt': 2752, 'african': 2753, 'charges': 2754, 'carolina': 2755, 'danny': 2756, \"devito's\": 2757, 'renaissance': 2758, 'intellectual': 2759, 'spiritual': 2760, 'awakening': 2761, 'told': 2762, 'addition': 2763, 'fair': 2764, 'focuses': 2765, 'finding': 2766, 'screenplay': 2767, 'fans': 2768, 'coartship': 2769, 'wiser': 2770, 'cautious': 2771, 'matter': 2772, 'tremendously': 2773, 'admire': 2774, 'delicate': 2775, 'gold': 2776, 'elderly': 2777, 'break': 2778, 'cinematic': 2779, 'bette': 2780, 'anywhere': 2781, 'appeared': 2782, 'blank': 2783, 'fill': 2784, 'themselves': 2785, 'nor': 2786, 'smacked': 2787, 'supporter': 2788, 'live': 2789, 'relatives': 2790, 'quarrels': 2791, 'troubled': 2792, 'knocked': 2793, 'typically': 2794, 'jackass': 2795, 'nest': 2796, 'egg': 2797, 'buys': 2798, 'thumbs': 2799, 'romantic': 2800, 'martin': 2801, 'ritt': 2802, 'pleasure': 2803, 'due': 2804, 'charisma': 2805, 'closet': 2806, 'inventor': 2807, 'rest': 2808, 'laid': 2809, 'verges': 2810, 'bland': 2811, 'pleasant': 2812, 'rosy': 2813, 'hued': 2814, 'fantasy': 2815, 'overtures': 2816, 'tool': 2817, 'ensuing': 2818, 'fireworks': 2819, 'intentionally': 2820, 'colorless': 2821, 'leads': 2822, 'toned': 2823, 'finale': 2824, 'fluff': 2825, 'cynics': 2826, 'deserve': 2827, 'satisfying': 2828}\n"
          ],
          "name": "stdout"
        }
      ]
    },
    {
      "cell_type": "markdown",
      "metadata": {
        "id": "GeljBcVnRTW_"
      },
      "source": [
        "* text_to_sequences()를 거쳐야 각 문장에서 빈도 순위 max_words(9,999)위까지만 남는다.\n",
        "* word index는 Dictionary 타입이며, 토큰으로 선정된 각 단어에 대하여 index가 배당된 것을 알 수 있다."
      ]
    },
    {
      "cell_type": "markdown",
      "metadata": {
        "id": "av5ZC07-RoRm"
      },
      "source": [
        "# Tokenizer 연습\n",
        "\n",
        "* Tokenizing을 할 때는 그 대상들이 별개의 원소로 있어야 한다."
      ]
    },
    {
      "cell_type": "code",
      "metadata": {
        "id": "8T7EfKhwRNkK"
      },
      "source": [
        "# 먼저 자료가 중첩 리스트로 있을 때의 경우이다.\n",
        "sample1 = [['사과 감자 옥수수'], ['딸기 감자 옥수수'], ['양파 감자 옥수수'], ['양파 부추 옥수수']]\n",
        "# 결과\n",
        "# {'사과 감자 옥수수' :1, '딸기 감자 옥수수':2, '양파 감자 옥수수':3, '양파 부추 옥수수':4}"
      ],
      "execution_count": null,
      "outputs": []
    },
    {
      "cell_type": "code",
      "metadata": {
        "id": "kZb90sTrR7os"
      },
      "source": [
        "sample2 = [['사과','감자','옥수수'], ['딸기','감자','옥수수'], ['양파','감자','옥수수'], ['양파','부추','옥수수']]\n",
        "# 결과\n",
        "# {'옥수수':1, '감자':2, '너희':4, '그들':5, '양파':6, '부추':7}"
      ],
      "execution_count": null,
      "outputs": []
    },
    {
      "cell_type": "code",
      "metadata": {
        "id": "ipFpO5V_StEZ"
      },
      "source": [
        "# 단일 리스트일 경우에는 별개의 원소로 구분하지 ㅇ낳아도 된다.\n",
        "sample3 = ['사과 감자 옥수수 너희 그들 양파 부추']\n",
        "# 결과\n",
        "# {'사과':1, '감자':2, '옥수수':3, '너희':4, '그들':5, '양파':6, '부추':7}\n",
        "\n",
        "sample4 = ['사과', '감자','옥수수','너희','그들','양파','부추']\n",
        "#결과\n",
        "# {'사과':1, '감자':2, '옥수수':3, '너희':4, '그들':5, '양파':6, '부추':7}"
      ],
      "execution_count": null,
      "outputs": []
    },
    {
      "cell_type": "markdown",
      "metadata": {
        "id": "bzbnkXdSTJPf"
      },
      "source": [
        "# Data Sequencing"
      ]
    },
    {
      "cell_type": "code",
      "metadata": {
        "colab": {
          "base_uri": "https://localhost:8080/"
        },
        "id": "ealIzCJkTIrG",
        "outputId": "711cf941-7ee5-431a-daf8-b61a8aac174f"
      },
      "source": [
        "# 각 문장에서 상위 빈도 9,999(max_words)개의 단어만 추출하여 word_index의 숫자를 가지는 리스트로 변환한다.\n",
        "\n",
        "data = tokenizer.texts_to_sequences(texts) # 빈도 10,000의 Tokenizer결과가 여기서 반영된다.\n",
        "\n",
        "print('data0:', data[0])\n",
        "\n",
        "print('texts0 : ', texts[0])"
      ],
      "execution_count": null,
      "outputs": [
        {
          "output_type": "stream",
          "text": [
            "data0: [43, 4, 3, 179, 40, 34, 1140, 308, 13, 3, 686, 494, 46, 17, 3, 1141, 142, 12, 7, 3, 687, 384, 4, 688, 495, 3, 1142, 689, 496, 7, 690, 90, 29, 691, 1143, 1144, 41, 1, 692, 1145, 4, 49, 1146, 309, 11, 693, 688, 1, 180, 47, 17, 52, 385, 1147, 1148, 254, 11, 37, 68, 181, 1149, 39, 216, 45, 1, 694, 106, 26, 690, 181, 1, 1150, 1151, 69, 80, 1152, 310, 695, 5, 3, 1153, 1154, 25, 3, 1155, 311, 49, 143, 144, 21, 255, 115, 17, 36, 33, 497, 41, 312, 62, 1156, 1157, 312, 386, 1158, 1159, 2, 1160, 1161, 77, 26, 123, 1162]\n",
            "texts0 :  Story of a man who has unnatural feelings for a pig. Starts out with a opening scene that is a terrific example of absurd comedy. A formal orchestra audience is turned into an insane, violent mob by the crazy chantings of it's singers. Unfortunately it stays absurd the WHOLE time with no general narrative eventually making it just too off putting. Even those from the era should be turned off. The cryptic dialogue would make Shakespeare seem easy to a third grader. On a technical level it's better than you might think with some good cinematography by future great Vilmos Zsigmond. Future stars Sally Kirkland and Frederic Forrest can be seen briefly.\n"
          ],
          "name": "stdout"
        }
      ]
    },
    {
      "cell_type": "markdown",
      "metadata": {
        "id": "bDZkZhoyTndY"
      },
      "source": [
        "* data\n",
        "  * 각 단어들의 숫자 형태의 리스트로 변환되었다.\n",
        "  * texts의 첫 번째 행의 단어들이 숫자로 변한 모습을 보여준다.\n",
        "  * 상위 빈도 10,000에 속하는 것들이므로 숫자의 범위가 1~9999이다.\n",
        "  * 빈도 9,999 내에 속하지 않는 단어들은 버린다.\n",
        "\n",
        "* text\n",
        "  * 본래 단어들"
      ]
    },
    {
      "cell_type": "markdown",
      "metadata": {
        "id": "mHyAUTaST8dc"
      },
      "source": [
        "## 타입 확인"
      ]
    },
    {
      "cell_type": "code",
      "metadata": {
        "colab": {
          "base_uri": "https://localhost:8080/"
        },
        "id": "V4dTi1p4Tk1z",
        "outputId": "5913c2ca-101e-40ed-95f0-80c19c4e84c6"
      },
      "source": [
        "print(type(texts))\n",
        "print(type(data))"
      ],
      "execution_count": null,
      "outputs": [
        {
          "output_type": "stream",
          "text": [
            "<class 'list'>\n",
            "<class 'list'>\n"
          ],
          "name": "stdout"
        }
      ]
    },
    {
      "cell_type": "markdown",
      "metadata": {
        "id": "KuIlXfDGUCmX"
      },
      "source": [
        "# Data Padding 연습"
      ]
    },
    {
      "cell_type": "markdown",
      "metadata": {
        "id": "CV1g1ZgkUFio"
      },
      "source": [
        "* Padding은 데이터의 길이를 고정시켜 준다.\n",
        "* 지정된 길이에 모자라는 것은 0을 채우고, 넘치는 것은 잘라낸다.\n",
        "* 넘치는 것을 잘라내는 이유는 문장이 길어질수록 많은 종류의 단어가 나오기 때문이다.\n",
        "* 길이를 고정해야 텐서의 크기가 맞춰진다.\n",
        "* 기본값으로 단어의 선택은 뒤에서부터 한다.\n",
        "* 또한, nested list를 2D 텐서(2차원 넘파이 배열)로 만든다."
      ]
    },
    {
      "cell_type": "code",
      "metadata": {
        "colab": {
          "base_uri": "https://localhost:8080/"
        },
        "id": "yDbk1ugbT_Fl",
        "outputId": "bff9d3e7-4ef3-4939-c481-456caf5f77d9"
      },
      "source": [
        "from keras.preprocessing.sequence import pad_sequences\n",
        "\n",
        "sequences = [[1, 2, 3, 4, 5], [1, 2, 3, 4], [1]] # nested list\n",
        "padded = pad_sequences(sequences, maxlen=3)\n",
        "print(padded)"
      ],
      "execution_count": null,
      "outputs": [
        {
          "output_type": "stream",
          "text": [
            "[[3 4 5]\n",
            " [2 3 4]\n",
            " [0 0 1]]\n"
          ],
          "name": "stdout"
        }
      ]
    },
    {
      "cell_type": "markdown",
      "metadata": {
        "id": "L3t_sj_JUwxZ"
      },
      "source": [
        "# Data Padding"
      ]
    },
    {
      "cell_type": "code",
      "metadata": {
        "colab": {
          "base_uri": "https://localhost:8080/"
        },
        "id": "HpZCe0GQUoVe",
        "outputId": "3f971acf-0d90-40a4-fd95-dd87250b4149"
      },
      "source": [
        "data = pad_sequences(data, maxlen=maxlen)\n",
        "\n",
        "print('data:', data)\n",
        "print('data0 : ', data[0])\n",
        "print(len(data[0]))"
      ],
      "execution_count": null,
      "outputs": [
        {
          "output_type": "stream",
          "text": [
            "data: [[   0    0    0 ...   26  123 1162]\n",
            " [   0    0    0 ...  501   71  200]\n",
            " [   0    0    0 ...   18   22 1198]\n",
            " ...\n",
            " [   0    0    0 ... 2780   55 2781]\n",
            " [   0    0    0 ...  348 2799   85]\n",
            " [   0    0    0 ...   64  126   45]]\n",
            "data0 :  [   0    0    0    0    0    0    0    0    0    0    0    0    0    0\n",
            "    0    0    0    0    0    0    0    0    0    0    0    0    0    0\n",
            "    0    0    0    0    0    0    0    0    0    0    0    0    0    0\n",
            "    0    0    0    0    0    0    0    0    0    0    0    0    0    0\n",
            "    0    0    0    0    0    0    0    0    0    0    0    0    0    0\n",
            "    0    0    0    0    0    0    0    0    0    0    0    0    0    0\n",
            "    0    0    0    0   43    4    3  179   40   34 1140  308   13    3\n",
            "  686  494   46   17    3 1141  142   12    7    3  687  384    4  688\n",
            "  495    3 1142  689  496    7  690   90   29  691 1143 1144   41    1\n",
            "  692 1145    4   49 1146  309   11  693  688    1  180   47   17   52\n",
            "  385 1147 1148  254   11   37   68  181 1149   39  216   45    1  694\n",
            "  106   26  690  181    1 1150 1151   69   80 1152  310  695    5    3\n",
            " 1153 1154   25    3 1155  311   49  143  144   21  255  115   17   36\n",
            "   33  497   41  312   62 1156 1157  312  386 1158 1159    2 1160 1161\n",
            "   77   26  123 1162]\n",
            "200\n"
          ],
          "name": "stdout"
        }
      ]
    },
    {
      "cell_type": "markdown",
      "metadata": {
        "id": "xrqxU4GqVN_7"
      },
      "source": [
        "## 타입 확인\n",
        "\n",
        "* Padding을 거치게 되면 Numpy 배열로 바뀌고, shape를 갖는다."
      ]
    },
    {
      "cell_type": "code",
      "metadata": {
        "colab": {
          "base_uri": "https://localhost:8080/"
        },
        "id": "elG47hMQU7QP",
        "outputId": "280983d4-c25d-4c51-830f-928c482a1dbf"
      },
      "source": [
        "print(type(texts))\n",
        "print(type(data))\n",
        "print(data.shape)"
      ],
      "execution_count": null,
      "outputs": [
        {
          "output_type": "stream",
          "text": [
            "<class 'list'>\n",
            "<class 'numpy.ndarray'>\n",
            "(60, 200)\n"
          ],
          "name": "stdout"
        }
      ]
    },
    {
      "cell_type": "markdown",
      "metadata": {
        "id": "Uv2QZweGWCm-"
      },
      "source": [
        "# One-Hot Encoding 연습\n",
        "\n",
        "* one-hot encoding은 모든 숫자를 0과 1로만 만든다.\n",
        "* 그렇지 않으면 index 값이 특성의 크기로 간주된다."
      ]
    },
    {
      "cell_type": "code",
      "metadata": {
        "id": "7SwrVJuqWEoI",
        "colab": {
          "base_uri": "https://localhost:8080/"
        },
        "outputId": "0b60cae2-c93d-4e9c-f386-37d6800da2ae"
      },
      "source": [
        "sample = [[5, 6, 7], [8, 9, 10]]\n",
        "arr = np.zeros((len(sample), 10+1))\n",
        "for i, seq in enumerate(sample) :\n",
        "  arr[i, seq] = 1.\n",
        "\n",
        "arr"
      ],
      "execution_count": null,
      "outputs": [
        {
          "output_type": "execute_result",
          "data": {
            "text/plain": [
              "array([[0., 0., 0., 0., 0., 1., 1., 1., 0., 0., 0.],\n",
              "       [0., 0., 0., 0., 0., 0., 0., 0., 1., 1., 1.]])"
            ]
          },
          "metadata": {
            "tags": []
          },
          "execution_count": 60
        }
      ]
    },
    {
      "cell_type": "markdown",
      "metadata": {
        "id": "vQAtVZykXqqv"
      },
      "source": [
        "* '10'은 11번째에 들어가게 되므로 11개의 공간을 만든다. (패딩 0 고려)\n",
        "* 리스트가 2개이므로 i는 총 2회 (0,1) 반복되며, 각 i에서 리스트의 number가 가리키는 곳에 1을 기록한다."
      ]
    },
    {
      "cell_type": "markdown",
      "metadata": {
        "id": "YZuK2gNaX272"
      },
      "source": [
        "# One-Hoot Encoding"
      ]
    },
    {
      "cell_type": "code",
      "metadata": {
        "id": "LELD8T2MWj8P"
      },
      "source": [
        "def to_one_hot(sequences, dimension) :\n",
        "  results = np.zeros((len(sequences), dimension))\n",
        "  for i, sequences in enumerate(sequences) :\n",
        "    results[i, sequences] = 1.\n",
        "  return results"
      ],
      "execution_count": null,
      "outputs": []
    },
    {
      "cell_type": "markdown",
      "metadata": {
        "id": "DjgBjZFLYVNQ"
      },
      "source": [
        "* data를 one-hot-encoding으로 0과 1의 벡터로 변환\n",
        "* label은 이미 0과 1로 태깅되어 있으므로, list에서 넘파이 배열로만 변환. float32를 지정하지 않으며 int32로 저장된다."
      ]
    },
    {
      "cell_type": "code",
      "metadata": {
        "id": "dGwFRbMMYMI8"
      },
      "source": [
        "data = to_one_hot(data, dimension=max_words)\n",
        "labels = np.asarray(labels).astype('float32')"
      ],
      "execution_count": null,
      "outputs": []
    },
    {
      "cell_type": "markdown",
      "metadata": {
        "id": "QwuSQM-SYrr4"
      },
      "source": [
        "## One-Hot Encoding 결과 확인"
      ]
    },
    {
      "cell_type": "code",
      "metadata": {
        "colab": {
          "base_uri": "https://localhost:8080/"
        },
        "id": "WfKC_kmgYqlB",
        "outputId": "4f9e1d45-0998-4a11-e355-b03fe51ea928"
      },
      "source": [
        "print('data:', data)\n",
        "\n",
        "print(len(data[0]))\n",
        "print('data[0][0:100]:', data[0][0:100])"
      ],
      "execution_count": null,
      "outputs": [
        {
          "output_type": "stream",
          "text": [
            "data: [[1. 1. 1. ... 0. 0. 0.]\n",
            " [1. 1. 1. ... 0. 0. 0.]\n",
            " [1. 1. 1. ... 0. 0. 0.]\n",
            " ...\n",
            " [1. 1. 1. ... 0. 0. 0.]\n",
            " [1. 1. 1. ... 0. 0. 0.]\n",
            " [1. 1. 1. ... 0. 0. 0.]]\n",
            "10000\n",
            "data[0][0:100]: [1. 1. 1. 1. 1. 1. 0. 1. 0. 0. 0. 1. 1. 1. 0. 0. 0. 1. 0. 0. 0. 1. 0. 0.\n",
            " 0. 1. 1. 0. 0. 1. 0. 0. 0. 1. 1. 0. 1. 1. 0. 1. 1. 1. 0. 1. 0. 1. 1. 1.\n",
            " 0. 1. 0. 0. 1. 0. 0. 0. 0. 0. 0. 0. 0. 0. 1. 0. 0. 0. 0. 0. 1. 1. 0. 0.\n",
            " 0. 0. 0. 0. 0. 1. 0. 0. 1. 0. 0. 0. 0. 0. 0. 0. 0. 0. 1. 0. 0. 0. 0. 0.\n",
            " 0. 0. 0. 0.]\n"
          ],
          "name": "stdout"
        }
      ]
    },
    {
      "cell_type": "markdown",
      "metadata": {
        "id": "VbBJGpK37jBz"
      },
      "source": [
        "* One-Hot Encoding을 거치게 되면 한 문장에 단어가 몇 번 나왔는지의 정보와 특정 단어가 어느 위치에 있는지의 정보는 사라진다.\n",
        "* 0이 Padding의 결과인지는 더 이상 고려되지 않는다.\n",
        "* 다만 숫자인덱스로 있었던 큰 숫자를 0과 1이라는 간닪나 숫자로 줄여 단어의 영향력을 없애준 것"
      ]
    },
    {
      "cell_type": "markdown",
      "metadata": {
        "id": "wSTxGjRjZH0x"
      },
      "source": [
        "## 타입 확인"
      ]
    },
    {
      "cell_type": "code",
      "metadata": {
        "colab": {
          "base_uri": "https://localhost:8080/"
        },
        "id": "RncMVWRwY3rr",
        "outputId": "a2acf6b5-0c6d-4b19-addc-bd3e3bb04f3e"
      },
      "source": [
        "# One-Hot Encoding을 거치게 되면 타입은 그대로이나 shape가 바뀐다.\n",
        "print(type(texts)) \n",
        "print(type(data)) \n",
        "print(data.shape) "
      ],
      "execution_count": null,
      "outputs": [
        {
          "output_type": "stream",
          "text": [
            "<class 'list'>\n",
            "<class 'numpy.ndarray'>\n",
            "(60, 10000)\n"
          ],
          "name": "stdout"
        }
      ]
    },
    {
      "cell_type": "markdown",
      "metadata": {
        "id": "tjlvQf1ZZzXg"
      },
      "source": [
        "# 입력부 노드"
      ]
    },
    {
      "cell_type": "markdown",
      "metadata": {
        "id": "flvUQ9ZTZ836"
      },
      "source": [
        "* 이상의 결과로 신경망의 입력부 노드는 위와 같이 원-핫-인코딩 결과로 시작된다.\n",
        "\n",
        "* 입력층의 노드는 총 10,000개이며 위 예에서는 5개 종류의 어휘를 가지고 있으므로 이들 중 5개 노드만 1이 된다.\n",
        "\n",
        "* 이들 각각은 은닉층의 노드에 각각의 가중치가 곱해져 전달된다. 나머지는 0이므로 값이 전달되지 않는다."
      ]
    },
    {
      "cell_type": "markdown",
      "metadata": {
        "id": "2_gBMC2aaQum"
      },
      "source": [
        "# Train 데이터와 Validation 데이터 준비"
      ]
    },
    {
      "cell_type": "code",
      "metadata": {
        "colab": {
          "base_uri": "https://localhost:8080/"
        },
        "id": "KTvun1daZ8S7",
        "outputId": "37102a44-60ff-49e3-e30b-645781f21f5b"
      },
      "source": [
        "print('데이터 텐서의 크기:', data.shape)\n",
        "print('레이블 텐서의 크기:', labels.shape)\n",
        "\n",
        "indices = np.arange(data.shape[0])  # 0~24999까지의 숫자 생성\n",
        "np.random.shuffle(indices)          # 0~24999까지의 숫자를 랜덤하게 섞음\n",
        "data = data[indices]                # data를 indices로 섞음\n",
        "labels = labels[indices]            # labels를 indices로 섞음\n",
        "\n",
        "print(indices)"
      ],
      "execution_count": null,
      "outputs": [
        {
          "output_type": "stream",
          "text": [
            "데이터 텐서의 크기: (60, 10000)\n",
            "레이블 텐서의 크기: (60,)\n",
            "[ 5 33 50 49 25 27 53 48 44 19  8  4 34 36  1 15 54  2 12 23 38 32 35 39\n",
            "  9 41 28 55  7 21 43 20 10 11 51 46 52 37 22 31 47 26 56 17 58  6 18 13\n",
            " 40  3 24 45 14 29 57  0 30 16 59 42]\n"
          ],
          "name": "stdout"
        }
      ]
    },
    {
      "cell_type": "markdown",
      "metadata": {
        "id": "9R9SoX1TayWc"
      },
      "source": [
        "# 훈련데이터와 검증 데이터 분리"
      ]
    },
    {
      "cell_type": "code",
      "metadata": {
        "id": "j--CRRs8apDX"
      },
      "source": [
        "x_train = data[validation_ratio:] # 훈련데이터의 70%를 훈련데이터\n",
        "y_train = labels[validation_ratio:] # 훈련데이터의 70%를 훈련데이터 Label(data와 labels는 같은 순서)\n",
        "\n",
        "x_val = data[:validation_ratio] # 훈련데이터의 30%를 검증데이터\n",
        "y_val = labels[:validation_ratio] # 훈련데이터의 30%를 검증데이터 Label"
      ],
      "execution_count": null,
      "outputs": []
    },
    {
      "cell_type": "markdown",
      "metadata": {
        "id": "YXjf617DbQHT"
      },
      "source": [
        "# 모델 정의하기"
      ]
    },
    {
      "cell_type": "code",
      "metadata": {
        "id": "l4Nc98D8bO81"
      },
      "source": [
        "from tensorflow.keras.models import Sequential\n",
        "from tensorflow.keras.layers import Dense\n",
        "\n",
        "model = Sequential()\n",
        "\n",
        "# 은닉 노드 수는 수렴하는 모습을 보이는 것이 좋다.\n",
        "\n",
        "model.add(Dense(64, activation='relu', input_shape=(max_words,)))\n",
        "model.add(Dense(32, activation='relu'))\n",
        "model.add(Dense(1, activation='sigmoid'))"
      ],
      "execution_count": null,
      "outputs": []
    },
    {
      "cell_type": "markdown",
      "metadata": {
        "id": "HsLk0x9sbviR"
      },
      "source": [
        "# 모델 요약 출력"
      ]
    },
    {
      "cell_type": "code",
      "metadata": {
        "colab": {
          "base_uri": "https://localhost:8080/"
        },
        "id": "W1hfw8cCbvNX",
        "outputId": "bdc1f2c6-9e71-40d4-f2cf-a0c55ab66136"
      },
      "source": [
        "model.summary()"
      ],
      "execution_count": null,
      "outputs": [
        {
          "output_type": "stream",
          "text": [
            "Model: \"sequential_1\"\n",
            "_________________________________________________________________\n",
            "Layer (type)                 Output Shape              Param #   \n",
            "=================================================================\n",
            "dense_3 (Dense)              (None, 64)                640064    \n",
            "_________________________________________________________________\n",
            "dense_4 (Dense)              (None, 32)                2080      \n",
            "_________________________________________________________________\n",
            "dense_5 (Dense)              (None, 1)                 33        \n",
            "=================================================================\n",
            "Total params: 642,177\n",
            "Trainable params: 642,177\n",
            "Non-trainable params: 0\n",
            "_________________________________________________________________\n"
          ],
          "name": "stdout"
        }
      ]
    },
    {
      "cell_type": "markdown",
      "metadata": {
        "id": "IyxgFg1Ub1qu"
      },
      "source": [
        "# Compile & Train Model"
      ]
    },
    {
      "cell_type": "markdown",
      "metadata": {
        "id": "xC_XZaZ7cshD"
      },
      "source": [
        "모델 컴파일\n",
        "* 신경망의 출력이 확률이므로 오차값 계산은 crossentropy를 사용하는 것이 최선이다.\n",
        "* 또한 이진 분류이므로 binary_crossentropy를 사용한다. 다중 분류에서는 categorical_crossentropy를 사용한다.\n",
        "* 가중치 업데이트 방법은 RMSprop을 사용하였다."
      ]
    },
    {
      "cell_type": "code",
      "metadata": {
        "id": "dOIIztx5b5j8"
      },
      "source": [
        "model.compile(loss='binary_crossentropy', optimizer='rmsprop', metrics=['acc'])"
      ],
      "execution_count": null,
      "outputs": []
    },
    {
      "cell_type": "markdown",
      "metadata": {
        "id": "XLQOV9oGdSCR"
      },
      "source": [
        "모델 훈련\n",
        "* 32개씩 미니 배치를 만들어 10번의 epoch로 훈련한다. 보통 8~512개 중에서 찾는다.\n",
        "* 훈련 데이터로 훈련하고, 검증 데이터로 검증한다.\n",
        "* 반환값의 history는 훈련하는 동안 발생한 모든 정보를 담고 있는 딕셔너리이다."
      ]
    },
    {
      "cell_type": "code",
      "metadata": {
        "colab": {
          "base_uri": "https://localhost:8080/"
        },
        "id": "4N_uC9OEdQqI",
        "outputId": "ccdd0bfd-26ef-436d-ed92-f9cba1f97c78"
      },
      "source": [
        "history = model.fit(x_train, y_train, epochs=10, batch_size=32, validation_data=(x_val, y_val))"
      ],
      "execution_count": null,
      "outputs": [
        {
          "output_type": "stream",
          "text": [
            "Epoch 1/10\n",
            "2/2 [==============================] - 1s 122ms/step - loss: 0.6836 - acc: 0.5714 - val_loss: 0.6747 - val_acc: 0.6111\n",
            "Epoch 2/10\n",
            "2/2 [==============================] - 0s 20ms/step - loss: 0.5239 - acc: 1.0000 - val_loss: 0.6625 - val_acc: 0.5556\n",
            "Epoch 3/10\n",
            "2/2 [==============================] - 0s 37ms/step - loss: 0.3558 - acc: 1.0000 - val_loss: 0.6341 - val_acc: 0.6111\n",
            "Epoch 4/10\n",
            "2/2 [==============================] - 0s 21ms/step - loss: 0.2399 - acc: 1.0000 - val_loss: 0.5883 - val_acc: 0.6667\n",
            "Epoch 5/10\n",
            "2/2 [==============================] - 0s 18ms/step - loss: 0.1591 - acc: 1.0000 - val_loss: 0.6245 - val_acc: 0.6111\n",
            "Epoch 6/10\n",
            "2/2 [==============================] - 0s 19ms/step - loss: 0.1112 - acc: 1.0000 - val_loss: 0.5462 - val_acc: 0.7778\n",
            "Epoch 7/10\n",
            "2/2 [==============================] - 0s 19ms/step - loss: 0.0720 - acc: 1.0000 - val_loss: 0.5627 - val_acc: 0.7778\n",
            "Epoch 8/10\n",
            "2/2 [==============================] - 0s 23ms/step - loss: 0.0528 - acc: 1.0000 - val_loss: 0.5250 - val_acc: 0.7778\n",
            "Epoch 9/10\n",
            "2/2 [==============================] - 0s 19ms/step - loss: 0.0393 - acc: 1.0000 - val_loss: 0.5286 - val_acc: 0.7778\n",
            "Epoch 10/10\n",
            "2/2 [==============================] - 0s 20ms/step - loss: 0.0306 - acc: 1.0000 - val_loss: 0.5199 - val_acc: 0.7778\n"
          ],
          "name": "stdout"
        }
      ]
    },
    {
      "cell_type": "code",
      "metadata": {
        "colab": {
          "base_uri": "https://localhost:8080/"
        },
        "id": "yt0YOfJRdo7w",
        "outputId": "0bd533a9-5d1e-4fe1-85e1-06b8cc138497"
      },
      "source": [
        "!pwd"
      ],
      "execution_count": null,
      "outputs": [
        {
          "output_type": "stream",
          "text": [
            "/content/자연어처리/pytest\n"
          ],
          "name": "stdout"
        }
      ]
    },
    {
      "cell_type": "code",
      "metadata": {
        "colab": {
          "base_uri": "https://localhost:8080/"
        },
        "id": "2XxNsf0Odv4x",
        "outputId": "a7d570d0-a4c1-4e47-eb92-8f1c3add4187"
      },
      "source": [
        "%cd /content/자연어처리/pytest/"
      ],
      "execution_count": null,
      "outputs": [
        {
          "output_type": "stream",
          "text": [
            "/content/자연어처리/pytest\n"
          ],
          "name": "stdout"
        }
      ]
    },
    {
      "cell_type": "markdown",
      "metadata": {
        "id": "QuP48TmSd31Q"
      },
      "source": [
        "# Save Model"
      ]
    },
    {
      "cell_type": "code",
      "metadata": {
        "id": "OswubipBd3IQ"
      },
      "source": [
        "# multidimensional numpy arrays를 저장할 수 있는 h5 file(HDF) 포맷으로 저장한다.\n",
        "model.save('text_binary_model.h5')"
      ],
      "execution_count": null,
      "outputs": []
    },
    {
      "cell_type": "code",
      "metadata": {
        "id": "S1Aqlf2deGzv"
      },
      "source": [
        "# 훈련데이터에서 사용된 상위빈도 10,000개의 단어로 된 Tokenizer 저장\n",
        "# 새로 입력되는 문장에서도 같은 단어가 추출되게 한다.\n",
        "import pickle\n",
        "with open('text_binary_tokenizer.pickle', 'wb') as handle :\n",
        "  pickle.dump(tokenizer, handle, protocol=pickle.HIGHEST_PROTOCOL)"
      ],
      "execution_count": null,
      "outputs": []
    },
    {
      "cell_type": "markdown",
      "metadata": {
        "id": "WiYCgOdhezM9"
      },
      "source": [
        "# Accuracy & Loss 확인"
      ]
    },
    {
      "cell_type": "code",
      "metadata": {
        "colab": {
          "base_uri": "https://localhost:8080/"
        },
        "id": "c6fecqC6efYd",
        "outputId": "ee3f9cd3-4edb-4a8d-ad00-73502cc45569"
      },
      "source": [
        "# history 딕셔너리 안에 있는 정확도와 손실값을 가져와 본다.\n",
        "acc = history.history['acc']\n",
        "val_acc = history.history['val_acc']\n",
        "loss = history.history['loss']\n",
        "val_loss = history.history['val_loss']\n",
        "\n",
        "print('Accuracy of each epoch:', acc)\n",
        "epochs = range(1, len(acc) + 1)"
      ],
      "execution_count": null,
      "outputs": [
        {
          "output_type": "stream",
          "text": [
            "Accuracy of each epoch: [0.5714285969734192, 1.0, 1.0, 1.0, 1.0, 1.0, 1.0, 1.0, 1.0, 1.0]\n"
          ],
          "name": "stdout"
        }
      ]
    },
    {
      "cell_type": "markdown",
      "metadata": {
        "id": "0QSuN28RfRmh"
      },
      "source": [
        "# Plotting Accuracy"
      ]
    },
    {
      "cell_type": "code",
      "metadata": {
        "colab": {
          "base_uri": "https://localhost:8080/",
          "height": 298
        },
        "id": "n2Xzabi9fNiX",
        "outputId": "9f9f7762-c84e-49c2-fe66-98308103d64d"
      },
      "source": [
        "import matplotlib.pyplot as plt\n",
        "\n",
        "# 훈련데이터의 정확도에 비해 검증데이터의 정확도는 낮게 나타난다.\n",
        "# epoch가 늘어나면 모델은 훈련데이터에 매우 민감해져(과대적합) 오히려 새로운 데이터를 잘 못 맞춘다.\n",
        "plt.plot(epochs, acc, 'bo', label='TrainingAcc')\n",
        "plt.plot(epochs, val_acc, 'b', label='ValidationAcc')\n",
        "plt.title('Training and validation accuracy')\n",
        "plt.legend()"
      ],
      "execution_count": null,
      "outputs": [
        {
          "output_type": "execute_result",
          "data": {
            "text/plain": [
              "<matplotlib.legend.Legend at 0x7f9c1a45cb90>"
            ]
          },
          "metadata": {
            "tags": []
          },
          "execution_count": 76
        },
        {
          "output_type": "display_data",
          "data": {
            "image/png": "[encoded data removed]",
            "text/plain": [
              "<Figure size 432x288 with 1 Axes>"
            ]
          },
          "metadata": {
            "tags": [],
            "needs_background": "light"
          }
        }
      ]
    },
    {
      "cell_type": "markdown",
      "metadata": {
        "id": "hqRSrAg0f_4W"
      },
      "source": [
        "# Plotting Loss"
      ]
    },
    {
      "cell_type": "code",
      "metadata": {
        "colab": {
          "base_uri": "https://localhost:8080/",
          "height": 281
        },
        "id": "o3n7I95Dfu_A",
        "outputId": "8b967f4a-7e6e-4566-8eb5-c8b9a348267e"
      },
      "source": [
        "plt.figure()\n",
        "\n",
        "# 훈련데이터의 손실값은 낮아지나, 검증데이터의 손실값은 높아진다.\n",
        "# 손실값은 오류값을 말한다. 예측과 정답의 차이를 거리 계산으로 구한 값이다.\n",
        "plt.plot(epochs, loss, 'bo', label='Training Loss')\n",
        "plt.plot(epochs, val_loss, 'b', label='Validation Loss')\n",
        "plt.title('Training and validation loss')\n",
        "plt.legend()\n",
        "\n",
        "plt.show()"
      ],
      "execution_count": null,
      "outputs": [
        {
          "output_type": "display_data",
          "data": {
            "image/png": "[encoded data removed]",
            "text/plain": [
              "<Figure size 432x288 with 1 Axes>"
            ]
          },
          "metadata": {
            "tags": [],
            "needs_background": "light"
          }
        }
      ]
    },
    {
      "cell_type": "markdown",
      "metadata": {
        "id": "yBj4RgZsgvuM"
      },
      "source": [
        "# Load Model"
      ]
    },
    {
      "cell_type": "code",
      "metadata": {
        "colab": {
          "base_uri": "https://localhost:8080/"
        },
        "id": "1KSMj2qHgbrn",
        "outputId": "1b948fab-604b-4806-c98f-0ad88cbf3581"
      },
      "source": [
        "import os\n",
        "from tensorflow.keras.models import load_model\n",
        "\n",
        "filepath = '/content/자연어처리/pytest/'\n",
        "os.chdir(filepath)\n",
        "print('Current Directory:', os.getcwd())\n",
        "\n",
        "loaded_model = load_model('text_binary_model.h5')\n",
        "print('model loaded:', loaded_model)\n",
        "\n",
        "with open('text_binary_tokenizer.pickle', 'rb') as handle :\n",
        "  loaded_tokenizer = pickle.load(handle)"
      ],
      "execution_count": null,
      "outputs": [
        {
          "output_type": "stream",
          "text": [
            "Current Directory: /content/자연어처리/pytest\n",
            "model loaded: <tensorflow.python.keras.engine.sequential.Sequential object at 0x7f9c1a45c310>\n"
          ],
          "name": "stdout"
        }
      ]
    },
    {
      "cell_type": "markdown",
      "metadata": {
        "id": "fYVDVQ3Kh4V8"
      },
      "source": [
        "# Test Data Loading"
      ]
    },
    {
      "cell_type": "code",
      "metadata": {
        "id": "GbgOJ2Kwhbzq"
      },
      "source": [
        "imdb_dir = '/content/자연어처리/pytest/aclImdb_v1_small/aclImdb'\n",
        "test_dir = os.path.join(imdb_dir, 'test') # aclimdb 폴더의 테스트 데이터 내용을 가져온다.\n",
        "labels = []\n",
        "texts = []\n",
        "\n",
        "for label_type in ['neg', 'pos'] :\n",
        "  dir_name = os.path.join(test_dir, label_type)\n",
        "  for fname in os.listdir(dir_name) :\n",
        "    if fname[-4:] == '.txt' :\n",
        "      f = open(os.path.join(dir_name, fname), encoding='utf8')\n",
        "      texts.append(f.read())\n",
        "      f.close()\n",
        "      if label_type == 'neg' :\n",
        "        labels.append(0)\n",
        "      else :\n",
        "        labels.append(1)"
      ],
      "execution_count": null,
      "outputs": []
    },
    {
      "cell_type": "markdown",
      "metadata": {
        "id": "cIEmQ02ui2qS"
      },
      "source": [
        "# Data 확인"
      ]
    },
    {
      "cell_type": "code",
      "metadata": {
        "colab": {
          "base_uri": "https://localhost:8080/"
        },
        "id": "KHQJ39Soi1yG",
        "outputId": "3a65d4f5-a3d5-4d24-a77d-67fe2597010a"
      },
      "source": [
        "print('texts:', texts[0])\n",
        "print('texts len:', len(texts))"
      ],
      "execution_count": null,
      "outputs": [
        {
          "output_type": "stream",
          "text": [
            "texts: Blake Edwards' legendary fiasco, begins to seem pointless after just 10 minutes. A combination of The Eagle Has Landed, Star!, Oh! What a Lovely War!, and Edwards' Pink Panther films, Darling Lili never engages the viewer; the aerial sequences, the musical numbers, the romance, the comedy, and the espionage are all ho hum. At what point is the viewer supposed to give a damn? This disaster wavers in tone, never decides what it wants to be, and apparently thinks it's a spoof, but it's pathetically and grindingly square. Old fashioned in the worst sense, audiences understandably stayed away in droves. It's awful. James Garner would have been a vast improvement over Hudson who is just cardboard, and he doesn't connect with Andrews and vice versa. And both Andrews and Hudson don't seem to have been let in on the joke and perform with a miscalculated earnestness. Blake Edwards' SOB isn't much more than OK, but it's the only good that ever came out of Darling Lili. The expensive and professional look of much of Darling Lili, only make what it's all lavished on even more difficult to bear. To quote Paramount chief Robert Evans, \"24 million dollars worth of film and no picture\".\n",
            "texts len: 20\n"
          ],
          "name": "stdout"
        }
      ]
    },
    {
      "cell_type": "markdown",
      "metadata": {
        "id": "vYEYKrLJkMHI"
      },
      "source": [
        "# Data Sequencing"
      ]
    },
    {
      "cell_type": "code",
      "metadata": {
        "id": "IyJlVCPDi-ae"
      },
      "source": [
        "# 문자열을 word_index의 숫자 리스트로 변환\n",
        "data = loaded_tokenizer.texts_to_sequences(texts)\n",
        "\n",
        "# padding으로 문자열의 길이를 고정시킨다.\n",
        "data = pad_sequences(data, maxlen=maxlen)\n",
        "\n",
        "# test 데이터를 원-핫 인코딩한다.\n",
        "x_test = to_one_hot(data, dimension=max_words)\n",
        "\n",
        "# label을 list에서 넘파이 배열로 변환. 결과가 0 또는 1만 나오므로 이와같이 int32로 저장해도 된다.\n",
        "# 다중분류에서는 이 부분도 원-핫 인코딩 한다.\n",
        "y_test = np.asarray(labels)"
      ],
      "execution_count": null,
      "outputs": []
    },
    {
      "cell_type": "markdown",
      "metadata": {
        "id": "x2a6uT53k59S"
      },
      "source": [
        "# Test Data Evaluation"
      ]
    },
    {
      "cell_type": "code",
      "metadata": {
        "colab": {
          "base_uri": "https://localhost:8080/"
        },
        "id": "QZpnB1iRk8S4",
        "outputId": "3f58ff02-2def-4b96-fb6c-2ef97b8ecab9"
      },
      "source": [
        "test_eval = loaded_model.evaluate(x_test, y_test)\n",
        "print('prediction model loss & acc:', test_eval)"
      ],
      "execution_count": null,
      "outputs": [
        {
          "output_type": "stream",
          "text": [
            "1/1 [==============================] - 0s 92ms/step - loss: 0.7184 - acc: 0.6500\n",
            "prediction model loss & acc: [0.7184163331985474, 0.6499999761581421]\n"
          ],
          "name": "stdout"
        }
      ]
    },
    {
      "cell_type": "markdown",
      "metadata": {
        "id": "AUsfoy9clYl1"
      },
      "source": [
        "# 1개 데이터 예측"
      ]
    },
    {
      "cell_type": "code",
      "metadata": {
        "colab": {
          "base_uri": "https://localhost:8080/"
        },
        "id": "wnqGOUlKlMkK",
        "outputId": "45badd03-a36e-475f-9ec5-8ed26b15e4a3"
      },
      "source": [
        "text = ['Hi, this is a test sentence.'] # 데이터를 list 타입으로 만든다.\n",
        "\n",
        "# tokenizer를 변경하지 않고 훈련에 사용했던 tokenizer를 사용할 것\n",
        "data = loaded_tokenizer.texts_to_sequences(text)\n",
        "data = pad_sequences(data, maxlen=maxlen)\n",
        "x_test = to_one_hot(data, dimension=max_words)\n",
        "\n",
        "prediction = loaded_model.predict(x_test)\n",
        "\n",
        "# 다중 분류에서는 다음과 같이 넘파이 함수를 이용해 가장 큰 값을 찾는다.\n",
        "# print(\"Result:\", np.argmax(predictions[0]))\n",
        "print(\"Result:\", prediction)"
      ],
      "execution_count": null,
      "outputs": [
        {
          "output_type": "stream",
          "text": [
            "Result: [[0.5758067]]\n"
          ],
          "name": "stdout"
        }
      ]
    },
    {
      "cell_type": "code",
      "metadata": {
        "id": "8U_W4FyWlzh3"
      },
      "source": [
        ""
      ],
      "execution_count": null,
      "outputs": []
    }
  ]
}