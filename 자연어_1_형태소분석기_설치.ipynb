{
  "nbformat": 4,
  "nbformat_minor": 0,
  "metadata": {
    "colab": {
      "name": "1_형태소분석기 설치.ipynb",
      "provenance": [],
      "collapsed_sections": [],
      "authorship_tag": "ABX9TyO6PVJ//voaMT58Bw2XNwgJ",
      "include_colab_link": true
    },
    "kernelspec": {
      "name": "python3",
      "display_name": "Python 3"
    },
    "language_info": {
      "name": "python"
    }
  },
  "cells": [
    {
      "cell_type": "markdown",
      "metadata": {
        "id": "view-in-github",
        "colab_type": "text"
      },
      "source": [
        "<a href=\"https://colab.research.google.com/github/jks5177/BigAI/blob/main/%EC%9E%90%EC%97%B0%EC%96%B4_1_%ED%98%95%ED%83%9C%EC%86%8C%EB%B6%84%EC%84%9D%EA%B8%B0_%EC%84%A4%EC%B9%98.ipynb\" target=\"_parent\"><img src=\"https://colab.research.google.com/assets/colab-badge.svg\" alt=\"Open In Colab\"/></a>"
      ]
    },
    {
      "cell_type": "code",
      "metadata": {
        "colab": {
          "base_uri": "https://localhost:8080/"
        },
        "id": "WNM9qQThgx6X",
        "outputId": "c9e792dd-b2d8-4566-93ee-0714cceff722"
      },
      "source": [
        "# java jdk 설치\n",
        "!apt-get update\n",
        "!apt-get install g++ openjdk-8-jdk"
      ],
      "execution_count": null,
      "outputs": [
        {
          "output_type": "stream",
          "text": [
            "\r0% [Working]\r            \rGet:1 https://cloud.r-project.org/bin/linux/ubuntu bionic-cran40/ InRelease [3,626 B]\n",
            "\r0% [Connecting to archive.ubuntu.com (91.189.88.152)] [Connecting to security.u\r0% [Connecting to archive.ubuntu.com (91.189.88.152)] [Connecting to security.u\r                                                                               \rIgn:2 https://developer.download.nvidia.com/compute/cuda/repos/ubuntu1804/x86_64  InRelease\n",
            "\r                                                                               \rIgn:3 https://developer.download.nvidia.com/compute/machine-learning/repos/ubuntu1804/x86_64  InRelease\n",
            "\r0% [Connecting to archive.ubuntu.com (91.189.88.152)] [Connecting to security.u\r0% [1 InRelease gpgv 3,626 B] [Connecting to archive.ubuntu.com (91.189.88.152)\r                                                                               \rGet:4 https://developer.download.nvidia.com/compute/cuda/repos/ubuntu1804/x86_64  Release [697 B]\n",
            "\r0% [1 InRelease gpgv 3,626 B] [Connecting to archive.ubuntu.com (91.189.88.152)\r0% [1 InRelease gpgv 3,626 B] [Connecting to archive.ubuntu.com (91.189.88.152)\r                                                                               \rHit:5 https://developer.download.nvidia.com/compute/machine-learning/repos/ubuntu1804/x86_64  Release\n",
            "Get:6 https://developer.download.nvidia.com/compute/cuda/repos/ubuntu1804/x86_64  Release.gpg [836 B]\n",
            "Get:7 http://ppa.launchpad.net/c2d4u.team/c2d4u4.0+/ubuntu bionic InRelease [15.9 kB]\n",
            "Get:8 http://security.ubuntu.com/ubuntu bionic-security InRelease [88.7 kB]\n",
            "Hit:9 http://archive.ubuntu.com/ubuntu bionic InRelease\n",
            "Get:10 http://archive.ubuntu.com/ubuntu bionic-updates InRelease [88.7 kB]\n",
            "Hit:12 http://ppa.launchpad.net/cran/libgit2/ubuntu bionic InRelease\n",
            "Ign:13 https://developer.download.nvidia.com/compute/cuda/repos/ubuntu1804/x86_64  Packages\n",
            "Get:13 https://developer.download.nvidia.com/compute/cuda/repos/ubuntu1804/x86_64  Packages [679 kB]\n",
            "Hit:14 http://ppa.launchpad.net/deadsnakes/ppa/ubuntu bionic InRelease\n",
            "Get:15 http://archive.ubuntu.com/ubuntu bionic-backports InRelease [74.6 kB]\n",
            "Get:16 http://ppa.launchpad.net/graphics-drivers/ppa/ubuntu bionic InRelease [21.3 kB]\n",
            "Get:17 http://security.ubuntu.com/ubuntu bionic-security/universe amd64 Packages [1,420 kB]\n",
            "Get:18 http://ppa.launchpad.net/c2d4u.team/c2d4u4.0+/ubuntu bionic/main Sources [1,785 kB]\n",
            "Get:19 http://security.ubuntu.com/ubuntu bionic-security/main amd64 Packages [2,257 kB]\n",
            "Get:20 http://archive.ubuntu.com/ubuntu bionic-updates/main amd64 Packages [2,693 kB]\n",
            "Get:21 http://security.ubuntu.com/ubuntu bionic-security/multiverse amd64 Packages [31.5 kB]\n",
            "Get:22 http://security.ubuntu.com/ubuntu bionic-security/restricted amd64 Packages [500 kB]\n",
            "Get:23 http://archive.ubuntu.com/ubuntu bionic-updates/restricted amd64 Packages [533 kB]\n",
            "Get:24 http://archive.ubuntu.com/ubuntu bionic-updates/universe amd64 Packages [2,190 kB]\n",
            "Get:25 http://archive.ubuntu.com/ubuntu bionic-updates/multiverse amd64 Packages [38.7 kB]\n",
            "Get:26 http://ppa.launchpad.net/c2d4u.team/c2d4u4.0+/ubuntu bionic/main amd64 Packages [913 kB]\n",
            "Get:27 http://ppa.launchpad.net/graphics-drivers/ppa/ubuntu bionic/main amd64 Packages [44.1 kB]\n",
            "Fetched 13.4 MB in 4s (3,201 kB/s)\n",
            "Reading package lists... Done\n",
            "Reading package lists... Done\n",
            "Building dependency tree       \n",
            "Reading state information... Done\n",
            "g++ is already the newest version (4:7.4.0-1ubuntu2.3).\n",
            "g++ set to manually installed.\n",
            "The following additional packages will be installed:\n",
            "  fonts-dejavu-core fonts-dejavu-extra libatk-wrapper-java\n",
            "  libatk-wrapper-java-jni libgail-common libgail18 libgtk2.0-0 libgtk2.0-bin\n",
            "  libgtk2.0-common libxxf86dga1 openjdk-8-jdk-headless openjdk-8-jre\n",
            "  openjdk-8-jre-headless x11-utils\n",
            "Suggested packages:\n",
            "  gvfs openjdk-8-demo openjdk-8-source visualvm icedtea-8-plugin libnss-mdns\n",
            "  fonts-ipafont-gothic fonts-ipafont-mincho fonts-wqy-microhei\n",
            "  fonts-wqy-zenhei fonts-indic mesa-utils\n",
            "The following NEW packages will be installed:\n",
            "  fonts-dejavu-core fonts-dejavu-extra libatk-wrapper-java\n",
            "  libatk-wrapper-java-jni libgail-common libgail18 libgtk2.0-0 libgtk2.0-bin\n",
            "  libgtk2.0-common libxxf86dga1 openjdk-8-jdk openjdk-8-jdk-headless\n",
            "  openjdk-8-jre openjdk-8-jre-headless x11-utils\n",
            "0 upgraded, 15 newly installed, 0 to remove and 76 not upgraded.\n",
            "Need to get 43.5 MB of archives.\n",
            "After this operation, 163 MB of additional disk space will be used.\n",
            "Get:1 http://archive.ubuntu.com/ubuntu bionic/main amd64 libxxf86dga1 amd64 2:1.1.4-1 [13.7 kB]\n",
            "Get:2 http://archive.ubuntu.com/ubuntu bionic/main amd64 fonts-dejavu-core all 2.37-1 [1,041 kB]\n",
            "Get:3 http://archive.ubuntu.com/ubuntu bionic/main amd64 fonts-dejavu-extra all 2.37-1 [1,953 kB]\n",
            "Get:4 http://archive.ubuntu.com/ubuntu bionic/main amd64 x11-utils amd64 7.7+3build1 [196 kB]\n",
            "Get:5 http://archive.ubuntu.com/ubuntu bionic/main amd64 libatk-wrapper-java all 0.33.3-20ubuntu0.1 [34.7 kB]\n",
            "Get:6 http://archive.ubuntu.com/ubuntu bionic/main amd64 libatk-wrapper-java-jni amd64 0.33.3-20ubuntu0.1 [28.3 kB]\n",
            "Get:7 http://archive.ubuntu.com/ubuntu bionic/main amd64 libgtk2.0-common all 2.24.32-1ubuntu1 [125 kB]\n",
            "Get:8 http://archive.ubuntu.com/ubuntu bionic/main amd64 libgtk2.0-0 amd64 2.24.32-1ubuntu1 [1,769 kB]\n",
            "Get:9 http://archive.ubuntu.com/ubuntu bionic/main amd64 libgail18 amd64 2.24.32-1ubuntu1 [14.2 kB]\n",
            "Get:10 http://archive.ubuntu.com/ubuntu bionic/main amd64 libgail-common amd64 2.24.32-1ubuntu1 [112 kB]\n",
            "Get:11 http://archive.ubuntu.com/ubuntu bionic/main amd64 libgtk2.0-bin amd64 2.24.32-1ubuntu1 [7,536 B]\n",
            "Get:12 http://archive.ubuntu.com/ubuntu bionic-updates/universe amd64 openjdk-8-jre-headless amd64 8u292-b10-0ubuntu1~18.04 [28.2 MB]\n",
            "Get:13 http://archive.ubuntu.com/ubuntu bionic-updates/universe amd64 openjdk-8-jre amd64 8u292-b10-0ubuntu1~18.04 [69.6 kB]\n",
            "Get:14 http://archive.ubuntu.com/ubuntu bionic-updates/universe amd64 openjdk-8-jdk-headless amd64 8u292-b10-0ubuntu1~18.04 [8,284 kB]\n",
            "Get:15 http://archive.ubuntu.com/ubuntu bionic-updates/universe amd64 openjdk-8-jdk amd64 8u292-b10-0ubuntu1~18.04 [1,644 kB]\n",
            "Fetched 43.5 MB in 3s (13.3 MB/s)\n",
            "Selecting previously unselected package libxxf86dga1:amd64.\n",
            "(Reading database ... 160837 files and directories currently installed.)\n",
            "Preparing to unpack .../00-libxxf86dga1_2%3a1.1.4-1_amd64.deb ...\n",
            "Unpacking libxxf86dga1:amd64 (2:1.1.4-1) ...\n",
            "Selecting previously unselected package fonts-dejavu-core.\n",
            "Preparing to unpack .../01-fonts-dejavu-core_2.37-1_all.deb ...\n",
            "Unpacking fonts-dejavu-core (2.37-1) ...\n",
            "Selecting previously unselected package fonts-dejavu-extra.\n",
            "Preparing to unpack .../02-fonts-dejavu-extra_2.37-1_all.deb ...\n",
            "Unpacking fonts-dejavu-extra (2.37-1) ...\n",
            "Selecting previously unselected package x11-utils.\n",
            "Preparing to unpack .../03-x11-utils_7.7+3build1_amd64.deb ...\n",
            "Unpacking x11-utils (7.7+3build1) ...\n",
            "Selecting previously unselected package libatk-wrapper-java.\n",
            "Preparing to unpack .../04-libatk-wrapper-java_0.33.3-20ubuntu0.1_all.deb ...\n",
            "Unpacking libatk-wrapper-java (0.33.3-20ubuntu0.1) ...\n",
            "Selecting previously unselected package libatk-wrapper-java-jni:amd64.\n",
            "Preparing to unpack .../05-libatk-wrapper-java-jni_0.33.3-20ubuntu0.1_amd64.deb ...\n",
            "Unpacking libatk-wrapper-java-jni:amd64 (0.33.3-20ubuntu0.1) ...\n",
            "Selecting previously unselected package libgtk2.0-common.\n",
            "Preparing to unpack .../06-libgtk2.0-common_2.24.32-1ubuntu1_all.deb ...\n",
            "Unpacking libgtk2.0-common (2.24.32-1ubuntu1) ...\n",
            "Selecting previously unselected package libgtk2.0-0:amd64.\n",
            "Preparing to unpack .../07-libgtk2.0-0_2.24.32-1ubuntu1_amd64.deb ...\n",
            "Unpacking libgtk2.0-0:amd64 (2.24.32-1ubuntu1) ...\n",
            "Selecting previously unselected package libgail18:amd64.\n",
            "Preparing to unpack .../08-libgail18_2.24.32-1ubuntu1_amd64.deb ...\n",
            "Unpacking libgail18:amd64 (2.24.32-1ubuntu1) ...\n",
            "Selecting previously unselected package libgail-common:amd64.\n",
            "Preparing to unpack .../09-libgail-common_2.24.32-1ubuntu1_amd64.deb ...\n",
            "Unpacking libgail-common:amd64 (2.24.32-1ubuntu1) ...\n",
            "Selecting previously unselected package libgtk2.0-bin.\n",
            "Preparing to unpack .../10-libgtk2.0-bin_2.24.32-1ubuntu1_amd64.deb ...\n",
            "Unpacking libgtk2.0-bin (2.24.32-1ubuntu1) ...\n",
            "Selecting previously unselected package openjdk-8-jre-headless:amd64.\n",
            "Preparing to unpack .../11-openjdk-8-jre-headless_8u292-b10-0ubuntu1~18.04_amd64.deb ...\n",
            "Unpacking openjdk-8-jre-headless:amd64 (8u292-b10-0ubuntu1~18.04) ...\n",
            "Selecting previously unselected package openjdk-8-jre:amd64.\n",
            "Preparing to unpack .../12-openjdk-8-jre_8u292-b10-0ubuntu1~18.04_amd64.deb ...\n",
            "Unpacking openjdk-8-jre:amd64 (8u292-b10-0ubuntu1~18.04) ...\n",
            "Selecting previously unselected package openjdk-8-jdk-headless:amd64.\n",
            "Preparing to unpack .../13-openjdk-8-jdk-headless_8u292-b10-0ubuntu1~18.04_amd64.deb ...\n",
            "Unpacking openjdk-8-jdk-headless:amd64 (8u292-b10-0ubuntu1~18.04) ...\n",
            "Selecting previously unselected package openjdk-8-jdk:amd64.\n",
            "Preparing to unpack .../14-openjdk-8-jdk_8u292-b10-0ubuntu1~18.04_amd64.deb ...\n",
            "Unpacking openjdk-8-jdk:amd64 (8u292-b10-0ubuntu1~18.04) ...\n",
            "Setting up libgtk2.0-common (2.24.32-1ubuntu1) ...\n",
            "Setting up fonts-dejavu-core (2.37-1) ...\n",
            "Setting up libxxf86dga1:amd64 (2:1.1.4-1) ...\n",
            "Setting up fonts-dejavu-extra (2.37-1) ...\n",
            "Setting up openjdk-8-jre-headless:amd64 (8u292-b10-0ubuntu1~18.04) ...\n",
            "update-alternatives: using /usr/lib/jvm/java-8-openjdk-amd64/jre/bin/orbd to provide /usr/bin/orbd (orbd) in auto mode\n",
            "update-alternatives: using /usr/lib/jvm/java-8-openjdk-amd64/jre/bin/servertool to provide /usr/bin/servertool (servertool) in auto mode\n",
            "update-alternatives: using /usr/lib/jvm/java-8-openjdk-amd64/jre/bin/tnameserv to provide /usr/bin/tnameserv (tnameserv) in auto mode\n",
            "Setting up libgtk2.0-0:amd64 (2.24.32-1ubuntu1) ...\n",
            "Setting up libgail18:amd64 (2.24.32-1ubuntu1) ...\n",
            "Setting up openjdk-8-jdk-headless:amd64 (8u292-b10-0ubuntu1~18.04) ...\n",
            "update-alternatives: using /usr/lib/jvm/java-8-openjdk-amd64/bin/idlj to provide /usr/bin/idlj (idlj) in auto mode\n",
            "update-alternatives: using /usr/lib/jvm/java-8-openjdk-amd64/bin/wsimport to provide /usr/bin/wsimport (wsimport) in auto mode\n",
            "update-alternatives: using /usr/lib/jvm/java-8-openjdk-amd64/bin/jsadebugd to provide /usr/bin/jsadebugd (jsadebugd) in auto mode\n",
            "update-alternatives: using /usr/lib/jvm/java-8-openjdk-amd64/bin/native2ascii to provide /usr/bin/native2ascii (native2ascii) in auto mode\n",
            "update-alternatives: using /usr/lib/jvm/java-8-openjdk-amd64/bin/javah to provide /usr/bin/javah (javah) in auto mode\n",
            "update-alternatives: using /usr/lib/jvm/java-8-openjdk-amd64/bin/hsdb to provide /usr/bin/hsdb (hsdb) in auto mode\n",
            "update-alternatives: using /usr/lib/jvm/java-8-openjdk-amd64/bin/clhsdb to provide /usr/bin/clhsdb (clhsdb) in auto mode\n",
            "update-alternatives: using /usr/lib/jvm/java-8-openjdk-amd64/bin/extcheck to provide /usr/bin/extcheck (extcheck) in auto mode\n",
            "update-alternatives: using /usr/lib/jvm/java-8-openjdk-amd64/bin/schemagen to provide /usr/bin/schemagen (schemagen) in auto mode\n",
            "update-alternatives: using /usr/lib/jvm/java-8-openjdk-amd64/bin/xjc to provide /usr/bin/xjc (xjc) in auto mode\n",
            "update-alternatives: using /usr/lib/jvm/java-8-openjdk-amd64/bin/jhat to provide /usr/bin/jhat (jhat) in auto mode\n",
            "update-alternatives: using /usr/lib/jvm/java-8-openjdk-amd64/bin/wsgen to provide /usr/bin/wsgen (wsgen) in auto mode\n",
            "Setting up x11-utils (7.7+3build1) ...\n",
            "Setting up libgail-common:amd64 (2.24.32-1ubuntu1) ...\n",
            "Setting up libatk-wrapper-java (0.33.3-20ubuntu0.1) ...\n",
            "Setting up libgtk2.0-bin (2.24.32-1ubuntu1) ...\n",
            "Setting up libatk-wrapper-java-jni:amd64 (0.33.3-20ubuntu0.1) ...\n",
            "Setting up openjdk-8-jre:amd64 (8u292-b10-0ubuntu1~18.04) ...\n",
            "update-alternatives: using /usr/lib/jvm/java-8-openjdk-amd64/jre/bin/policytool to provide /usr/bin/policytool (policytool) in auto mode\n",
            "Setting up openjdk-8-jdk:amd64 (8u292-b10-0ubuntu1~18.04) ...\n",
            "update-alternatives: using /usr/lib/jvm/java-8-openjdk-amd64/bin/appletviewer to provide /usr/bin/appletviewer (appletviewer) in auto mode\n",
            "update-alternatives: using /usr/lib/jvm/java-8-openjdk-amd64/bin/jconsole to provide /usr/bin/jconsole (jconsole) in auto mode\n",
            "Processing triggers for man-db (2.8.3-2ubuntu0.1) ...\n",
            "Processing triggers for hicolor-icon-theme (0.17-2) ...\n",
            "Processing triggers for fontconfig (2.12.6-0ubuntu2) ...\n",
            "Processing triggers for mime-support (3.60ubuntu1) ...\n",
            "Processing triggers for libc-bin (2.27-3ubuntu1.2) ...\n",
            "/sbin/ldconfig.real: /usr/local/lib/python3.7/dist-packages/ideep4py/lib/libmkldnn.so.0 is not a symbolic link\n",
            "\n"
          ],
          "name": "stdout"
        }
      ]
    },
    {
      "cell_type": "code",
      "metadata": {
        "colab": {
          "base_uri": "https://localhost:8080/"
        },
        "id": "BugId2Hdg6R4",
        "outputId": "2e0cd836-8e28-442e-e079-e48b2897cb09"
      },
      "source": [
        "#JPype 설치\n",
        "!pip install JPype1"
      ],
      "execution_count": null,
      "outputs": [
        {
          "output_type": "stream",
          "text": [
            "Collecting JPype1\n",
            "  Downloading JPype1-1.3.0-cp37-cp37m-manylinux_2_5_x86_64.manylinux1_x86_64.whl (448 kB)\n",
            "\u001b[?25l\r\u001b[K     |▊                               | 10 kB 24.4 MB/s eta 0:00:01\r\u001b[K     |█▌                              | 20 kB 29.9 MB/s eta 0:00:01\r\u001b[K     |██▏                             | 30 kB 24.5 MB/s eta 0:00:01\r\u001b[K     |███                             | 40 kB 18.7 MB/s eta 0:00:01\r\u001b[K     |███▋                            | 51 kB 7.5 MB/s eta 0:00:01\r\u001b[K     |████▍                           | 61 kB 7.9 MB/s eta 0:00:01\r\u001b[K     |█████                           | 71 kB 7.9 MB/s eta 0:00:01\r\u001b[K     |█████▉                          | 81 kB 7.8 MB/s eta 0:00:01\r\u001b[K     |██████▋                         | 92 kB 8.2 MB/s eta 0:00:01\r\u001b[K     |███████▎                        | 102 kB 8.6 MB/s eta 0:00:01\r\u001b[K     |████████                        | 112 kB 8.6 MB/s eta 0:00:01\r\u001b[K     |████████▊                       | 122 kB 8.6 MB/s eta 0:00:01\r\u001b[K     |█████████▌                      | 133 kB 8.6 MB/s eta 0:00:01\r\u001b[K     |██████████▏                     | 143 kB 8.6 MB/s eta 0:00:01\r\u001b[K     |███████████                     | 153 kB 8.6 MB/s eta 0:00:01\r\u001b[K     |███████████▊                    | 163 kB 8.6 MB/s eta 0:00:01\r\u001b[K     |████████████▍                   | 174 kB 8.6 MB/s eta 0:00:01\r\u001b[K     |█████████████▏                  | 184 kB 8.6 MB/s eta 0:00:01\r\u001b[K     |█████████████▉                  | 194 kB 8.6 MB/s eta 0:00:01\r\u001b[K     |██████████████▋                 | 204 kB 8.6 MB/s eta 0:00:01\r\u001b[K     |███████████████▎                | 215 kB 8.6 MB/s eta 0:00:01\r\u001b[K     |████████████████                | 225 kB 8.6 MB/s eta 0:00:01\r\u001b[K     |████████████████▉               | 235 kB 8.6 MB/s eta 0:00:01\r\u001b[K     |█████████████████▌              | 245 kB 8.6 MB/s eta 0:00:01\r\u001b[K     |██████████████████▎             | 256 kB 8.6 MB/s eta 0:00:01\r\u001b[K     |███████████████████             | 266 kB 8.6 MB/s eta 0:00:01\r\u001b[K     |███████████████████▊            | 276 kB 8.6 MB/s eta 0:00:01\r\u001b[K     |████████████████████▍           | 286 kB 8.6 MB/s eta 0:00:01\r\u001b[K     |█████████████████████▏          | 296 kB 8.6 MB/s eta 0:00:01\r\u001b[K     |██████████████████████          | 307 kB 8.6 MB/s eta 0:00:01\r\u001b[K     |██████████████████████▋         | 317 kB 8.6 MB/s eta 0:00:01\r\u001b[K     |███████████████████████▍        | 327 kB 8.6 MB/s eta 0:00:01\r\u001b[K     |████████████████████████        | 337 kB 8.6 MB/s eta 0:00:01\r\u001b[K     |████████████████████████▉       | 348 kB 8.6 MB/s eta 0:00:01\r\u001b[K     |█████████████████████████▌      | 358 kB 8.6 MB/s eta 0:00:01\r\u001b[K     |██████████████████████████▎     | 368 kB 8.6 MB/s eta 0:00:01\r\u001b[K     |███████████████████████████     | 378 kB 8.6 MB/s eta 0:00:01\r\u001b[K     |███████████████████████████▊    | 389 kB 8.6 MB/s eta 0:00:01\r\u001b[K     |████████████████████████████▌   | 399 kB 8.6 MB/s eta 0:00:01\r\u001b[K     |█████████████████████████████▏  | 409 kB 8.6 MB/s eta 0:00:01\r\u001b[K     |██████████████████████████████  | 419 kB 8.6 MB/s eta 0:00:01\r\u001b[K     |██████████████████████████████▋ | 430 kB 8.6 MB/s eta 0:00:01\r\u001b[K     |███████████████████████████████▍| 440 kB 8.6 MB/s eta 0:00:01\r\u001b[K     |████████████████████████████████| 448 kB 8.6 MB/s \n",
            "\u001b[?25hRequirement already satisfied: typing-extensions in /usr/local/lib/python3.7/dist-packages (from JPype1) (3.7.4.3)\n",
            "Installing collected packages: JPype1\n",
            "Successfully installed JPype1-1.3.0\n"
          ],
          "name": "stdout"
        }
      ]
    },
    {
      "cell_type": "code",
      "metadata": {
        "colab": {
          "base_uri": "https://localhost:8080/"
        },
        "id": "8j3QNJZyhI5v",
        "outputId": "a856755d-548b-42d7-fee7-f705fbd65ac6"
      },
      "source": [
        "# RHINO 설치\n",
        "!pip install rhinoMorph"
      ],
      "execution_count": null,
      "outputs": [
        {
          "output_type": "stream",
          "text": [
            "Collecting rhinoMorph\n",
            "  Downloading rhinoMorph-3.8.0.0-py3-none-any.whl (3.0 MB)\n",
            "\u001b[K     |████████████████████████████████| 3.0 MB 9.0 MB/s \n",
            "\u001b[?25hInstalling collected packages: rhinoMorph\n",
            "Successfully installed rhinoMorph-3.8.0.0\n"
          ],
          "name": "stdout"
        }
      ]
    },
    {
      "cell_type": "code",
      "metadata": {
        "colab": {
          "base_uri": "https://localhost:8080/"
        },
        "id": "CAfikoGYhOaR",
        "outputId": "65ae6610-4f1a-4050-c5a5-f435017b62c1"
      },
      "source": [
        "# RHINO 시작\n",
        "import rhinoMorph\n",
        "rn = rhinoMorph.startRhino()"
      ],
      "execution_count": null,
      "outputs": [
        {
          "output_type": "stream",
          "text": [
            "filepath:  /usr/local/lib/python3.7/dist-packages\n",
            "classpath:  /usr/local/lib/python3.7/dist-packages/rhinoMorph/lib/rhino.jar\n",
            "JVM is already started~\n",
            "RHINO started!\n"
          ],
          "name": "stdout"
        }
      ]
    },
    {
      "cell_type": "code",
      "metadata": {
        "colab": {
          "base_uri": "https://localhost:8080/"
        },
        "id": "29dwR6l9htvS",
        "outputId": "a46abe84-1174-4c46-a0fa-7f723579e1ae"
      },
      "source": [
        "# 예문 분석\n",
        "text = \"한글테스트 글을 남겨주세요\"\n",
        "sample_data = rhinoMorph.onlyMorph_list(rn, text)\n",
        "print('sample data:', sample_data)"
      ],
      "execution_count": null,
      "outputs": [
        {
          "output_type": "stream",
          "text": [
            "sample data: ['한글', '테스트', '글', '을', '남기', '어', '주', '시', '어요']\n"
          ],
          "name": "stdout"
        }
      ]
    },
    {
      "cell_type": "markdown",
      "metadata": {
        "id": "RaM2N1a9FM0f"
      },
      "source": [
        "## RHINO 사용"
      ]
    },
    {
      "cell_type": "code",
      "metadata": {
        "id": "n4Ll_TUdba66"
      },
      "source": [
        "import rhinoMorph\n",
        "rn = rhinoMorph.startRhino()"
      ],
      "execution_count": null,
      "outputs": []
    },
    {
      "cell_type": "code",
      "metadata": {
        "colab": {
          "base_uri": "https://localhost:8080/"
        },
        "id": "HviOBX9kFMdh",
        "outputId": "71703953-8c8e-4ea4-8820-a140af763200"
      },
      "source": [
        "text = '한글로 된 한글텍스트를 분석하는 것은 즐겁다.'\n",
        "\n",
        "# 사용 1 : 모든 형태소 보이기\n",
        "text_analyzed = rhinoMorph.onlyMorph_list(rn, text)\n",
        "print('\\n1. 형태소 분석결과:', text_analyzed)"
      ],
      "execution_count": null,
      "outputs": [
        {
          "output_type": "stream",
          "text": [
            "filepath:  /usr/local/lib/python3.7/dist-packages\n",
            "classpath:  /usr/local/lib/python3.7/dist-packages/rhinoMorph/lib/rhino.jar\n",
            "JVM is already started~\n",
            "RHINO started!\n",
            "\n",
            "1. 형태소 분석결과: ['한글', '로', '되', 'ㄴ', '한글', '텍스트', '를', '분석', '하', '는', '것', '은', '즐겁', '다', '.']\n"
          ],
          "name": "stdout"
        }
      ]
    },
    {
      "cell_type": "markdown",
      "metadata": {
        "id": "RcOzKXI9dCNh"
      },
      "source": [
        "* 실질 형태소 : 실질적인 의미를 갖는거 ex) 명사와 동사\n",
        "\n",
        "* 형식 형태소 : 형식적인 의미를 갖는거 ex) 조사, 어미"
      ]
    },
    {
      "cell_type": "markdown",
      "metadata": {
        "id": "SlzQ2uzaiRCU"
      },
      "source": [
        "|품사|태그| |품사|태그| |품사|태그| |품사|태그|\n",
        "|----|-----|-|----|----|-|----|-----|-|----|----|\n",
        "|일반명사|NNG| |고유명사|NNP| |종결어미|EF| |연결어미|EC|\n",
        "|의존명사|NNB| |대명사|NP| |명사형전성어미|ETN| |관형형전성어미|ETM|\n",
        "|수사|NR| |동사|VV| |체언접두사|XPN| |명사파생접미사|XSN|\n",
        "|형용사|VA| |보조용언|VX| |동사파생접미사|XSV| |형용사파생접미사|XSA|\n",
        "|긍정지사|VCP| |부정지정사|VCX| |어근|XR| |마침표,물음표,느낌표|SF|\n",
        "|관형사|MM| |일반부사|MAG| |따옴표,괄호표,줄표|SS| |쉼표,가운뎃점,콜론,빗금|SP|\n",
        "|접속부사|MAJ| |감탄사|IC| |줄임표|SE| |붙임표(물결,숨김,빠짐)|SO|\n",
        "|주격조사|JKS| |보격조사|JKC| |외국어|SL| |한자|SH|\n",
        "|관형격조사|JKG| |목적격조사|JKO| |명사추정범주|NF| |숫자|SN|\n",
        "|부사격조사|JKB| |호격조사|JKV| |기타기호(논리수학기호,화폐기호)|SW||||\n",
        "|인용격조사|JKQ| |보조사|JX| |용언추정범주|NV||||\n",
        "|접속조사|JC| |선어말어미|EP| |분석불능범주|NA||||"
      ]
    },
    {
      "cell_type": "code",
      "metadata": {
        "colab": {
          "base_uri": "https://localhost:8080/"
        },
        "id": "tOTvMK95BodL",
        "outputId": "622f9f85-2751-4444-87a5-61fb56d08067"
      },
      "source": [
        "# 사용 2 : 실질형태소만, 동사의 어말어미는 제외\n",
        "text_analyzed = rhinoMorph.onlyMorph_list(rn, text, pos=['NNG', 'NNP', 'NP', 'VV', 'VA', 'XR', 'IC', 'MM', 'MAG', 'MAJ'])\n",
        "print('\\n2. 형태소 분석 결과: ', text_analyzed)"
      ],
      "execution_count": null,
      "outputs": [
        {
          "output_type": "stream",
          "text": [
            "\n",
            "2. 형태소 분석 결과:  ['한글', '되', '한글', '텍스트', '분석', '즐겁']\n"
          ],
          "name": "stdout"
        }
      ]
    },
    {
      "cell_type": "code",
      "metadata": {
        "colab": {
          "base_uri": "https://localhost:8080/"
        },
        "id": "ZNJmzuZIFmka",
        "outputId": "6b7ef292-1c6d-4070-c24d-08f8f8a68704"
      },
      "source": [
        "# 사용 3 : 실질형태소만, 동사의 어말어미(eomi) 포함\n",
        "# 빈도 분석을 할 때는 어미를 포함시켜줘야 한다.\n",
        "\n",
        "text_analyzed = rhinoMorph.onlyMorph_list(rn, text, pos=['NNG', 'NNP', 'NP', 'VV', 'VA', 'XR', 'IC', 'MM', 'MAG', 'MAJ'], eomi=True)\n",
        "print('\\n3. 형태소 분석 결과 :', text_analyzed)"
      ],
      "execution_count": null,
      "outputs": [
        {
          "output_type": "stream",
          "text": [
            "\n",
            "3. 형태소 분석 결과 : ['한글', '되다', '한글', '텍스트', '분석', '즐겁다']\n"
          ],
          "name": "stdout"
        }
      ]
    },
    {
      "cell_type": "code",
      "metadata": {
        "colab": {
          "base_uri": "https://localhost:8080/"
        },
        "id": "MACL8fpsGQLU",
        "outputId": "1e6550ec-b5ea-461c-e172-ec50d54a00c4"
      },
      "source": [
        "# 사용 4 : 전체 형태소, 품사 정보도 가져 오기\n",
        "morphs, poses = rhinoMorph.wholeResult_list(rn, text)\n",
        "print('\\n4. 형태소 분석 결과 : ')\n",
        "print('morphs:', morphs)\n",
        "print('poses:', poses)"
      ],
      "execution_count": null,
      "outputs": [
        {
          "output_type": "stream",
          "text": [
            "\n",
            "4. 형태소 분석 결과 : \n",
            "morphs: ['한글', '로', '되', 'ㄴ', '한글', '텍스트', '를', '분석', '하', '는', '것', '은', '즐겁', '다', '.']\n",
            "poses: ['NNG', 'JKB', 'VV', 'ETM', 'NNG', 'NNG', 'JKO', 'XR', 'XSV', 'ETM', 'NNB', 'JX', 'VA', 'EF', 'SF']\n"
          ],
          "name": "stdout"
        }
      ]
    },
    {
      "cell_type": "code",
      "metadata": {
        "colab": {
          "base_uri": "https://localhost:8080/"
        },
        "id": "Jy6ENVKrGgpV",
        "outputId": "0dfb4f8a-c018-47e2-c647-4918e6a31b87"
      },
      "source": [
        "# 사용 5 : 원문의 어절 정보를 같이 가져 오기\n",
        "text_analyzed = rhinoMorph.wholeResult_text(rn, text)\n",
        "print('\\n5. 형태소 분석 결과:\\n', text_analyzed)"
      ],
      "execution_count": null,
      "outputs": [
        {
          "output_type": "stream",
          "text": [
            "\n",
            "5. 형태소 분석 결과:\n",
            " 한글로\t한글/NNG + 로/JKB\r\n",
            "된\t되/VV + ㄴ/ETM\r\n",
            "한글텍스트를\t한글/NNG + 텍스트/NNG + 를/JKO\r\n",
            "분석하는\t분석/XR + 하/XSV + 는/ETM\r\n",
            "것은\t것/NNB + 은/JX\r\n",
            "즐겁다\t즐겁/VA + 다/EF\r\n",
            ".\t./SF\r\n",
            "\n"
          ],
          "name": "stdout"
        }
      ]
    },
    {
      "cell_type": "markdown",
      "metadata": {
        "id": "htOOjczGhhHo"
      },
      "source": [
        "## 추가 옵션1 - 연결된 명사 결합"
      ]
    },
    {
      "cell_type": "code",
      "metadata": {
        "colab": {
          "base_uri": "https://localhost:8080/"
        },
        "id": "H1HAynHaGtc1",
        "outputId": "f878c614-75df-4248-9c45-10e02ea5fa1d"
      },
      "source": [
        "# 사용6, 7 : 한 어절에서 연결된 명사에 하나의 명사로 결합하기\n",
        "# onlyMorph_list wholeResult_list에서 사용 가능하다.\n",
        "\n",
        "text_analyzed = rhinoMorph.onlyMorph_list(rn, text, pos=['NNG', 'NNP', 'NP',\n",
        "                                                         'VV', 'VA', 'XR', 'IC', 'MM', 'MAG', 'MAJ'], combineN=True)\n",
        "print('\\n6. 형태소 분석 결과 :\\n', text_analyzed)\n",
        "\n",
        "morphs, poses = rhinoMorph.wholeResult_list(rn,text, combineN=True)\n",
        "print('\\n7. 형태소 분석 결과: ')\n",
        "print('morphs: ', morphs)\n",
        "print('poses: ', poses)"
      ],
      "execution_count": null,
      "outputs": [
        {
          "output_type": "stream",
          "text": [
            "\n",
            "6. 형태소 분석 결과 :\n",
            " ['한글', '되', '한글텍스트', '분석', '즐겁']\n",
            "\n",
            "7. 형태소 분석 결과: \n",
            "morphs:  ['한글', '로', '되', 'ㄴ', '한글텍스트', '를', '분석', '하', '는', '것', '은', '즐겁', '다', '.']\n",
            "poses:  ['NNG', 'JKB', 'VV', 'ETM', 'NNG', 'JKO', 'XR', 'XSV', 'ETM', 'NNB', 'JX', 'VA', 'EF', 'SF']\n"
          ],
          "name": "stdout"
        }
      ]
    },
    {
      "cell_type": "code",
      "metadata": {
        "id": "sGRE0aFJphvw"
      },
      "source": [
        ""
      ],
      "execution_count": null,
      "outputs": []
    }
  ]
}